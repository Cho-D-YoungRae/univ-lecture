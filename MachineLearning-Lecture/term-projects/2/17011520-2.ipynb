{
 "cells": [
  {
   "cell_type": "markdown",
   "id": "asian-fever",
   "metadata": {
    "papermill": {
     "duration": 0.071229,
     "end_time": "2021-06-02T15:51:06.230375",
     "exception": false,
     "start_time": "2021-06-02T15:51:06.159146",
     "status": "completed"
    },
    "tags": []
   },
   "source": [
    "# 반드시 처음부터 끝까지 스켈레톤 코드를 살펴보고 구현하기 시작하길 바란다\n",
    "\n",
    "## 1. 스켈레톤 코드를 [복사 및 편집] 하여 사용한다.\n",
    "## 2. 아래의 [Empty Module 3개]를 직접 구현한다.\n"
   ]
  },
  {
   "cell_type": "code",
   "execution_count": 1,
   "id": "wired-helen",
   "metadata": {
    "execution": {
     "iopub.execute_input": "2021-06-02T15:51:06.377830Z",
     "iopub.status.busy": "2021-06-02T15:51:06.376669Z",
     "iopub.status.idle": "2021-06-02T15:51:06.390916Z",
     "shell.execute_reply": "2021-06-02T15:51:06.390157Z",
     "shell.execute_reply.started": "2021-05-30T01:05:28.274108Z"
    },
    "papermill": {
     "duration": 0.090491,
     "end_time": "2021-06-02T15:51:06.391091",
     "exception": false,
     "start_time": "2021-06-02T15:51:06.300600",
     "status": "completed"
    },
    "tags": []
   },
   "outputs": [
    {
     "name": "stdout",
     "output_type": "stream",
     "text": [
      "/kaggle/input/2021-ml-tp2-spam/train.csv\n",
      "/kaggle/input/2021-ml-tp2-spam/test.csv\n",
      "/kaggle/input/2021-ml-tp2-spam/sample_submit.csv\n"
     ]
    }
   ],
   "source": [
    "# This Python 3 environment comes with many helpful analytics libraries installed\n",
    "# It is defined by the kaggle/python Docker image: https://github.com/kaggle/docker-python\n",
    "# For example, here's several helpful packages to load\n",
    "\n",
    "import numpy as np # linear algebra\n",
    "import pandas as pd # data processing, CSV file I/O (e.g. pd.read_csv)\n",
    "\n",
    "# Input data files are available in the read-only \"../input/\" directory\n",
    "# For example, running this (by clicking run or pressing Shift+Enter) will list all files under the input directory\n",
    "\n",
    "import os\n",
    "for dirname, _, filenames in os.walk('/kaggle/input'):\n",
    "    for filename in filenames:\n",
    "        print(os.path.join(dirname, filename))\n",
    "\n",
    "# You can write up to 20GB to the current directory (/kaggle/working/) that gets preserved as output when you create a version using \"Save & Run All\" \n",
    "# You can also write temporary files to /kaggle/temp/, but they won't be saved outside of the current session"
   ]
  },
  {
   "cell_type": "code",
   "execution_count": 2,
   "id": "stopped-slave",
   "metadata": {
    "execution": {
     "iopub.execute_input": "2021-06-02T15:51:06.541797Z",
     "iopub.status.busy": "2021-06-02T15:51:06.540960Z",
     "iopub.status.idle": "2021-06-02T15:51:08.247539Z",
     "shell.execute_reply": "2021-06-02T15:51:08.246833Z",
     "shell.execute_reply.started": "2021-05-30T01:05:28.289262Z"
    },
    "papermill": {
     "duration": 1.785625,
     "end_time": "2021-06-02T15:51:08.247683",
     "exception": false,
     "start_time": "2021-06-02T15:51:06.462058",
     "status": "completed"
    },
    "tags": []
   },
   "outputs": [],
   "source": [
    "import numpy as np # linear algebra\n",
    "import pandas as pd # data processing, CSV file I/O (e.g. pd.read_csv)\n",
    "import re\n",
    "import nltk\n",
    "from nltk.tokenize import word_tokenize\n",
    "from nltk.corpus import stopwords\n",
    "\n",
    "from sklearn.feature_extraction.text import CountVectorizer\n",
    "from sklearn.feature_extraction.text import TfidfVectorizer\n",
    "from sklearn.feature_extraction.text import HashingVectorizer\n",
    "\n",
    "from sklearn.model_selection import cross_validate, GridSearchCV\n",
    "from sklearn.pipeline import Pipeline\n",
    "from sklearn.decomposition import PCA\n",
    "from sklearn.svm import SVC\n",
    "\n",
    "from sklearn.preprocessing import StandardScaler\n",
    "import matplotlib.pyplot as plt"
   ]
  },
  {
   "cell_type": "markdown",
   "id": "listed-narrow",
   "metadata": {
    "papermill": {
     "duration": 0.069666,
     "end_time": "2021-06-02T15:51:08.388515",
     "exception": false,
     "start_time": "2021-06-02T15:51:08.318849",
     "status": "completed"
    },
    "tags": []
   },
   "source": [
    "- nltk 라이브러리에서 punkt 데이터를 다운 받음, 이 데이터는 영화 리뷰와 같은 문서 데이터로 문자의 tokeninizer를 위해서 필요하다\n",
    "- nltk 라이브러리를 이용해서 불용어를 다운 받음"
   ]
  },
  {
   "cell_type": "code",
   "execution_count": 3,
   "id": "executive-relationship",
   "metadata": {
    "execution": {
     "iopub.execute_input": "2021-06-02T15:51:08.542978Z",
     "iopub.status.busy": "2021-06-02T15:51:08.542146Z",
     "iopub.status.idle": "2021-06-02T15:51:08.954819Z",
     "shell.execute_reply": "2021-06-02T15:51:08.954142Z",
     "shell.execute_reply.started": "2021-05-30T01:05:29.634861Z"
    },
    "papermill": {
     "duration": 0.496647,
     "end_time": "2021-06-02T15:51:08.954971",
     "exception": false,
     "start_time": "2021-06-02T15:51:08.458324",
     "status": "completed"
    },
    "tags": []
   },
   "outputs": [
    {
     "name": "stdout",
     "output_type": "stream",
     "text": [
      "[nltk_data] Downloading package punkt to /usr/share/nltk_data...\n",
      "[nltk_data]   Package punkt is already up-to-date!\n",
      "[nltk_data] Downloading package stopwords to /usr/share/nltk_data...\n",
      "[nltk_data]   Package stopwords is already up-to-date!\n"
     ]
    },
    {
     "data": {
      "text/plain": [
       "True"
      ]
     },
     "execution_count": 3,
     "metadata": {},
     "output_type": "execute_result"
    }
   ],
   "source": [
    "nltk.download('punkt')\n",
    "nltk.download('stopwords')"
   ]
  },
  {
   "cell_type": "code",
   "execution_count": 4,
   "id": "equal-engine",
   "metadata": {
    "execution": {
     "iopub.execute_input": "2021-06-02T15:51:09.108195Z",
     "iopub.status.busy": "2021-06-02T15:51:09.107487Z",
     "iopub.status.idle": "2021-06-02T15:51:09.172405Z",
     "shell.execute_reply": "2021-06-02T15:51:09.171848Z",
     "shell.execute_reply.started": "2021-05-30T01:05:29.835591Z"
    },
    "papermill": {
     "duration": 0.143904,
     "end_time": "2021-06-02T15:51:09.172571",
     "exception": false,
     "start_time": "2021-06-02T15:51:09.028667",
     "status": "completed"
    },
    "tags": []
   },
   "outputs": [
    {
     "data": {
      "text/html": [
       "<div>\n",
       "<style scoped>\n",
       "    .dataframe tbody tr th:only-of-type {\n",
       "        vertical-align: middle;\n",
       "    }\n",
       "\n",
       "    .dataframe tbody tr th {\n",
       "        vertical-align: top;\n",
       "    }\n",
       "\n",
       "    .dataframe thead th {\n",
       "        text-align: right;\n",
       "    }\n",
       "</style>\n",
       "<table border=\"1\" class=\"dataframe\">\n",
       "  <thead>\n",
       "    <tr style=\"text-align: right;\">\n",
       "      <th></th>\n",
       "      <th>Data</th>\n",
       "      <th>Class</th>\n",
       "    </tr>\n",
       "  </thead>\n",
       "  <tbody>\n",
       "    <tr>\n",
       "      <th>0</th>\n",
       "      <td>No I'm in the same boat. Still here at my moms...</td>\n",
       "      <td>ham</td>\n",
       "    </tr>\n",
       "    <tr>\n",
       "      <th>1</th>\n",
       "      <td>(Bank of Granite issues Strong-Buy) EXPLOSIVE ...</td>\n",
       "      <td>spam</td>\n",
       "    </tr>\n",
       "    <tr>\n",
       "      <th>2</th>\n",
       "      <td>They r giving a second chance to rahul dengra.</td>\n",
       "      <td>ham</td>\n",
       "    </tr>\n",
       "    <tr>\n",
       "      <th>3</th>\n",
       "      <td>O i played smash bros  &amp;lt;#&amp;gt;  religiously.</td>\n",
       "      <td>ham</td>\n",
       "    </tr>\n",
       "    <tr>\n",
       "      <th>4</th>\n",
       "      <td>PRIVATE! Your 2003 Account Statement for 07973...</td>\n",
       "      <td>spam</td>\n",
       "    </tr>\n",
       "  </tbody>\n",
       "</table>\n",
       "</div>"
      ],
      "text/plain": [
       "                                                Data Class\n",
       "0  No I'm in the same boat. Still here at my moms...   ham\n",
       "1  (Bank of Granite issues Strong-Buy) EXPLOSIVE ...  spam\n",
       "2     They r giving a second chance to rahul dengra.   ham\n",
       "3     O i played smash bros  &lt;#&gt;  religiously.   ham\n",
       "4  PRIVATE! Your 2003 Account Statement for 07973...  spam"
      ]
     },
     "execution_count": 4,
     "metadata": {},
     "output_type": "execute_result"
    }
   ],
   "source": [
    "df_train = pd.read_csv(\"/kaggle/input/2021-ml-tp2-spam/train.csv\",encoding=\"latin-1\")\n",
    "df_test = pd.read_csv(\"/kaggle/input/2021-ml-tp2-spam/test.csv\",encoding=\"latin-1\")\n",
    "df_train.head()"
   ]
  },
  {
   "cell_type": "code",
   "execution_count": 5,
   "id": "neutral-trash",
   "metadata": {
    "execution": {
     "iopub.execute_input": "2021-06-02T15:51:09.327184Z",
     "iopub.status.busy": "2021-06-02T15:51:09.326462Z",
     "iopub.status.idle": "2021-06-02T15:51:09.330398Z",
     "shell.execute_reply": "2021-06-02T15:51:09.329723Z",
     "shell.execute_reply.started": "2021-05-30T01:05:29.887926Z"
    },
    "papermill": {
     "duration": 0.08403,
     "end_time": "2021-06-02T15:51:09.330570",
     "exception": false,
     "start_time": "2021-06-02T15:51:09.246540",
     "status": "completed"
    },
    "tags": []
   },
   "outputs": [],
   "source": [
    "X_train = df_train[\"Data\"]\n",
    "y_train=df_train[\"Class\"]\n",
    "X_test=df_test[\"Data\"]"
   ]
  },
  {
   "cell_type": "markdown",
   "id": "shaped-borough",
   "metadata": {
    "papermill": {
     "duration": 0.072294,
     "end_time": "2021-06-02T15:51:09.474804",
     "exception": false,
     "start_time": "2021-06-02T15:51:09.402510",
     "status": "completed"
    },
    "tags": []
   },
   "source": [
    "# [Empty Module #1] 텍스트 데이터 전처리  \n",
    "\n",
    "목표: 텍스트 데이터를 처리하기 위한 여러 과정을 거쳐, 머신을 위한 데이터를 만든다. \n",
    "\n",
    "```\n",
    "[input]\n",
    "--------------\n",
    "- text: 텍스트 문장 데이터 \n",
    "\n",
    "[output]\n",
    "--------------\n",
    "- text: 전처리를 완료한 문장 데이터 \n",
    "    \n",
    "```"
   ]
  },
  {
   "cell_type": "code",
   "execution_count": 6,
   "id": "accurate-sample",
   "metadata": {
    "execution": {
     "iopub.execute_input": "2021-06-02T15:51:09.629979Z",
     "iopub.status.busy": "2021-06-02T15:51:09.629226Z",
     "iopub.status.idle": "2021-06-02T15:51:09.631953Z",
     "shell.execute_reply": "2021-06-02T15:51:09.632465Z",
     "shell.execute_reply.started": "2021-05-30T01:05:29.898298Z"
    },
    "papermill": {
     "duration": 0.085512,
     "end_time": "2021-06-02T15:51:09.632661",
     "exception": false,
     "start_time": "2021-06-02T15:51:09.547149",
     "status": "completed"
    },
    "tags": []
   },
   "outputs": [],
   "source": [
    "# ------------------------------------------------\n",
    "# [Empty Module #1] 텍스트 데이터 전처리\n",
    "# ------------------------------------------------\n",
    "# ------------------------------------------------------------\n",
    "# 구현 가이드라인 \n",
    "# ------------------------------------------------------------\n",
    "# [1] re.sub 사용해 text 속 '[^A-Za-z]' 외의 문자만을 찾아내 제거한후, pre_words 변수에 저장\n",
    "#      1) pattern은 '[^A-Za-z]', repl=' ' 로 각각 설정.\n",
    "#      2) 이모지나 숫자,점과 같은 문자외의 것들을 제거했다. (이모지는 감정 분석과 관련해서 몇가지 의미를 나타내지만 이 테스크에서는 이러한 의미도 제거함.)\n",
    "\n",
    "# [2] pre_words의 lower 내장 함수를 이용해 대문자들은 소문자로 변경\n",
    "#      1)  대, 소문자가 구분되어 있으면 \"Go\"와 \"go\" 와 같이 동일한 단어를 머신은 다른 단어로 취급한다. 따라서 대문자를 모두 소문자로 변경.\n",
    "\n",
    "# [3] word_tokenize 함수를 이용해 pre_word 를 토큰화하여 word를 리스트화한 후 tokenized_words변수에 저장\n",
    "\n",
    "# [4] nltk 라이브러리로 다운 받은 stopwords의 \"words\" 내장 함수를 이용해 english 불용어를 찾아서 stops 변수에 저장  \n",
    "#      1) 불용어: 텍스트 분류에서 불용어는 텍스트의 중요도을 결정하는데 영향을 미치지 않는 단어임. \n",
    "#                    (ex: the, we, a , will), 따라서 불필요한 단어가 예측 모델에 악영향을 끼칠 수 있기 때문에 제거.\n",
    "\n",
    "# [5] [3] 에서 찾은 문자열 중 단어가 [4] 에서 찾은 불용어 속에 없을 경우, tokenized_words_remove 리스트에 append \n",
    "\n",
    "# [6] PorterStemmer 속 stem 내장 함수를 이용해 동일 의미를 갖는 단어를 동일한 단어로 변경하는 과정을 거친 후 다시 저장.\n",
    "   \n",
    "# ------------------------------------------------------------\n",
    "# #############\n",
    "\n",
    "from nltk.corpus import stopwords\n",
    "from nltk.stem.porter import PorterStemmer\n",
    "\n",
    "def data_processing(text):\n",
    "    # [1]\n",
    "    pre_words = re.sub(pattern='[^A-Za-z]', repl=' ', string=text)\n",
    "    ##############\n",
    "   \n",
    "    # [2]\n",
    "    pre_words = pre_words.lower()\n",
    "    ##############\n",
    "    \n",
    "    # [3]\n",
    "    tokenized_words = word_tokenize(pre_words)\n",
    "    ##############\n",
    "    \n",
    "    # [4]\n",
    "    stops = stopwords.words('english')\n",
    "    \n",
    "    ##############\n",
    "    tokenized_words_remove=[]\n",
    "    \n",
    "    for w in tokenized_words: \n",
    "        # [5]\n",
    "        if w not in stops:\n",
    "            tokenized_words_remove.append(w)\n",
    "        ##############\n",
    "    \n",
    "    stemmer = PorterStemmer()\n",
    "    for i in range(len(tokenized_words_remove)):\n",
    "        # [6]\n",
    "        tokenized_words_remove[i] = \\\n",
    "            stemmer.stem(tokenized_words_remove[i])\n",
    "        ##############\n",
    "    \n",
    "    return ( \" \".join( tokenized_words_remove ))"
   ]
  },
  {
   "cell_type": "code",
   "execution_count": 7,
   "id": "departmental-landscape",
   "metadata": {
    "execution": {
     "iopub.execute_input": "2021-06-02T15:51:09.786618Z",
     "iopub.status.busy": "2021-06-02T15:51:09.785888Z",
     "iopub.status.idle": "2021-06-02T15:51:13.510310Z",
     "shell.execute_reply": "2021-06-02T15:51:13.509523Z",
     "shell.execute_reply.started": "2021-05-30T01:05:29.910034Z"
    },
    "papermill": {
     "duration": 3.80149,
     "end_time": "2021-06-02T15:51:13.510666",
     "exception": false,
     "start_time": "2021-06-02T15:51:09.709176",
     "status": "completed"
    },
    "tags": []
   },
   "outputs": [],
   "source": [
    "X_train=[data_processing(i) for i in X_train]\n",
    "X_test=[data_processing(i) for i in X_test]"
   ]
  },
  {
   "cell_type": "markdown",
   "id": "suburban-penguin",
   "metadata": {
    "papermill": {
     "duration": 0.071801,
     "end_time": "2021-06-02T15:51:13.655689",
     "exception": false,
     "start_time": "2021-06-02T15:51:13.583888",
     "status": "completed"
    },
    "tags": []
   },
   "source": [
    "# [Empty Module #2] Bag of Word \n",
    "\n",
    "목표: 문장 데이터를 머신을 학습하기 위한 실수화된 Feature로 변경하기로한다. \n",
    "\n",
    "- train 과 test 데이터 전부 type을 ('U')로 변경하여 Countvectorizer를 사용한다. \n",
    "- [설명 링크](https://scikit-learn.org/stable/modules/generated/sklearn.feature_extraction.text.CountVectorizer.html?highlight=countvectorizer#sklearn.feature_extraction.text.CountVectorizer)"
   ]
  },
  {
   "cell_type": "markdown",
   "id": "precious-helena",
   "metadata": {
    "papermill": {
     "duration": 0.071181,
     "end_time": "2021-06-02T15:51:13.798727",
     "exception": false,
     "start_time": "2021-06-02T15:51:13.727546",
     "status": "completed"
    },
    "tags": []
   },
   "source": [
    "[HashingVectorizer vs CountVectorizer](https://kavita-ganesan.com/hashingvectorizer-vs-countvectorizer/#.YLCjCS-UF8I)"
   ]
  },
  {
   "cell_type": "code",
   "execution_count": 8,
   "id": "norman-router",
   "metadata": {
    "execution": {
     "iopub.execute_input": "2021-06-02T15:51:13.957096Z",
     "iopub.status.busy": "2021-06-02T15:51:13.956340Z",
     "iopub.status.idle": "2021-06-02T15:51:14.497358Z",
     "shell.execute_reply": "2021-06-02T15:51:14.496667Z",
     "shell.execute_reply.started": "2021-05-30T01:05:33.178576Z"
    },
    "papermill": {
     "duration": 0.627917,
     "end_time": "2021-06-02T15:51:14.497528",
     "exception": false,
     "start_time": "2021-06-02T15:51:13.869611",
     "status": "completed"
    },
    "tags": []
   },
   "outputs": [],
   "source": [
    "# ------------------------------------------------\n",
    "# [Empty Module #2] 텍스트 데이터 Bag of word  feature  화 \n",
    "# ------------------------------------------------\n",
    "# 구현 가이드라인 \n",
    "# ------------------------------------------------------------\n",
    "# [1]  CountVectorizer를 정의 \n",
    "#           1) max_features를 100으로 지정 \n",
    "# [2] X_train 과 X_test를 numpy array로 변환 후 데이터 타입을 \"U\"로 변경해 저장\n",
    "\n",
    "# [3] CountVectorizer를 이용해 X_train은 학습 및 변환을 하고, X_test는 변환을 진행. \n",
    "# ------------------------------------------------------------\n",
    "###########\n",
    "\n",
    "# [1]\n",
    "count_vectorizer = CountVectorizer(max_features=100)\n",
    "tfidf_vectorizer = TfidfVectorizer(max_features=100)\n",
    "hash_vectorizer = HashingVectorizer(n_features=100)\n",
    "\n",
    "# [2]\n",
    "X_train = np.array(X_train).astype('U')\n",
    "X_test = np.array(X_test).astype('U')\n",
    "\n",
    "# [3]\n",
    "count_vectorizer.fit(X_train)\n",
    "tfidf_vectorizer.fit(X_train)\n",
    "hash_vectorizer.fit(X_train)\n",
    "\n",
    "X_train_count = count_vectorizer.transform(X_train)\n",
    "X_test_count = count_vectorizer.transform(X_test)\n",
    "\n",
    "X_train_tfidf = tfidf_vectorizer.transform(X_train)\n",
    "X_test_tfidf = tfidf_vectorizer.transform(X_test)\n",
    "\n",
    "X_train_hash = hash_vectorizer.transform(X_train)\n",
    "X_test_hash = hash_vectorizer.transform(X_test)"
   ]
  },
  {
   "cell_type": "code",
   "execution_count": 9,
   "id": "military-service",
   "metadata": {
    "execution": {
     "iopub.execute_input": "2021-06-02T15:51:14.647750Z",
     "iopub.status.busy": "2021-06-02T15:51:14.646898Z",
     "iopub.status.idle": "2021-06-02T15:51:14.651149Z",
     "shell.execute_reply": "2021-06-02T15:51:14.650551Z",
     "shell.execute_reply.started": "2021-05-30T01:05:33.676828Z"
    },
    "papermill": {
     "duration": 0.08071,
     "end_time": "2021-06-02T15:51:14.651286",
     "exception": false,
     "start_time": "2021-06-02T15:51:14.570576",
     "status": "completed"
    },
    "tags": []
   },
   "outputs": [
    {
     "data": {
      "text/plain": [
       "(4457, 100)"
      ]
     },
     "execution_count": 9,
     "metadata": {},
     "output_type": "execute_result"
    }
   ],
   "source": [
    "X_train_count.shape"
   ]
  },
  {
   "cell_type": "code",
   "execution_count": 10,
   "id": "middle-clarity",
   "metadata": {
    "execution": {
     "iopub.execute_input": "2021-06-02T15:51:14.800151Z",
     "iopub.status.busy": "2021-06-02T15:51:14.799190Z",
     "iopub.status.idle": "2021-06-02T15:51:14.803918Z",
     "shell.execute_reply": "2021-06-02T15:51:14.803277Z",
     "shell.execute_reply.started": "2021-05-30T01:05:33.684849Z"
    },
    "papermill": {
     "duration": 0.081663,
     "end_time": "2021-06-02T15:51:14.804064",
     "exception": false,
     "start_time": "2021-06-02T15:51:14.722401",
     "status": "completed"
    },
    "tags": []
   },
   "outputs": [
    {
     "data": {
      "text/plain": [
       "(4457, 100)"
      ]
     },
     "execution_count": 10,
     "metadata": {},
     "output_type": "execute_result"
    }
   ],
   "source": [
    "X_train_tfidf.shape"
   ]
  },
  {
   "cell_type": "code",
   "execution_count": 11,
   "id": "unable-hygiene",
   "metadata": {
    "execution": {
     "iopub.execute_input": "2021-06-02T15:51:14.951852Z",
     "iopub.status.busy": "2021-06-02T15:51:14.950992Z",
     "iopub.status.idle": "2021-06-02T15:51:14.955184Z",
     "shell.execute_reply": "2021-06-02T15:51:14.954551Z",
     "shell.execute_reply.started": "2021-05-30T01:05:33.696427Z"
    },
    "papermill": {
     "duration": 0.07983,
     "end_time": "2021-06-02T15:51:14.955337",
     "exception": false,
     "start_time": "2021-06-02T15:51:14.875507",
     "status": "completed"
    },
    "tags": []
   },
   "outputs": [
    {
     "data": {
      "text/plain": [
       "(4457, 100)"
      ]
     },
     "execution_count": 11,
     "metadata": {},
     "output_type": "execute_result"
    }
   ],
   "source": [
    "X_train_hash.shape"
   ]
  },
  {
   "cell_type": "code",
   "execution_count": 12,
   "id": "effective-manual",
   "metadata": {
    "execution": {
     "iopub.execute_input": "2021-06-02T15:51:15.110522Z",
     "iopub.status.busy": "2021-06-02T15:51:15.109829Z",
     "iopub.status.idle": "2021-06-02T15:51:15.113154Z",
     "shell.execute_reply": "2021-06-02T15:51:15.112624Z",
     "shell.execute_reply.started": "2021-05-30T01:05:33.704752Z"
    },
    "papermill": {
     "duration": 0.085945,
     "end_time": "2021-06-02T15:51:15.113288",
     "exception": false,
     "start_time": "2021-06-02T15:51:15.027343",
     "status": "completed"
    },
    "tags": []
   },
   "outputs": [],
   "source": [
    "y_train[y_train==\"ham\"]=0\n",
    "y_train[y_train==\"spam\"]=1\n",
    "y_train=y_train.astype(\"uint8\")"
   ]
  },
  {
   "cell_type": "markdown",
   "id": "foreign-sherman",
   "metadata": {
    "papermill": {
     "duration": 0.071323,
     "end_time": "2021-06-02T15:51:15.256600",
     "exception": false,
     "start_time": "2021-06-02T15:51:15.185277",
     "status": "completed"
    },
    "tags": []
   },
   "source": [
    "## [Empty Module #3] SVM: classifier\n",
    "\n",
    "목표: SVC() 를 활용해 classification 을 진행\n",
    "\n",
    "- fit()으로 train 에 대한 머신러닝 학습\n",
    "- predict()으로 test 에 대한 정답을 추론 하여 반환"
   ]
  },
  {
   "cell_type": "code",
   "execution_count": 13,
   "id": "stock-transcript",
   "metadata": {
    "execution": {
     "iopub.execute_input": "2021-06-02T15:51:15.412800Z",
     "iopub.status.busy": "2021-06-02T15:51:15.411930Z",
     "iopub.status.idle": "2021-06-02T15:51:15.415249Z",
     "shell.execute_reply": "2021-06-02T15:51:15.414589Z",
     "shell.execute_reply.started": "2021-05-30T01:05:33.719035Z"
    },
    "papermill": {
     "duration": 0.087069,
     "end_time": "2021-06-02T15:51:15.415391",
     "exception": false,
     "start_time": "2021-06-02T15:51:15.328322",
     "status": "completed"
    },
    "tags": []
   },
   "outputs": [],
   "source": [
    "def print_cv_results(cv_results):\n",
    "    for score_type in ['train_score', 'test_score']:\n",
    "        print(f\"{score_type}: {cv_results[score_type]}\")\n",
    "        \n",
    "    print(f\"mean train_score: {np.mean(cv_results['train_score'])}\")\n",
    "    print(f\"mean test_score: {np.mean(cv_results['test_score'])}\")"
   ]
  },
  {
   "cell_type": "code",
   "execution_count": 14,
   "id": "grand-distribution",
   "metadata": {
    "execution": {
     "iopub.execute_input": "2021-06-02T15:51:15.574547Z",
     "iopub.status.busy": "2021-06-02T15:51:15.573827Z",
     "iopub.status.idle": "2021-06-02T15:51:25.447404Z",
     "shell.execute_reply": "2021-06-02T15:51:25.446863Z",
     "shell.execute_reply.started": "2021-05-30T01:05:33.726547Z"
    },
    "papermill": {
     "duration": 9.955722,
     "end_time": "2021-06-02T15:51:25.447588",
     "exception": false,
     "start_time": "2021-06-02T15:51:15.491866",
     "status": "completed"
    },
    "tags": []
   },
   "outputs": [
    {
     "name": "stdout",
     "output_type": "stream",
     "text": [
      "<<< hash >>>\n",
      "train_score: [0.86619916 0.86619916 0.86595625 0.86595625 0.86595625]\n",
      "test_score: [0.86547085 0.86547085 0.8664422  0.8664422  0.8664422 ]\n",
      "mean train_score: 0.8660534154973062\n",
      "mean test_score: 0.8660536606724948\n",
      "<<< count >>>\n",
      "train_score: [0.94614306 0.94726508 0.94727987 0.95092541 0.94896242]\n",
      "test_score: [0.94955157 0.95964126 0.94276094 0.93602694 0.94388328]\n",
      "mean train_score: 0.9481151659077197\n",
      "mean test_score: 0.9463727962233193\n",
      "<<< tfidf >>>\n",
      "train_score: [0.87769986 0.87489481 0.87352776 0.87941671 0.87941671]\n",
      "test_score: [0.87668161 0.87668161 0.87429854 0.87205387 0.87654321]\n",
      "mean train_score: 0.8769911718828046\n",
      "mean test_score: 0.875251770319035\n"
     ]
    }
   ],
   "source": [
    "# ------------------------------------------------\n",
    "# [Empty Module #3] 텍스트 데이터 Bag of word  feature  화 \n",
    "# ------------------------------------------------------------\n",
    "# 구현 가이드라인 \n",
    "# ------------------------------------------------------------\n",
    "# [1]  SVC 정의 \n",
    "#           1) gamma=\"auto\" 사용 \n",
    "# [2] X_train_features과 y_train으로 SVC 학습진행 후, X_test_features로 predict 진행\n",
    "\n",
    "# ------------------------------------------------------------\n",
    "###########\n",
    "\n",
    "data_by_vect = [['hash', X_train_hash, X_test_hash],\n",
    "                ['count', X_train_count, X_test_count],\n",
    "                ['tfidf', X_train_tfidf, X_test_tfidf]]\n",
    "\n",
    "for vect_type, train_data, test_data in data_by_vect:\n",
    "    # [1]\n",
    "    svc = SVC(gamma='auto')\n",
    "    svc.fit(train_data, y_train)\n",
    "    \n",
    "    # [2]\n",
    "    y_pred = svc.predict(test_data)\n",
    "    \n",
    "    # cross validate\n",
    "    cv_results = cross_validate(svc, train_data, y_train,\n",
    "                                return_train_score=True)\n",
    "    print(f\"<<< {vect_type} >>>\")\n",
    "    print_cv_results(cv_results)\n",
    "    \n",
    "    \n",
    "    # Predict to CSV\n",
    "    df_pred={\"ID\": range(np.array(y_pred).shape[0]),\"Class\":y_pred}\n",
    "    df_pred=pd.DataFrame(df_pred)\n",
    "    df_pred.to_csv(f\"predict_{vect_type}.csv\", index=False)"
   ]
  },
  {
   "cell_type": "markdown",
   "id": "sixth-renewal",
   "metadata": {
    "papermill": {
     "duration": 0.073021,
     "end_time": "2021-06-02T15:51:25.593825",
     "exception": false,
     "start_time": "2021-06-02T15:51:25.520804",
     "status": "completed"
    },
    "tags": []
   },
   "source": [
    "# Predict to CSV\n",
    "```python\n",
    "df_pred={\"ID\": range(np.array(y_pred).shape[0]),\"Class\":y_pred}\n",
    "df_pred=pd.DataFrame(df_pred)\n",
    "df_pred.to_csv(\"predict.csv\",index=False)\n",
    "```"
   ]
  },
  {
   "cell_type": "markdown",
   "id": "informational-industry",
   "metadata": {
    "papermill": {
     "duration": 0.072108,
     "end_time": "2021-06-02T15:51:25.739249",
     "exception": false,
     "start_time": "2021-06-02T15:51:25.667141",
     "status": "completed"
    },
    "tags": []
   },
   "source": [
    "## Explore Data"
   ]
  },
  {
   "cell_type": "code",
   "execution_count": 15,
   "id": "scenic-polish",
   "metadata": {
    "execution": {
     "iopub.execute_input": "2021-06-02T15:51:25.889603Z",
     "iopub.status.busy": "2021-06-02T15:51:25.888799Z",
     "iopub.status.idle": "2021-06-02T15:51:25.909961Z",
     "shell.execute_reply": "2021-06-02T15:51:25.910541Z",
     "shell.execute_reply.started": "2021-05-30T01:05:42.899586Z"
    },
    "papermill": {
     "duration": 0.099272,
     "end_time": "2021-06-02T15:51:25.910721",
     "exception": false,
     "start_time": "2021-06-02T15:51:25.811449",
     "status": "completed"
    },
    "tags": []
   },
   "outputs": [
    {
     "data": {
      "text/plain": [
       "13.394660085259144"
      ]
     },
     "execution_count": 15,
     "metadata": {},
     "output_type": "execute_result"
    }
   ],
   "source": [
    "# train data 내에 spam 문자 비율 - 불균형 데이터\n",
    "# - class_weight, oversampling 적용해보기\n",
    "np.sum(y_train == 1)/len(y_train) * 100"
   ]
  },
  {
   "cell_type": "code",
   "execution_count": 16,
   "id": "spiritual-metallic",
   "metadata": {
    "execution": {
     "iopub.execute_input": "2021-06-02T15:51:26.061969Z",
     "iopub.status.busy": "2021-06-02T15:51:26.061221Z",
     "iopub.status.idle": "2021-06-02T15:51:26.072740Z",
     "shell.execute_reply": "2021-06-02T15:51:26.073266Z",
     "shell.execute_reply.started": "2021-05-30T01:05:42.920607Z"
    },
    "papermill": {
     "duration": 0.088602,
     "end_time": "2021-06-02T15:51:26.073462",
     "exception": false,
     "start_time": "2021-06-02T15:51:25.984860",
     "status": "completed"
    },
    "tags": []
   },
   "outputs": [
    {
     "name": "stdout",
     "output_type": "stream",
     "text": [
      "0: (Bank of Granite issues Strong-Buy) EXPLOSIVE PICK FOR OUR MEMBERS *****UP OVER 300% *********** Nasdaq Symbol CDGT That is a $5.00 per..\n",
      "1: PRIVATE! Your 2003 Account Statement for 07973788240 shows 800 un-redeemed S. I. M. points. Call 08715203649 Identifier Code: 40533 Expires 31/10/04\n",
      "2: 88066 FROM 88066 LOST 3POUND HELP\n",
      "3: Please call our customer service representative on FREEPHONE 0808 145 4742 between 9am-11pm as you have WON a guaranteed Ã¥Â£1000 cash or Ã¥Â£5000 prize!\n",
      "4: Not heard from U4 a while. Call me now am here all night with just my knickers on. Make me beg for it like U did last time 01223585236 XX Luv Nikiyu4.net\n",
      "5: PRIVATE! Your 2004 Account Statement for 07742676969 shows 786 unredeemed Bonus Points. To claim call 08719180248 Identifier Code: 45239 Expires\n",
      "6: FROM 88066 LOST Ã¥Â£12 HELP\n",
      "7: Buy Space Invaders 4 a chance 2 win orig Arcade Game console. Press 0 for Games Arcade (std WAP charge) See o2.co.uk/games 4 Terms + settings. No purchase\n",
      "8: URGENT, IMPORTANT INFORMATION FOR O2 USER. TODAY IS YOUR LUCKY DAY! 2 FIND OUT WHY LOG ONTO HTTP://WWW.URAWINNER.COM THERE IS A FANTASTIC SURPRISE AWAITING FOR YOU\n",
      "9: No 1 POLYPHONIC tone 4 ur mob every week! Just txt PT2 to 87575. 1st Tone FREE ! so get txtin now and tell ur friends. 150p/tone. 16 reply HL 4info\n",
      "10: WINNER!! As a valued network customer you have been selected to receivea Ã¥Â£900 prize reward! To claim call 09061701461. Claim code KL341. Valid 12 hours only.\n",
      "11: GSOH? Good with SPAM the ladies?U could b a male gigolo? 2 join the uk's fastest growing mens club reply ONCALL. mjzgroup. 08714342399.2stop reply STOP. msg@Ã¥Â£1.50rcvd\n",
      "12: Free Msg: get Gnarls Barkleys \\Crazy\\\" ringtone TOTALLY FREE just reply GO to this message right now!\"\n",
      "13: Get the official ENGLAND poly ringtone or colour flag on yer mobile for tonights game! Text TONE or FLAG to 84199. Optout txt ENG STOP Box39822 W111WX Ã¥Â£1.50\n",
      "14: This message is free. Welcome to the new & improved Sex & Dogging club! To unsubscribe from this service reply STOP. msgs@150p 18 only\n",
      "15: FREE for 1st week! No1 Nokia tone 4 ur mobile every week just txt NOKIA to 8077 Get txting and tell ur mates. www.getzed.co.uk POBox 36504 W45WQ 16+ norm150p/tone\n",
      "16: Urgent! Please call 0906346330. Your ABTA complimentary 4* Spanish Holiday or Ã¥Â£10,000 cash await collection SAE T&Cs BOX 47 PO19 2EZ 150ppm 18+\n",
      "17: URGENT! Your Mobile No. was awarded Ã¥Â£2000 Bonus Caller Prize on 5/9/03 This is our final try to contact U! Call from Landline 09064019788 BOX42WR29C, 150PPM\n",
      "18: Want 2 get laid tonight? Want real Dogging locations sent direct 2 ur mob? Join the UK's largest Dogging Network bt Txting GRAVEL to 69888! Nt. ec2a. 31p.msg@150p\n",
      "19: Todays Voda numbers ending 7548 are selected to receive a $350 award. If you have a match please call 08712300220 quoting claim code 4041 standard rates app\n"
     ]
    }
   ],
   "source": [
    "for i, text in enumerate(df_train[df_train['Class'] == 1]['Data'].iloc[:20]):\n",
    "    print(f\"{i}: {text}\")"
   ]
  },
  {
   "cell_type": "code",
   "execution_count": 17,
   "id": "lucky-organization",
   "metadata": {
    "execution": {
     "iopub.execute_input": "2021-06-02T15:51:26.225289Z",
     "iopub.status.busy": "2021-06-02T15:51:26.224204Z",
     "iopub.status.idle": "2021-06-02T15:51:26.235758Z",
     "shell.execute_reply": "2021-06-02T15:51:26.235202Z",
     "shell.execute_reply.started": "2021-05-30T01:05:42.933177Z"
    },
    "papermill": {
     "duration": 0.088889,
     "end_time": "2021-06-02T15:51:26.235897",
     "exception": false,
     "start_time": "2021-06-02T15:51:26.147008",
     "status": "completed"
    },
    "tags": []
   },
   "outputs": [
    {
     "name": "stdout",
     "output_type": "stream",
     "text": [
      "0: No I'm in the same boat. Still here at my moms. Check me out on yo. I'm half naked.\n",
      "1: They r giving a second chance to rahul dengra.\n",
      "2: O i played smash bros  &lt;#&gt;  religiously.\n",
      "3: G says you never answer your texts, confirm/deny\n",
      "4: Okey dokey, iÂÃÃ·ll be over in a bit just sorting some stuff out.\n",
      "5: Why i come in between you people\n",
      "6: Wah lucky man... Then can save money... Hee...\n",
      "7: Much better now thanks lol\n",
      "8: Madam,regret disturbance.might receive a reference check from DLF Premarica.kindly be informed.Rgds,Rakhesh,Kerala.\n",
      "9: I'm coming home 4 dinner.\n",
      "10: Ok...\n",
      "11: Can Ã_ all decide faster cos my sis going home liao..\n",
      "12: Hi mate its RV did u hav a nice hol just a message 3 say hello coz havenÃ¥Ãt sent u 1 in ages started driving so stay off roads!RVx\n",
      "13: Amazing : If you rearrange these letters it gives the same meaning... Dormitory = Dirty room Astronomer = Moon starer The eyes = They see Election results = Lies lets recount Mother-in-law = Woman Hitler Eleven plus two =Twelve plus one Its Amazing... !:-)\n",
      "14: Good Morning plz call me sir\n",
      "15: K actually can you guys meet me at the sunoco on howard? It should be right on the way\n",
      "16: New Theory: Argument wins d SITUATION, but loses the PERSON. So dont argue with ur friends just.. . . . kick them &amp; say, I'm always correct.!\n",
      "17: Oh yeah! And my diet just flew out the window\n",
      "18: Watching cartoon, listening music &amp; at eve had to go temple &amp; church.. What about u?\n",
      "19: If india win or level series means this is record:)\n"
     ]
    }
   ],
   "source": [
    "for i, text in enumerate(df_train[df_train['Class'] == 0]['Data'].iloc[:20]):\n",
    "    print(f\"{i}: {text}\")"
   ]
  },
  {
   "cell_type": "code",
   "execution_count": 18,
   "id": "affecting-cleaners",
   "metadata": {
    "execution": {
     "iopub.execute_input": "2021-06-02T15:51:26.390615Z",
     "iopub.status.busy": "2021-06-02T15:51:26.389895Z",
     "iopub.status.idle": "2021-06-02T15:51:26.395915Z",
     "shell.execute_reply": "2021-06-02T15:51:26.396387Z",
     "shell.execute_reply.started": "2021-05-30T01:05:42.945595Z"
    },
    "papermill": {
     "duration": 0.086913,
     "end_time": "2021-06-02T15:51:26.396587",
     "exception": false,
     "start_time": "2021-06-02T15:51:26.309674",
     "status": "completed"
    },
    "tags": []
   },
   "outputs": [
    {
     "name": "stdout",
     "output_type": "stream",
     "text": [
      "0: bank granit issu strong buy explos pick member nasdaq symbol cdgt per\n",
      "1: privat account statement show un redeem point call identifi code expir\n",
      "2: lost pound help\n",
      "3: pleas call custom servic repres freephon pm guarante cash prize\n",
      "4: heard u call night knicker make beg like u last time xx luv nikiyu net\n",
      "5: privat account statement show unredeem bonu point claim call identifi code expir\n",
      "6: lost help\n",
      "7: buy space invad chanc win orig arcad game consol press game arcad std wap charg see co uk game term set purchas\n",
      "8: urgent import inform user today lucki day find log onto http www urawinn com fantast surpris await\n",
      "9: polyphon tone ur mob everi week txt pt st tone free get txtin tell ur friend p tone repli hl info\n",
      "10: winner valu network custom select receivea prize reward claim call claim code kl valid hour\n",
      "11: gsoh good spam ladi u could b male gigolo join uk fastest grow men club repli oncal mjzgroup stop repli stop msg rcvd\n",
      "12: free msg get gnarl barkley crazi rington total free repli go messag right\n",
      "13: get offici england poli rington colour flag yer mobil tonight game text tone flag optout txt eng stop box w wx\n",
      "14: messag free welcom new improv sex dog club unsubscrib servic repli stop msg p\n",
      "15: free st week nokia tone ur mobil everi week txt nokia get txting tell ur mate www getz co uk pobox w wq norm p tone\n",
      "16: urgent pleas call abta complimentari spanish holiday cash await collect sae cs box po ez ppm\n",
      "17: urgent mobil award bonu caller prize final tri contact u call landlin box wr c ppm\n",
      "18: want get laid tonight want real dog locat sent direct ur mob join uk largest dog network bt txting gravel nt ec p msg p\n",
      "19: today voda number end select receiv award match pleas call quot claim code standard rate app\n"
     ]
    }
   ],
   "source": [
    "for i, text in enumerate(X_train[y_train == 1][:20]):\n",
    "    print(f\"{i}: {text}\")"
   ]
  },
  {
   "cell_type": "code",
   "execution_count": 19,
   "id": "approximate-competition",
   "metadata": {
    "execution": {
     "iopub.execute_input": "2021-06-02T15:51:26.552595Z",
     "iopub.status.busy": "2021-06-02T15:51:26.551919Z",
     "iopub.status.idle": "2021-06-02T15:51:26.560873Z",
     "shell.execute_reply": "2021-06-02T15:51:26.560273Z",
     "shell.execute_reply.started": "2021-05-30T01:05:42.959046Z"
    },
    "papermill": {
     "duration": 0.088618,
     "end_time": "2021-06-02T15:51:26.561020",
     "exception": false,
     "start_time": "2021-06-02T15:51:26.472402",
     "status": "completed"
    },
    "tags": []
   },
   "outputs": [
    {
     "name": "stdout",
     "output_type": "stream",
     "text": [
      "0: boat still mom check yo half nake\n",
      "1: r give second chanc rahul dengra\n",
      "2: play smash bro lt gt religi\n",
      "3: g say never answer text confirm deni\n",
      "4: okey dokey bit sort stuff\n",
      "5: come peopl\n",
      "6: wah lucki man save money hee\n",
      "7: much better thank lol\n",
      "8: madam regret disturb might receiv refer check dlf premarica kindli inform rgd rakhesh kerala\n",
      "9: come home dinner\n",
      "10: ok\n",
      "11: decid faster co si go home liao\n",
      "12: hi mate rv u hav nice hol messag say hello coz sent u age start drive stay road rvx\n",
      "13: amaz rearrang letter give mean dormitori dirti room astronom moon starer eye see elect result lie let recount mother law woman hitler eleven plu two twelv plu one amaz\n",
      "14: good morn plz call sir\n",
      "15: k actual guy meet sunoco howard right way\n",
      "16: new theori argument win situat lose person dont argu ur friend kick amp say alway correct\n",
      "17: oh yeah diet flew window\n",
      "18: watch cartoon listen music amp eve go templ amp church u\n",
      "19: india win level seri mean record\n"
     ]
    }
   ],
   "source": [
    "for i, text in enumerate(X_train[y_train == 0][:20]):\n",
    "    print(f\"{i}: {text}\")"
   ]
  },
  {
   "cell_type": "code",
   "execution_count": 20,
   "id": "spanish-toronto",
   "metadata": {
    "execution": {
     "iopub.execute_input": "2021-06-02T15:51:26.732806Z",
     "iopub.status.busy": "2021-06-02T15:51:26.727432Z",
     "iopub.status.idle": "2021-06-02T15:51:26.755849Z",
     "shell.execute_reply": "2021-06-02T15:51:26.755265Z",
     "shell.execute_reply.started": "2021-05-30T01:05:42.972266Z"
    },
    "papermill": {
     "duration": 0.119019,
     "end_time": "2021-06-02T15:51:26.755994",
     "exception": false,
     "start_time": "2021-06-02T15:51:26.636975",
     "status": "completed"
    },
    "tags": []
   },
   "outputs": [
    {
     "data": {
      "text/plain": [
       "{'to': 1739,\n",
       " 'you': 1247,\n",
       " 'I': 1185,\n",
       " 'a': 1067,\n",
       " 'the': 944,\n",
       " 'and': 667,\n",
       " 'in': 633,\n",
       " 'is': 620,\n",
       " 'i': 589,\n",
       " 'u': 566,\n",
       " 'for': 523,\n",
       " 'my': 491,\n",
       " 'of': 465,\n",
       " 'your': 459,\n",
       " 'me': 432,\n",
       " 'on': 383,\n",
       " 'have': 379,\n",
       " '2': 362,\n",
       " 'that': 324,\n",
       " 'are': 309,\n",
       " 'at': 298,\n",
       " 'or': 296,\n",
       " 'it': 293,\n",
       " 'call': 293,\n",
       " 'be': 271,\n",
       " 'not': 271,\n",
       " 'with': 265,\n",
       " 'will': 262,\n",
       " 'get': 257,\n",
       " 'U': 256,\n",
       " 'ur': 236,\n",
       " '&lt;#&gt;': 234,\n",
       " 'so': 234,\n",
       " \"I'm\": 230,\n",
       " 'can': 228,\n",
       " 'but': 220,\n",
       " 'You': 217,\n",
       " 'from': 210,\n",
       " '4': 200,\n",
       " 'up': 199}"
      ]
     },
     "execution_count": 20,
     "metadata": {},
     "output_type": "execute_result"
    }
   ],
   "source": [
    "def get_corpus(text):\n",
    "    words = []\n",
    "    for i in text:\n",
    "        for j in i.split():\n",
    "            words.append(j.strip())\n",
    "    return words\n",
    "\n",
    "corpus = get_corpus(df_train['Data'])\n",
    "\n",
    "from collections import Counter\n",
    "\n",
    "counter = Counter(corpus)\n",
    "most_common = counter.most_common(40)\n",
    "most_common = dict(most_common)\n",
    "most_common"
   ]
  },
  {
   "cell_type": "code",
   "execution_count": 21,
   "id": "connected-workshop",
   "metadata": {
    "execution": {
     "iopub.execute_input": "2021-06-02T15:51:26.924945Z",
     "iopub.status.busy": "2021-06-02T15:51:26.919711Z",
     "iopub.status.idle": "2021-06-02T15:51:26.947508Z",
     "shell.execute_reply": "2021-06-02T15:51:26.947986Z",
     "shell.execute_reply.started": "2021-05-30T01:05:43.015712Z"
    },
    "papermill": {
     "duration": 0.11699,
     "end_time": "2021-06-02T15:51:26.948167",
     "exception": false,
     "start_time": "2021-06-02T15:51:26.831177",
     "status": "completed"
    },
    "tags": []
   },
   "outputs": [
    {
     "data": {
      "text/plain": [
       "{'u': 998,\n",
       " 'call': 549,\n",
       " 'go': 386,\n",
       " 'get': 366,\n",
       " 'ur': 320,\n",
       " 'lt': 267,\n",
       " 'gt': 267,\n",
       " 'come': 245,\n",
       " 'ok': 240,\n",
       " 'free': 236,\n",
       " 'day': 224,\n",
       " 'know': 213,\n",
       " 'got': 208,\n",
       " 'love': 207,\n",
       " 'time': 202,\n",
       " 'good': 198,\n",
       " 'like': 197,\n",
       " 'want': 193,\n",
       " 'text': 185,\n",
       " 'send': 175,\n",
       " 'txt': 166,\n",
       " 'p': 151,\n",
       " 'one': 147,\n",
       " 'need': 147,\n",
       " 'today': 144,\n",
       " 'stop': 142,\n",
       " 'see': 140,\n",
       " 'home': 139,\n",
       " 'n': 136,\n",
       " 'r': 135,\n",
       " 'repli': 133,\n",
       " 'lor': 130,\n",
       " 'take': 130,\n",
       " 'still': 129,\n",
       " 'sorri': 129,\n",
       " 'mobil': 129,\n",
       " 'k': 127,\n",
       " 'think': 127,\n",
       " 'back': 126,\n",
       " 'da': 125}"
      ]
     },
     "execution_count": 21,
     "metadata": {},
     "output_type": "execute_result"
    }
   ],
   "source": [
    "def get_corpus(text):\n",
    "    words = []\n",
    "    for i in text:\n",
    "        for j in i.split():\n",
    "            words.append(j.strip())\n",
    "    return words\n",
    "\n",
    "corpus = get_corpus(X_train)\n",
    "\n",
    "from collections import Counter\n",
    "\n",
    "counter = Counter(corpus)\n",
    "most_common = counter.most_common(40)\n",
    "most_common = dict(most_common)\n",
    "most_common"
   ]
  },
  {
   "cell_type": "code",
   "execution_count": 22,
   "id": "established-madness",
   "metadata": {
    "execution": {
     "iopub.execute_input": "2021-06-02T15:51:27.108831Z",
     "iopub.status.busy": "2021-06-02T15:51:27.107824Z",
     "iopub.status.idle": "2021-06-02T15:51:27.112644Z",
     "shell.execute_reply": "2021-06-02T15:51:27.112076Z",
     "shell.execute_reply.started": "2021-05-30T01:05:43.054948Z"
    },
    "papermill": {
     "duration": 0.088754,
     "end_time": "2021-06-02T15:51:27.112836",
     "exception": false,
     "start_time": "2021-06-02T15:51:27.024082",
     "status": "completed"
    },
    "tags": []
   },
   "outputs": [
    {
     "data": {
      "text/plain": [
       "['i',\n",
       " 'me',\n",
       " 'my',\n",
       " 'myself',\n",
       " 'we',\n",
       " 'our',\n",
       " 'ours',\n",
       " 'ourselves',\n",
       " 'you',\n",
       " \"you're\",\n",
       " \"you've\",\n",
       " \"you'll\",\n",
       " \"you'd\",\n",
       " 'your',\n",
       " 'yours',\n",
       " 'yourself',\n",
       " 'yourselves',\n",
       " 'he',\n",
       " 'him',\n",
       " 'his',\n",
       " 'himself',\n",
       " 'she',\n",
       " \"she's\",\n",
       " 'her',\n",
       " 'hers',\n",
       " 'herself',\n",
       " 'it',\n",
       " \"it's\",\n",
       " 'its',\n",
       " 'itself',\n",
       " 'they',\n",
       " 'them',\n",
       " 'their',\n",
       " 'theirs',\n",
       " 'themselves',\n",
       " 'what',\n",
       " 'which',\n",
       " 'who',\n",
       " 'whom',\n",
       " 'this',\n",
       " 'that',\n",
       " \"that'll\",\n",
       " 'these',\n",
       " 'those',\n",
       " 'am',\n",
       " 'is',\n",
       " 'are',\n",
       " 'was',\n",
       " 'were',\n",
       " 'be',\n",
       " 'been',\n",
       " 'being',\n",
       " 'have',\n",
       " 'has',\n",
       " 'had',\n",
       " 'having',\n",
       " 'do',\n",
       " 'does',\n",
       " 'did',\n",
       " 'doing',\n",
       " 'a',\n",
       " 'an',\n",
       " 'the',\n",
       " 'and',\n",
       " 'but',\n",
       " 'if',\n",
       " 'or',\n",
       " 'because',\n",
       " 'as',\n",
       " 'until',\n",
       " 'while',\n",
       " 'of',\n",
       " 'at',\n",
       " 'by',\n",
       " 'for',\n",
       " 'with',\n",
       " 'about',\n",
       " 'against',\n",
       " 'between',\n",
       " 'into',\n",
       " 'through',\n",
       " 'during',\n",
       " 'before',\n",
       " 'after',\n",
       " 'above',\n",
       " 'below',\n",
       " 'to',\n",
       " 'from',\n",
       " 'up',\n",
       " 'down',\n",
       " 'in',\n",
       " 'out',\n",
       " 'on',\n",
       " 'off',\n",
       " 'over',\n",
       " 'under',\n",
       " 'again',\n",
       " 'further',\n",
       " 'then',\n",
       " 'once',\n",
       " 'here',\n",
       " 'there',\n",
       " 'when',\n",
       " 'where',\n",
       " 'why',\n",
       " 'how',\n",
       " 'all',\n",
       " 'any',\n",
       " 'both',\n",
       " 'each',\n",
       " 'few',\n",
       " 'more',\n",
       " 'most',\n",
       " 'other',\n",
       " 'some',\n",
       " 'such',\n",
       " 'no',\n",
       " 'nor',\n",
       " 'not',\n",
       " 'only',\n",
       " 'own',\n",
       " 'same',\n",
       " 'so',\n",
       " 'than',\n",
       " 'too',\n",
       " 'very',\n",
       " 's',\n",
       " 't',\n",
       " 'can',\n",
       " 'will',\n",
       " 'just',\n",
       " 'don',\n",
       " \"don't\",\n",
       " 'should',\n",
       " \"should've\",\n",
       " 'now',\n",
       " 'd',\n",
       " 'll',\n",
       " 'm',\n",
       " 'o',\n",
       " 're',\n",
       " 've',\n",
       " 'y',\n",
       " 'ain',\n",
       " 'aren',\n",
       " \"aren't\",\n",
       " 'couldn',\n",
       " \"couldn't\",\n",
       " 'didn',\n",
       " \"didn't\",\n",
       " 'doesn',\n",
       " \"doesn't\",\n",
       " 'hadn',\n",
       " \"hadn't\",\n",
       " 'hasn',\n",
       " \"hasn't\",\n",
       " 'haven',\n",
       " \"haven't\",\n",
       " 'isn',\n",
       " \"isn't\",\n",
       " 'ma',\n",
       " 'mightn',\n",
       " \"mightn't\",\n",
       " 'mustn',\n",
       " \"mustn't\",\n",
       " 'needn',\n",
       " \"needn't\",\n",
       " 'shan',\n",
       " \"shan't\",\n",
       " 'shouldn',\n",
       " \"shouldn't\",\n",
       " 'wasn',\n",
       " \"wasn't\",\n",
       " 'weren',\n",
       " \"weren't\",\n",
       " 'won',\n",
       " \"won't\",\n",
       " 'wouldn',\n",
       " \"wouldn't\"]"
      ]
     },
     "execution_count": 22,
     "metadata": {},
     "output_type": "execute_result"
    }
   ],
   "source": [
    "stopwords.words('english')"
   ]
  },
  {
   "cell_type": "code",
   "execution_count": 23,
   "id": "younger-probe",
   "metadata": {
    "execution": {
     "iopub.execute_input": "2021-06-02T15:51:27.280645Z",
     "iopub.status.busy": "2021-06-02T15:51:27.279937Z",
     "iopub.status.idle": "2021-06-02T15:51:27.283492Z",
     "shell.execute_reply": "2021-06-02T15:51:27.282889Z",
     "shell.execute_reply.started": "2021-05-30T01:05:43.067627Z"
    },
    "papermill": {
     "duration": 0.09375,
     "end_time": "2021-06-02T15:51:27.283633",
     "exception": false,
     "start_time": "2021-06-02T15:51:27.189883",
     "status": "completed"
    },
    "tags": []
   },
   "outputs": [
    {
     "data": {
      "text/html": [
       "<div>\n",
       "<style scoped>\n",
       "    .dataframe tbody tr th:only-of-type {\n",
       "        vertical-align: middle;\n",
       "    }\n",
       "\n",
       "    .dataframe tbody tr th {\n",
       "        vertical-align: top;\n",
       "    }\n",
       "\n",
       "    .dataframe thead th {\n",
       "        text-align: right;\n",
       "    }\n",
       "</style>\n",
       "<table border=\"1\" class=\"dataframe\">\n",
       "  <thead>\n",
       "    <tr style=\"text-align: right;\">\n",
       "      <th></th>\n",
       "      <th>Data</th>\n",
       "      <th>Class</th>\n",
       "      <th>text_len</th>\n",
       "    </tr>\n",
       "  </thead>\n",
       "  <tbody>\n",
       "    <tr>\n",
       "      <th>0</th>\n",
       "      <td>No I'm in the same boat. Still here at my moms...</td>\n",
       "      <td>0</td>\n",
       "      <td>83</td>\n",
       "    </tr>\n",
       "    <tr>\n",
       "      <th>1</th>\n",
       "      <td>(Bank of Granite issues Strong-Buy) EXPLOSIVE ...</td>\n",
       "      <td>1</td>\n",
       "      <td>137</td>\n",
       "    </tr>\n",
       "    <tr>\n",
       "      <th>2</th>\n",
       "      <td>They r giving a second chance to rahul dengra.</td>\n",
       "      <td>0</td>\n",
       "      <td>46</td>\n",
       "    </tr>\n",
       "    <tr>\n",
       "      <th>3</th>\n",
       "      <td>O i played smash bros  &amp;lt;#&amp;gt;  religiously.</td>\n",
       "      <td>0</td>\n",
       "      <td>46</td>\n",
       "    </tr>\n",
       "    <tr>\n",
       "      <th>4</th>\n",
       "      <td>PRIVATE! Your 2003 Account Statement for 07973...</td>\n",
       "      <td>1</td>\n",
       "      <td>148</td>\n",
       "    </tr>\n",
       "  </tbody>\n",
       "</table>\n",
       "</div>"
      ],
      "text/plain": [
       "                                                Data Class  text_len\n",
       "0  No I'm in the same boat. Still here at my moms...     0        83\n",
       "1  (Bank of Granite issues Strong-Buy) EXPLOSIVE ...     1       137\n",
       "2     They r giving a second chance to rahul dengra.     0        46\n",
       "3     O i played smash bros  &lt;#&gt;  religiously.     0        46\n",
       "4  PRIVATE! Your 2003 Account Statement for 07973...     1       148"
      ]
     },
     "execution_count": 23,
     "metadata": {},
     "output_type": "execute_result"
    }
   ],
   "source": [
    "# text 데이터의 길이\n",
    "df_train['text_len'] = df_train['Data'].apply(len)\n",
    "df_test['text_len'] = df_test['Data'].apply(len)\n",
    "df_train.head()"
   ]
  },
  {
   "cell_type": "code",
   "execution_count": 24,
   "id": "universal-recording",
   "metadata": {
    "execution": {
     "iopub.execute_input": "2021-06-02T15:51:27.443583Z",
     "iopub.status.busy": "2021-06-02T15:51:27.442910Z",
     "iopub.status.idle": "2021-06-02T15:51:27.452593Z",
     "shell.execute_reply": "2021-06-02T15:51:27.453110Z",
     "shell.execute_reply.started": "2021-05-30T01:18:21.353355Z"
    },
    "papermill": {
     "duration": 0.092127,
     "end_time": "2021-06-02T15:51:27.453277",
     "exception": false,
     "start_time": "2021-06-02T15:51:27.361150",
     "status": "completed"
    },
    "tags": []
   },
   "outputs": [
    {
     "data": {
      "text/html": [
       "<div>\n",
       "<style scoped>\n",
       "    .dataframe tbody tr th:only-of-type {\n",
       "        vertical-align: middle;\n",
       "    }\n",
       "\n",
       "    .dataframe tbody tr th {\n",
       "        vertical-align: top;\n",
       "    }\n",
       "\n",
       "    .dataframe thead th {\n",
       "        text-align: right;\n",
       "    }\n",
       "</style>\n",
       "<table border=\"1\" class=\"dataframe\">\n",
       "  <thead>\n",
       "    <tr style=\"text-align: right;\">\n",
       "      <th></th>\n",
       "      <th>Data</th>\n",
       "      <th>Class</th>\n",
       "      <th>text_len</th>\n",
       "      <th>log_text_len</th>\n",
       "    </tr>\n",
       "  </thead>\n",
       "  <tbody>\n",
       "    <tr>\n",
       "      <th>0</th>\n",
       "      <td>No I'm in the same boat. Still here at my moms...</td>\n",
       "      <td>0</td>\n",
       "      <td>83</td>\n",
       "      <td>4.418841</td>\n",
       "    </tr>\n",
       "    <tr>\n",
       "      <th>1</th>\n",
       "      <td>(Bank of Granite issues Strong-Buy) EXPLOSIVE ...</td>\n",
       "      <td>1</td>\n",
       "      <td>137</td>\n",
       "      <td>4.919981</td>\n",
       "    </tr>\n",
       "    <tr>\n",
       "      <th>2</th>\n",
       "      <td>They r giving a second chance to rahul dengra.</td>\n",
       "      <td>0</td>\n",
       "      <td>46</td>\n",
       "      <td>3.828641</td>\n",
       "    </tr>\n",
       "    <tr>\n",
       "      <th>3</th>\n",
       "      <td>O i played smash bros  &amp;lt;#&amp;gt;  religiously.</td>\n",
       "      <td>0</td>\n",
       "      <td>46</td>\n",
       "      <td>3.828641</td>\n",
       "    </tr>\n",
       "    <tr>\n",
       "      <th>4</th>\n",
       "      <td>PRIVATE! Your 2003 Account Statement for 07973...</td>\n",
       "      <td>1</td>\n",
       "      <td>148</td>\n",
       "      <td>4.997212</td>\n",
       "    </tr>\n",
       "  </tbody>\n",
       "</table>\n",
       "</div>"
      ],
      "text/plain": [
       "                                                Data Class  text_len  \\\n",
       "0  No I'm in the same boat. Still here at my moms...     0        83   \n",
       "1  (Bank of Granite issues Strong-Buy) EXPLOSIVE ...     1       137   \n",
       "2     They r giving a second chance to rahul dengra.     0        46   \n",
       "3     O i played smash bros  &lt;#&gt;  religiously.     0        46   \n",
       "4  PRIVATE! Your 2003 Account Statement for 07973...     1       148   \n",
       "\n",
       "   log_text_len  \n",
       "0      4.418841  \n",
       "1      4.919981  \n",
       "2      3.828641  \n",
       "3      3.828641  \n",
       "4      4.997212  "
      ]
     },
     "execution_count": 24,
     "metadata": {},
     "output_type": "execute_result"
    }
   ],
   "source": [
    "# scaling을 위해 text 길이에 log\n",
    "df_train['log_text_len'] = df_train['text_len'].apply(np.log)\n",
    "df_test['log_text_len'] = df_test['text_len'].apply(np.log)\n",
    "df_train.head()"
   ]
  },
  {
   "cell_type": "code",
   "execution_count": 25,
   "id": "enhanced-brake",
   "metadata": {
    "execution": {
     "iopub.execute_input": "2021-06-02T15:51:27.612087Z",
     "iopub.status.busy": "2021-06-02T15:51:27.611375Z",
     "iopub.status.idle": "2021-06-02T15:51:28.027618Z",
     "shell.execute_reply": "2021-06-02T15:51:28.028121Z",
     "shell.execute_reply.started": "2021-05-29T16:56:45.269265Z"
    },
    "papermill": {
     "duration": 0.497669,
     "end_time": "2021-06-02T15:51:28.028291",
     "exception": false,
     "start_time": "2021-06-02T15:51:27.530622",
     "status": "completed"
    },
    "tags": []
   },
   "outputs": [
    {
     "data": {
      "image/png": "[encoded data removed]",
      "text/plain": [
       "<Figure size 864x576 with 1 Axes>"
      ]
     },
     "metadata": {
      "needs_background": "light"
     },
     "output_type": "display_data"
    }
   ],
   "source": [
    "plt.figure(figsize=(12, 8))\n",
    "df_train.loc[df_train['Class'] == 0, 'text_len'].plot(color='blue',\n",
    "                                                      label='Ham messages',\n",
    "                                                      alpha=0.5,\n",
    "                                                      kind='hist', bins=35)\n",
    "df_train.loc[df_train['Class'] == 1, 'text_len'].plot(color='red',\n",
    "                                                      label='Spam messages',\n",
    "                                                      alpha=0.5,\n",
    "                                                      kind='hist', bins=35)\n",
    "plt.legend()\n",
    "plt.grid()\n",
    "plt.xlabel(\"Message Length\")\n",
    "plt.show()"
   ]
  },
  {
   "cell_type": "code",
   "execution_count": 26,
   "id": "young-clearing",
   "metadata": {
    "execution": {
     "iopub.execute_input": "2021-06-02T15:51:28.188557Z",
     "iopub.status.busy": "2021-06-02T15:51:28.187940Z",
     "iopub.status.idle": "2021-06-02T15:51:28.410478Z",
     "shell.execute_reply": "2021-06-02T15:51:28.411028Z",
     "shell.execute_reply.started": "2021-05-30T01:06:35.270233Z"
    },
    "papermill": {
     "duration": 0.303622,
     "end_time": "2021-06-02T15:51:28.411209",
     "exception": false,
     "start_time": "2021-06-02T15:51:28.107587",
     "status": "completed"
    },
    "tags": []
   },
   "outputs": [
    {
     "data": {
      "image/png": "[encoded data removed]",
      "text/plain": [
       "<Figure size 864x576 with 1 Axes>"
      ]
     },
     "metadata": {
      "needs_background": "light"
     },
     "output_type": "display_data"
    }
   ],
   "source": [
    "plt.figure(figsize=(12, 8))\n",
    "\n",
    "plt.hist(np.log(df_train.loc[df_train['Class'] == 0, 'text_len']),\n",
    "         color='blue', label='Ham messages', alpha=0.5)\n",
    "plt.hist(np.log(df_train.loc[df_train['Class'] == 1, 'text_len']),\n",
    "         color='red', label='Spam messages', alpha=0.5)\n",
    "plt.legend()\n",
    "plt.grid()\n",
    "plt.xlabel(\"Log Message Length\")\n",
    "plt.show()"
   ]
  },
  {
   "cell_type": "markdown",
   "id": "better-wholesale",
   "metadata": {
    "papermill": {
     "duration": 0.077757,
     "end_time": "2021-06-02T15:51:28.567311",
     "exception": false,
     "start_time": "2021-06-02T15:51:28.489554",
     "status": "completed"
    },
    "tags": []
   },
   "source": [
    "## Experiment 1\n",
    "> 성능이 괜찮았다. 나중에 적용해보기.\n",
    "- count_vectorized data 에 pca를 통한 차원 축소"
   ]
  },
  {
   "cell_type": "code",
   "execution_count": 27,
   "id": "fluid-small",
   "metadata": {
    "execution": {
     "iopub.execute_input": "2021-06-02T15:51:28.730054Z",
     "iopub.status.busy": "2021-06-02T15:51:28.729396Z",
     "iopub.status.idle": "2021-06-02T15:51:31.131242Z",
     "shell.execute_reply": "2021-06-02T15:51:31.131737Z",
     "shell.execute_reply.started": "2021-05-29T16:26:42.660318Z"
    },
    "papermill": {
     "duration": 2.484851,
     "end_time": "2021-06-02T15:51:31.131917",
     "exception": false,
     "start_time": "2021-06-02T15:51:28.647066",
     "status": "completed"
    },
    "tags": []
   },
   "outputs": [
    {
     "name": "stdout",
     "output_type": "stream",
     "text": [
      "train_score: [0.95147265 0.95175316 0.95344924 0.95541223 0.95260796]\n",
      "test_score: [0.95515695 0.96188341 0.94837262 0.94388328 0.94725028]\n",
      "mean train_score: 0.9529390479981185\n",
      "mean test_score: 0.9513093063167801\n"
     ]
    }
   ],
   "source": [
    "pca = PCA(n_components=50, random_state=42)\n",
    "pca.fit(X_train_count.toarray())\n",
    "\n",
    "X_train_count_pca = pca.transform(X_train_count.toarray())\n",
    "X_test_count_pca = pca.transform(X_test_count.toarray())\n",
    "\n",
    "cv_results = cross_validate(SVC(gamma='auto'), \n",
    "                            X_train_count_pca, y_train,\n",
    "                            return_train_score=True)\n",
    "print_cv_results(cv_results)\n"
   ]
  },
  {
   "cell_type": "code",
   "execution_count": 28,
   "id": "alternative-tattoo",
   "metadata": {
    "execution": {
     "iopub.execute_input": "2021-06-02T15:51:31.298252Z",
     "iopub.status.busy": "2021-06-02T15:51:31.297610Z",
     "iopub.status.idle": "2021-06-02T15:51:31.300281Z",
     "shell.execute_reply": "2021-06-02T15:51:31.300855Z",
     "shell.execute_reply.started": "2021-05-29T16:26:45.485028Z"
    },
    "papermill": {
     "duration": 0.089114,
     "end_time": "2021-06-02T15:51:31.301040",
     "exception": false,
     "start_time": "2021-06-02T15:51:31.211926",
     "status": "completed"
    },
    "tags": []
   },
   "outputs": [
    {
     "data": {
      "text/plain": [
       "(4457, 50)"
      ]
     },
     "execution_count": 28,
     "metadata": {},
     "output_type": "execute_result"
    }
   ],
   "source": [
    "X_train_count_pca.shape"
   ]
  },
  {
   "cell_type": "code",
   "execution_count": 29,
   "id": "molecular-memory",
   "metadata": {
    "execution": {
     "iopub.execute_input": "2021-06-02T15:51:31.464779Z",
     "iopub.status.busy": "2021-06-02T15:51:31.464083Z",
     "iopub.status.idle": "2021-06-02T15:51:31.470261Z",
     "shell.execute_reply": "2021-06-02T15:51:31.470829Z",
     "shell.execute_reply.started": "2021-05-29T16:26:45.492822Z"
    },
    "papermill": {
     "duration": 0.089283,
     "end_time": "2021-06-02T15:51:31.471007",
     "exception": false,
     "start_time": "2021-06-02T15:51:31.381724",
     "status": "completed"
    },
    "tags": []
   },
   "outputs": [],
   "source": [
    "# sparse matrix 는 StandardScaler에서 오류 발생\n",
    "# 함수에 인자를 전달할 때 np.array로 전달\n",
    "def plot_eigvalue(data):\n",
    "    data_std = StandardScaler().fit_transform(data)\n",
    "    scov = np.cov(data_std.T)\n",
    "    eigen_vals, eigen_vecs = np.linalg.eig(scov)\n",
    "    \n",
    "    total = sum(eigen_vals)\n",
    "    sum_eigval = 0\n",
    "    var_exp = []\n",
    "    for eig_val in sorted(eigen_vals, reverse=True):\n",
    "        sum_eigval += eig_val\n",
    "        var_exp.append(sum_eigval)\n",
    "    plt.bar(range(data.shape[1]), var_exp)\n",
    "    plt.ylabel('Sum of variance')\n",
    "    plt.xlabel('Principal component')\n",
    "    plt.show()"
   ]
  },
  {
   "cell_type": "code",
   "execution_count": 30,
   "id": "arabic-spanking",
   "metadata": {
    "execution": {
     "iopub.execute_input": "2021-06-02T15:51:31.633950Z",
     "iopub.status.busy": "2021-06-02T15:51:31.633210Z",
     "iopub.status.idle": "2021-06-02T15:51:32.035493Z",
     "shell.execute_reply": "2021-06-02T15:51:32.036017Z",
     "shell.execute_reply.started": "2021-05-29T16:26:45.507758Z"
    },
    "papermill": {
     "duration": 0.486092,
     "end_time": "2021-06-02T15:51:32.036200",
     "exception": false,
     "start_time": "2021-06-02T15:51:31.550108",
     "status": "completed"
    },
    "tags": []
   },
   "outputs": [
    {
     "data": {
      "image/png": "[encoded data removed]",
      "text/plain": [
       "<Figure size 432x288 with 1 Axes>"
      ]
     },
     "metadata": {
      "needs_background": "light"
     },
     "output_type": "display_data"
    }
   ],
   "source": [
    "plot_eigvalue(X_train_count.toarray())"
   ]
  },
  {
   "cell_type": "code",
   "execution_count": 31,
   "id": "collective-timeline",
   "metadata": {
    "execution": {
     "iopub.execute_input": "2021-06-02T15:51:32.202537Z",
     "iopub.status.busy": "2021-06-02T15:51:32.201124Z",
     "iopub.status.idle": "2021-06-02T15:51:32.588344Z",
     "shell.execute_reply": "2021-06-02T15:51:32.587692Z",
     "shell.execute_reply.started": "2021-05-29T16:26:45.975165Z"
    },
    "papermill": {
     "duration": 0.471567,
     "end_time": "2021-06-02T15:51:32.588504",
     "exception": false,
     "start_time": "2021-06-02T15:51:32.116937",
     "status": "completed"
    },
    "tags": []
   },
   "outputs": [
    {
     "data": {
      "image/png": "[encoded data removed]",
      "text/plain": [
       "<Figure size 432x288 with 1 Axes>"
      ]
     },
     "metadata": {
      "needs_background": "light"
     },
     "output_type": "display_data"
    }
   ],
   "source": [
    "plot_eigvalue(X_train_tfidf.toarray())"
   ]
  },
  {
   "cell_type": "code",
   "execution_count": 32,
   "id": "native-lemon",
   "metadata": {
    "execution": {
     "iopub.execute_input": "2021-06-02T15:51:32.758035Z",
     "iopub.status.busy": "2021-06-02T15:51:32.757296Z",
     "iopub.status.idle": "2021-06-02T15:51:33.147021Z",
     "shell.execute_reply": "2021-06-02T15:51:33.146220Z",
     "shell.execute_reply.started": "2021-05-29T16:26:46.378258Z"
    },
    "papermill": {
     "duration": 0.4754,
     "end_time": "2021-06-02T15:51:33.147162",
     "exception": false,
     "start_time": "2021-06-02T15:51:32.671762",
     "status": "completed"
    },
    "tags": []
   },
   "outputs": [
    {
     "data": {
      "image/png": "[encoded data removed]",
      "text/plain": [
       "<Figure size 432x288 with 1 Axes>"
      ]
     },
     "metadata": {
      "needs_background": "light"
     },
     "output_type": "display_data"
    }
   ],
   "source": [
    "plot_eigvalue(X_train_hash.toarray())"
   ]
  },
  {
   "cell_type": "markdown",
   "id": "filled-mediterranean",
   "metadata": {
    "papermill": {
     "duration": 0.080679,
     "end_time": "2021-06-02T15:51:33.310294",
     "exception": false,
     "start_time": "2021-06-02T15:51:33.229615",
     "status": "completed"
    },
    "tags": []
   },
   "source": [
    "## Experiment2 - parameter"
   ]
  },
  {
   "cell_type": "markdown",
   "id": "amended-mother",
   "metadata": {
    "execution": {
     "iopub.execute_input": "2021-05-28T14:52:01.753577Z",
     "iopub.status.busy": "2021-05-28T14:52:01.753026Z",
     "iopub.status.idle": "2021-05-28T14:52:07.874842Z",
     "shell.execute_reply": "2021-05-28T14:52:07.872362Z",
     "shell.execute_reply.started": "2021-05-28T14:52:01.75353Z"
    },
    "papermill": {
     "duration": 0.080529,
     "end_time": "2021-06-02T15:51:33.473014",
     "exception": false,
     "start_time": "2021-06-02T15:51:33.392485",
     "status": "completed"
    },
    "tags": []
   },
   "source": [
    "```python\n",
    "param_grid = {\n",
    "    'kernel': ['rbf', 'sigmoid', 'linear', 'poly'],\n",
    "    'C': [0.01, 0.1, 1, 10, 100, 1000, 2000],\n",
    "    'class_weight': [None, 'balanced'],\n",
    "}\n",
    "\n",
    "gridsearch = GridSearchCV(SVC(gamma='auto'), param_grid)\n",
    "gridsearch.fit(X_train_count, y_train)\n",
    "\n",
    "print(f\"best_score_: {gridsearch.best_score_}\")\n",
    "print(f\"best_params_: {gridsearch.best_params_}\")\n",
    "```\n",
    "> ```\n",
    "best_score_: 0.9679143200817342\n",
    "best_params_: {'C': 1000, 'class_weight': None, 'kernel': 'rbf'}\n",
    "```"
   ]
  },
  {
   "cell_type": "markdown",
   "id": "declared-harrison",
   "metadata": {
    "papermill": {
     "duration": 0.082682,
     "end_time": "2021-06-02T15:51:33.637024",
     "exception": false,
     "start_time": "2021-06-02T15:51:33.554342",
     "status": "completed"
    },
    "tags": []
   },
   "source": [
    "```python\n",
    "param_grid = {\n",
    "    'kernel': ['rbf', 'sigmoid', 'linear', 'poly'],\n",
    "    'C': [0.01, 0.1, 1, 10, 100, 1000, 2000],\n",
    "    'class_weight': [None, 'balanced'],\n",
    "}\n",
    "\n",
    "gridsearch = GridSearchCV(SVC(gamma='auto'), param_grid)\n",
    "gridsearch.fit(X_train_hash, y_train)\n",
    "\n",
    "print(f\"best_score_: {gridsearch.best_score_}\")\n",
    "print(f\"best_params_: {gridsearch.best_params_}\")\n",
    "```\n",
    "> ```\n",
    "best_score_: 0.9349312758879276\n",
    "best_params_: {'C': 2000, 'class_weight': None, 'kernel': 'rbf'}\n",
    "```"
   ]
  },
  {
   "cell_type": "markdown",
   "id": "filled-isolation",
   "metadata": {
    "papermill": {
     "duration": 0.080305,
     "end_time": "2021-06-02T15:51:33.800642",
     "exception": false,
     "start_time": "2021-06-02T15:51:33.720337",
     "status": "completed"
    },
    "tags": []
   },
   "source": [
    "```python\n",
    "param_grid = {\n",
    "    'kernel': ['rbf', 'sigmoid', 'linear', 'poly'],\n",
    "    'C': [0.01, 0.1, 1, 10, 100, 1000, 2000],\n",
    "    'class_weight': [None, 'balanced'],\n",
    "}\n",
    "\n",
    "gridsearch = GridSearchCV(SVC(gamma='auto'), param_grid)\n",
    "gridsearch.fit(X_train_tfidf, y_train)\n",
    "\n",
    "print(f\"best_score_: {gridsearch.best_score_}\")\n",
    "print(f\"best_params_: {gridsearch.best_params_}\")\n",
    "```\n",
    "> ```\n",
    "best_score_: 0.9649980120084753\n",
    "best_params_: {'C': 100, 'class_weight': None, 'kernel': 'rbf'}\n",
    "```"
   ]
  },
  {
   "cell_type": "markdown",
   "id": "fourth-dublin",
   "metadata": {
    "execution": {
     "iopub.execute_input": "2021-05-28T14:48:50.177065Z",
     "iopub.status.busy": "2021-05-28T14:48:50.176566Z",
     "iopub.status.idle": "2021-05-28T14:51:34.99392Z",
     "shell.execute_reply": "2021-05-28T14:51:34.990468Z",
     "shell.execute_reply.started": "2021-05-28T14:48:50.177032Z"
    },
    "papermill": {
     "duration": 0.080206,
     "end_time": "2021-06-02T15:51:33.961607",
     "exception": false,
     "start_time": "2021-06-02T15:51:33.881401",
     "status": "completed"
    },
    "tags": []
   },
   "source": [
    "```python\n",
    "pipeline = Pipeline(\n",
    "    [('pca', PCA(random_state=42)),\n",
    "     ('svc', SVC(gamma='auto'))]\n",
    ")\n",
    "\n",
    "param_grid = {\n",
    "    'pca__n_components': [50, 60, 70, 80],\n",
    "    'svc__kernel': ['rbf', 'sigmoid', 'linear', 'poly'],\n",
    "    'svc__C': [0.01, 0.1, 1, 10, 100, 1000, 2000],\n",
    "    'svc__class_weight': [None, 'balanced'],\n",
    "}\n",
    "\n",
    "gridsearch = GridSearchCV(pipeline, param_grid)\n",
    "gridsearch.fit(X_train_count.toarray(), y_train)\n",
    "\n",
    "print(f\"best_score_: {gridsearch.best_score_}\")\n",
    "print(f\"best_params_: {gridsearch.best_params_}\")\n",
    "```\n",
    "> ```\n",
    "best_score_: 0.969484581741682\n",
    "best_params_: {'pca__n_components': 80, 'svc__C': 1000, 'svc__class_weight': None, 'svc__kernel': 'rbf'}\n",
    "```"
   ]
  },
  {
   "cell_type": "markdown",
   "id": "atomic-details",
   "metadata": {
    "execution": {
     "iopub.execute_input": "2021-05-28T15:29:37.022856Z",
     "iopub.status.busy": "2021-05-28T15:29:37.022471Z",
     "iopub.status.idle": "2021-05-28T15:29:43.319511Z",
     "shell.execute_reply": "2021-05-28T15:29:43.315108Z",
     "shell.execute_reply.started": "2021-05-28T15:29:37.022825Z"
    },
    "papermill": {
     "duration": 0.080407,
     "end_time": "2021-06-02T15:51:34.122688",
     "exception": false,
     "start_time": "2021-06-02T15:51:34.042281",
     "status": "completed"
    },
    "tags": []
   },
   "source": [
    "```python\n",
    "pipeline = Pipeline(\n",
    "    [('pca', PCA(random_state=42)),\n",
    "     ('svc', SVC(gamma='auto'))]\n",
    ")\n",
    "\n",
    "param_grid = {\n",
    "    'pca__n_components': [50, 60, 70, 80],\n",
    "    'svc__kernel': ['rbf', 'sigmoid', 'linear', 'poly'],\n",
    "    'svc__C': [0.01, 0.1, 1, 10, 100, 1000, 2000],\n",
    "    'svc__class_weight': [None, 'balanced'],\n",
    "}\n",
    "\n",
    "gridsearch = GridSearchCV(pipeline, param_grid)\n",
    "gridsearch.fit(X_train_hash.toarray(), y_train)\n",
    "\n",
    "print(f\"best_score_: {gridsearch.best_score_}\")\n",
    "print(f\"best_params_: {gridsearch.best_params_}\")\n",
    "```\n",
    "> ```\n",
    "best_score_: 0.9414372927078457\n",
    "best_params_: {'pca__n_components': 80, 'svc__C': 2000, 'svc__class_weight': None, 'svc__kernel': 'rbf'}\n",
    "```"
   ]
  },
  {
   "cell_type": "markdown",
   "id": "running-motor",
   "metadata": {
    "execution": {
     "iopub.execute_input": "2021-05-28T14:56:13.055144Z",
     "iopub.status.busy": "2021-05-28T14:56:13.054679Z",
     "iopub.status.idle": "2021-05-28T14:56:21.768259Z",
     "shell.execute_reply": "2021-05-28T14:56:21.766207Z",
     "shell.execute_reply.started": "2021-05-28T14:56:13.055113Z"
    },
    "papermill": {
     "duration": 0.081821,
     "end_time": "2021-06-02T15:51:34.285208",
     "exception": false,
     "start_time": "2021-06-02T15:51:34.203387",
     "status": "completed"
    },
    "tags": []
   },
   "source": [
    "```python\n",
    "pipeline = Pipeline(\n",
    "    [('pca', PCA(random_state=42)),\n",
    "     ('svc', SVC(gamma='auto'))]\n",
    ")\n",
    "\n",
    "param_grid = {\n",
    "    'pca__n_components': [50, 60, 70, 80],\n",
    "    'svc__kernel': ['rbf', 'sigmoid', 'linear', 'poly'],\n",
    "    'svc__C': [0.01, 0.1, 1, 10, 100, 1000, 2000],\n",
    "    'svc__class_weight': [None, 'balanced'],\n",
    "}\n",
    "\n",
    "gridsearch = GridSearchCV(pipeline, param_grid)\n",
    "gridsearch.fit(X_train_tfidf.toarray(), y_train)\n",
    "\n",
    "print(f\"best_score_: {gridsearch.best_score_}\")\n",
    "print(f\"best_params_: {gridsearch.best_params_}\")\n",
    "```\n",
    "> ```\n",
    "best_score_: 0.9640996411549475\n",
    "best_params_: {'pca__n_components': 70, 'svc__C': 2000, 'svc__class_weight': None, 'svc__kernel': 'rbf'}\n",
    "```"
   ]
  },
  {
   "cell_type": "markdown",
   "id": "periodic-geometry",
   "metadata": {
    "papermill": {
     "duration": 0.080551,
     "end_time": "2021-06-02T15:51:34.446610",
     "exception": false,
     "start_time": "2021-06-02T15:51:34.366059",
     "status": "completed"
    },
    "tags": []
   },
   "source": [
    "### test submission"
   ]
  },
  {
   "cell_type": "code",
   "execution_count": 33,
   "id": "biological-heaven",
   "metadata": {
    "execution": {
     "iopub.execute_input": "2021-06-02T15:51:34.617277Z",
     "iopub.status.busy": "2021-06-02T15:51:34.616575Z",
     "iopub.status.idle": "2021-06-02T15:51:34.962549Z",
     "shell.execute_reply": "2021-06-02T15:51:34.961991Z",
     "shell.execute_reply.started": "2021-05-29T16:26:46.789405Z"
    },
    "papermill": {
     "duration": 0.435354,
     "end_time": "2021-06-02T15:51:34.962718",
     "exception": false,
     "start_time": "2021-06-02T15:51:34.527364",
     "status": "completed"
    },
    "tags": []
   },
   "outputs": [],
   "source": [
    "# 0.96143\n",
    "svc = SVC(gamma='auto')\n",
    "\n",
    "params = {\n",
    "    'kernel': 'rbf',\n",
    "    'C': 1000\n",
    "}\n",
    "\n",
    "svc.set_params(**params)\n",
    "svc.fit(X_train_count, y_train)\n",
    "\n",
    "y_pred = svc.predict(X_test_count)\n",
    "\n",
    "df_pred={\"ID\": range(np.array(y_pred).shape[0]),\"Class\":y_pred}\n",
    "df_pred=pd.DataFrame(df_pred)\n",
    "df_pred.to_csv(f\"predict_count_{params}.csv\",index=False)"
   ]
  },
  {
   "cell_type": "code",
   "execution_count": 34,
   "id": "structural-medication",
   "metadata": {
    "execution": {
     "iopub.execute_input": "2021-06-02T15:51:35.135267Z",
     "iopub.status.busy": "2021-06-02T15:51:35.134585Z",
     "iopub.status.idle": "2021-06-02T15:51:35.317707Z",
     "shell.execute_reply": "2021-06-02T15:51:35.318245Z",
     "shell.execute_reply.started": "2021-05-29T16:26:47.149972Z"
    },
    "papermill": {
     "duration": 0.273355,
     "end_time": "2021-06-02T15:51:35.318438",
     "exception": false,
     "start_time": "2021-06-02T15:51:35.045083",
     "status": "completed"
    },
    "tags": []
   },
   "outputs": [],
   "source": [
    "# 0.95695\n",
    "svc = SVC(gamma='auto')\n",
    "\n",
    "params = {\n",
    "    'kernel': 'rbf',\n",
    "    'C': 100\n",
    "}\n",
    "\n",
    "svc.set_params(**params)\n",
    "svc.fit(X_train_tfidf, y_train)\n",
    "\n",
    "y_pred = svc.predict(X_test_tfidf)\n",
    "\n",
    "df_pred={\"ID\": range(np.array(y_pred).shape[0]),\"Class\":y_pred}\n",
    "df_pred=pd.DataFrame(df_pred)\n",
    "df_pred.to_csv(f\"predict_tfidf_{params}.csv\",index=False)"
   ]
  },
  {
   "cell_type": "code",
   "execution_count": 35,
   "id": "supported-bathroom",
   "metadata": {
    "execution": {
     "iopub.execute_input": "2021-06-02T15:51:35.486895Z",
     "iopub.status.busy": "2021-06-02T15:51:35.486083Z",
     "iopub.status.idle": "2021-06-02T15:51:36.186160Z",
     "shell.execute_reply": "2021-06-02T15:51:36.185451Z",
     "shell.execute_reply.started": "2021-05-29T16:26:47.343412Z"
    },
    "papermill": {
     "duration": 0.785067,
     "end_time": "2021-06-02T15:51:36.186311",
     "exception": false,
     "start_time": "2021-06-02T15:51:35.401244",
     "status": "completed"
    },
    "tags": []
   },
   "outputs": [],
   "source": [
    "# 0.95964\n",
    "pipeline = Pipeline(\n",
    "    [('pca', PCA(random_state=42)),\n",
    "     ('svc', SVC(gamma='auto'))]\n",
    ")\n",
    "\n",
    "params = {\n",
    "    'pca__n_components': 80,\n",
    "    'svc__kernel': 'rbf',\n",
    "    'svc__C': 1000\n",
    "}\n",
    "\n",
    "pipeline.set_params(**params)\n",
    "pipeline.fit(X_train_count.toarray(), y_train)\n",
    "\n",
    "y_pred = pipeline.predict(X_test_count.toarray())\n",
    "\n",
    "df_pred={\"ID\": range(np.array(y_pred).shape[0]),\"Class\":y_pred}\n",
    "df_pred=pd.DataFrame(df_pred)\n",
    "df_pred.to_csv(f\"predict_count_pca_{params}.csv\",index=False)"
   ]
  },
  {
   "cell_type": "code",
   "execution_count": 36,
   "id": "helpful-baseball",
   "metadata": {
    "execution": {
     "iopub.execute_input": "2021-06-02T15:51:36.357914Z",
     "iopub.status.busy": "2021-06-02T15:51:36.357191Z",
     "iopub.status.idle": "2021-06-02T15:51:37.256149Z",
     "shell.execute_reply": "2021-06-02T15:51:37.255081Z",
     "shell.execute_reply.started": "2021-05-29T16:26:48.078423Z"
    },
    "papermill": {
     "duration": 0.98877,
     "end_time": "2021-06-02T15:51:37.256300",
     "exception": false,
     "start_time": "2021-06-02T15:51:36.267530",
     "status": "completed"
    },
    "tags": []
   },
   "outputs": [],
   "source": [
    "# 0.95964\n",
    "pipeline = Pipeline(\n",
    "    [('pca', PCA(random_state=42)),\n",
    "     ('svc', SVC(gamma='auto'))]\n",
    ")\n",
    "\n",
    "params = {\n",
    "    'pca__n_components': 70,\n",
    "    'svc__kernel': 'rbf',\n",
    "    'svc__C': 2000\n",
    "}\n",
    "\n",
    "pipeline.set_params(**params)\n",
    "pipeline.fit(X_train_tfidf.toarray(), y_train)\n",
    "\n",
    "y_pred = pipeline.predict(X_test_tfidf.toarray())\n",
    "\n",
    "df_pred={\"ID\": range(np.array(y_pred).shape[0]),\"Class\":y_pred}\n",
    "df_pred=pd.DataFrame(df_pred)\n",
    "df_pred.to_csv(f\"predict_tfidf_pca_{params}.csv\",index=False)"
   ]
  },
  {
   "cell_type": "markdown",
   "id": "british-robertson",
   "metadata": {
    "papermill": {
     "duration": 0.082988,
     "end_time": "2021-06-02T15:51:37.425533",
     "exception": false,
     "start_time": "2021-06-02T15:51:37.342545",
     "status": "completed"
    },
    "tags": []
   },
   "source": [
    "## Experiment 3 - over sampling\n",
    "> "
   ]
  },
  {
   "cell_type": "code",
   "execution_count": 37,
   "id": "elder-mount",
   "metadata": {
    "execution": {
     "iopub.execute_input": "2021-06-02T15:51:37.597101Z",
     "iopub.status.busy": "2021-06-02T15:51:37.596366Z",
     "iopub.status.idle": "2021-06-02T15:52:37.311450Z",
     "shell.execute_reply": "2021-06-02T15:52:37.311970Z",
     "shell.execute_reply.started": "2021-05-29T16:26:49.134199Z"
    },
    "papermill": {
     "duration": 59.803366,
     "end_time": "2021-06-02T15:52:37.312154",
     "exception": false,
     "start_time": "2021-06-02T15:51:37.508788",
     "status": "completed"
    },
    "tags": []
   },
   "outputs": [
    {
     "name": "stdout",
     "output_type": "stream",
     "text": [
      "best_score_: 0.8404386386842526\n",
      "best_params_: {'C': 100}\n"
     ]
    }
   ],
   "source": [
    "from imblearn.over_sampling import ADASYN\n",
    "\n",
    "ada = ADASYN(random_state=42)\n",
    "X_train_count_res, y_train_res = ada.fit_resample(X_train_count, y_train)\n",
    "\n",
    "param_grid = {\n",
    "    'C': [0.01, 0.1, 1, 10, 100, 1000, 2000],\n",
    "}\n",
    "\n",
    "gridsearch = GridSearchCV(SVC(gamma='auto'), param_grid)\n",
    "gridsearch.fit(X_train_count_res, y_train_res)\n",
    "\n",
    "print(f\"best_score_: {gridsearch.best_score_}\")\n",
    "print(f\"best_params_: {gridsearch.best_params_}\")"
   ]
  },
  {
   "cell_type": "code",
   "execution_count": 38,
   "id": "falling-hazard",
   "metadata": {
    "execution": {
     "iopub.execute_input": "2021-06-02T15:52:37.486430Z",
     "iopub.status.busy": "2021-06-02T15:52:37.485375Z",
     "iopub.status.idle": "2021-06-02T15:53:34.984065Z",
     "shell.execute_reply": "2021-06-02T15:53:34.984608Z",
     "shell.execute_reply.started": "2021-05-29T16:27:50.329227Z"
    },
    "papermill": {
     "duration": 57.589387,
     "end_time": "2021-06-02T15:53:34.984784",
     "exception": false,
     "start_time": "2021-06-02T15:52:37.395397",
     "status": "completed"
    },
    "tags": []
   },
   "outputs": [
    {
     "name": "stdout",
     "output_type": "stream",
     "text": [
      "best_score_: 0.8899405078352446\n",
      "best_params_: {'C': 2000}\n"
     ]
    }
   ],
   "source": [
    "from imblearn.over_sampling import ADASYN\n",
    "\n",
    "ada = ADASYN(random_state=42)\n",
    "X_train_tfidf_res, y_train_res = ada.fit_resample(X_train_tfidf, y_train)\n",
    "\n",
    "param_grid = {\n",
    "    'C': [0.01, 0.1, 1, 10, 100, 1000, 2000],\n",
    "}\n",
    "\n",
    "gridsearch = GridSearchCV(SVC(gamma='auto'), param_grid)\n",
    "gridsearch.fit(X_train_tfidf_res, y_train_res)\n",
    "\n",
    "print(f\"best_score_: {gridsearch.best_score_}\")\n",
    "print(f\"best_params_: {gridsearch.best_params_}\")"
   ]
  },
  {
   "cell_type": "markdown",
   "id": "sweet-advocacy",
   "metadata": {
    "papermill": {
     "duration": 0.083149,
     "end_time": "2021-06-02T15:53:35.151155",
     "exception": false,
     "start_time": "2021-06-02T15:53:35.068006",
     "status": "completed"
    },
    "tags": []
   },
   "source": [
    "## Experiment4 - preprocessing"
   ]
  },
  {
   "cell_type": "code",
   "execution_count": 39,
   "id": "fantastic-precipitation",
   "metadata": {
    "execution": {
     "iopub.execute_input": "2021-06-02T15:53:35.319698Z",
     "iopub.status.busy": "2021-06-02T15:53:35.318948Z",
     "iopub.status.idle": "2021-06-02T15:53:35.323043Z",
     "shell.execute_reply": "2021-06-02T15:53:35.323541Z",
     "shell.execute_reply.started": "2021-05-29T16:28:49.06865Z"
    },
    "papermill": {
     "duration": 0.090684,
     "end_time": "2021-06-02T15:53:35.323720",
     "exception": false,
     "start_time": "2021-06-02T15:53:35.233036",
     "status": "completed"
    },
    "tags": []
   },
   "outputs": [],
   "source": [
    "X_train_exp = df_train[\"Data\"]\n",
    "X_test_exp = df_test[\"Data\"]"
   ]
  },
  {
   "cell_type": "code",
   "execution_count": 40,
   "id": "accurate-percentage",
   "metadata": {
    "execution": {
     "iopub.execute_input": "2021-06-02T15:53:35.499527Z",
     "iopub.status.busy": "2021-06-02T15:53:35.498811Z",
     "iopub.status.idle": "2021-06-02T15:53:35.502103Z",
     "shell.execute_reply": "2021-06-02T15:53:35.502695Z",
     "shell.execute_reply.started": "2021-05-29T16:28:49.076159Z"
    },
    "papermill": {
     "duration": 0.093279,
     "end_time": "2021-06-02T15:53:35.502897",
     "exception": false,
     "start_time": "2021-06-02T15:53:35.409618",
     "status": "completed"
    },
    "tags": []
   },
   "outputs": [],
   "source": [
    "from nltk.corpus import stopwords\n",
    "from nltk.stem.porter import PorterStemmer\n",
    "\n",
    "def data_processing_exp(text):\n",
    "    pre_words = re.sub(pattern='[^A-Za-z]', repl=' ', string=text)\n",
    "    pre_words = pre_words.lower()\n",
    "    tokenized_words = word_tokenize(pre_words)\n",
    "    stops = stopwords.words('english')\n",
    "    \n",
    "    tokenized_words_remove=[]\n",
    "    for w in tokenized_words: \n",
    "        # 단어 길이가 1보다 큰 것만 저장\n",
    "        if w not in stops and len(w) > 1:\n",
    "            tokenized_words_remove.append(w)\n",
    "    \n",
    "    stemmer = PorterStemmer()\n",
    "    for i in range(len(tokenized_words_remove)):\n",
    "        tokenized_words_remove[i] = \\\n",
    "            stemmer.stem(tokenized_words_remove[i])\n",
    "    \n",
    "    return ( \" \".join( tokenized_words_remove ))"
   ]
  },
  {
   "cell_type": "code",
   "execution_count": 41,
   "id": "molecular-philosophy",
   "metadata": {
    "execution": {
     "iopub.execute_input": "2021-06-02T15:53:35.672794Z",
     "iopub.status.busy": "2021-06-02T15:53:35.671993Z",
     "iopub.status.idle": "2021-06-02T15:53:39.305035Z",
     "shell.execute_reply": "2021-06-02T15:53:39.304456Z",
     "shell.execute_reply.started": "2021-05-29T16:28:49.094196Z"
    },
    "papermill": {
     "duration": 3.719954,
     "end_time": "2021-06-02T15:53:39.305190",
     "exception": false,
     "start_time": "2021-06-02T15:53:35.585236",
     "status": "completed"
    },
    "tags": []
   },
   "outputs": [],
   "source": [
    "X_train_exp = [data_processing_exp(i) for i in X_train_exp]\n",
    "X_test_exp = [data_processing_exp(i) for i in X_test_exp]"
   ]
  },
  {
   "cell_type": "code",
   "execution_count": 42,
   "id": "reserved-coordination",
   "metadata": {
    "execution": {
     "iopub.execute_input": "2021-06-02T15:53:39.478089Z",
     "iopub.status.busy": "2021-06-02T15:53:39.477374Z",
     "iopub.status.idle": "2021-06-02T15:53:39.888646Z",
     "shell.execute_reply": "2021-06-02T15:53:39.889145Z",
     "shell.execute_reply.started": "2021-05-29T16:28:52.768252Z"
    },
    "papermill": {
     "duration": 0.502418,
     "end_time": "2021-06-02T15:53:39.889327",
     "exception": false,
     "start_time": "2021-06-02T15:53:39.386909",
     "status": "completed"
    },
    "tags": []
   },
   "outputs": [],
   "source": [
    "# [1]\n",
    "count_vectorizer = CountVectorizer(max_features=100)\n",
    "tfidf_vectorizer = TfidfVectorizer(max_features=100)\n",
    "hash_vectorizer = HashingVectorizer(n_features=100)\n",
    "\n",
    "# [2]\n",
    "X_train_exp = np.array(X_train_exp).astype('U')\n",
    "X_test_exp = np.array(X_test_exp).astype('U')\n",
    "\n",
    "# [3]\n",
    "count_vectorizer.fit(X_train_exp)\n",
    "tfidf_vectorizer.fit(X_train_exp)\n",
    "hash_vectorizer.fit(X_train_exp)\n",
    "\n",
    "X_train_exp_count = count_vectorizer.transform(X_train_exp)\n",
    "X_test_exp_count = count_vectorizer.transform(X_test_exp)\n",
    "\n",
    "X_train_exp_tfidf = tfidf_vectorizer.transform(X_train_exp)\n",
    "X_test_exp_tfidf = tfidf_vectorizer.transform(X_test_exp)\n",
    "\n",
    "X_train_exp_hash = hash_vectorizer.transform(X_train_exp)\n",
    "X_test_exp_hash = hash_vectorizer.transform(X_test_exp)"
   ]
  },
  {
   "cell_type": "code",
   "execution_count": 43,
   "id": "cardiovascular-somewhere",
   "metadata": {
    "execution": {
     "iopub.execute_input": "2021-06-02T15:53:40.067587Z",
     "iopub.status.busy": "2021-06-02T15:53:40.066710Z",
     "iopub.status.idle": "2021-06-02T15:54:22.026192Z",
     "shell.execute_reply": "2021-06-02T15:54:22.026739Z",
     "shell.execute_reply.started": "2021-05-29T16:28:53.213338Z"
    },
    "papermill": {
     "duration": 42.05382,
     "end_time": "2021-06-02T15:54:22.026922",
     "exception": false,
     "start_time": "2021-06-02T15:53:39.973102",
     "status": "completed"
    },
    "tags": []
   },
   "outputs": [
    {
     "name": "stdout",
     "output_type": "stream",
     "text": [
      "best_score_: 0.9679143200817342\n",
      "best_params_: {'C': 1000, 'class_weight': None, 'kernel': 'rbf'}\n"
     ]
    }
   ],
   "source": [
    "param_grid = {\n",
    "    'kernel': ['rbf', 'sigmoid'],\n",
    "    'C': [0.01, 0.1, 1, 10, 100, 1000, 2000],\n",
    "    'class_weight': [None, 'balanced'],\n",
    "}\n",
    "\n",
    "gridsearch = GridSearchCV(SVC(gamma='auto'), param_grid)\n",
    "gridsearch.fit(X_train_exp_count, y_train)\n",
    "\n",
    "print(f\"best_score_: {gridsearch.best_score_}\")\n",
    "print(f\"best_params_: {gridsearch.best_params_}\")"
   ]
  },
  {
   "cell_type": "code",
   "execution_count": 44,
   "id": "sunrise-faith",
   "metadata": {
    "execution": {
     "iopub.execute_input": "2021-06-02T15:54:22.199459Z",
     "iopub.status.busy": "2021-06-02T15:54:22.198779Z",
     "iopub.status.idle": "2021-06-02T15:54:22.542556Z",
     "shell.execute_reply": "2021-06-02T15:54:22.541942Z",
     "shell.execute_reply.started": "2021-05-29T16:29:36.006293Z"
    },
    "papermill": {
     "duration": 0.433567,
     "end_time": "2021-06-02T15:54:22.542697",
     "exception": false,
     "start_time": "2021-06-02T15:54:22.109130",
     "status": "completed"
    },
    "tags": []
   },
   "outputs": [],
   "source": [
    "# 0.96143\n",
    "svc = SVC(gamma='auto')\n",
    "\n",
    "params = {\n",
    "    'C': 1000\n",
    "}\n",
    "\n",
    "svc.set_params(**params)\n",
    "svc.fit(X_train_exp_count, y_train)\n",
    "\n",
    "y_pred = svc.predict(X_test_exp_count)\n",
    "\n",
    "df_pred={\"ID\": range(np.array(y_pred).shape[0]),\"Class\":y_pred}\n",
    "df_pred=pd.DataFrame(df_pred)\n",
    "df_pred.to_csv(f\"predict_exp4_count_{params}.csv\",index=False)"
   ]
  },
  {
   "cell_type": "code",
   "execution_count": 45,
   "id": "surrounded-encyclopedia",
   "metadata": {
    "execution": {
     "iopub.execute_input": "2021-06-02T15:54:22.714664Z",
     "iopub.status.busy": "2021-06-02T15:54:22.713997Z",
     "iopub.status.idle": "2021-06-02T15:55:05.234087Z",
     "shell.execute_reply": "2021-06-02T15:55:05.234600Z",
     "shell.execute_reply.started": "2021-05-29T16:29:36.369762Z"
    },
    "papermill": {
     "duration": 42.610291,
     "end_time": "2021-06-02T15:55:05.234774",
     "exception": false,
     "start_time": "2021-06-02T15:54:22.624483",
     "status": "completed"
    },
    "tags": []
   },
   "outputs": [
    {
     "name": "stdout",
     "output_type": "stream",
     "text": [
      "best_score_: 0.9649980120084753\n",
      "best_params_: {'C': 100, 'class_weight': None, 'kernel': 'rbf'}\n"
     ]
    }
   ],
   "source": [
    "param_grid = {\n",
    "    'kernel': ['rbf', 'sigmoid'],\n",
    "    'C': [0.01, 0.1, 1, 10, 100, 1000, 2000],\n",
    "    'class_weight': [None, 'balanced'],\n",
    "}\n",
    "\n",
    "gridsearch = GridSearchCV(SVC(gamma='auto'), param_grid)\n",
    "gridsearch.fit(X_train_exp_tfidf, y_train)\n",
    "\n",
    "print(f\"best_score_: {gridsearch.best_score_}\")\n",
    "print(f\"best_params_: {gridsearch.best_params_}\")"
   ]
  },
  {
   "cell_type": "markdown",
   "id": "premier-swing",
   "metadata": {
    "papermill": {
     "duration": 0.084501,
     "end_time": "2021-06-02T15:55:05.401129",
     "exception": false,
     "start_time": "2021-06-02T15:55:05.316628",
     "status": "completed"
    },
    "tags": []
   },
   "source": [
    "## Experiment5 - preprocessing"
   ]
  },
  {
   "cell_type": "code",
   "execution_count": 46,
   "id": "mineral-queens",
   "metadata": {
    "execution": {
     "iopub.execute_input": "2021-06-02T15:55:05.570069Z",
     "iopub.status.busy": "2021-06-02T15:55:05.569340Z",
     "iopub.status.idle": "2021-06-02T15:55:05.572523Z",
     "shell.execute_reply": "2021-06-02T15:55:05.571886Z",
     "shell.execute_reply.started": "2021-05-29T16:30:19.746361Z"
    },
    "papermill": {
     "duration": 0.089532,
     "end_time": "2021-06-02T15:55:05.572659",
     "exception": false,
     "start_time": "2021-06-02T15:55:05.483127",
     "status": "completed"
    },
    "tags": []
   },
   "outputs": [],
   "source": [
    "X_train_exp = df_train[\"Data\"]\n",
    "X_test_exp = df_test[\"Data\"]"
   ]
  },
  {
   "cell_type": "code",
   "execution_count": 47,
   "id": "coastal-style",
   "metadata": {
    "execution": {
     "iopub.execute_input": "2021-06-02T15:55:05.746845Z",
     "iopub.status.busy": "2021-06-02T15:55:05.746141Z",
     "iopub.status.idle": "2021-06-02T15:55:05.749091Z",
     "shell.execute_reply": "2021-06-02T15:55:05.748618Z",
     "shell.execute_reply.started": "2021-05-30T01:08:59.42222Z"
    },
    "papermill": {
     "duration": 0.094515,
     "end_time": "2021-06-02T15:55:05.749232",
     "exception": false,
     "start_time": "2021-06-02T15:55:05.654717",
     "status": "completed"
    },
    "tags": []
   },
   "outputs": [],
   "source": [
    "from nltk.corpus import stopwords\n",
    "from nltk.stem.porter import PorterStemmer\n",
    "\n",
    "def data_processing_exp(text):\n",
    "    pre_words = re.sub(pattern='[^A-Za-z]', repl=' ', string=text)\n",
    "    pre_words = pre_words.lower()\n",
    "    tokenized_words = word_tokenize(pre_words)\n",
    "    stops = stopwords.words('english')\n",
    "    # 'lt', 'gt' -> &lt; &gt; -> < >\n",
    "    # &amp; 도 있는 것 같지만 그냥 둠... (16번 text)\n",
    "    stops += ['ur', 'lt', 'gt']\n",
    "    \n",
    "    tokenized_words_remove=[]\n",
    "    for w in tokenized_words: \n",
    "        # 단어 길이가 1보다 큰 것만 저장\n",
    "        if w not in stops and len(w) > 1:\n",
    "            tokenized_words_remove.append(w)\n",
    "    \n",
    "    stemmer = PorterStemmer()\n",
    "    for i in range(len(tokenized_words_remove)):\n",
    "        tokenized_words_remove[i] = \\\n",
    "            stemmer.stem(tokenized_words_remove[i])\n",
    "    \n",
    "    return ( \" \".join( tokenized_words_remove ))"
   ]
  },
  {
   "cell_type": "code",
   "execution_count": 48,
   "id": "gentle-hybrid",
   "metadata": {
    "execution": {
     "iopub.execute_input": "2021-06-02T15:55:05.920955Z",
     "iopub.status.busy": "2021-06-02T15:55:05.920157Z",
     "iopub.status.idle": "2021-06-02T15:55:09.692130Z",
     "shell.execute_reply": "2021-06-02T15:55:09.691591Z",
     "shell.execute_reply.started": "2021-05-29T16:30:19.771414Z"
    },
    "papermill": {
     "duration": 3.860001,
     "end_time": "2021-06-02T15:55:09.692275",
     "exception": false,
     "start_time": "2021-06-02T15:55:05.832274",
     "status": "completed"
    },
    "tags": []
   },
   "outputs": [],
   "source": [
    "X_train_exp = [data_processing_exp(i) for i in X_train_exp]\n",
    "X_test_exp = [data_processing_exp(i) for i in X_test_exp]"
   ]
  },
  {
   "cell_type": "code",
   "execution_count": 49,
   "id": "latest-replacement",
   "metadata": {
    "execution": {
     "iopub.execute_input": "2021-06-02T15:55:09.882495Z",
     "iopub.status.busy": "2021-06-02T15:55:09.881731Z",
     "iopub.status.idle": "2021-06-02T15:55:10.289890Z",
     "shell.execute_reply": "2021-06-02T15:55:10.288851Z",
     "shell.execute_reply.started": "2021-05-29T16:30:23.430491Z"
    },
    "papermill": {
     "duration": 0.509556,
     "end_time": "2021-06-02T15:55:10.290081",
     "exception": false,
     "start_time": "2021-06-02T15:55:09.780525",
     "status": "completed"
    },
    "tags": []
   },
   "outputs": [],
   "source": [
    "# [1]\n",
    "count_vectorizer = CountVectorizer(max_features=100)\n",
    "tfidf_vectorizer = TfidfVectorizer(max_features=100)\n",
    "hash_vectorizer = HashingVectorizer(n_features=100)\n",
    "\n",
    "# [2]\n",
    "X_train_exp = np.array(X_train_exp).astype('U')\n",
    "X_test_exp = np.array(X_test_exp).astype('U')\n",
    "\n",
    "# [3]\n",
    "count_vectorizer.fit(X_train_exp)\n",
    "tfidf_vectorizer.fit(X_train_exp)\n",
    "hash_vectorizer.fit(X_train_exp)\n",
    "\n",
    "X_train_exp_count = count_vectorizer.transform(X_train_exp)\n",
    "X_test_exp_count = count_vectorizer.transform(X_test_exp)\n",
    "\n",
    "X_train_exp_tfidf = tfidf_vectorizer.transform(X_train_exp)\n",
    "X_test_exp_tfidf = tfidf_vectorizer.transform(X_test_exp)\n",
    "\n",
    "X_train_exp_hash = hash_vectorizer.transform(X_train_exp)\n",
    "X_test_exp_hash = hash_vectorizer.transform(X_test_exp)"
   ]
  },
  {
   "cell_type": "code",
   "execution_count": 50,
   "id": "excellent-train",
   "metadata": {
    "execution": {
     "iopub.execute_input": "2021-06-02T15:55:10.467256Z",
     "iopub.status.busy": "2021-06-02T15:55:10.466584Z",
     "iopub.status.idle": "2021-06-02T15:55:53.392249Z",
     "shell.execute_reply": "2021-06-02T15:55:53.393036Z",
     "shell.execute_reply.started": "2021-05-29T16:30:23.859068Z"
    },
    "papermill": {
     "duration": 43.015573,
     "end_time": "2021-06-02T15:55:53.393280",
     "exception": false,
     "start_time": "2021-06-02T15:55:10.377707",
     "status": "completed"
    },
    "tags": []
   },
   "outputs": [
    {
     "name": "stdout",
     "output_type": "stream",
     "text": [
      "best_score_: 0.9683614923525237\n",
      "best_params_: {'C': 1000, 'class_weight': None, 'kernel': 'rbf'}\n"
     ]
    }
   ],
   "source": [
    "param_grid = {\n",
    "    'kernel': ['rbf', 'sigmoid'],\n",
    "    'C': [0.01, 0.1, 1, 10, 100, 1000, 2000],\n",
    "    'class_weight': [None, 'balanced'],\n",
    "}\n",
    "\n",
    "gridsearch = GridSearchCV(SVC(gamma='auto'), param_grid)\n",
    "gridsearch.fit(X_train_exp_count, y_train)\n",
    "\n",
    "print(f\"best_score_: {gridsearch.best_score_}\")\n",
    "print(f\"best_params_: {gridsearch.best_params_}\")"
   ]
  },
  {
   "cell_type": "code",
   "execution_count": 51,
   "id": "departmental-custody",
   "metadata": {
    "execution": {
     "iopub.execute_input": "2021-06-02T15:55:53.591230Z",
     "iopub.status.busy": "2021-06-02T15:55:53.590569Z",
     "iopub.status.idle": "2021-06-02T15:55:53.947109Z",
     "shell.execute_reply": "2021-06-02T15:55:53.946497Z",
     "shell.execute_reply.started": "2021-05-29T16:31:07.396224Z"
    },
    "papermill": {
     "duration": 0.446077,
     "end_time": "2021-06-02T15:55:53.947253",
     "exception": false,
     "start_time": "2021-06-02T15:55:53.501176",
     "status": "completed"
    },
    "tags": []
   },
   "outputs": [],
   "source": [
    "svc = SVC(gamma='auto')\n",
    "\n",
    "params = {\n",
    "    'C': 1000\n",
    "}\n",
    "\n",
    "svc.set_params(**params)\n",
    "svc.fit(X_train_exp_count, y_train)\n",
    "\n",
    "y_pred = svc.predict(X_test_exp_count)\n",
    "\n",
    "df_pred={\"ID\": range(np.array(y_pred).shape[0]),\"Class\":y_pred}\n",
    "df_pred=pd.DataFrame(df_pred)\n",
    "df_pred.to_csv(f\"predict_exp5_count_{params}.csv\",index=False)"
   ]
  },
  {
   "cell_type": "code",
   "execution_count": 52,
   "id": "demonstrated-carroll",
   "metadata": {
    "execution": {
     "iopub.execute_input": "2021-06-02T15:55:54.121092Z",
     "iopub.status.busy": "2021-06-02T15:55:54.120365Z",
     "iopub.status.idle": "2021-06-02T15:56:36.729041Z",
     "shell.execute_reply": "2021-06-02T15:56:36.729579Z",
     "shell.execute_reply.started": "2021-05-29T16:31:07.772138Z"
    },
    "papermill": {
     "duration": 42.699813,
     "end_time": "2021-06-02T15:56:36.729763",
     "exception": false,
     "start_time": "2021-06-02T15:55:54.029950",
     "status": "completed"
    },
    "tags": []
   },
   "outputs": [
    {
     "name": "stdout",
     "output_type": "stream",
     "text": [
      "best_score_: 0.9647730418283482\n",
      "best_params_: {'C': 2000, 'class_weight': None, 'kernel': 'rbf'}\n"
     ]
    }
   ],
   "source": [
    "param_grid = {\n",
    "    'kernel': ['rbf', 'sigmoid'],\n",
    "    'C': [0.01, 0.1, 1, 10, 100, 1000, 2000],\n",
    "    'class_weight': [None, 'balanced'],\n",
    "}\n",
    "\n",
    "gridsearch = GridSearchCV(SVC(gamma='auto'), param_grid)\n",
    "gridsearch.fit(X_train_exp_tfidf, y_train)\n",
    "\n",
    "print(f\"best_score_: {gridsearch.best_score_}\")\n",
    "print(f\"best_params_: {gridsearch.best_params_}\")"
   ]
  },
  {
   "cell_type": "markdown",
   "id": "round-wheel",
   "metadata": {
    "papermill": {
     "duration": 0.084386,
     "end_time": "2021-06-02T15:56:36.903380",
     "exception": false,
     "start_time": "2021-06-02T15:56:36.818994",
     "status": "completed"
    },
    "tags": []
   },
   "source": [
    "## Experiment 6 - feature engineering"
   ]
  },
  {
   "cell_type": "code",
   "execution_count": 53,
   "id": "stunning-hepatitis",
   "metadata": {
    "execution": {
     "iopub.execute_input": "2021-06-02T15:56:37.075049Z",
     "iopub.status.busy": "2021-06-02T15:56:37.074244Z",
     "iopub.status.idle": "2021-06-02T15:56:37.076748Z",
     "shell.execute_reply": "2021-06-02T15:56:37.076189Z",
     "shell.execute_reply.started": "2021-05-30T01:43:53.035486Z"
    },
    "papermill": {
     "duration": 0.090812,
     "end_time": "2021-06-02T15:56:37.076905",
     "exception": false,
     "start_time": "2021-06-02T15:56:36.986093",
     "status": "completed"
    },
    "tags": []
   },
   "outputs": [],
   "source": [
    "X_train_exp = df_train[\"Data\"]\n",
    "X_test_exp = df_test[\"Data\"]"
   ]
  },
  {
   "cell_type": "code",
   "execution_count": 54,
   "id": "gothic-episode",
   "metadata": {
    "execution": {
     "iopub.execute_input": "2021-06-02T15:56:37.254174Z",
     "iopub.status.busy": "2021-06-02T15:56:37.253482Z",
     "iopub.status.idle": "2021-06-02T15:56:37.256469Z",
     "shell.execute_reply": "2021-06-02T15:56:37.256932Z",
     "shell.execute_reply.started": "2021-05-30T01:43:53.419281Z"
    },
    "papermill": {
     "duration": 0.095078,
     "end_time": "2021-06-02T15:56:37.257121",
     "exception": false,
     "start_time": "2021-06-02T15:56:37.162043",
     "status": "completed"
    },
    "tags": []
   },
   "outputs": [],
   "source": [
    "from nltk.corpus import stopwords\n",
    "from nltk.stem.porter import PorterStemmer\n",
    "\n",
    "def data_processing_exp(text):\n",
    "    pre_words = re.sub(pattern='[^A-Za-z]', repl=' ', string=text)\n",
    "    pre_words = pre_words.lower()\n",
    "    tokenized_words = word_tokenize(pre_words)\n",
    "    stops = stopwords.words('english')\n",
    "    # 'lt', 'gt' -> &lt; &gt; -> < >\n",
    "    # &amp; 도 있는 것 같지만 그냥 둠... (16번 text)\n",
    "    stops += ['ur', 'lt', 'gt']\n",
    "    \n",
    "    tokenized_words_remove=[]\n",
    "    for w in tokenized_words: \n",
    "        # 단어 길이가 1보다 큰 것만 저장\n",
    "        if w not in stops and len(w) > 1:\n",
    "            tokenized_words_remove.append(w)\n",
    "    \n",
    "    stemmer = PorterStemmer()\n",
    "    for i in range(len(tokenized_words_remove)):\n",
    "        tokenized_words_remove[i] = \\\n",
    "            stemmer.stem(tokenized_words_remove[i])\n",
    "    \n",
    "    return ( \" \".join( tokenized_words_remove ))"
   ]
  },
  {
   "cell_type": "code",
   "execution_count": 55,
   "id": "fabulous-liberal",
   "metadata": {
    "execution": {
     "iopub.execute_input": "2021-06-02T15:56:37.435910Z",
     "iopub.status.busy": "2021-06-02T15:56:37.435207Z",
     "iopub.status.idle": "2021-06-02T15:56:41.137545Z",
     "shell.execute_reply": "2021-06-02T15:56:41.138035Z",
     "shell.execute_reply.started": "2021-05-30T01:43:56.163057Z"
    },
    "papermill": {
     "duration": 3.795048,
     "end_time": "2021-06-02T15:56:41.138214",
     "exception": false,
     "start_time": "2021-06-02T15:56:37.343166",
     "status": "completed"
    },
    "tags": []
   },
   "outputs": [],
   "source": [
    "X_train_exp = [data_processing_exp(i) for i in X_train_exp]\n",
    "X_test_exp = [data_processing_exp(i) for i in X_test_exp]"
   ]
  },
  {
   "cell_type": "code",
   "execution_count": 56,
   "id": "southwest-deposit",
   "metadata": {
    "execution": {
     "iopub.execute_input": "2021-06-02T15:56:41.313553Z",
     "iopub.status.busy": "2021-06-02T15:56:41.312331Z",
     "iopub.status.idle": "2021-06-02T15:56:41.640911Z",
     "shell.execute_reply": "2021-06-02T15:56:41.640374Z",
     "shell.execute_reply.started": "2021-05-30T01:43:59.610597Z"
    },
    "papermill": {
     "duration": 0.41952,
     "end_time": "2021-06-02T15:56:41.641059",
     "exception": false,
     "start_time": "2021-06-02T15:56:41.221539",
     "status": "completed"
    },
    "tags": []
   },
   "outputs": [],
   "source": [
    "# [1]\n",
    "count_vectorizer = CountVectorizer(max_features=100)\n",
    "tfidf_vectorizer = TfidfVectorizer(max_features=100)\n",
    "\n",
    "# [2]\n",
    "X_train_exp = np.array(X_train_exp).astype('U')\n",
    "X_test_exp = np.array(X_test_exp).astype('U')\n",
    "\n",
    "# [3]\n",
    "count_vectorizer.fit(X_train_exp)\n",
    "tfidf_vectorizer.fit(X_train_exp)\n",
    "\n",
    "X_train_exp_count = count_vectorizer.transform(X_train_exp)\n",
    "X_test_exp_count = count_vectorizer.transform(X_test_exp)\n",
    "\n",
    "X_train_exp_tfidf = tfidf_vectorizer.transform(X_train_exp)\n",
    "X_test_exp_tfidf = tfidf_vectorizer.transform(X_test_exp)"
   ]
  },
  {
   "cell_type": "code",
   "execution_count": 57,
   "id": "geological-cabin",
   "metadata": {
    "execution": {
     "iopub.execute_input": "2021-06-02T15:56:41.815259Z",
     "iopub.status.busy": "2021-06-02T15:56:41.814148Z",
     "iopub.status.idle": "2021-06-02T15:56:41.819960Z",
     "shell.execute_reply": "2021-06-02T15:56:41.819266Z",
     "shell.execute_reply.started": "2021-05-30T01:44:12.943632Z"
    },
    "papermill": {
     "duration": 0.096133,
     "end_time": "2021-06-02T15:56:41.820098",
     "exception": false,
     "start_time": "2021-06-02T15:56:41.723965",
     "status": "completed"
    },
    "tags": []
   },
   "outputs": [],
   "source": [
    "X_train_exp_count = \\\n",
    "    np.concatenate((X_train_exp_count.toarray(),\n",
    "                    df_train['log_text_len'].values.reshape(-1, 1)),\n",
    "                   axis=1)\n",
    "X_test_exp_count = \\\n",
    "    np.concatenate((X_test_exp_count.toarray(),\n",
    "                    df_test['log_text_len'].values.reshape(-1, 1)),\n",
    "                   axis=1)"
   ]
  },
  {
   "cell_type": "code",
   "execution_count": 58,
   "id": "north-railway",
   "metadata": {
    "execution": {
     "iopub.execute_input": "2021-06-02T15:56:41.992373Z",
     "iopub.status.busy": "2021-06-02T15:56:41.991218Z",
     "iopub.status.idle": "2021-06-02T15:56:41.996395Z",
     "shell.execute_reply": "2021-06-02T15:56:41.995750Z",
     "shell.execute_reply.started": "2021-05-30T01:44:14.336072Z"
    },
    "papermill": {
     "duration": 0.09374,
     "end_time": "2021-06-02T15:56:41.996552",
     "exception": false,
     "start_time": "2021-06-02T15:56:41.902812",
     "status": "completed"
    },
    "tags": []
   },
   "outputs": [],
   "source": [
    "X_train_exp_tfidf = \\\n",
    "    np.concatenate((X_train_exp_tfidf.toarray(),\n",
    "                    df_train['log_text_len'].values.reshape(-1, 1)),\n",
    "                   axis=1)\n",
    "X_test_exp_tfidf = \\\n",
    "    np.concatenate((X_test_exp_tfidf.toarray(),\n",
    "                    df_test['log_text_len'].values.reshape(-1, 1)),\n",
    "                   axis=1)"
   ]
  },
  {
   "cell_type": "code",
   "execution_count": 59,
   "id": "permanent-invite",
   "metadata": {
    "execution": {
     "iopub.execute_input": "2021-06-02T15:56:42.172289Z",
     "iopub.status.busy": "2021-06-02T15:56:42.171634Z",
     "iopub.status.idle": "2021-06-02T15:56:42.175866Z",
     "shell.execute_reply": "2021-06-02T15:56:42.175320Z",
     "shell.execute_reply.started": "2021-05-30T01:44:32.831271Z"
    },
    "papermill": {
     "duration": 0.093375,
     "end_time": "2021-06-02T15:56:42.176003",
     "exception": false,
     "start_time": "2021-06-02T15:56:42.082628",
     "status": "completed"
    },
    "tags": []
   },
   "outputs": [
    {
     "data": {
      "text/plain": [
       "((4457, 101), (4457, 101), (1115, 101), (1115, 101))"
      ]
     },
     "execution_count": 59,
     "metadata": {},
     "output_type": "execute_result"
    }
   ],
   "source": [
    "X_train_exp_count.shape, X_train_exp_tfidf.shape, X_test_exp_count.shape, X_test_exp_tfidf.shape"
   ]
  },
  {
   "cell_type": "code",
   "execution_count": 60,
   "id": "unlimited-necklace",
   "metadata": {
    "execution": {
     "iopub.execute_input": "2021-06-02T15:56:42.353031Z",
     "iopub.status.busy": "2021-06-02T15:56:42.349872Z",
     "iopub.status.idle": "2021-06-02T15:56:58.176446Z",
     "shell.execute_reply": "2021-06-02T15:56:58.175800Z",
     "shell.execute_reply.started": "2021-05-30T01:30:25.357539Z"
    },
    "papermill": {
     "duration": 15.917277,
     "end_time": "2021-06-02T15:56:58.176594",
     "exception": false,
     "start_time": "2021-06-02T15:56:42.259317",
     "status": "completed"
    },
    "tags": []
   },
   "outputs": [
    {
     "name": "stdout",
     "output_type": "stream",
     "text": [
      "best_score_: 0.9737469362282518\n",
      "best_params_: {'C': 2000, 'kernel': 'rbf'}\n"
     ]
    }
   ],
   "source": [
    "param_grid = {\n",
    "    'kernel': ['rbf', 'sigmoid'],\n",
    "    'C': [1, 10, 100, 1000, 2000, 5000],\n",
    "}\n",
    "\n",
    "gridsearch = GridSearchCV(SVC(gamma='auto'), param_grid)\n",
    "gridsearch.fit(X_train_exp_count, y_train)\n",
    "\n",
    "print(f\"best_score_: {gridsearch.best_score_}\")\n",
    "print(f\"best_params_: {gridsearch.best_params_}\")"
   ]
  },
  {
   "cell_type": "code",
   "execution_count": 61,
   "id": "three-helicopter",
   "metadata": {
    "execution": {
     "iopub.execute_input": "2021-06-02T15:56:58.351257Z",
     "iopub.status.busy": "2021-06-02T15:56:58.350326Z",
     "iopub.status.idle": "2021-06-02T15:56:58.858313Z",
     "shell.execute_reply": "2021-06-02T15:56:58.857312Z",
     "shell.execute_reply.started": "2021-05-30T01:46:00.76533Z"
    },
    "papermill": {
     "duration": 0.598286,
     "end_time": "2021-06-02T15:56:58.858485",
     "exception": false,
     "start_time": "2021-06-02T15:56:58.260199",
     "status": "completed"
    },
    "tags": []
   },
   "outputs": [],
   "source": [
    "# 0.96681\n",
    "svc = SVC(gamma='auto', kernel='rbf', C=2000)\n",
    "\n",
    "svc.fit(X_train_exp_count, y_train)\n",
    "\n",
    "y_pred = svc.predict(X_test_exp_count)\n",
    "\n",
    "df_pred={\"ID\": range(np.array(y_pred).shape[0]),\"Class\":y_pred}\n",
    "df_pred=pd.DataFrame(df_pred)\n",
    "df_pred.to_csv(f\"exp6_count.csv\",index=False)"
   ]
  },
  {
   "cell_type": "code",
   "execution_count": 62,
   "id": "false-store",
   "metadata": {
    "execution": {
     "iopub.execute_input": "2021-06-02T15:56:59.035116Z",
     "iopub.status.busy": "2021-06-02T15:56:59.034385Z",
     "iopub.status.idle": "2021-06-02T15:57:14.830495Z",
     "shell.execute_reply": "2021-06-02T15:57:14.829935Z",
     "shell.execute_reply.started": "2021-05-30T01:34:49.745651Z"
    },
    "papermill": {
     "duration": 15.88771,
     "end_time": "2021-06-02T15:57:14.830648",
     "exception": false,
     "start_time": "2021-06-02T15:56:58.942938",
     "status": "completed"
    },
    "tags": []
   },
   "outputs": [
    {
     "name": "stdout",
     "output_type": "stream",
     "text": [
      "best_score_: 0.9841765812542633\n",
      "best_params_: {'C': 10, 'kernel': 'rbf'}\n"
     ]
    }
   ],
   "source": [
    "param_grid = {\n",
    "    'kernel': ['rbf', 'sigmoid'],\n",
    "    'C': [1, 10, 100, 1000, 2000, 5000],\n",
    "}\n",
    "\n",
    "gridsearch = GridSearchCV(SVC(gamma='auto'), param_grid, scoring='roc_auc')\n",
    "gridsearch.fit(X_train_exp_count, y_train)\n",
    "\n",
    "print(f\"best_score_: {gridsearch.best_score_}\")\n",
    "print(f\"best_params_: {gridsearch.best_params_}\")"
   ]
  },
  {
   "cell_type": "code",
   "execution_count": 63,
   "id": "prescribed-booking",
   "metadata": {
    "execution": {
     "iopub.execute_input": "2021-06-02T15:57:15.006129Z",
     "iopub.status.busy": "2021-06-02T15:57:15.005502Z",
     "iopub.status.idle": "2021-06-02T15:57:15.347746Z",
     "shell.execute_reply": "2021-06-02T15:57:15.347163Z",
     "shell.execute_reply.started": "2021-05-30T01:48:06.762208Z"
    },
    "papermill": {
     "duration": 0.432783,
     "end_time": "2021-06-02T15:57:15.347898",
     "exception": false,
     "start_time": "2021-06-02T15:57:14.915115",
     "status": "completed"
    },
    "tags": []
   },
   "outputs": [],
   "source": [
    "# 0.96950\n",
    "svc = SVC(gamma='auto', kernel='rbf', C=10)\n",
    "\n",
    "svc.fit(X_train_exp_count, y_train)\n",
    "\n",
    "y_pred = svc.predict(X_test_exp_count)\n",
    "\n",
    "df_pred={\"ID\": range(np.array(y_pred).shape[0]),\"Class\":y_pred}\n",
    "df_pred=pd.DataFrame(df_pred)\n",
    "df_pred.to_csv(f\"exp6_count_roc.csv\",index=False)"
   ]
  },
  {
   "cell_type": "code",
   "execution_count": 64,
   "id": "composite-pepper",
   "metadata": {
    "execution": {
     "iopub.execute_input": "2021-06-02T15:57:15.526530Z",
     "iopub.status.busy": "2021-06-02T15:57:15.525803Z",
     "iopub.status.idle": "2021-06-02T15:57:31.807341Z",
     "shell.execute_reply": "2021-06-02T15:57:31.806703Z",
     "shell.execute_reply.started": "2021-05-30T01:30:39.905802Z"
    },
    "papermill": {
     "duration": 16.372786,
     "end_time": "2021-06-02T15:57:31.807494",
     "exception": false,
     "start_time": "2021-06-02T15:57:15.434708",
     "status": "completed"
    },
    "tags": []
   },
   "outputs": [
    {
     "name": "stdout",
     "output_type": "stream",
     "text": [
      "best_score_: 0.973298757379475\n",
      "best_params_: {'C': 1000, 'kernel': 'rbf'}\n"
     ]
    }
   ],
   "source": [
    "param_grid = {\n",
    "    'kernel': ['rbf', 'sigmoid'],\n",
    "    'C': [1, 10, 100, 1000, 2000, 5000],\n",
    "}\n",
    "\n",
    "gridsearch = GridSearchCV(SVC(gamma='auto'), param_grid)\n",
    "gridsearch.fit(X_train_exp_tfidf, y_train)\n",
    "\n",
    "print(f\"best_score_: {gridsearch.best_score_}\")\n",
    "print(f\"best_params_: {gridsearch.best_params_}\")"
   ]
  },
  {
   "cell_type": "code",
   "execution_count": 65,
   "id": "everyday-angle",
   "metadata": {
    "execution": {
     "iopub.execute_input": "2021-06-02T15:57:31.982569Z",
     "iopub.status.busy": "2021-06-02T15:57:31.981904Z",
     "iopub.status.idle": "2021-06-02T15:57:32.344223Z",
     "shell.execute_reply": "2021-06-02T15:57:32.343568Z",
     "shell.execute_reply.started": "2021-05-30T01:51:44.527042Z"
    },
    "papermill": {
     "duration": 0.451953,
     "end_time": "2021-06-02T15:57:32.344362",
     "exception": false,
     "start_time": "2021-06-02T15:57:31.892409",
     "status": "completed"
    },
    "tags": []
   },
   "outputs": [],
   "source": [
    "# 0.97399\n",
    "svc = SVC(gamma='auto', kernel='rbf', C=1000)\n",
    "\n",
    "svc.fit(X_train_exp_tfidf, y_train)\n",
    "\n",
    "y_pred = svc.predict(X_test_exp_tfidf)\n",
    "\n",
    "df_pred={\"ID\": range(np.array(y_pred).shape[0]),\"Class\":y_pred}\n",
    "df_pred=pd.DataFrame(df_pred)\n",
    "df_pred.to_csv(f\"exp6_tfidf.csv\",index=False)"
   ]
  },
  {
   "cell_type": "code",
   "execution_count": 66,
   "id": "expensive-cassette",
   "metadata": {
    "execution": {
     "iopub.execute_input": "2021-06-02T15:57:32.552638Z",
     "iopub.status.busy": "2021-06-02T15:57:32.551921Z",
     "iopub.status.idle": "2021-06-02T15:57:48.778459Z",
     "shell.execute_reply": "2021-06-02T15:57:48.777756Z",
     "shell.execute_reply.started": "2021-05-30T01:38:06.0296Z"
    },
    "papermill": {
     "duration": 16.333385,
     "end_time": "2021-06-02T15:57:48.778623",
     "exception": false,
     "start_time": "2021-06-02T15:57:32.445238",
     "status": "completed"
    },
    "tags": []
   },
   "outputs": [
    {
     "name": "stdout",
     "output_type": "stream",
     "text": [
      "best_score_: 0.9837618739205526\n",
      "best_params_: {'C': 100, 'kernel': 'rbf'}\n"
     ]
    }
   ],
   "source": [
    "param_grid = {\n",
    "    'kernel': ['rbf', 'sigmoid'],\n",
    "    'C': [1, 10, 100, 1000, 2000, 5000],\n",
    "}\n",
    "\n",
    "gridsearch = GridSearchCV(SVC(gamma='auto'), param_grid, scoring='roc_auc')\n",
    "gridsearch.fit(X_train_exp_tfidf, y_train)\n",
    "\n",
    "print(f\"best_score_: {gridsearch.best_score_}\")\n",
    "print(f\"best_params_: {gridsearch.best_params_}\")"
   ]
  },
  {
   "cell_type": "code",
   "execution_count": 67,
   "id": "metric-favor",
   "metadata": {
    "execution": {
     "iopub.execute_input": "2021-06-02T15:57:48.954971Z",
     "iopub.status.busy": "2021-06-02T15:57:48.954138Z",
     "iopub.status.idle": "2021-06-02T15:57:49.264392Z",
     "shell.execute_reply": "2021-06-02T15:57:49.263770Z",
     "shell.execute_reply.started": "2021-05-30T01:53:10.408755Z"
    },
    "papermill": {
     "duration": 0.400249,
     "end_time": "2021-06-02T15:57:49.264579",
     "exception": false,
     "start_time": "2021-06-02T15:57:48.864330",
     "status": "completed"
    },
    "tags": []
   },
   "outputs": [],
   "source": [
    "# 0.97399\n",
    "svc = SVC(gamma='auto', kernel='rbf', C=100)\n",
    "\n",
    "svc.fit(X_train_exp_tfidf, y_train)\n",
    "\n",
    "y_pred = svc.predict(X_test_exp_tfidf)\n",
    "\n",
    "df_pred={\"ID\": range(np.array(y_pred).shape[0]),\"Class\":y_pred}\n",
    "df_pred=pd.DataFrame(df_pred)\n",
    "df_pred.to_csv(f\"exp6_tfidf_roc.csv\",index=False)"
   ]
  },
  {
   "cell_type": "code",
   "execution_count": 68,
   "id": "inappropriate-allowance",
   "metadata": {
    "execution": {
     "iopub.execute_input": "2021-06-02T15:57:49.441635Z",
     "iopub.status.busy": "2021-06-02T15:57:49.440936Z",
     "iopub.status.idle": "2021-06-02T15:59:21.257314Z",
     "shell.execute_reply": "2021-06-02T15:59:21.257845Z",
     "shell.execute_reply.started": "2021-05-30T01:33:16.015747Z"
    },
    "papermill": {
     "duration": 91.907756,
     "end_time": "2021-06-02T15:59:21.258042",
     "exception": false,
     "start_time": "2021-06-02T15:57:49.350286",
     "status": "completed"
    },
    "tags": []
   },
   "outputs": [
    {
     "name": "stdout",
     "output_type": "stream",
     "text": [
      "best_score_: 0.974644552148289\n",
      "best_params_: {'pca__n_components': 80, 'svc__C': 1000, 'svc__kernel': 'rbf'}\n"
     ]
    }
   ],
   "source": [
    "pipeline = Pipeline(\n",
    "    [('pca', PCA(random_state=42)),\n",
    "     ('svc', SVC(gamma='auto'))]\n",
    ")\n",
    "\n",
    "param_grid = {\n",
    "    'pca__n_components': [50, 60, 70, 80],\n",
    "    'svc__kernel': ['rbf', 'sigmoid'],\n",
    "    'svc__C': [1, 10, 100, 1000, 2000],\n",
    "}\n",
    "\n",
    "gridsearch = GridSearchCV(pipeline, param_grid)\n",
    "gridsearch.fit(X_train_exp_count, y_train)\n",
    "\n",
    "print(f\"best_score_: {gridsearch.best_score_}\")\n",
    "print(f\"best_params_: {gridsearch.best_params_}\")"
   ]
  },
  {
   "cell_type": "code",
   "execution_count": 69,
   "id": "dense-meter",
   "metadata": {
    "execution": {
     "iopub.execute_input": "2021-06-02T15:59:21.435168Z",
     "iopub.status.busy": "2021-06-02T15:59:21.434395Z",
     "iopub.status.idle": "2021-06-02T15:59:22.096806Z",
     "shell.execute_reply": "2021-06-02T15:59:22.097738Z",
     "shell.execute_reply.started": "2021-05-30T02:01:22.007585Z"
    },
    "papermill": {
     "duration": 0.752375,
     "end_time": "2021-06-02T15:59:22.098020",
     "exception": false,
     "start_time": "2021-06-02T15:59:21.345645",
     "status": "completed"
    },
    "tags": []
   },
   "outputs": [],
   "source": [
    "# 0.96950\n",
    "pipeline = Pipeline(\n",
    "    [('pca', PCA(random_state=42)),\n",
    "     ('svc', SVC(gamma='auto'))]\n",
    ")\n",
    "\n",
    "params = {\n",
    "    'pca__n_components': 80,\n",
    "    'svc__kernel': 'rbf',\n",
    "    'svc__C': 1000\n",
    "}\n",
    "\n",
    "pipeline.set_params(**params)\n",
    "pipeline.fit(X_train_exp_count, y_train)\n",
    "\n",
    "y_pred = pipeline.predict(X_test_exp_count)\n",
    "\n",
    "df_pred={\"ID\": range(np.array(y_pred).shape[0]),\"Class\":y_pred}\n",
    "df_pred=pd.DataFrame(df_pred)\n",
    "df_pred.to_csv(f\"exp6_count_pca.csv\",index=False)"
   ]
  },
  {
   "cell_type": "code",
   "execution_count": 70,
   "id": "engaged-marking",
   "metadata": {
    "execution": {
     "iopub.execute_input": "2021-06-02T15:59:22.284688Z",
     "iopub.status.busy": "2021-06-02T15:59:22.283968Z",
     "iopub.status.idle": "2021-06-02T16:01:00.376219Z",
     "shell.execute_reply": "2021-06-02T16:01:00.376736Z",
     "shell.execute_reply.started": "2021-05-30T01:36:38.174468Z"
    },
    "papermill": {
     "duration": 98.1856,
     "end_time": "2021-06-02T16:01:00.376921",
     "exception": false,
     "start_time": "2021-06-02T15:59:22.191321",
     "status": "completed"
    },
    "tags": []
   },
   "outputs": [
    {
     "name": "stdout",
     "output_type": "stream",
     "text": [
      "best_score_: 0.9838665168139796\n",
      "best_params_: {'pca__n_components': 70, 'svc__C': 10, 'svc__kernel': 'rbf'}\n"
     ]
    }
   ],
   "source": [
    "pipeline = Pipeline(\n",
    "    [('pca', PCA(random_state=42)),\n",
    "     ('svc', SVC(gamma='auto'))]\n",
    ")\n",
    "\n",
    "param_grid = {\n",
    "    'pca__n_components': [50, 60, 70, 80],\n",
    "    'svc__kernel': ['rbf', 'sigmoid'],\n",
    "    'svc__C': [1, 10, 100, 1000, 2000],\n",
    "}\n",
    "\n",
    "gridsearch = GridSearchCV(pipeline, param_grid, scoring='roc_auc')\n",
    "gridsearch.fit(X_train_exp_count, y_train)\n",
    "\n",
    "print(f\"best_score_: {gridsearch.best_score_}\")\n",
    "print(f\"best_params_: {gridsearch.best_params_}\")"
   ]
  },
  {
   "cell_type": "code",
   "execution_count": 71,
   "id": "guilty-spending",
   "metadata": {
    "execution": {
     "iopub.execute_input": "2021-06-02T16:01:00.558706Z",
     "iopub.status.busy": "2021-06-02T16:01:00.557408Z",
     "iopub.status.idle": "2021-06-02T16:01:01.039739Z",
     "shell.execute_reply": "2021-06-02T16:01:01.038955Z",
     "shell.execute_reply.started": "2021-05-30T02:02:30.032053Z"
    },
    "papermill": {
     "duration": 0.576529,
     "end_time": "2021-06-02T16:01:01.039889",
     "exception": false,
     "start_time": "2021-06-02T16:01:00.463360",
     "status": "completed"
    },
    "tags": []
   },
   "outputs": [],
   "source": [
    "# 0.97219\n",
    "pipeline = Pipeline(\n",
    "    [('pca', PCA(random_state=42)),\n",
    "     ('svc', SVC(gamma='auto'))]\n",
    ")\n",
    "\n",
    "params = {\n",
    "    'pca__n_components': 70,\n",
    "    'svc__kernel': 'rbf',\n",
    "    'svc__C': 10\n",
    "}\n",
    "\n",
    "pipeline.set_params(**params)\n",
    "pipeline.fit(X_train_exp_count, y_train)\n",
    "\n",
    "y_pred = pipeline.predict(X_test_exp_count)\n",
    "\n",
    "df_pred={\"ID\": range(np.array(y_pred).shape[0]),\"Class\":y_pred}\n",
    "df_pred=pd.DataFrame(df_pred)\n",
    "df_pred.to_csv(f\"exp6_count_pca_roc.csv\",index=False)"
   ]
  },
  {
   "cell_type": "code",
   "execution_count": 72,
   "id": "ancient-thickness",
   "metadata": {
    "execution": {
     "iopub.execute_input": "2021-06-02T16:01:01.220412Z",
     "iopub.status.busy": "2021-06-02T16:01:01.219443Z",
     "iopub.status.idle": "2021-06-02T16:02:59.454777Z",
     "shell.execute_reply": "2021-06-02T16:02:59.455336Z",
     "shell.execute_reply.started": "2021-05-30T01:59:07.123668Z"
    },
    "papermill": {
     "duration": 118.329381,
     "end_time": "2021-06-02T16:02:59.455534",
     "exception": false,
     "start_time": "2021-06-02T16:01:01.126153",
     "status": "completed"
    },
    "tags": []
   },
   "outputs": [
    {
     "name": "stdout",
     "output_type": "stream",
     "text": [
      "best_score_: 0.973747942806239\n",
      "best_params_: {'pca__n_components': 50, 'svc__C': 5000, 'svc__kernel': 'rbf'}\n"
     ]
    }
   ],
   "source": [
    "pipeline = Pipeline(\n",
    "    [('pca', PCA(random_state=42)),\n",
    "     ('svc', SVC(gamma='auto'))]\n",
    ")\n",
    "\n",
    "param_grid = {\n",
    "    'pca__n_components': [50, 60, 70, 80],\n",
    "    'svc__kernel': ['rbf', 'sigmoid'],\n",
    "    'svc__C': [1, 10, 100, 1000, 2000, 5000],\n",
    "}\n",
    "\n",
    "gridsearch = GridSearchCV(pipeline, param_grid)\n",
    "gridsearch.fit(X_train_exp_tfidf, y_train)\n",
    "\n",
    "print(f\"best_score_: {gridsearch.best_score_}\")\n",
    "print(f\"best_params_: {gridsearch.best_params_}\")"
   ]
  },
  {
   "cell_type": "code",
   "execution_count": 73,
   "id": "fifteen-korea",
   "metadata": {
    "execution": {
     "iopub.execute_input": "2021-06-02T16:02:59.630840Z",
     "iopub.status.busy": "2021-06-02T16:02:59.630184Z",
     "iopub.status.idle": "2021-06-02T16:03:00.268378Z",
     "shell.execute_reply": "2021-06-02T16:03:00.269874Z",
     "shell.execute_reply.started": "2021-05-30T02:09:31.178576Z"
    },
    "papermill": {
     "duration": 0.72861,
     "end_time": "2021-06-02T16:03:00.270174",
     "exception": false,
     "start_time": "2021-06-02T16:02:59.541564",
     "status": "completed"
    },
    "tags": []
   },
   "outputs": [],
   "source": [
    "# 0.97488\n",
    "pipeline = Pipeline(\n",
    "    [('pca', PCA(random_state=42)),\n",
    "     ('svc', SVC(gamma='auto'))]\n",
    ")\n",
    "\n",
    "params = {\n",
    "    'pca__n_components': 50,\n",
    "    'svc__kernel': 'rbf',\n",
    "    'svc__C': 2000\n",
    "}\n",
    "\n",
    "pipeline.set_params(**params)\n",
    "pipeline.fit(X_train_exp_tfidf, y_train)\n",
    "\n",
    "y_pred = pipeline.predict(X_test_exp_tfidf)\n",
    "\n",
    "df_pred={\"ID\": range(np.array(y_pred).shape[0]),\"Class\":y_pred}\n",
    "df_pred=pd.DataFrame(df_pred)\n",
    "df_pred.to_csv(f\"exp6_tfidf_pca.csv\",index=False)"
   ]
  },
  {
   "cell_type": "code",
   "execution_count": 74,
   "id": "pharmaceutical-boost",
   "metadata": {
    "execution": {
     "iopub.execute_input": "2021-06-02T16:03:00.462853Z",
     "iopub.status.busy": "2021-06-02T16:03:00.462176Z",
     "iopub.status.idle": "2021-06-02T16:04:39.074852Z",
     "shell.execute_reply": "2021-06-02T16:04:39.075368Z",
     "shell.execute_reply.started": "2021-05-30T01:39:48.311344Z"
    },
    "papermill": {
     "duration": 98.707019,
     "end_time": "2021-06-02T16:04:39.075571",
     "exception": false,
     "start_time": "2021-06-02T16:03:00.368552",
     "status": "completed"
    },
    "tags": []
   },
   "outputs": [
    {
     "name": "stdout",
     "output_type": "stream",
     "text": [
      "best_score_: 0.9823623115049129\n",
      "best_params_: {'pca__n_components': 70, 'svc__C': 10, 'svc__kernel': 'rbf'}\n"
     ]
    }
   ],
   "source": [
    "pipeline = Pipeline(\n",
    "    [('pca', PCA(random_state=42)),\n",
    "     ('svc', SVC(gamma='auto'))]\n",
    ")\n",
    "\n",
    "param_grid = {\n",
    "    'pca__n_components': [50, 60, 70, 80],\n",
    "    'svc__kernel': ['rbf', 'sigmoid'],\n",
    "    'svc__C': [1, 10, 100, 1000, 2000],\n",
    "}\n",
    "\n",
    "gridsearch = GridSearchCV(pipeline, param_grid, scoring='roc_auc')\n",
    "gridsearch.fit(X_train_exp_tfidf, y_train)\n",
    "\n",
    "print(f\"best_score_: {gridsearch.best_score_}\")\n",
    "print(f\"best_params_: {gridsearch.best_params_}\")"
   ]
  },
  {
   "cell_type": "code",
   "execution_count": 75,
   "id": "dynamic-passport",
   "metadata": {
    "execution": {
     "iopub.execute_input": "2021-06-02T16:04:39.258403Z",
     "iopub.status.busy": "2021-06-02T16:04:39.257748Z",
     "iopub.status.idle": "2021-06-02T16:04:39.963060Z",
     "shell.execute_reply": "2021-06-02T16:04:39.962474Z",
     "shell.execute_reply.started": "2021-05-30T02:11:11.247604Z"
    },
    "papermill": {
     "duration": 0.79872,
     "end_time": "2021-06-02T16:04:39.963204",
     "exception": false,
     "start_time": "2021-06-02T16:04:39.164484",
     "status": "completed"
    },
    "tags": []
   },
   "outputs": [],
   "source": [
    "# 0.96771\n",
    "pipeline = Pipeline(\n",
    "    [('pca', PCA(random_state=42)),\n",
    "     ('svc', SVC(gamma='auto'))]\n",
    ")\n",
    "\n",
    "params = {\n",
    "    'pca__n_components': 70,\n",
    "    'svc__kernel': 'rbf',\n",
    "    'svc__C': 10\n",
    "}\n",
    "\n",
    "pipeline.set_params(**params)\n",
    "pipeline.fit(X_train_exp_tfidf, y_train)\n",
    "\n",
    "y_pred = pipeline.predict(X_test_exp_tfidf)\n",
    "\n",
    "df_pred={\"ID\": range(np.array(y_pred).shape[0]),\"Class\":y_pred}\n",
    "df_pred=pd.DataFrame(df_pred)\n",
    "df_pred.to_csv(f\"exp6_tfidf_pca_roc.csv\",index=False)"
   ]
  },
  {
   "cell_type": "code",
   "execution_count": null,
   "id": "dimensional-metro",
   "metadata": {
    "papermill": {
     "duration": 0.086681,
     "end_time": "2021-06-02T16:04:40.138083",
     "exception": false,
     "start_time": "2021-06-02T16:04:40.051402",
     "status": "completed"
    },
    "tags": []
   },
   "outputs": [],
   "source": []
  }
 ],
 "metadata": {
  "kernelspec": {
   "display_name": "Python 3",
   "language": "python",
   "name": "python3"
  },
  "language_info": {
   "codemirror_mode": {
    "name": "ipython",
    "version": 3
   },
   "file_extension": ".py",
   "mimetype": "text/x-python",
   "name": "python",
   "nbconvert_exporter": "python",
   "pygments_lexer": "ipython3",
   "version": "3.7.10"
  },
  "papermill": {
   "default_parameters": {},
   "duration": 824.341496,
   "end_time": "2021-06-02T16:04:41.932315",
   "environment_variables": {},
   "exception": null,
   "input_path": "__notebook__.ipynb",
   "output_path": "__notebook__.ipynb",
   "parameters": {},
   "start_time": "2021-06-02T15:50:57.590819",
   "version": "2.3.3"
  }
 },
 "nbformat": 4,
 "nbformat_minor": 5
}

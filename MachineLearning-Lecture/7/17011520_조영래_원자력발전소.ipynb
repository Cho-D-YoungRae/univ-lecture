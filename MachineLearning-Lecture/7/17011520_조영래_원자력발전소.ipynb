{
 "cells": [
  {
   "cell_type": "code",
   "execution_count": 1,
   "id": "superb-leone",
   "metadata": {
    "_cell_guid": "b1076dfc-b9ad-4769-8c92-a6c4dae69d19",
    "_uuid": "8f2839f25d086af736a60e9eeb907d3b93b6e0e5",
    "execution": {
     "iopub.execute_input": "2021-04-14T04:42:38.645804Z",
     "iopub.status.busy": "2021-04-14T04:42:38.644835Z",
     "iopub.status.idle": "2021-04-14T04:42:38.652682Z",
     "shell.execute_reply": "2021-04-14T04:42:38.651929Z"
    },
    "papermill": {
     "duration": 0.025175,
     "end_time": "2021-04-14T04:42:38.652873",
     "exception": false,
     "start_time": "2021-04-14T04:42:38.627698",
     "status": "completed"
    },
    "tags": []
   },
   "outputs": [
    {
     "name": "stdout",
     "output_type": "stream",
     "text": [
      "/kaggle/input/2021-ml-p5/sample_submission.csv\n",
      "/kaggle/input/2021-ml-p5/pca_test.csv\n",
      "/kaggle/input/2021-ml-p5/pca_train.csv\n",
      "/kaggle/input/2021-ml-p5/train_label.csv\n"
     ]
    }
   ],
   "source": [
    "# This Python 3 environment comes with many helpful analytics libraries installed\n",
    "# It is defined by the kaggle/python Docker image: https://github.com/kaggle/docker-python\n",
    "# For example, here's several helpful packages to load\n",
    "\n",
    "import numpy as np # linear algebra\n",
    "import pandas as pd # data processing, CSV file I/O (e.g. pd.read_csv)\n",
    "\n",
    "# Input data files are available in the read-only \"../input/\" directory\n",
    "# For example, running this (by clicking run or pressing Shift+Enter) will list all files under the input directory\n",
    "\n",
    "import os\n",
    "for dirname, _, filenames in os.walk('/kaggle/input'):\n",
    "    for filename in filenames:\n",
    "        print(os.path.join(dirname, filename))\n",
    "\n",
    "# You can write up to 20GB to the current directory (/kaggle/working/) that gets preserved as output when you create a version using \"Save & Run All\" \n",
    "# You can also write temporary files to /kaggle/temp/, but they won't be saved outside of the current session"
   ]
  },
  {
   "cell_type": "code",
   "execution_count": 2,
   "id": "fewer-puppy",
   "metadata": {
    "execution": {
     "iopub.execute_input": "2021-04-14T04:42:38.685611Z",
     "iopub.status.busy": "2021-04-14T04:42:38.685015Z",
     "iopub.status.idle": "2021-04-14T04:42:43.443771Z",
     "shell.execute_reply": "2021-04-14T04:42:43.443101Z"
    },
    "papermill": {
     "duration": 4.776535,
     "end_time": "2021-04-14T04:42:43.443912",
     "exception": false,
     "start_time": "2021-04-14T04:42:38.667377",
     "status": "completed"
    },
    "tags": []
   },
   "outputs": [],
   "source": [
    "RANDOM_STATE = 42\n",
    "file_dir = '/kaggle/input/2021-ml-p5/'\n",
    "X_train = pd.read_csv(file_dir+'pca_train.csv')\n",
    "y_train = pd.read_csv(file_dir+'train_label.csv')\n",
    "X_test = pd.read_csv(file_dir+'pca_test.csv')\n",
    "sample_submission = pd.read_csv(file_dir+'sample_submission.csv')"
   ]
  },
  {
   "cell_type": "code",
   "execution_count": 3,
   "id": "disabled-thompson",
   "metadata": {
    "execution": {
     "iopub.execute_input": "2021-04-14T04:42:43.476199Z",
     "iopub.status.busy": "2021-04-14T04:42:43.475605Z",
     "iopub.status.idle": "2021-04-14T04:42:44.662052Z",
     "shell.execute_reply": "2021-04-14T04:42:44.661404Z"
    },
    "papermill": {
     "duration": 1.204481,
     "end_time": "2021-04-14T04:42:44.662184",
     "exception": false,
     "start_time": "2021-04-14T04:42:43.457703",
     "status": "completed"
    },
    "tags": []
   },
   "outputs": [],
   "source": [
    "from sklearn.model_selection import train_test_split\n",
    "from sklearn.discriminant_analysis import LinearDiscriminantAnalysis, QuadraticDiscriminantAnalysis\n",
    "from sklearn.metrics import accuracy_score\n",
    "from sklearn.preprocessing import StandardScaler"
   ]
  },
  {
   "cell_type": "markdown",
   "id": "loving-bernard",
   "metadata": {
    "papermill": {
     "duration": 0.013328,
     "end_time": "2021-04-14T04:42:44.689665",
     "exception": false,
     "start_time": "2021-04-14T04:42:44.676337",
     "status": "completed"
    },
    "tags": []
   },
   "source": [
    "## 데이터 확인"
   ]
  },
  {
   "cell_type": "code",
   "execution_count": 4,
   "id": "atomic-referral",
   "metadata": {
    "execution": {
     "iopub.execute_input": "2021-04-14T04:42:44.730500Z",
     "iopub.status.busy": "2021-04-14T04:42:44.729605Z",
     "iopub.status.idle": "2021-04-14T04:42:44.744693Z",
     "shell.execute_reply": "2021-04-14T04:42:44.744168Z"
    },
    "papermill": {
     "duration": 0.041908,
     "end_time": "2021-04-14T04:42:44.744833",
     "exception": false,
     "start_time": "2021-04-14T04:42:44.702925",
     "status": "completed"
    },
    "tags": []
   },
   "outputs": [
    {
     "data": {
      "text/html": [
       "<div>\n",
       "<style scoped>\n",
       "    .dataframe tbody tr th:only-of-type {\n",
       "        vertical-align: middle;\n",
       "    }\n",
       "\n",
       "    .dataframe tbody tr th {\n",
       "        vertical-align: top;\n",
       "    }\n",
       "\n",
       "    .dataframe thead th {\n",
       "        text-align: right;\n",
       "    }\n",
       "</style>\n",
       "<table border=\"1\" class=\"dataframe\">\n",
       "  <thead>\n",
       "    <tr style=\"text-align: right;\">\n",
       "      <th></th>\n",
       "      <th>id</th>\n",
       "      <th>label</th>\n",
       "    </tr>\n",
       "  </thead>\n",
       "  <tbody>\n",
       "    <tr>\n",
       "      <th>0</th>\n",
       "      <td>0</td>\n",
       "      <td>136</td>\n",
       "    </tr>\n",
       "    <tr>\n",
       "      <th>1</th>\n",
       "      <td>1</td>\n",
       "      <td>90</td>\n",
       "    </tr>\n",
       "    <tr>\n",
       "      <th>2</th>\n",
       "      <td>2</td>\n",
       "      <td>112</td>\n",
       "    </tr>\n",
       "    <tr>\n",
       "      <th>3</th>\n",
       "      <td>3</td>\n",
       "      <td>165</td>\n",
       "    </tr>\n",
       "    <tr>\n",
       "      <th>4</th>\n",
       "      <td>4</td>\n",
       "      <td>73</td>\n",
       "    </tr>\n",
       "  </tbody>\n",
       "</table>\n",
       "</div>"
      ],
      "text/plain": [
       "   id  label\n",
       "0   0    136\n",
       "1   1     90\n",
       "2   2    112\n",
       "3   3    165\n",
       "4   4     73"
      ]
     },
     "execution_count": 4,
     "metadata": {},
     "output_type": "execute_result"
    }
   ],
   "source": [
    "y_train.head()"
   ]
  },
  {
   "cell_type": "code",
   "execution_count": 5,
   "id": "possible-matthew",
   "metadata": {
    "execution": {
     "iopub.execute_input": "2021-04-14T04:42:44.778233Z",
     "iopub.status.busy": "2021-04-14T04:42:44.777454Z",
     "iopub.status.idle": "2021-04-14T04:42:44.780348Z",
     "shell.execute_reply": "2021-04-14T04:42:44.780743Z"
    },
    "papermill": {
     "duration": 0.02175,
     "end_time": "2021-04-14T04:42:44.780902",
     "exception": false,
     "start_time": "2021-04-14T04:42:44.759152",
     "status": "completed"
    },
    "tags": []
   },
   "outputs": [],
   "source": [
    "y_train = y_train['label']"
   ]
  },
  {
   "cell_type": "code",
   "execution_count": 6,
   "id": "altered-wichita",
   "metadata": {
    "execution": {
     "iopub.execute_input": "2021-04-14T04:42:44.814721Z",
     "iopub.status.busy": "2021-04-14T04:42:44.814136Z",
     "iopub.status.idle": "2021-04-14T04:42:44.819041Z",
     "shell.execute_reply": "2021-04-14T04:42:44.818232Z"
    },
    "papermill": {
     "duration": 0.024379,
     "end_time": "2021-04-14T04:42:44.819178",
     "exception": false,
     "start_time": "2021-04-14T04:42:44.794799",
     "status": "completed"
    },
    "tags": []
   },
   "outputs": [
    {
     "data": {
      "text/plain": [
       "0        136\n",
       "1         90\n",
       "2        112\n",
       "3        165\n",
       "4         73\n",
       "        ... \n",
       "27666      9\n",
       "27667    132\n",
       "27668     18\n",
       "27669     41\n",
       "27670    114\n",
       "Name: label, Length: 27671, dtype: int64"
      ]
     },
     "execution_count": 6,
     "metadata": {},
     "output_type": "execute_result"
    }
   ],
   "source": [
    "y_train"
   ]
  },
  {
   "cell_type": "code",
   "execution_count": 7,
   "id": "quarterly-profile",
   "metadata": {
    "execution": {
     "iopub.execute_input": "2021-04-14T04:42:44.858051Z",
     "iopub.status.busy": "2021-04-14T04:42:44.857124Z",
     "iopub.status.idle": "2021-04-14T04:42:44.861049Z",
     "shell.execute_reply": "2021-04-14T04:42:44.860536Z"
    },
    "papermill": {
     "duration": 0.027291,
     "end_time": "2021-04-14T04:42:44.861185",
     "exception": false,
     "start_time": "2021-04-14T04:42:44.833894",
     "status": "completed"
    },
    "tags": []
   },
   "outputs": [
    {
     "data": {
      "text/plain": [
       "110    814\n",
       "17     718\n",
       "114    692\n",
       "118    671\n",
       "117    629\n",
       "      ... \n",
       "42      27\n",
       "74      27\n",
       "97      27\n",
       "142     27\n",
       "101     26\n",
       "Name: label, Length: 198, dtype: int64"
      ]
     },
     "execution_count": 7,
     "metadata": {},
     "output_type": "execute_result"
    }
   ],
   "source": [
    "y_train.value_counts()"
   ]
  },
  {
   "cell_type": "code",
   "execution_count": 8,
   "id": "twenty-disaster",
   "metadata": {
    "execution": {
     "iopub.execute_input": "2021-04-14T04:42:44.914246Z",
     "iopub.status.busy": "2021-04-14T04:42:44.913661Z",
     "iopub.status.idle": "2021-04-14T04:42:44.918177Z",
     "shell.execute_reply": "2021-04-14T04:42:44.917684Z"
    },
    "papermill": {
     "duration": 0.042252,
     "end_time": "2021-04-14T04:42:44.918330",
     "exception": false,
     "start_time": "2021-04-14T04:42:44.876078",
     "status": "completed"
    },
    "tags": []
   },
   "outputs": [
    {
     "data": {
      "text/html": [
       "<div>\n",
       "<style scoped>\n",
       "    .dataframe tbody tr th:only-of-type {\n",
       "        vertical-align: middle;\n",
       "    }\n",
       "\n",
       "    .dataframe tbody tr th {\n",
       "        vertical-align: top;\n",
       "    }\n",
       "\n",
       "    .dataframe thead th {\n",
       "        text-align: right;\n",
       "    }\n",
       "</style>\n",
       "<table border=\"1\" class=\"dataframe\">\n",
       "  <thead>\n",
       "    <tr style=\"text-align: right;\">\n",
       "      <th></th>\n",
       "      <th>0</th>\n",
       "      <th>1</th>\n",
       "      <th>2</th>\n",
       "      <th>3</th>\n",
       "      <th>4</th>\n",
       "      <th>5</th>\n",
       "      <th>6</th>\n",
       "      <th>7</th>\n",
       "      <th>8</th>\n",
       "      <th>9</th>\n",
       "      <th>...</th>\n",
       "      <th>246</th>\n",
       "      <th>247</th>\n",
       "      <th>248</th>\n",
       "      <th>249</th>\n",
       "      <th>250</th>\n",
       "      <th>251</th>\n",
       "      <th>252</th>\n",
       "      <th>253</th>\n",
       "      <th>254</th>\n",
       "      <th>255</th>\n",
       "    </tr>\n",
       "  </thead>\n",
       "  <tbody>\n",
       "    <tr>\n",
       "      <th>0</th>\n",
       "      <td>-6.227718</td>\n",
       "      <td>-2.070960</td>\n",
       "      <td>0.674094</td>\n",
       "      <td>-0.742135</td>\n",
       "      <td>0.309149</td>\n",
       "      <td>-4.006772</td>\n",
       "      <td>-0.664624</td>\n",
       "      <td>0.533987</td>\n",
       "      <td>0.024594</td>\n",
       "      <td>-0.195856</td>\n",
       "      <td>...</td>\n",
       "      <td>-2.114192</td>\n",
       "      <td>-0.605770</td>\n",
       "      <td>0.491399</td>\n",
       "      <td>-0.166693</td>\n",
       "      <td>1.289197</td>\n",
       "      <td>-0.403863</td>\n",
       "      <td>0.238731</td>\n",
       "      <td>2.166737</td>\n",
       "      <td>-0.106487</td>\n",
       "      <td>1.486114</td>\n",
       "    </tr>\n",
       "    <tr>\n",
       "      <th>1</th>\n",
       "      <td>-6.081077</td>\n",
       "      <td>-1.960213</td>\n",
       "      <td>0.846482</td>\n",
       "      <td>-0.932816</td>\n",
       "      <td>-0.050208</td>\n",
       "      <td>-4.082826</td>\n",
       "      <td>-0.449032</td>\n",
       "      <td>0.647842</td>\n",
       "      <td>0.417809</td>\n",
       "      <td>0.073842</td>\n",
       "      <td>...</td>\n",
       "      <td>-1.000466</td>\n",
       "      <td>-1.175968</td>\n",
       "      <td>0.299093</td>\n",
       "      <td>-1.187048</td>\n",
       "      <td>-0.499101</td>\n",
       "      <td>0.738016</td>\n",
       "      <td>0.632842</td>\n",
       "      <td>0.850430</td>\n",
       "      <td>-2.211427</td>\n",
       "      <td>1.083040</td>\n",
       "    </tr>\n",
       "    <tr>\n",
       "      <th>2</th>\n",
       "      <td>-6.394956</td>\n",
       "      <td>-2.954897</td>\n",
       "      <td>1.600033</td>\n",
       "      <td>-0.479463</td>\n",
       "      <td>-1.217065</td>\n",
       "      <td>-3.986472</td>\n",
       "      <td>-0.812934</td>\n",
       "      <td>0.472509</td>\n",
       "      <td>1.536917</td>\n",
       "      <td>1.989765</td>\n",
       "      <td>...</td>\n",
       "      <td>-1.703212</td>\n",
       "      <td>0.713673</td>\n",
       "      <td>0.330699</td>\n",
       "      <td>0.036953</td>\n",
       "      <td>-0.204944</td>\n",
       "      <td>0.930597</td>\n",
       "      <td>-0.693151</td>\n",
       "      <td>-0.572443</td>\n",
       "      <td>0.835598</td>\n",
       "      <td>-0.751483</td>\n",
       "    </tr>\n",
       "    <tr>\n",
       "      <th>3</th>\n",
       "      <td>-6.681355</td>\n",
       "      <td>-2.055031</td>\n",
       "      <td>1.144864</td>\n",
       "      <td>-0.517872</td>\n",
       "      <td>-0.168057</td>\n",
       "      <td>-3.929032</td>\n",
       "      <td>-0.718259</td>\n",
       "      <td>0.555827</td>\n",
       "      <td>0.096472</td>\n",
       "      <td>0.724261</td>\n",
       "      <td>...</td>\n",
       "      <td>0.434870</td>\n",
       "      <td>1.571784</td>\n",
       "      <td>-1.266089</td>\n",
       "      <td>1.584173</td>\n",
       "      <td>-0.290301</td>\n",
       "      <td>0.068907</td>\n",
       "      <td>-1.148258</td>\n",
       "      <td>1.904273</td>\n",
       "      <td>0.322937</td>\n",
       "      <td>-0.318100</td>\n",
       "    </tr>\n",
       "    <tr>\n",
       "      <th>4</th>\n",
       "      <td>-5.716713</td>\n",
       "      <td>-2.163729</td>\n",
       "      <td>0.877930</td>\n",
       "      <td>-0.605268</td>\n",
       "      <td>0.082372</td>\n",
       "      <td>-4.261466</td>\n",
       "      <td>-0.679734</td>\n",
       "      <td>0.739369</td>\n",
       "      <td>0.490033</td>\n",
       "      <td>0.546437</td>\n",
       "      <td>...</td>\n",
       "      <td>0.626112</td>\n",
       "      <td>-0.435030</td>\n",
       "      <td>2.112485</td>\n",
       "      <td>1.101894</td>\n",
       "      <td>1.746205</td>\n",
       "      <td>-0.445612</td>\n",
       "      <td>-1.518138</td>\n",
       "      <td>0.299177</td>\n",
       "      <td>-0.020655</td>\n",
       "      <td>0.234824</td>\n",
       "    </tr>\n",
       "  </tbody>\n",
       "</table>\n",
       "<p>5 rows × 256 columns</p>\n",
       "</div>"
      ],
      "text/plain": [
       "          0         1         2         3         4         5         6  \\\n",
       "0 -6.227718 -2.070960  0.674094 -0.742135  0.309149 -4.006772 -0.664624   \n",
       "1 -6.081077 -1.960213  0.846482 -0.932816 -0.050208 -4.082826 -0.449032   \n",
       "2 -6.394956 -2.954897  1.600033 -0.479463 -1.217065 -3.986472 -0.812934   \n",
       "3 -6.681355 -2.055031  1.144864 -0.517872 -0.168057 -3.929032 -0.718259   \n",
       "4 -5.716713 -2.163729  0.877930 -0.605268  0.082372 -4.261466 -0.679734   \n",
       "\n",
       "          7         8         9  ...       246       247       248       249  \\\n",
       "0  0.533987  0.024594 -0.195856  ... -2.114192 -0.605770  0.491399 -0.166693   \n",
       "1  0.647842  0.417809  0.073842  ... -1.000466 -1.175968  0.299093 -1.187048   \n",
       "2  0.472509  1.536917  1.989765  ... -1.703212  0.713673  0.330699  0.036953   \n",
       "3  0.555827  0.096472  0.724261  ...  0.434870  1.571784 -1.266089  1.584173   \n",
       "4  0.739369  0.490033  0.546437  ...  0.626112 -0.435030  2.112485  1.101894   \n",
       "\n",
       "        250       251       252       253       254       255  \n",
       "0  1.289197 -0.403863  0.238731  2.166737 -0.106487  1.486114  \n",
       "1 -0.499101  0.738016  0.632842  0.850430 -2.211427  1.083040  \n",
       "2 -0.204944  0.930597 -0.693151 -0.572443  0.835598 -0.751483  \n",
       "3 -0.290301  0.068907 -1.148258  1.904273  0.322937 -0.318100  \n",
       "4  1.746205 -0.445612 -1.518138  0.299177 -0.020655  0.234824  \n",
       "\n",
       "[5 rows x 256 columns]"
      ]
     },
     "execution_count": 8,
     "metadata": {},
     "output_type": "execute_result"
    }
   ],
   "source": [
    "X_train.head()"
   ]
  },
  {
   "cell_type": "code",
   "execution_count": 9,
   "id": "chinese-facial",
   "metadata": {
    "execution": {
     "iopub.execute_input": "2021-04-14T04:42:44.981797Z",
     "iopub.status.busy": "2021-04-14T04:42:44.980965Z",
     "iopub.status.idle": "2021-04-14T04:42:45.685363Z",
     "shell.execute_reply": "2021-04-14T04:42:45.684720Z"
    },
    "papermill": {
     "duration": 0.751112,
     "end_time": "2021-04-14T04:42:45.685505",
     "exception": false,
     "start_time": "2021-04-14T04:42:44.934393",
     "status": "completed"
    },
    "tags": []
   },
   "outputs": [
    {
     "data": {
      "text/html": [
       "<div>\n",
       "<style scoped>\n",
       "    .dataframe tbody tr th:only-of-type {\n",
       "        vertical-align: middle;\n",
       "    }\n",
       "\n",
       "    .dataframe tbody tr th {\n",
       "        vertical-align: top;\n",
       "    }\n",
       "\n",
       "    .dataframe thead th {\n",
       "        text-align: right;\n",
       "    }\n",
       "</style>\n",
       "<table border=\"1\" class=\"dataframe\">\n",
       "  <thead>\n",
       "    <tr style=\"text-align: right;\">\n",
       "      <th></th>\n",
       "      <th>0</th>\n",
       "      <th>1</th>\n",
       "      <th>2</th>\n",
       "      <th>3</th>\n",
       "      <th>4</th>\n",
       "      <th>5</th>\n",
       "      <th>6</th>\n",
       "      <th>7</th>\n",
       "      <th>8</th>\n",
       "      <th>9</th>\n",
       "      <th>...</th>\n",
       "      <th>246</th>\n",
       "      <th>247</th>\n",
       "      <th>248</th>\n",
       "      <th>249</th>\n",
       "      <th>250</th>\n",
       "      <th>251</th>\n",
       "      <th>252</th>\n",
       "      <th>253</th>\n",
       "      <th>254</th>\n",
       "      <th>255</th>\n",
       "    </tr>\n",
       "  </thead>\n",
       "  <tbody>\n",
       "    <tr>\n",
       "      <th>count</th>\n",
       "      <td>2.767100e+04</td>\n",
       "      <td>2.767100e+04</td>\n",
       "      <td>2.767100e+04</td>\n",
       "      <td>2.767100e+04</td>\n",
       "      <td>2.767100e+04</td>\n",
       "      <td>2.767100e+04</td>\n",
       "      <td>2.767100e+04</td>\n",
       "      <td>2.767100e+04</td>\n",
       "      <td>2.767100e+04</td>\n",
       "      <td>2.767100e+04</td>\n",
       "      <td>...</td>\n",
       "      <td>2.767100e+04</td>\n",
       "      <td>2.767100e+04</td>\n",
       "      <td>2.767100e+04</td>\n",
       "      <td>2.767100e+04</td>\n",
       "      <td>2.767100e+04</td>\n",
       "      <td>2.767100e+04</td>\n",
       "      <td>2.767100e+04</td>\n",
       "      <td>2.767100e+04</td>\n",
       "      <td>2.767100e+04</td>\n",
       "      <td>2.767100e+04</td>\n",
       "    </tr>\n",
       "    <tr>\n",
       "      <th>mean</th>\n",
       "      <td>-1.533248e-15</td>\n",
       "      <td>-1.045570e-15</td>\n",
       "      <td>1.025509e-15</td>\n",
       "      <td>-7.985694e-16</td>\n",
       "      <td>7.390460e-16</td>\n",
       "      <td>-5.950933e-16</td>\n",
       "      <td>-3.486624e-18</td>\n",
       "      <td>-7.198836e-16</td>\n",
       "      <td>3.920476e-16</td>\n",
       "      <td>1.947414e-16</td>\n",
       "      <td>...</td>\n",
       "      <td>-2.360449e-15</td>\n",
       "      <td>3.235065e-15</td>\n",
       "      <td>-5.880679e-16</td>\n",
       "      <td>-2.777025e-15</td>\n",
       "      <td>2.169796e-15</td>\n",
       "      <td>-7.289813e-16</td>\n",
       "      <td>-9.816359e-16</td>\n",
       "      <td>-1.870829e-15</td>\n",
       "      <td>-3.627079e-15</td>\n",
       "      <td>-3.091500e-15</td>\n",
       "    </tr>\n",
       "    <tr>\n",
       "      <th>std</th>\n",
       "      <td>3.714928e+01</td>\n",
       "      <td>1.835446e+01</td>\n",
       "      <td>1.367432e+01</td>\n",
       "      <td>1.172752e+01</td>\n",
       "      <td>7.809187e+00</td>\n",
       "      <td>7.613003e+00</td>\n",
       "      <td>6.279206e+00</td>\n",
       "      <td>5.864037e+00</td>\n",
       "      <td>4.673321e+00</td>\n",
       "      <td>4.575065e+00</td>\n",
       "      <td>...</td>\n",
       "      <td>1.015379e+00</td>\n",
       "      <td>1.014439e+00</td>\n",
       "      <td>1.013780e+00</td>\n",
       "      <td>1.012395e+00</td>\n",
       "      <td>1.012365e+00</td>\n",
       "      <td>1.010778e+00</td>\n",
       "      <td>1.009294e+00</td>\n",
       "      <td>1.008867e+00</td>\n",
       "      <td>1.008407e+00</td>\n",
       "      <td>1.007961e+00</td>\n",
       "    </tr>\n",
       "    <tr>\n",
       "      <th>min</th>\n",
       "      <td>-7.990512e+00</td>\n",
       "      <td>-5.337635e+01</td>\n",
       "      <td>-9.835455e+01</td>\n",
       "      <td>-7.036460e+01</td>\n",
       "      <td>-1.117090e+02</td>\n",
       "      <td>-2.414619e+01</td>\n",
       "      <td>-1.239665e+01</td>\n",
       "      <td>-5.413255e+01</td>\n",
       "      <td>-9.599251e+01</td>\n",
       "      <td>-1.180664e+02</td>\n",
       "      <td>...</td>\n",
       "      <td>-4.487069e+00</td>\n",
       "      <td>-3.780968e+00</td>\n",
       "      <td>-6.632077e+00</td>\n",
       "      <td>-4.565285e+00</td>\n",
       "      <td>-6.374972e+00</td>\n",
       "      <td>-5.106658e+00</td>\n",
       "      <td>-3.968695e+00</td>\n",
       "      <td>-4.077860e+00</td>\n",
       "      <td>-4.461192e+00</td>\n",
       "      <td>-4.828997e+00</td>\n",
       "    </tr>\n",
       "    <tr>\n",
       "      <th>25%</th>\n",
       "      <td>-6.284841e+00</td>\n",
       "      <td>-2.269306e+00</td>\n",
       "      <td>2.664510e-01</td>\n",
       "      <td>-8.785377e-01</td>\n",
       "      <td>-3.179992e-01</td>\n",
       "      <td>-4.179711e+00</td>\n",
       "      <td>-1.230432e+00</td>\n",
       "      <td>-1.447882e+00</td>\n",
       "      <td>-2.587097e-01</td>\n",
       "      <td>-3.725885e-01</td>\n",
       "      <td>...</td>\n",
       "      <td>-6.798554e-01</td>\n",
       "      <td>-6.832919e-01</td>\n",
       "      <td>-6.739698e-01</td>\n",
       "      <td>-6.691316e-01</td>\n",
       "      <td>-6.726447e-01</td>\n",
       "      <td>-6.777834e-01</td>\n",
       "      <td>-6.795461e-01</td>\n",
       "      <td>-6.746630e-01</td>\n",
       "      <td>-6.714004e-01</td>\n",
       "      <td>-6.858286e-01</td>\n",
       "    </tr>\n",
       "    <tr>\n",
       "      <th>50%</th>\n",
       "      <td>-6.125781e+00</td>\n",
       "      <td>-1.883728e+00</td>\n",
       "      <td>7.065141e-01</td>\n",
       "      <td>-5.336844e-01</td>\n",
       "      <td>8.617797e-02</td>\n",
       "      <td>-3.927136e+00</td>\n",
       "      <td>-7.925083e-01</td>\n",
       "      <td>4.530243e-01</td>\n",
       "      <td>1.819773e-01</td>\n",
       "      <td>1.703973e-01</td>\n",
       "      <td>...</td>\n",
       "      <td>4.167662e-03</td>\n",
       "      <td>-4.680592e-03</td>\n",
       "      <td>4.003264e-03</td>\n",
       "      <td>-5.725629e-03</td>\n",
       "      <td>7.176693e-03</td>\n",
       "      <td>-3.743243e-03</td>\n",
       "      <td>7.047510e-03</td>\n",
       "      <td>2.159961e-03</td>\n",
       "      <td>1.666376e-03</td>\n",
       "      <td>-2.281807e-03</td>\n",
       "    </tr>\n",
       "    <tr>\n",
       "      <th>75%</th>\n",
       "      <td>-5.937634e+00</td>\n",
       "      <td>-1.464262e+00</td>\n",
       "      <td>1.130377e+00</td>\n",
       "      <td>-9.670580e-02</td>\n",
       "      <td>5.026450e-01</td>\n",
       "      <td>2.093530e+00</td>\n",
       "      <td>-5.368707e-01</td>\n",
       "      <td>6.564108e-01</td>\n",
       "      <td>5.953468e-01</td>\n",
       "      <td>7.488283e-01</td>\n",
       "      <td>...</td>\n",
       "      <td>6.770583e-01</td>\n",
       "      <td>6.880356e-01</td>\n",
       "      <td>6.766032e-01</td>\n",
       "      <td>6.708254e-01</td>\n",
       "      <td>6.861179e-01</td>\n",
       "      <td>6.793633e-01</td>\n",
       "      <td>6.846972e-01</td>\n",
       "      <td>6.913195e-01</td>\n",
       "      <td>6.744505e-01</td>\n",
       "      <td>6.800307e-01</td>\n",
       "    </tr>\n",
       "    <tr>\n",
       "      <th>max</th>\n",
       "      <td>2.609487e+02</td>\n",
       "      <td>3.317192e+02</td>\n",
       "      <td>2.944544e+02</td>\n",
       "      <td>7.107089e+02</td>\n",
       "      <td>1.156876e+02</td>\n",
       "      <td>1.488138e+02</td>\n",
       "      <td>6.510218e+01</td>\n",
       "      <td>8.488038e+01</td>\n",
       "      <td>1.020225e+02</td>\n",
       "      <td>1.437308e+02</td>\n",
       "      <td>...</td>\n",
       "      <td>6.281684e+00</td>\n",
       "      <td>4.557646e+00</td>\n",
       "      <td>7.336868e+00</td>\n",
       "      <td>4.643448e+00</td>\n",
       "      <td>6.466784e+00</td>\n",
       "      <td>5.728602e+00</td>\n",
       "      <td>4.315357e+00</td>\n",
       "      <td>4.273075e+00</td>\n",
       "      <td>5.946938e+00</td>\n",
       "      <td>5.983772e+00</td>\n",
       "    </tr>\n",
       "  </tbody>\n",
       "</table>\n",
       "<p>8 rows × 256 columns</p>\n",
       "</div>"
      ],
      "text/plain": [
       "                  0             1             2             3             4  \\\n",
       "count  2.767100e+04  2.767100e+04  2.767100e+04  2.767100e+04  2.767100e+04   \n",
       "mean  -1.533248e-15 -1.045570e-15  1.025509e-15 -7.985694e-16  7.390460e-16   \n",
       "std    3.714928e+01  1.835446e+01  1.367432e+01  1.172752e+01  7.809187e+00   \n",
       "min   -7.990512e+00 -5.337635e+01 -9.835455e+01 -7.036460e+01 -1.117090e+02   \n",
       "25%   -6.284841e+00 -2.269306e+00  2.664510e-01 -8.785377e-01 -3.179992e-01   \n",
       "50%   -6.125781e+00 -1.883728e+00  7.065141e-01 -5.336844e-01  8.617797e-02   \n",
       "75%   -5.937634e+00 -1.464262e+00  1.130377e+00 -9.670580e-02  5.026450e-01   \n",
       "max    2.609487e+02  3.317192e+02  2.944544e+02  7.107089e+02  1.156876e+02   \n",
       "\n",
       "                  5             6             7             8             9  \\\n",
       "count  2.767100e+04  2.767100e+04  2.767100e+04  2.767100e+04  2.767100e+04   \n",
       "mean  -5.950933e-16 -3.486624e-18 -7.198836e-16  3.920476e-16  1.947414e-16   \n",
       "std    7.613003e+00  6.279206e+00  5.864037e+00  4.673321e+00  4.575065e+00   \n",
       "min   -2.414619e+01 -1.239665e+01 -5.413255e+01 -9.599251e+01 -1.180664e+02   \n",
       "25%   -4.179711e+00 -1.230432e+00 -1.447882e+00 -2.587097e-01 -3.725885e-01   \n",
       "50%   -3.927136e+00 -7.925083e-01  4.530243e-01  1.819773e-01  1.703973e-01   \n",
       "75%    2.093530e+00 -5.368707e-01  6.564108e-01  5.953468e-01  7.488283e-01   \n",
       "max    1.488138e+02  6.510218e+01  8.488038e+01  1.020225e+02  1.437308e+02   \n",
       "\n",
       "       ...           246           247           248           249  \\\n",
       "count  ...  2.767100e+04  2.767100e+04  2.767100e+04  2.767100e+04   \n",
       "mean   ... -2.360449e-15  3.235065e-15 -5.880679e-16 -2.777025e-15   \n",
       "std    ...  1.015379e+00  1.014439e+00  1.013780e+00  1.012395e+00   \n",
       "min    ... -4.487069e+00 -3.780968e+00 -6.632077e+00 -4.565285e+00   \n",
       "25%    ... -6.798554e-01 -6.832919e-01 -6.739698e-01 -6.691316e-01   \n",
       "50%    ...  4.167662e-03 -4.680592e-03  4.003264e-03 -5.725629e-03   \n",
       "75%    ...  6.770583e-01  6.880356e-01  6.766032e-01  6.708254e-01   \n",
       "max    ...  6.281684e+00  4.557646e+00  7.336868e+00  4.643448e+00   \n",
       "\n",
       "                250           251           252           253           254  \\\n",
       "count  2.767100e+04  2.767100e+04  2.767100e+04  2.767100e+04  2.767100e+04   \n",
       "mean   2.169796e-15 -7.289813e-16 -9.816359e-16 -1.870829e-15 -3.627079e-15   \n",
       "std    1.012365e+00  1.010778e+00  1.009294e+00  1.008867e+00  1.008407e+00   \n",
       "min   -6.374972e+00 -5.106658e+00 -3.968695e+00 -4.077860e+00 -4.461192e+00   \n",
       "25%   -6.726447e-01 -6.777834e-01 -6.795461e-01 -6.746630e-01 -6.714004e-01   \n",
       "50%    7.176693e-03 -3.743243e-03  7.047510e-03  2.159961e-03  1.666376e-03   \n",
       "75%    6.861179e-01  6.793633e-01  6.846972e-01  6.913195e-01  6.744505e-01   \n",
       "max    6.466784e+00  5.728602e+00  4.315357e+00  4.273075e+00  5.946938e+00   \n",
       "\n",
       "                255  \n",
       "count  2.767100e+04  \n",
       "mean  -3.091500e-15  \n",
       "std    1.007961e+00  \n",
       "min   -4.828997e+00  \n",
       "25%   -6.858286e-01  \n",
       "50%   -2.281807e-03  \n",
       "75%    6.800307e-01  \n",
       "max    5.983772e+00  \n",
       "\n",
       "[8 rows x 256 columns]"
      ]
     },
     "execution_count": 9,
     "metadata": {},
     "output_type": "execute_result"
    }
   ],
   "source": [
    "X_train.describe()"
   ]
  },
  {
   "cell_type": "code",
   "execution_count": 10,
   "id": "suffering-challenge",
   "metadata": {
    "execution": {
     "iopub.execute_input": "2021-04-14T04:42:45.739966Z",
     "iopub.status.busy": "2021-04-14T04:42:45.739374Z",
     "iopub.status.idle": "2021-04-14T04:42:45.743203Z",
     "shell.execute_reply": "2021-04-14T04:42:45.742404Z"
    },
    "papermill": {
     "duration": 0.04129,
     "end_time": "2021-04-14T04:42:45.743395",
     "exception": false,
     "start_time": "2021-04-14T04:42:45.702105",
     "status": "completed"
    },
    "tags": []
   },
   "outputs": [
    {
     "name": "stdout",
     "output_type": "stream",
     "text": [
      "<class 'pandas.core.frame.DataFrame'>\n",
      "RangeIndex: 27671 entries, 0 to 27670\n",
      "Columns: 256 entries, 0 to 255\n",
      "dtypes: float64(256)\n",
      "memory usage: 54.0 MB\n"
     ]
    }
   ],
   "source": [
    "X_train.info()"
   ]
  },
  {
   "cell_type": "markdown",
   "id": "compressed-tamil",
   "metadata": {
    "papermill": {
     "duration": 0.017118,
     "end_time": "2021-04-14T04:42:45.778971",
     "exception": false,
     "start_time": "2021-04-14T04:42:45.761853",
     "status": "completed"
    },
    "tags": []
   },
   "source": [
    "## standard scaling\n",
    "> standard scaling이 데이터들의 분포 모양을 맞춰줄 수 있을까?"
   ]
  },
  {
   "cell_type": "code",
   "execution_count": 11,
   "id": "outstanding-publicity",
   "metadata": {
    "execution": {
     "iopub.execute_input": "2021-04-14T04:42:45.822375Z",
     "iopub.status.busy": "2021-04-14T04:42:45.821408Z",
     "iopub.status.idle": "2021-04-14T04:42:46.003498Z",
     "shell.execute_reply": "2021-04-14T04:42:46.002674Z"
    },
    "papermill": {
     "duration": 0.207195,
     "end_time": "2021-04-14T04:42:46.003646",
     "exception": false,
     "start_time": "2021-04-14T04:42:45.796451",
     "status": "completed"
    },
    "tags": []
   },
   "outputs": [],
   "source": [
    "std_scaler = StandardScaler()\n",
    "std_scaler.fit(X_train)\n",
    "\n",
    "X_train_std = std_scaler.transform(X_train)\n",
    "X_test_std = std_scaler.transform(X_test)"
   ]
  },
  {
   "cell_type": "markdown",
   "id": "extensive-scottish",
   "metadata": {
    "papermill": {
     "duration": 0.017352,
     "end_time": "2021-04-14T04:42:46.039064",
     "exception": false,
     "start_time": "2021-04-14T04:42:46.021712",
     "status": "completed"
    },
    "tags": []
   },
   "source": [
    "## 하이퍼파라미터 조정없이 확인"
   ]
  },
  {
   "cell_type": "code",
   "execution_count": 12,
   "id": "ready-appraisal",
   "metadata": {
    "execution": {
     "iopub.execute_input": "2021-04-14T04:42:46.080978Z",
     "iopub.status.busy": "2021-04-14T04:42:46.080023Z",
     "iopub.status.idle": "2021-04-14T04:42:46.083899Z",
     "shell.execute_reply": "2021-04-14T04:42:46.083218Z"
    },
    "papermill": {
     "duration": 0.027409,
     "end_time": "2021-04-14T04:42:46.084028",
     "exception": false,
     "start_time": "2021-04-14T04:42:46.056619",
     "status": "completed"
    },
    "tags": []
   },
   "outputs": [],
   "source": [
    "def check_score_whitout_params(model, X, y, metric, \n",
    "                               test_size=None, \n",
    "                               stratify=None,\n",
    "                               random_state=None):\n",
    "    X_train, X_test, y_train, y_test = train_test_split(\n",
    "        X, y, test_size=test_size, random_state=random_state, stratify=stratify)\n",
    "    \n",
    "    model.fit(X_train, y_train)\n",
    "    y_train_pred = model.predict(X_train)\n",
    "    y_test_pred = model.predict(X_test)\n",
    "    \n",
    "    print(f'train: {metric(y_train, y_train_pred)}')\n",
    "    print(f'test: {metric(y_test, y_test_pred)}')"
   ]
  },
  {
   "cell_type": "markdown",
   "id": "checked-perry",
   "metadata": {
    "papermill": {
     "duration": 0.016603,
     "end_time": "2021-04-14T04:42:46.117876",
     "exception": false,
     "start_time": "2021-04-14T04:42:46.101273",
     "status": "completed"
    },
    "tags": []
   },
   "source": [
    "### LDA"
   ]
  },
  {
   "cell_type": "markdown",
   "id": "official-typing",
   "metadata": {
    "papermill": {
     "duration": 0.016692,
     "end_time": "2021-04-14T04:42:46.152586",
     "exception": false,
     "start_time": "2021-04-14T04:42:46.135894",
     "status": "completed"
    },
    "tags": []
   },
   "source": [
    "#### standard scaling -> X"
   ]
  },
  {
   "cell_type": "code",
   "execution_count": 13,
   "id": "determined-community",
   "metadata": {
    "execution": {
     "iopub.execute_input": "2021-04-14T04:42:46.192959Z",
     "iopub.status.busy": "2021-04-14T04:42:46.192051Z",
     "iopub.status.idle": "2021-04-14T04:42:47.621739Z",
     "shell.execute_reply": "2021-04-14T04:42:47.622625Z"
    },
    "papermill": {
     "duration": 1.453244,
     "end_time": "2021-04-14T04:42:47.622882",
     "exception": false,
     "start_time": "2021-04-14T04:42:46.169638",
     "status": "completed"
    },
    "tags": []
   },
   "outputs": [
    {
     "name": "stdout",
     "output_type": "stream",
     "text": [
      "train: 0.6868404568014262\n",
      "test: 0.5897658282740676\n"
     ]
    }
   ],
   "source": [
    "check_score_whitout_params(LinearDiscriminantAnalysis(),\n",
    "                           X_train, y_train, \n",
    "                           accuracy_score, \n",
    "                           random_state=RANDOM_STATE)"
   ]
  },
  {
   "cell_type": "markdown",
   "id": "optional-invention",
   "metadata": {
    "papermill": {
     "duration": 0.031694,
     "end_time": "2021-04-14T04:42:47.686627",
     "exception": false,
     "start_time": "2021-04-14T04:42:47.654933",
     "status": "completed"
    },
    "tags": []
   },
   "source": [
    "#### standard scaling -> O"
   ]
  },
  {
   "cell_type": "code",
   "execution_count": 14,
   "id": "psychological-lender",
   "metadata": {
    "execution": {
     "iopub.execute_input": "2021-04-14T04:42:47.740419Z",
     "iopub.status.busy": "2021-04-14T04:42:47.739709Z",
     "iopub.status.idle": "2021-04-14T04:42:49.034167Z",
     "shell.execute_reply": "2021-04-14T04:42:49.034998Z"
    },
    "papermill": {
     "duration": 1.317994,
     "end_time": "2021-04-14T04:42:49.035263",
     "exception": false,
     "start_time": "2021-04-14T04:42:47.717269",
     "status": "completed"
    },
    "tags": []
   },
   "outputs": [
    {
     "name": "stdout",
     "output_type": "stream",
     "text": [
      "train: 0.6868404568014262\n",
      "test: 0.5897658282740676\n"
     ]
    }
   ],
   "source": [
    "check_score_whitout_params(LinearDiscriminantAnalysis(),\n",
    "                           X_train_std, y_train, \n",
    "                           accuracy_score, \n",
    "                           random_state=RANDOM_STATE)"
   ]
  },
  {
   "cell_type": "markdown",
   "id": "varied-governor",
   "metadata": {
    "papermill": {
     "duration": 0.032478,
     "end_time": "2021-04-14T04:42:49.100829",
     "exception": false,
     "start_time": "2021-04-14T04:42:49.068351",
     "status": "completed"
    },
    "tags": []
   },
   "source": [
    "### QDA\n",
    "> over fitting??"
   ]
  },
  {
   "cell_type": "markdown",
   "id": "perceived-chick",
   "metadata": {
    "papermill": {
     "duration": 0.017862,
     "end_time": "2021-04-14T04:42:49.150785",
     "exception": false,
     "start_time": "2021-04-14T04:42:49.132923",
     "status": "completed"
    },
    "tags": []
   },
   "source": [
    "#### standard scaling -> X"
   ]
  },
  {
   "cell_type": "code",
   "execution_count": 15,
   "id": "undefined-flashing",
   "metadata": {
    "execution": {
     "iopub.execute_input": "2021-04-14T04:42:49.192525Z",
     "iopub.status.busy": "2021-04-14T04:42:49.191615Z",
     "iopub.status.idle": "2021-04-14T04:43:05.889422Z",
     "shell.execute_reply": "2021-04-14T04:43:05.890182Z"
    },
    "papermill": {
     "duration": 16.721579,
     "end_time": "2021-04-14T04:43:05.890450",
     "exception": false,
     "start_time": "2021-04-14T04:42:49.168871",
     "status": "completed"
    },
    "tags": []
   },
   "outputs": [
    {
     "name": "stderr",
     "output_type": "stream",
     "text": [
      "/opt/conda/lib/python3.7/site-packages/sklearn/discriminant_analysis.py:808: UserWarning: Variables are collinear\n",
      "  warnings.warn(\"Variables are collinear\")\n"
     ]
    },
    {
     "name": "stdout",
     "output_type": "stream",
     "text": [
      "train: 0.9967715511010456\n",
      "test: 0.3431627638045678\n"
     ]
    }
   ],
   "source": [
    "check_score_whitout_params(QuadraticDiscriminantAnalysis(),\n",
    "                           X_train, y_train, \n",
    "                           accuracy_score, \n",
    "                           random_state=RANDOM_STATE)"
   ]
  },
  {
   "cell_type": "markdown",
   "id": "phantom-grass",
   "metadata": {
    "papermill": {
     "duration": 0.033773,
     "end_time": "2021-04-14T04:43:05.958525",
     "exception": false,
     "start_time": "2021-04-14T04:43:05.924752",
     "status": "completed"
    },
    "tags": []
   },
   "source": [
    "#### standard scaling -> O"
   ]
  },
  {
   "cell_type": "code",
   "execution_count": 16,
   "id": "following-wrist",
   "metadata": {
    "execution": {
     "iopub.execute_input": "2021-04-14T04:43:06.005729Z",
     "iopub.status.busy": "2021-04-14T04:43:06.005068Z",
     "iopub.status.idle": "2021-04-14T04:43:22.316080Z",
     "shell.execute_reply": "2021-04-14T04:43:22.316911Z"
    },
    "papermill": {
     "duration": 16.335912,
     "end_time": "2021-04-14T04:43:22.317369",
     "exception": false,
     "start_time": "2021-04-14T04:43:05.981457",
     "status": "completed"
    },
    "tags": []
   },
   "outputs": [
    {
     "name": "stderr",
     "output_type": "stream",
     "text": [
      "/opt/conda/lib/python3.7/site-packages/sklearn/discriminant_analysis.py:808: UserWarning: Variables are collinear\n",
      "  warnings.warn(\"Variables are collinear\")\n"
     ]
    },
    {
     "name": "stdout",
     "output_type": "stream",
     "text": [
      "train: 0.9205416084421529\n",
      "test: 0.3431627638045678\n"
     ]
    }
   ],
   "source": [
    "check_score_whitout_params(QuadraticDiscriminantAnalysis(),\n",
    "                           X_train_std, y_train, \n",
    "                           accuracy_score, \n",
    "                           random_state=RANDOM_STATE)"
   ]
  },
  {
   "cell_type": "markdown",
   "id": "indirect-discharge",
   "metadata": {
    "papermill": {
     "duration": 0.035351,
     "end_time": "2021-04-14T04:43:22.388264",
     "exception": false,
     "start_time": "2021-04-14T04:43:22.352913",
     "status": "completed"
    },
    "tags": []
   },
   "source": [
    "### standard scaling 한 데이터로 LDA 이용 제출해보기"
   ]
  },
  {
   "cell_type": "code",
   "execution_count": 17,
   "id": "engaging-herald",
   "metadata": {
    "execution": {
     "iopub.execute_input": "2021-04-14T04:43:22.436004Z",
     "iopub.status.busy": "2021-04-14T04:43:22.434946Z",
     "iopub.status.idle": "2021-04-14T04:43:24.339712Z",
     "shell.execute_reply": "2021-04-14T04:43:24.340759Z"
    },
    "papermill": {
     "duration": 1.930599,
     "end_time": "2021-04-14T04:43:24.341025",
     "exception": false,
     "start_time": "2021-04-14T04:43:22.410426",
     "status": "completed"
    },
    "tags": []
   },
   "outputs": [],
   "source": [
    "cld_std=LinearDiscriminantAnalysis(store_covariance=True)\n",
    "cld_std.fit(X_train_std, y_train)\n",
    "\n",
    "y_test_std_pred = cld_std.predict(X_test_std)\n",
    "sample_submission['label'] = y_test_std_pred"
   ]
  },
  {
   "cell_type": "code",
   "execution_count": 18,
   "id": "every-violation",
   "metadata": {
    "execution": {
     "iopub.execute_input": "2021-04-14T04:43:24.427282Z",
     "iopub.status.busy": "2021-04-14T04:43:24.426713Z",
     "iopub.status.idle": "2021-04-14T04:43:24.449606Z",
     "shell.execute_reply": "2021-04-14T04:43:24.450076Z"
    },
    "papermill": {
     "duration": 0.06388,
     "end_time": "2021-04-14T04:43:24.450245",
     "exception": false,
     "start_time": "2021-04-14T04:43:24.386365",
     "status": "completed"
    },
    "tags": []
   },
   "outputs": [],
   "source": [
    "sample_submission.to_csv('submission_LDA_std_no_params.csv', index=False)"
   ]
  }
 ],
 "metadata": {
  "kernelspec": {
   "display_name": "Python 3",
   "language": "python",
   "name": "python3"
  },
  "language_info": {
   "codemirror_mode": {
    "name": "ipython",
    "version": 3
   },
   "file_extension": ".py",
   "mimetype": "text/x-python",
   "name": "python",
   "nbconvert_exporter": "python",
   "pygments_lexer": "ipython3",
   "version": "3.7.9"
  },
  "papermill": {
   "default_parameters": {},
   "duration": 51.690537,
   "end_time": "2021-04-14T04:43:25.078099",
   "environment_variables": {},
   "exception": null,
   "input_path": "__notebook__.ipynb",
   "output_path": "__notebook__.ipynb",
   "parameters": {},
   "start_time": "2021-04-14T04:42:33.387562",
   "version": "2.3.2"
  }
 },
 "nbformat": 4,
 "nbformat_minor": 5
}

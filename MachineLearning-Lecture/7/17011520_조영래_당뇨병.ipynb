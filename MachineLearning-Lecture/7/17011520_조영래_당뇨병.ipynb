{
 "cells": [
  {
   "cell_type": "code",
   "execution_count": 1,
   "id": "patent-florist",
   "metadata": {
    "_cell_guid": "b1076dfc-b9ad-4769-8c92-a6c4dae69d19",
    "_uuid": "8f2839f25d086af736a60e9eeb907d3b93b6e0e5",
    "execution": {
     "iopub.execute_input": "2021-04-14T05:59:51.606829Z",
     "iopub.status.busy": "2021-04-14T05:59:51.605626Z",
     "iopub.status.idle": "2021-04-14T05:59:51.615927Z",
     "shell.execute_reply": "2021-04-14T05:59:51.614833Z"
    },
    "papermill": {
     "duration": 0.027907,
     "end_time": "2021-04-14T05:59:51.616254",
     "exception": false,
     "start_time": "2021-04-14T05:59:51.588347",
     "status": "completed"
    },
    "tags": []
   },
   "outputs": [
    {
     "name": "stdout",
     "output_type": "stream",
     "text": [
      "/kaggle/input/2021-ml-diabetes/X_test.csv\n",
      "/kaggle/input/2021-ml-diabetes/submit.csv\n",
      "/kaggle/input/2021-ml-diabetes/data.csv\n"
     ]
    }
   ],
   "source": [
    "# This Python 3 environment comes with many helpful analytics libraries installed\n",
    "# It is defined by the kaggle/python Docker image: https://github.com/kaggle/docker-python\n",
    "# For example, here's several helpful packages to load\n",
    "\n",
    "import numpy as np # linear algebra\n",
    "import pandas as pd # data processing, CSV file I/ O (e.g. pd.read_csv)\n",
    "\n",
    "# Input data files are available in the read-only \"../input/\" directory\n",
    "# For example, running this (by clicking run or pressing Shift+Enter) will list all files under the input directory\n",
    "\n",
    "import os\n",
    "for dirname, _, filenames in os.walk('/kaggle/input'):\n",
    "    for filename in filenames:\n",
    "        print(os.path.join(dirname, filename))\n",
    "\n",
    "# You can write up to 20GB to the current directory (/kaggle/working/) that gets preserved as output when you create a version using \"Save & Run All\" \n",
    "# You can also write temporary files to /kaggle/temp/, but they won't be saved outside of the current session"
   ]
  },
  {
   "cell_type": "code",
   "execution_count": 2,
   "id": "utility-minnesota",
   "metadata": {
    "execution": {
     "iopub.execute_input": "2021-04-14T05:59:51.650352Z",
     "iopub.status.busy": "2021-04-14T05:59:51.649608Z",
     "iopub.status.idle": "2021-04-14T05:59:51.687325Z",
     "shell.execute_reply": "2021-04-14T05:59:51.686733Z"
    },
    "papermill": {
     "duration": 0.056431,
     "end_time": "2021-04-14T05:59:51.687471",
     "exception": false,
     "start_time": "2021-04-14T05:59:51.631040",
     "status": "completed"
    },
    "tags": []
   },
   "outputs": [],
   "source": [
    "RANDOM_STATE = 42\n",
    "file_dir = '/kaggle/input/2021-ml-diabetes/'\n",
    "\n",
    "train = pd.read_csv(file_dir+'data.csv')\n",
    "X_test = pd.read_csv(file_dir+'X_test.csv')\n",
    "submit = pd.read_csv(file_dir+'submit.csv')"
   ]
  },
  {
   "cell_type": "code",
   "execution_count": 3,
   "id": "amazing-fiction",
   "metadata": {
    "execution": {
     "iopub.execute_input": "2021-04-14T05:59:51.718208Z",
     "iopub.status.busy": "2021-04-14T05:59:51.717226Z",
     "iopub.status.idle": "2021-04-14T05:59:53.002887Z",
     "shell.execute_reply": "2021-04-14T05:59:53.002188Z"
    },
    "papermill": {
     "duration": 1.302155,
     "end_time": "2021-04-14T05:59:53.003036",
     "exception": false,
     "start_time": "2021-04-14T05:59:51.700881",
     "status": "completed"
    },
    "tags": []
   },
   "outputs": [],
   "source": [
    "from sklearn.model_selection import train_test_split\n",
    "from sklearn.discriminant_analysis import LinearDiscriminantAnalysis, QuadraticDiscriminantAnalysis\n",
    "from sklearn.metrics import accuracy_score\n",
    "from sklearn.preprocessing import StandardScaler"
   ]
  },
  {
   "cell_type": "markdown",
   "id": "advanced-hughes",
   "metadata": {
    "papermill": {
     "duration": 0.013345,
     "end_time": "2021-04-14T05:59:53.030851",
     "exception": false,
     "start_time": "2021-04-14T05:59:53.017506",
     "status": "completed"
    },
    "tags": []
   },
   "source": [
    "## 데이터 확인"
   ]
  },
  {
   "cell_type": "code",
   "execution_count": 4,
   "id": "passive-evanescence",
   "metadata": {
    "execution": {
     "iopub.execute_input": "2021-04-14T05:59:53.072839Z",
     "iopub.status.busy": "2021-04-14T05:59:53.071215Z",
     "iopub.status.idle": "2021-04-14T05:59:53.093988Z",
     "shell.execute_reply": "2021-04-14T05:59:53.093378Z"
    },
    "papermill": {
     "duration": 0.048976,
     "end_time": "2021-04-14T05:59:53.094120",
     "exception": false,
     "start_time": "2021-04-14T05:59:53.045144",
     "status": "completed"
    },
    "tags": []
   },
   "outputs": [
    {
     "data": {
      "text/html": [
       "<div>\n",
       "<style scoped>\n",
       "    .dataframe tbody tr th:only-of-type {\n",
       "        vertical-align: middle;\n",
       "    }\n",
       "\n",
       "    .dataframe tbody tr th {\n",
       "        vertical-align: top;\n",
       "    }\n",
       "\n",
       "    .dataframe thead th {\n",
       "        text-align: right;\n",
       "    }\n",
       "</style>\n",
       "<table border=\"1\" class=\"dataframe\">\n",
       "  <thead>\n",
       "    <tr style=\"text-align: right;\">\n",
       "      <th></th>\n",
       "      <th>Pregnancies</th>\n",
       "      <th>Glucose</th>\n",
       "      <th>BloodPressure</th>\n",
       "      <th>SkinThickness</th>\n",
       "      <th>Insulin</th>\n",
       "      <th>BMI</th>\n",
       "      <th>DiabetesPedigreeFunction</th>\n",
       "      <th>Age</th>\n",
       "      <th>Diabetes</th>\n",
       "    </tr>\n",
       "  </thead>\n",
       "  <tbody>\n",
       "    <tr>\n",
       "      <th>0</th>\n",
       "      <td>1</td>\n",
       "      <td>95</td>\n",
       "      <td>60</td>\n",
       "      <td>18</td>\n",
       "      <td>58</td>\n",
       "      <td>23.9</td>\n",
       "      <td>0.260</td>\n",
       "      <td>22</td>\n",
       "      <td>0</td>\n",
       "    </tr>\n",
       "    <tr>\n",
       "      <th>1</th>\n",
       "      <td>5</td>\n",
       "      <td>105</td>\n",
       "      <td>72</td>\n",
       "      <td>29</td>\n",
       "      <td>325</td>\n",
       "      <td>36.9</td>\n",
       "      <td>0.159</td>\n",
       "      <td>28</td>\n",
       "      <td>0</td>\n",
       "    </tr>\n",
       "    <tr>\n",
       "      <th>2</th>\n",
       "      <td>0</td>\n",
       "      <td>135</td>\n",
       "      <td>68</td>\n",
       "      <td>42</td>\n",
       "      <td>250</td>\n",
       "      <td>42.3</td>\n",
       "      <td>0.365</td>\n",
       "      <td>24</td>\n",
       "      <td>1</td>\n",
       "    </tr>\n",
       "    <tr>\n",
       "      <th>3</th>\n",
       "      <td>4</td>\n",
       "      <td>131</td>\n",
       "      <td>68</td>\n",
       "      <td>21</td>\n",
       "      <td>166</td>\n",
       "      <td>33.1</td>\n",
       "      <td>0.160</td>\n",
       "      <td>28</td>\n",
       "      <td>0</td>\n",
       "    </tr>\n",
       "    <tr>\n",
       "      <th>4</th>\n",
       "      <td>1</td>\n",
       "      <td>103</td>\n",
       "      <td>30</td>\n",
       "      <td>38</td>\n",
       "      <td>83</td>\n",
       "      <td>43.3</td>\n",
       "      <td>0.183</td>\n",
       "      <td>33</td>\n",
       "      <td>0</td>\n",
       "    </tr>\n",
       "  </tbody>\n",
       "</table>\n",
       "</div>"
      ],
      "text/plain": [
       "   Pregnancies  Glucose  BloodPressure  SkinThickness  Insulin   BMI  \\\n",
       "0            1       95             60             18       58  23.9   \n",
       "1            5      105             72             29      325  36.9   \n",
       "2            0      135             68             42      250  42.3   \n",
       "3            4      131             68             21      166  33.1   \n",
       "4            1      103             30             38       83  43.3   \n",
       "\n",
       "   DiabetesPedigreeFunction  Age  Diabetes  \n",
       "0                     0.260   22         0  \n",
       "1                     0.159   28         0  \n",
       "2                     0.365   24         1  \n",
       "3                     0.160   28         0  \n",
       "4                     0.183   33         0  "
      ]
     },
     "execution_count": 4,
     "metadata": {},
     "output_type": "execute_result"
    }
   ],
   "source": [
    "train.head()"
   ]
  },
  {
   "cell_type": "code",
   "execution_count": 5,
   "id": "bright-moisture",
   "metadata": {
    "execution": {
     "iopub.execute_input": "2021-04-14T05:59:53.142477Z",
     "iopub.status.busy": "2021-04-14T05:59:53.141817Z",
     "iopub.status.idle": "2021-04-14T05:59:53.146187Z",
     "shell.execute_reply": "2021-04-14T05:59:53.145364Z"
    },
    "papermill": {
     "duration": 0.036852,
     "end_time": "2021-04-14T05:59:53.146356",
     "exception": false,
     "start_time": "2021-04-14T05:59:53.109504",
     "status": "completed"
    },
    "tags": []
   },
   "outputs": [
    {
     "name": "stdout",
     "output_type": "stream",
     "text": [
      "<class 'pandas.core.frame.DataFrame'>\n",
      "RangeIndex: 537 entries, 0 to 536\n",
      "Data columns (total 9 columns):\n",
      " #   Column                    Non-Null Count  Dtype  \n",
      "---  ------                    --------------  -----  \n",
      " 0   Pregnancies               537 non-null    int64  \n",
      " 1   Glucose                   537 non-null    int64  \n",
      " 2   BloodPressure             537 non-null    int64  \n",
      " 3   SkinThickness             537 non-null    int64  \n",
      " 4   Insulin                   537 non-null    int64  \n",
      " 5   BMI                       537 non-null    float64\n",
      " 6   DiabetesPedigreeFunction  537 non-null    float64\n",
      " 7   Age                       537 non-null    int64  \n",
      " 8   Diabetes                  537 non-null    int64  \n",
      "dtypes: float64(2), int64(7)\n",
      "memory usage: 37.9 KB\n"
     ]
    }
   ],
   "source": [
    "train.info()"
   ]
  },
  {
   "cell_type": "code",
   "execution_count": 6,
   "id": "systematic-curve",
   "metadata": {
    "execution": {
     "iopub.execute_input": "2021-04-14T05:59:53.182790Z",
     "iopub.status.busy": "2021-04-14T05:59:53.181967Z",
     "iopub.status.idle": "2021-04-14T05:59:53.184376Z",
     "shell.execute_reply": "2021-04-14T05:59:53.184809Z"
    },
    "papermill": {
     "duration": 0.023652,
     "end_time": "2021-04-14T05:59:53.184990",
     "exception": false,
     "start_time": "2021-04-14T05:59:53.161338",
     "status": "completed"
    },
    "tags": []
   },
   "outputs": [],
   "source": [
    "y_train = train['Diabetes']\n",
    "X_train = train.drop('Diabetes', axis=1)"
   ]
  },
  {
   "cell_type": "code",
   "execution_count": 7,
   "id": "configured-agent",
   "metadata": {
    "execution": {
     "iopub.execute_input": "2021-04-14T05:59:53.219378Z",
     "iopub.status.busy": "2021-04-14T05:59:53.218790Z",
     "iopub.status.idle": "2021-04-14T05:59:53.225279Z",
     "shell.execute_reply": "2021-04-14T05:59:53.225692Z"
    },
    "papermill": {
     "duration": 0.025341,
     "end_time": "2021-04-14T05:59:53.225902",
     "exception": false,
     "start_time": "2021-04-14T05:59:53.200561",
     "status": "completed"
    },
    "tags": []
   },
   "outputs": [
    {
     "data": {
      "text/plain": [
       "0    349\n",
       "1    188\n",
       "Name: Diabetes, dtype: int64"
      ]
     },
     "execution_count": 7,
     "metadata": {},
     "output_type": "execute_result"
    }
   ],
   "source": [
    "y_train.value_counts()"
   ]
  },
  {
   "cell_type": "code",
   "execution_count": 8,
   "id": "trained-aruba",
   "metadata": {
    "execution": {
     "iopub.execute_input": "2021-04-14T05:59:53.260873Z",
     "iopub.status.busy": "2021-04-14T05:59:53.260242Z",
     "iopub.status.idle": "2021-04-14T05:59:53.293870Z",
     "shell.execute_reply": "2021-04-14T05:59:53.294285Z"
    },
    "papermill": {
     "duration": 0.053239,
     "end_time": "2021-04-14T05:59:53.294468",
     "exception": false,
     "start_time": "2021-04-14T05:59:53.241229",
     "status": "completed"
    },
    "tags": []
   },
   "outputs": [
    {
     "data": {
      "text/html": [
       "<div>\n",
       "<style scoped>\n",
       "    .dataframe tbody tr th:only-of-type {\n",
       "        vertical-align: middle;\n",
       "    }\n",
       "\n",
       "    .dataframe tbody tr th {\n",
       "        vertical-align: top;\n",
       "    }\n",
       "\n",
       "    .dataframe thead th {\n",
       "        text-align: right;\n",
       "    }\n",
       "</style>\n",
       "<table border=\"1\" class=\"dataframe\">\n",
       "  <thead>\n",
       "    <tr style=\"text-align: right;\">\n",
       "      <th></th>\n",
       "      <th>Pregnancies</th>\n",
       "      <th>Glucose</th>\n",
       "      <th>BloodPressure</th>\n",
       "      <th>SkinThickness</th>\n",
       "      <th>Insulin</th>\n",
       "      <th>BMI</th>\n",
       "      <th>DiabetesPedigreeFunction</th>\n",
       "      <th>Age</th>\n",
       "    </tr>\n",
       "  </thead>\n",
       "  <tbody>\n",
       "    <tr>\n",
       "      <th>count</th>\n",
       "      <td>537.000000</td>\n",
       "      <td>537.000000</td>\n",
       "      <td>537.000000</td>\n",
       "      <td>537.000000</td>\n",
       "      <td>537.000000</td>\n",
       "      <td>537.000000</td>\n",
       "      <td>537.000000</td>\n",
       "      <td>537.000000</td>\n",
       "    </tr>\n",
       "    <tr>\n",
       "      <th>mean</th>\n",
       "      <td>3.726257</td>\n",
       "      <td>120.849162</td>\n",
       "      <td>69.685289</td>\n",
       "      <td>20.432030</td>\n",
       "      <td>79.836127</td>\n",
       "      <td>31.975605</td>\n",
       "      <td>0.469920</td>\n",
       "      <td>33.074488</td>\n",
       "    </tr>\n",
       "    <tr>\n",
       "      <th>std</th>\n",
       "      <td>3.262965</td>\n",
       "      <td>32.339523</td>\n",
       "      <td>18.094374</td>\n",
       "      <td>15.490715</td>\n",
       "      <td>115.196730</td>\n",
       "      <td>7.624495</td>\n",
       "      <td>0.342087</td>\n",
       "      <td>11.685319</td>\n",
       "    </tr>\n",
       "    <tr>\n",
       "      <th>min</th>\n",
       "      <td>0.000000</td>\n",
       "      <td>0.000000</td>\n",
       "      <td>0.000000</td>\n",
       "      <td>0.000000</td>\n",
       "      <td>0.000000</td>\n",
       "      <td>0.000000</td>\n",
       "      <td>0.078000</td>\n",
       "      <td>21.000000</td>\n",
       "    </tr>\n",
       "    <tr>\n",
       "      <th>25%</th>\n",
       "      <td>1.000000</td>\n",
       "      <td>99.000000</td>\n",
       "      <td>64.000000</td>\n",
       "      <td>0.000000</td>\n",
       "      <td>0.000000</td>\n",
       "      <td>26.800000</td>\n",
       "      <td>0.241000</td>\n",
       "      <td>24.000000</td>\n",
       "    </tr>\n",
       "    <tr>\n",
       "      <th>50%</th>\n",
       "      <td>3.000000</td>\n",
       "      <td>117.000000</td>\n",
       "      <td>72.000000</td>\n",
       "      <td>23.000000</td>\n",
       "      <td>36.000000</td>\n",
       "      <td>32.000000</td>\n",
       "      <td>0.374000</td>\n",
       "      <td>29.000000</td>\n",
       "    </tr>\n",
       "    <tr>\n",
       "      <th>75%</th>\n",
       "      <td>6.000000</td>\n",
       "      <td>139.000000</td>\n",
       "      <td>80.000000</td>\n",
       "      <td>32.000000</td>\n",
       "      <td>129.000000</td>\n",
       "      <td>36.500000</td>\n",
       "      <td>0.612000</td>\n",
       "      <td>41.000000</td>\n",
       "    </tr>\n",
       "    <tr>\n",
       "      <th>max</th>\n",
       "      <td>17.000000</td>\n",
       "      <td>199.000000</td>\n",
       "      <td>122.000000</td>\n",
       "      <td>63.000000</td>\n",
       "      <td>846.000000</td>\n",
       "      <td>67.100000</td>\n",
       "      <td>2.420000</td>\n",
       "      <td>81.000000</td>\n",
       "    </tr>\n",
       "  </tbody>\n",
       "</table>\n",
       "</div>"
      ],
      "text/plain": [
       "       Pregnancies     Glucose  BloodPressure  SkinThickness     Insulin  \\\n",
       "count   537.000000  537.000000     537.000000     537.000000  537.000000   \n",
       "mean      3.726257  120.849162      69.685289      20.432030   79.836127   \n",
       "std       3.262965   32.339523      18.094374      15.490715  115.196730   \n",
       "min       0.000000    0.000000       0.000000       0.000000    0.000000   \n",
       "25%       1.000000   99.000000      64.000000       0.000000    0.000000   \n",
       "50%       3.000000  117.000000      72.000000      23.000000   36.000000   \n",
       "75%       6.000000  139.000000      80.000000      32.000000  129.000000   \n",
       "max      17.000000  199.000000     122.000000      63.000000  846.000000   \n",
       "\n",
       "              BMI  DiabetesPedigreeFunction         Age  \n",
       "count  537.000000                537.000000  537.000000  \n",
       "mean    31.975605                  0.469920   33.074488  \n",
       "std      7.624495                  0.342087   11.685319  \n",
       "min      0.000000                  0.078000   21.000000  \n",
       "25%     26.800000                  0.241000   24.000000  \n",
       "50%     32.000000                  0.374000   29.000000  \n",
       "75%     36.500000                  0.612000   41.000000  \n",
       "max     67.100000                  2.420000   81.000000  "
      ]
     },
     "execution_count": 8,
     "metadata": {},
     "output_type": "execute_result"
    }
   ],
   "source": [
    "X_train.describe()"
   ]
  },
  {
   "cell_type": "markdown",
   "id": "elder-representative",
   "metadata": {
    "papermill": {
     "duration": 0.014915,
     "end_time": "2021-04-14T05:59:53.324899",
     "exception": false,
     "start_time": "2021-04-14T05:59:53.309984",
     "status": "completed"
    },
    "tags": []
   },
   "source": [
    "## standard scaling"
   ]
  },
  {
   "cell_type": "code",
   "execution_count": 9,
   "id": "romance-screen",
   "metadata": {
    "execution": {
     "iopub.execute_input": "2021-04-14T05:59:53.363166Z",
     "iopub.status.busy": "2021-04-14T05:59:53.362524Z",
     "iopub.status.idle": "2021-04-14T05:59:53.369587Z",
     "shell.execute_reply": "2021-04-14T05:59:53.370050Z"
    },
    "papermill": {
     "duration": 0.029367,
     "end_time": "2021-04-14T05:59:53.370237",
     "exception": false,
     "start_time": "2021-04-14T05:59:53.340870",
     "status": "completed"
    },
    "tags": []
   },
   "outputs": [],
   "source": [
    "std_scaler = StandardScaler()\n",
    "std_scaler.fit(X_train)\n",
    "\n",
    "X_train_std = std_scaler.transform(X_train)\n",
    "X_test_std = std_scaler.transform(X_test)"
   ]
  },
  {
   "cell_type": "markdown",
   "id": "medieval-obligation",
   "metadata": {
    "papermill": {
     "duration": 0.015343,
     "end_time": "2021-04-14T05:59:53.401223",
     "exception": false,
     "start_time": "2021-04-14T05:59:53.385880",
     "status": "completed"
    },
    "tags": []
   },
   "source": [
    "## 하이퍼파라미터 조정없이 확인"
   ]
  },
  {
   "cell_type": "code",
   "execution_count": 10,
   "id": "qualified-shore",
   "metadata": {
    "execution": {
     "iopub.execute_input": "2021-04-14T05:59:53.436657Z",
     "iopub.status.busy": "2021-04-14T05:59:53.436054Z",
     "iopub.status.idle": "2021-04-14T05:59:53.441095Z",
     "shell.execute_reply": "2021-04-14T05:59:53.441514Z"
    },
    "papermill": {
     "duration": 0.024731,
     "end_time": "2021-04-14T05:59:53.441806",
     "exception": false,
     "start_time": "2021-04-14T05:59:53.417075",
     "status": "completed"
    },
    "tags": []
   },
   "outputs": [],
   "source": [
    "def check_score_whitout_params(model, X, y, metric, \n",
    "                               test_size=None, \n",
    "                               stratify=None,\n",
    "                               random_state=None):\n",
    "    X_train, X_test, y_train, y_test = train_test_split(\n",
    "        X, y, test_size=test_size, random_state=random_state, stratify=stratify)\n",
    "    \n",
    "    model.fit(X_train, y_train)\n",
    "    y_train_pred = model.predict(X_train)\n",
    "    y_test_pred = model.predict(X_test)\n",
    "    \n",
    "    print(f'train: {metric(y_train, y_train_pred)}')\n",
    "    print(f'test: {metric(y_test, y_test_pred)}')"
   ]
  },
  {
   "cell_type": "markdown",
   "id": "sought-dakota",
   "metadata": {
    "papermill": {
     "duration": 0.015795,
     "end_time": "2021-04-14T05:59:53.474200",
     "exception": false,
     "start_time": "2021-04-14T05:59:53.458405",
     "status": "completed"
    },
    "tags": []
   },
   "source": [
    "### LDA"
   ]
  },
  {
   "cell_type": "markdown",
   "id": "assured-spokesman",
   "metadata": {
    "papermill": {
     "duration": 0.017182,
     "end_time": "2021-04-14T05:59:53.507451",
     "exception": false,
     "start_time": "2021-04-14T05:59:53.490269",
     "status": "completed"
    },
    "tags": []
   },
   "source": [
    "#### standard scaling -> X"
   ]
  },
  {
   "cell_type": "code",
   "execution_count": 11,
   "id": "fifty-triple",
   "metadata": {
    "execution": {
     "iopub.execute_input": "2021-04-14T05:59:53.543310Z",
     "iopub.status.busy": "2021-04-14T05:59:53.542682Z",
     "iopub.status.idle": "2021-04-14T05:59:53.573958Z",
     "shell.execute_reply": "2021-04-14T05:59:53.574457Z"
    },
    "papermill": {
     "duration": 0.050785,
     "end_time": "2021-04-14T05:59:53.574629",
     "exception": false,
     "start_time": "2021-04-14T05:59:53.523844",
     "status": "completed"
    },
    "tags": []
   },
   "outputs": [
    {
     "name": "stdout",
     "output_type": "stream",
     "text": [
      "train: 0.7935323383084577\n",
      "test: 0.7555555555555555\n"
     ]
    }
   ],
   "source": [
    "check_score_whitout_params(LinearDiscriminantAnalysis(),\n",
    "                           X_train, y_train, \n",
    "                           accuracy_score, \n",
    "                           random_state=RANDOM_STATE)"
   ]
  },
  {
   "cell_type": "code",
   "execution_count": 12,
   "id": "commercial-times",
   "metadata": {
    "execution": {
     "iopub.execute_input": "2021-04-14T05:59:53.615007Z",
     "iopub.status.busy": "2021-04-14T05:59:53.614259Z",
     "iopub.status.idle": "2021-04-14T05:59:53.617278Z",
     "shell.execute_reply": "2021-04-14T05:59:53.616644Z"
    },
    "papermill": {
     "duration": 0.02603,
     "end_time": "2021-04-14T05:59:53.617417",
     "exception": false,
     "start_time": "2021-04-14T05:59:53.591387",
     "status": "completed"
    },
    "tags": []
   },
   "outputs": [],
   "source": [
    "# cld=LinearDiscriminantAnalysis(store_covariance=True)\n",
    "# cld.fit(X_train, y_train)\n",
    "\n",
    "# y_test_pred = cld.predict(X_test)\n",
    "# submit['Diabetes'] = y_test_pred\n",
    "# submit.to_csv('submission_LDA_no_params.csv', index=False)"
   ]
  },
  {
   "cell_type": "markdown",
   "id": "artistic-greenhouse",
   "metadata": {
    "papermill": {
     "duration": 0.015908,
     "end_time": "2021-04-14T05:59:53.649450",
     "exception": false,
     "start_time": "2021-04-14T05:59:53.633542",
     "status": "completed"
    },
    "tags": []
   },
   "source": [
    "#### standard scaling -> O"
   ]
  },
  {
   "cell_type": "code",
   "execution_count": 13,
   "id": "global-calculator",
   "metadata": {
    "execution": {
     "iopub.execute_input": "2021-04-14T05:59:53.688028Z",
     "iopub.status.busy": "2021-04-14T05:59:53.687077Z",
     "iopub.status.idle": "2021-04-14T05:59:53.695742Z",
     "shell.execute_reply": "2021-04-14T05:59:53.695194Z"
    },
    "papermill": {
     "duration": 0.030532,
     "end_time": "2021-04-14T05:59:53.695886",
     "exception": false,
     "start_time": "2021-04-14T05:59:53.665354",
     "status": "completed"
    },
    "tags": []
   },
   "outputs": [
    {
     "name": "stdout",
     "output_type": "stream",
     "text": [
      "train: 0.7935323383084577\n",
      "test: 0.7555555555555555\n"
     ]
    }
   ],
   "source": [
    "check_score_whitout_params(LinearDiscriminantAnalysis(),\n",
    "                           X_train_std, y_train, \n",
    "                           accuracy_score, \n",
    "                           random_state=RANDOM_STATE)"
   ]
  },
  {
   "cell_type": "code",
   "execution_count": 14,
   "id": "charged-gasoline",
   "metadata": {
    "execution": {
     "iopub.execute_input": "2021-04-14T05:59:53.734290Z",
     "iopub.status.busy": "2021-04-14T05:59:53.733499Z",
     "iopub.status.idle": "2021-04-14T05:59:53.736287Z",
     "shell.execute_reply": "2021-04-14T05:59:53.735784Z"
    },
    "papermill": {
     "duration": 0.023758,
     "end_time": "2021-04-14T05:59:53.736424",
     "exception": false,
     "start_time": "2021-04-14T05:59:53.712666",
     "status": "completed"
    },
    "tags": []
   },
   "outputs": [],
   "source": [
    "# cld_std=LinearDiscriminantAnalysis(store_covariance=True)\n",
    "# cld_std.fit(X_train_std, y_train)\n",
    "\n",
    "# y_test_std_pred = cld_std.predict(X_test_std)\n",
    "# submit['Diabetes'] = y_test_std_pred\n",
    "# submit.to_csv('submission_LDA_std_no_params.csv', index=False)"
   ]
  },
  {
   "cell_type": "markdown",
   "id": "referenced-alarm",
   "metadata": {
    "papermill": {
     "duration": 0.016323,
     "end_time": "2021-04-14T05:59:53.772500",
     "exception": false,
     "start_time": "2021-04-14T05:59:53.756177",
     "status": "completed"
    },
    "tags": []
   },
   "source": [
    "### QDA"
   ]
  },
  {
   "cell_type": "markdown",
   "id": "upper-judges",
   "metadata": {
    "papermill": {
     "duration": 0.017438,
     "end_time": "2021-04-14T05:59:53.806901",
     "exception": false,
     "start_time": "2021-04-14T05:59:53.789463",
     "status": "completed"
    },
    "tags": []
   },
   "source": [
    "#### standard scaling -> X"
   ]
  },
  {
   "cell_type": "code",
   "execution_count": 15,
   "id": "friendly-designation",
   "metadata": {
    "execution": {
     "iopub.execute_input": "2021-04-14T05:59:53.850850Z",
     "iopub.status.busy": "2021-04-14T05:59:53.850131Z",
     "iopub.status.idle": "2021-04-14T05:59:53.873691Z",
     "shell.execute_reply": "2021-04-14T05:59:53.872736Z"
    },
    "papermill": {
     "duration": 0.049694,
     "end_time": "2021-04-14T05:59:53.873911",
     "exception": false,
     "start_time": "2021-04-14T05:59:53.824217",
     "status": "completed"
    },
    "tags": []
   },
   "outputs": [
    {
     "name": "stdout",
     "output_type": "stream",
     "text": [
      "train: 0.7686567164179104\n",
      "test: 0.7037037037037037\n"
     ]
    }
   ],
   "source": [
    "check_score_whitout_params(QuadraticDiscriminantAnalysis(),\n",
    "                           X_train, y_train, \n",
    "                           accuracy_score, \n",
    "                           random_state=RANDOM_STATE)"
   ]
  },
  {
   "cell_type": "code",
   "execution_count": 16,
   "id": "cleared-sleeping",
   "metadata": {
    "execution": {
     "iopub.execute_input": "2021-04-14T05:59:53.915996Z",
     "iopub.status.busy": "2021-04-14T05:59:53.915327Z",
     "iopub.status.idle": "2021-04-14T05:59:53.924646Z",
     "shell.execute_reply": "2021-04-14T05:59:53.925154Z"
    },
    "papermill": {
     "duration": 0.033901,
     "end_time": "2021-04-14T05:59:53.925342",
     "exception": false,
     "start_time": "2021-04-14T05:59:53.891441",
     "status": "completed"
    },
    "tags": []
   },
   "outputs": [],
   "source": [
    "cqd=QuadraticDiscriminantAnalysis(store_covariance=True)\n",
    "cqd.fit(X_train, y_train)\n",
    "\n",
    "y_test_pred = cqd.predict(X_test)\n",
    "submit['Diabetes'] = y_test_pred\n",
    "submit.to_csv('submission_QDA_no_params.csv', index=False)"
   ]
  },
  {
   "cell_type": "markdown",
   "id": "federal-failing",
   "metadata": {
    "papermill": {
     "duration": 0.017065,
     "end_time": "2021-04-14T05:59:53.959252",
     "exception": false,
     "start_time": "2021-04-14T05:59:53.942187",
     "status": "completed"
    },
    "tags": []
   },
   "source": [
    "#### standard scaling -> O"
   ]
  },
  {
   "cell_type": "code",
   "execution_count": 17,
   "id": "nonprofit-pricing",
   "metadata": {
    "execution": {
     "iopub.execute_input": "2021-04-14T05:59:53.996810Z",
     "iopub.status.busy": "2021-04-14T05:59:53.995853Z",
     "iopub.status.idle": "2021-04-14T05:59:54.006610Z",
     "shell.execute_reply": "2021-04-14T05:59:54.007088Z"
    },
    "papermill": {
     "duration": 0.031104,
     "end_time": "2021-04-14T05:59:54.007271",
     "exception": false,
     "start_time": "2021-04-14T05:59:53.976167",
     "status": "completed"
    },
    "tags": []
   },
   "outputs": [
    {
     "name": "stdout",
     "output_type": "stream",
     "text": [
      "train: 0.7686567164179104\n",
      "test: 0.7037037037037037\n"
     ]
    }
   ],
   "source": [
    "check_score_whitout_params(QuadraticDiscriminantAnalysis(),\n",
    "                           X_train_std, y_train, \n",
    "                           accuracy_score, \n",
    "                           random_state=RANDOM_STATE)"
   ]
  },
  {
   "cell_type": "code",
   "execution_count": 18,
   "id": "artistic-briefing",
   "metadata": {
    "execution": {
     "iopub.execute_input": "2021-04-14T05:59:54.046977Z",
     "iopub.status.busy": "2021-04-14T05:59:54.045997Z",
     "iopub.status.idle": "2021-04-14T05:59:54.049796Z",
     "shell.execute_reply": "2021-04-14T05:59:54.050293Z"
    },
    "papermill": {
     "duration": 0.025337,
     "end_time": "2021-04-14T05:59:54.050475",
     "exception": false,
     "start_time": "2021-04-14T05:59:54.025138",
     "status": "completed"
    },
    "tags": []
   },
   "outputs": [],
   "source": [
    "# cqd_std = QuadraticDiscriminantAnalysis(store_covariance=True)\n",
    "# cqd_std.fit(X_train_std, y_train)\n",
    "\n",
    "# y_test_std_pred = cqd_std.predict(X_test_std)\n",
    "# submit['Diabetes'] = y_test_std_pred\n",
    "# submit.to_csv('submission_QDA_std_no_params.csv', index=False)"
   ]
  }
 ],
 "metadata": {
  "kernelspec": {
   "display_name": "Python 3",
   "language": "python",
   "name": "python3"
  },
  "language_info": {
   "codemirror_mode": {
    "name": "ipython",
    "version": 3
   },
   "file_extension": ".py",
   "mimetype": "text/x-python",
   "name": "python",
   "nbconvert_exporter": "python",
   "pygments_lexer": "ipython3",
   "version": "3.7.9"
  },
  "papermill": {
   "default_parameters": {},
   "duration": 8.914363,
   "end_time": "2021-04-14T05:59:54.678224",
   "environment_variables": {},
   "exception": null,
   "input_path": "__notebook__.ipynb",
   "output_path": "__notebook__.ipynb",
   "parameters": {},
   "start_time": "2021-04-14T05:59:45.763861",
   "version": "2.3.2"
  }
 },
 "nbformat": 4,
 "nbformat_minor": 5
}

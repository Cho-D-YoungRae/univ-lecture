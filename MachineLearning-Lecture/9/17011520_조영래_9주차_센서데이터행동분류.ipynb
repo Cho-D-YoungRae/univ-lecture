{
 "cells": [
  {
   "cell_type": "code",
   "execution_count": 1,
   "id": "diagnostic-glance",
   "metadata": {
    "execution": {
     "iopub.execute_input": "2021-05-01T04:59:27.195894Z",
     "iopub.status.busy": "2021-05-01T04:59:27.195162Z",
     "iopub.status.idle": "2021-05-01T04:59:27.255862Z",
     "shell.execute_reply": "2021-05-01T04:59:27.254761Z"
    },
    "papermill": {
     "duration": 0.154952,
     "end_time": "2021-05-01T04:59:27.256091",
     "exception": false,
     "start_time": "2021-05-01T04:59:27.101139",
     "status": "completed"
    },
    "tags": []
   },
   "outputs": [
    {
     "name": "stdout",
     "output_type": "stream",
     "text": [
      "/kaggle/input/2021-ml-p10/Feature_engineering.py\n",
      "/kaggle/input/2021-ml-p10/activity_labels.txt\n",
      "/kaggle/input/2021-ml-p10/features_info.txt\n",
      "/kaggle/input/2021-ml-p10/data_loader.py\n",
      "/kaggle/input/2021-ml-p10/features.txt\n",
      "/kaggle/input/2021-ml-p10/sample_submit.csv\n",
      "/kaggle/input/2021-ml-p10/RawData/acc_exp28_user14.txt\n",
      "/kaggle/input/2021-ml-p10/RawData/acc_exp45_user22.txt\n",
      "/kaggle/input/2021-ml-p10/RawData/acc_exp15_user08.txt\n",
      "/kaggle/input/2021-ml-p10/RawData/acc_exp05_user03.txt\n",
      "/kaggle/input/2021-ml-p10/RawData/gyro_exp13_user07.txt\n",
      "/kaggle/input/2021-ml-p10/RawData/acc_exp43_user21.txt\n",
      "/kaggle/input/2021-ml-p10/RawData/acc_exp11_user06.txt\n",
      "/kaggle/input/2021-ml-p10/RawData/gyro_exp26_user13.txt\n",
      "/kaggle/input/2021-ml-p10/RawData/acc_exp39_user19.txt\n",
      "/kaggle/input/2021-ml-p10/RawData/gyro_exp05_user03.txt\n",
      "/kaggle/input/2021-ml-p10/RawData/label_train.txt\n",
      "/kaggle/input/2021-ml-p10/RawData/acc_exp13_user07.txt\n",
      "/kaggle/input/2021-ml-p10/RawData/gyro_exp54_user27.txt\n",
      "/kaggle/input/2021-ml-p10/RawData/gyro_exp40_user20.txt\n",
      "/kaggle/input/2021-ml-p10/RawData/acc_exp61_user30.txt\n",
      "/kaggle/input/2021-ml-p10/RawData/gyro_exp32_user16.txt\n",
      "/kaggle/input/2021-ml-p10/RawData/gyro_exp38_user19.txt\n",
      "/kaggle/input/2021-ml-p10/RawData/acc_exp35_user17.txt\n",
      "/kaggle/input/2021-ml-p10/RawData/gyro_exp18_user09.txt\n",
      "/kaggle/input/2021-ml-p10/RawData/acc_exp23_user11.txt\n",
      "/kaggle/input/2021-ml-p10/RawData/gyro_exp59_user29.txt\n",
      "/kaggle/input/2021-ml-p10/RawData/gyro_exp19_user10.txt\n",
      "/kaggle/input/2021-ml-p10/RawData/gyro_exp46_user23.txt\n",
      "/kaggle/input/2021-ml-p10/RawData/acc_exp41_user20.txt\n",
      "/kaggle/input/2021-ml-p10/RawData/gyro_exp17_user09.txt\n",
      "/kaggle/input/2021-ml-p10/RawData/gyro_exp28_user14.txt\n",
      "/kaggle/input/2021-ml-p10/RawData/gyro_exp29_user14.txt\n",
      "/kaggle/input/2021-ml-p10/RawData/gyro_exp50_user25.txt\n",
      "/kaggle/input/2021-ml-p10/RawData/gyro_exp11_user06.txt\n",
      "/kaggle/input/2021-ml-p10/RawData/acc_exp06_user03.txt\n",
      "/kaggle/input/2021-ml-p10/RawData/acc_exp26_user13.txt\n",
      "/kaggle/input/2021-ml-p10/RawData/gyro_exp44_user22.txt\n",
      "/kaggle/input/2021-ml-p10/RawData/gyro_exp60_user30.txt\n",
      "/kaggle/input/2021-ml-p10/RawData/gyro_exp36_user18.txt\n",
      "/kaggle/input/2021-ml-p10/RawData/acc_exp60_user30.txt\n",
      "/kaggle/input/2021-ml-p10/RawData/acc_exp46_user23.txt\n",
      "/kaggle/input/2021-ml-p10/RawData/gyro_exp45_user22.txt\n",
      "/kaggle/input/2021-ml-p10/RawData/acc_exp18_user09.txt\n",
      "/kaggle/input/2021-ml-p10/RawData/acc_exp08_user04.txt\n",
      "/kaggle/input/2021-ml-p10/RawData/acc_exp49_user24.txt\n",
      "/kaggle/input/2021-ml-p10/RawData/gyro_exp06_user03.txt\n",
      "/kaggle/input/2021-ml-p10/RawData/gyro_exp42_user21.txt\n",
      "/kaggle/input/2021-ml-p10/RawData/acc_exp37_user18.txt\n",
      "/kaggle/input/2021-ml-p10/RawData/acc_exp50_user25.txt\n",
      "/kaggle/input/2021-ml-p10/RawData/acc_exp40_user20.txt\n",
      "/kaggle/input/2021-ml-p10/RawData/acc_exp32_user16.txt\n",
      "/kaggle/input/2021-ml-p10/RawData/gyro_exp53_user26.txt\n",
      "/kaggle/input/2021-ml-p10/RawData/acc_exp52_user26.txt\n",
      "/kaggle/input/2021-ml-p10/RawData/gyro_exp27_user13.txt\n",
      "/kaggle/input/2021-ml-p10/RawData/gyro_exp52_user26.txt\n",
      "/kaggle/input/2021-ml-p10/RawData/acc_exp01_user01.txt\n",
      "/kaggle/input/2021-ml-p10/RawData/acc_exp12_user06.txt\n",
      "/kaggle/input/2021-ml-p10/RawData/acc_exp44_user22.txt\n",
      "/kaggle/input/2021-ml-p10/RawData/acc_exp09_user05.txt\n",
      "/kaggle/input/2021-ml-p10/RawData/label_test.txt\n",
      "/kaggle/input/2021-ml-p10/RawData/gyro_exp01_user01.txt\n",
      "/kaggle/input/2021-ml-p10/RawData/acc_exp27_user13.txt\n",
      "/kaggle/input/2021-ml-p10/RawData/acc_exp59_user29.txt\n",
      "/kaggle/input/2021-ml-p10/RawData/gyro_exp49_user24.txt\n",
      "/kaggle/input/2021-ml-p10/RawData/gyro_exp51_user25.txt\n",
      "/kaggle/input/2021-ml-p10/RawData/acc_exp21_user10.txt\n",
      "/kaggle/input/2021-ml-p10/RawData/gyro_exp20_user10.txt\n",
      "/kaggle/input/2021-ml-p10/RawData/gyro_exp25_user12.txt\n",
      "/kaggle/input/2021-ml-p10/RawData/gyro_exp12_user06.txt\n",
      "/kaggle/input/2021-ml-p10/RawData/acc_exp55_user27.txt\n",
      "/kaggle/input/2021-ml-p10/RawData/gyro_exp23_user11.txt\n",
      "/kaggle/input/2021-ml-p10/RawData/acc_exp24_user12.txt\n",
      "/kaggle/input/2021-ml-p10/RawData/gyro_exp22_user11.txt\n",
      "/kaggle/input/2021-ml-p10/RawData/gyro_exp31_user15.txt\n",
      "/kaggle/input/2021-ml-p10/RawData/acc_exp19_user10.txt\n",
      "/kaggle/input/2021-ml-p10/RawData/acc_exp03_user02.txt\n",
      "/kaggle/input/2021-ml-p10/RawData/acc_exp04_user02.txt\n",
      "/kaggle/input/2021-ml-p10/RawData/acc_exp33_user16.txt\n",
      "/kaggle/input/2021-ml-p10/RawData/acc_exp07_user04.txt\n",
      "/kaggle/input/2021-ml-p10/RawData/acc_exp53_user26.txt\n",
      "/kaggle/input/2021-ml-p10/RawData/acc_exp22_user11.txt\n",
      "/kaggle/input/2021-ml-p10/RawData/acc_exp16_user08.txt\n",
      "/kaggle/input/2021-ml-p10/RawData/gyro_exp14_user07.txt\n",
      "/kaggle/input/2021-ml-p10/RawData/gyro_exp07_user04.txt\n",
      "/kaggle/input/2021-ml-p10/RawData/acc_exp57_user28.txt\n",
      "/kaggle/input/2021-ml-p10/RawData/gyro_exp09_user05.txt\n",
      "/kaggle/input/2021-ml-p10/RawData/gyro_exp48_user24.txt\n",
      "/kaggle/input/2021-ml-p10/RawData/gyro_exp56_user28.txt\n",
      "/kaggle/input/2021-ml-p10/RawData/gyro_exp35_user17.txt\n",
      "/kaggle/input/2021-ml-p10/RawData/gyro_exp02_user01.txt\n",
      "/kaggle/input/2021-ml-p10/RawData/acc_exp20_user10.txt\n",
      "/kaggle/input/2021-ml-p10/RawData/gyro_exp03_user02.txt\n",
      "/kaggle/input/2021-ml-p10/RawData/gyro_exp61_user30.txt\n",
      "/kaggle/input/2021-ml-p10/RawData/acc_exp51_user25.txt\n",
      "/kaggle/input/2021-ml-p10/RawData/gyro_exp37_user18.txt\n",
      "/kaggle/input/2021-ml-p10/RawData/acc_exp36_user18.txt\n",
      "/kaggle/input/2021-ml-p10/RawData/gyro_exp34_user17.txt\n",
      "/kaggle/input/2021-ml-p10/RawData/acc_exp48_user24.txt\n",
      "/kaggle/input/2021-ml-p10/RawData/acc_exp10_user05.txt\n",
      "/kaggle/input/2021-ml-p10/RawData/gyro_exp08_user04.txt\n",
      "/kaggle/input/2021-ml-p10/RawData/acc_exp56_user28.txt\n",
      "/kaggle/input/2021-ml-p10/RawData/gyro_exp41_user20.txt\n",
      "/kaggle/input/2021-ml-p10/RawData/acc_exp31_user15.txt\n",
      "/kaggle/input/2021-ml-p10/RawData/gyro_exp16_user08.txt\n",
      "/kaggle/input/2021-ml-p10/RawData/gyro_exp57_user28.txt\n",
      "/kaggle/input/2021-ml-p10/RawData/acc_exp42_user21.txt\n",
      "/kaggle/input/2021-ml-p10/RawData/acc_exp54_user27.txt\n",
      "/kaggle/input/2021-ml-p10/RawData/acc_exp34_user17.txt\n",
      "/kaggle/input/2021-ml-p10/RawData/gyro_exp55_user27.txt\n",
      "/kaggle/input/2021-ml-p10/RawData/gyro_exp04_user02.txt\n",
      "/kaggle/input/2021-ml-p10/RawData/acc_exp30_user15.txt\n",
      "/kaggle/input/2021-ml-p10/RawData/gyro_exp43_user21.txt\n",
      "/kaggle/input/2021-ml-p10/RawData/acc_exp29_user14.txt\n",
      "/kaggle/input/2021-ml-p10/RawData/gyro_exp47_user23.txt\n",
      "/kaggle/input/2021-ml-p10/RawData/gyro_exp58_user29.txt\n",
      "/kaggle/input/2021-ml-p10/RawData/gyro_exp39_user19.txt\n",
      "/kaggle/input/2021-ml-p10/RawData/gyro_exp21_user10.txt\n",
      "/kaggle/input/2021-ml-p10/RawData/acc_exp14_user07.txt\n",
      "/kaggle/input/2021-ml-p10/RawData/acc_exp17_user09.txt\n",
      "/kaggle/input/2021-ml-p10/RawData/acc_exp02_user01.txt\n",
      "/kaggle/input/2021-ml-p10/RawData/gyro_exp33_user16.txt\n",
      "/kaggle/input/2021-ml-p10/RawData/gyro_exp30_user15.txt\n",
      "/kaggle/input/2021-ml-p10/RawData/gyro_exp24_user12.txt\n",
      "/kaggle/input/2021-ml-p10/RawData/gyro_exp15_user08.txt\n",
      "/kaggle/input/2021-ml-p10/RawData/acc_exp38_user19.txt\n",
      "/kaggle/input/2021-ml-p10/RawData/acc_exp25_user12.txt\n",
      "/kaggle/input/2021-ml-p10/RawData/gyro_exp10_user05.txt\n",
      "/kaggle/input/2021-ml-p10/RawData/acc_exp47_user23.txt\n",
      "/kaggle/input/2021-ml-p10/RawData/acc_exp58_user29.txt\n"
     ]
    }
   ],
   "source": [
    "# This Python 3 environment comes with many helpful analytics libraries installed\n",
    "# It is defined by the kaggle/python Docker image: https://github.com/kaggle/docker-python\n",
    "# For example, here's several helpful packages to load\n",
    "\n",
    "import numpy as np # linear algebra\n",
    "import pandas as pd # data processing, CSV file I/O (e.g. pd.read_csv)\n",
    "\n",
    "# Input data files are available in the read-only \"../input/\" directory\n",
    "# For example, running this (by clicking run or pressing Shift+Enter) will list all files under the input directory\n",
    "\n",
    "import os\n",
    "for dirname, _, filenames in os.walk('/kaggle/input'):\n",
    "    for filename in filenames:\n",
    "        print(os.path.join(dirname, filename))\n",
    "\n",
    "# You can write up to 20GB to the current directory (/kaggle/working/) that gets preserved as output when you create a version using \"Save & Run All\" \n",
    "# You can also write temporary files to /kaggle/temp/, but they won't be saved outside of the current session"
   ]
  },
  {
   "cell_type": "markdown",
   "id": "nutritional-pulse",
   "metadata": {
    "papermill": {
     "duration": 0.079883,
     "end_time": "2021-05-01T04:59:27.419446",
     "exception": false,
     "start_time": "2021-05-01T04:59:27.339563",
     "status": "completed"
    },
    "tags": []
   },
   "source": [
    "# [센서데이터를 이용한 행동분류](https://www.kaggle.com/c/2021-ml-p10)\n",
    "> 기계학습 9주차 실습 - DecisionTree\n",
    "\n",
    "- https://www.kaggle.com/c/2021-ml-p10/discussion/235176"
   ]
  },
  {
   "cell_type": "code",
   "execution_count": 2,
   "id": "supposed-space",
   "metadata": {
    "execution": {
     "iopub.execute_input": "2021-05-01T04:59:27.590262Z",
     "iopub.status.busy": "2021-05-01T04:59:27.589673Z",
     "iopub.status.idle": "2021-05-01T04:59:27.647196Z",
     "shell.execute_reply": "2021-05-01T04:59:27.647721Z"
    },
    "papermill": {
     "duration": 0.148547,
     "end_time": "2021-05-01T04:59:27.647919",
     "exception": false,
     "start_time": "2021-05-01T04:59:27.499372",
     "status": "completed"
    },
    "tags": []
   },
   "outputs": [],
   "source": [
    "# Importing numpy \n",
    "import numpy as np\n",
    "# Importing Scipy \n",
    "import scipy as sp\n",
    "# Importing Pandas Library \n",
    "import pandas as pd\n",
    "# import glob function to scrap files path\n",
    "from glob import glob\n",
    "# import display() for better visualitions of DataFrames and arrays\n",
    "from IPython.display import display\n",
    "# import pyplot for plotting\n",
    "import matplotlib.pyplot as plt\n",
    "plt.style.use('bmh') # for better plots\n",
    "import tqdm\n",
    "\n",
    "# import data_loader for data loading\n",
    "from data_loader import import_raw_signals, import_labels_file,normalize5,normalize2"
   ]
  },
  {
   "cell_type": "markdown",
   "id": "suffering-replication",
   "metadata": {
    "papermill": {
     "duration": 0.079689,
     "end_time": "2021-05-01T04:59:27.808036",
     "exception": false,
     "start_time": "2021-05-01T04:59:27.728347",
     "status": "completed"
    },
    "tags": []
   },
   "source": [
    "## Raw 데이터 불러오기\n",
    "해당 실습문제에서는 데이터셋 로더를 제공합니다. 데이터를 다운받으시면 dataloader.py를 확인하실 수 있습니다. 해당 파이썬 코드에 정의되어 있는 'importrawsignals', 'importlabels_file' 함수를 통해서 Raw 데이터를 불러오시면 됩니다. 이때 캐글 노트북으로 진행하시는 분들은 경로 설정이 중요한데 다음과 같이 설정하시면 됩니다.\n",
    "\n",
    "### Data Tree\n",
    "\n",
    "```\n",
    "+--RawData\n",
    "|  +--acc_exp01_user01.txt\n",
    "|  +--...(61개)\n",
    "|  +--gyro_exp01_user01.txt\n",
    "|  +--...(61개)\n",
    "|  +--label_train.txt\n",
    "|  +--label_test.txt\n",
    "\n",
    "```"
   ]
  },
  {
   "cell_type": "code",
   "execution_count": 3,
   "id": "wireless-highway",
   "metadata": {
    "execution": {
     "iopub.execute_input": "2021-05-01T04:59:27.970934Z",
     "iopub.status.busy": "2021-05-01T04:59:27.970309Z",
     "iopub.status.idle": "2021-05-01T04:59:27.979905Z",
     "shell.execute_reply": "2021-05-01T04:59:27.979314Z"
    },
    "papermill": {
     "duration": 0.091836,
     "end_time": "2021-05-01T04:59:27.980058",
     "exception": false,
     "start_time": "2021-05-01T04:59:27.888222",
     "status": "completed"
    },
    "tags": []
   },
   "outputs": [
    {
     "name": "stdout",
     "output_type": "stream",
     "text": [
      "RawData folder contains in total 124 file \n",
      "The first 61 are Acceleration files:\n",
      "The second 61 are Gyroscope files:\n",
      "The last file is a labels file\n",
      "test labels file path is: /kaggle/input/2021-ml-p10/RawData/label_test.txt\n",
      "train labels file path is: /kaggle/input/2021-ml-p10/RawData/label_train.txt\n"
     ]
    }
   ],
   "source": [
    "Raw_data_paths = sorted(glob(\"/kaggle/input/2021-ml-p10/RawData/*\"))\n",
    "Raw_acc_paths=Raw_data_paths[0:61]\n",
    "Raw_gyro_paths=Raw_data_paths[61:122]\n",
    "\n",
    "print ((\"RawData folder contains in total {:d} file \").format(len(Raw_data_paths)))\n",
    "print ((\"The first {:d} are Acceleration files:\").format(len(Raw_acc_paths)))\n",
    "print ((\"The second {:d} are Gyroscope files:\").format(len(Raw_gyro_paths)))\n",
    "print (\"The last file is a labels file\")\n",
    "print (\"test labels file path is:\",Raw_data_paths[122])\n",
    "print (\"train labels file path is:\",Raw_data_paths[123])"
   ]
  },
  {
   "cell_type": "code",
   "execution_count": 4,
   "id": "convertible-confirmation",
   "metadata": {
    "execution": {
     "iopub.execute_input": "2021-05-01T04:59:28.148991Z",
     "iopub.status.busy": "2021-05-01T04:59:28.148319Z",
     "iopub.status.idle": "2021-05-01T04:59:28.151302Z",
     "shell.execute_reply": "2021-05-01T04:59:28.151771Z"
    },
    "papermill": {
     "duration": 0.09131,
     "end_time": "2021-05-01T04:59:28.151948",
     "exception": false,
     "start_time": "2021-05-01T04:59:28.060638",
     "status": "completed"
    },
    "tags": []
   },
   "outputs": [
    {
     "data": {
      "text/plain": [
       "'/kaggle/input/2021-ml-p10/RawData/acc_exp01_user01.txt'"
      ]
     },
     "execution_count": 4,
     "metadata": {},
     "output_type": "execute_result"
    }
   ],
   "source": [
    "Raw_data_paths[0]"
   ]
  },
  {
   "cell_type": "code",
   "execution_count": 5,
   "id": "casual-passage",
   "metadata": {
    "execution": {
     "iopub.execute_input": "2021-05-01T04:59:28.318737Z",
     "iopub.status.busy": "2021-05-01T04:59:28.318009Z",
     "iopub.status.idle": "2021-05-01T04:59:28.322611Z",
     "shell.execute_reply": "2021-05-01T04:59:28.323072Z"
    },
    "papermill": {
     "duration": 0.089304,
     "end_time": "2021-05-01T04:59:28.323245",
     "exception": false,
     "start_time": "2021-05-01T04:59:28.233941",
     "status": "completed"
    },
    "tags": []
   },
   "outputs": [
    {
     "data": {
      "text/plain": [
       "'exp01_user01'"
      ]
     },
     "execution_count": 5,
     "metadata": {},
     "output_type": "execute_result"
    }
   ],
   "source": [
    "Raw_data_paths[0][-16:-4]"
   ]
  },
  {
   "cell_type": "code",
   "execution_count": 6,
   "id": "elementary-insulin",
   "metadata": {
    "execution": {
     "iopub.execute_input": "2021-05-01T04:59:28.488861Z",
     "iopub.status.busy": "2021-05-01T04:59:28.488266Z",
     "iopub.status.idle": "2021-05-01T04:59:41.830785Z",
     "shell.execute_reply": "2021-05-01T04:59:41.830230Z"
    },
    "papermill": {
     "duration": 13.426453,
     "end_time": "2021-05-01T04:59:41.830943",
     "exception": false,
     "start_time": "2021-05-01T04:59:28.404490",
     "status": "completed"
    },
    "tags": []
   },
   "outputs": [],
   "source": [
    "raw_dic={}\n",
    "raw_acc_columns=['acc_X','acc_Y','acc_Z']\n",
    "raw_gyro_columns=['gyro_X','gyro_Y','gyro_Z']\n",
    "for path_index in range(0,61):\n",
    "        key= Raw_data_paths[path_index][-16:-4]\n",
    "        raw_acc_data_frame=import_raw_signals(Raw_data_paths[path_index],raw_acc_columns)\n",
    "        raw_gyro_data_frame=import_raw_signals(Raw_data_paths[path_index+61],raw_gyro_columns)\n",
    "        raw_signals_data_frame=pd.concat([raw_acc_data_frame, raw_gyro_data_frame], axis=1)\n",
    "        raw_dic[key]=raw_signals_data_frame"
   ]
  },
  {
   "cell_type": "code",
   "execution_count": 7,
   "id": "innocent-score",
   "metadata": {
    "execution": {
     "iopub.execute_input": "2021-05-01T04:59:42.006435Z",
     "iopub.status.busy": "2021-05-01T04:59:42.005553Z",
     "iopub.status.idle": "2021-05-01T04:59:42.026762Z",
     "shell.execute_reply": "2021-05-01T04:59:42.027332Z"
    },
    "papermill": {
     "duration": 0.114873,
     "end_time": "2021-05-01T04:59:42.027534",
     "exception": false,
     "start_time": "2021-05-01T04:59:41.912661",
     "status": "completed"
    },
    "tags": []
   },
   "outputs": [
    {
     "name": "stdout",
     "output_type": "stream",
     "text": [
      "raw_dic contains 61 DataFrame\n"
     ]
    },
    {
     "data": {
      "text/html": [
       "<div>\n",
       "<style scoped>\n",
       "    .dataframe tbody tr th:only-of-type {\n",
       "        vertical-align: middle;\n",
       "    }\n",
       "\n",
       "    .dataframe tbody tr th {\n",
       "        vertical-align: top;\n",
       "    }\n",
       "\n",
       "    .dataframe thead th {\n",
       "        text-align: right;\n",
       "    }\n",
       "</style>\n",
       "<table border=\"1\" class=\"dataframe\">\n",
       "  <thead>\n",
       "    <tr style=\"text-align: right;\">\n",
       "      <th></th>\n",
       "      <th>acc_X</th>\n",
       "      <th>acc_Y</th>\n",
       "      <th>acc_Z</th>\n",
       "      <th>gyro_X</th>\n",
       "      <th>gyro_Y</th>\n",
       "      <th>gyro_Z</th>\n",
       "    </tr>\n",
       "  </thead>\n",
       "  <tbody>\n",
       "    <tr>\n",
       "      <th>0</th>\n",
       "      <td>0.918056</td>\n",
       "      <td>-0.112500</td>\n",
       "      <td>0.509722</td>\n",
       "      <td>-0.054978</td>\n",
       "      <td>-0.069639</td>\n",
       "      <td>-0.030849</td>\n",
       "    </tr>\n",
       "    <tr>\n",
       "      <th>1</th>\n",
       "      <td>0.911111</td>\n",
       "      <td>-0.093056</td>\n",
       "      <td>0.537500</td>\n",
       "      <td>-0.012523</td>\n",
       "      <td>0.019242</td>\n",
       "      <td>-0.038485</td>\n",
       "    </tr>\n",
       "    <tr>\n",
       "      <th>2</th>\n",
       "      <td>0.881944</td>\n",
       "      <td>-0.086111</td>\n",
       "      <td>0.513889</td>\n",
       "      <td>-0.023518</td>\n",
       "      <td>0.276417</td>\n",
       "      <td>0.006414</td>\n",
       "    </tr>\n",
       "  </tbody>\n",
       "</table>\n",
       "</div>"
      ],
      "text/plain": [
       "      acc_X     acc_Y     acc_Z    gyro_X    gyro_Y    gyro_Z\n",
       "0  0.918056 -0.112500  0.509722 -0.054978 -0.069639 -0.030849\n",
       "1  0.911111 -0.093056  0.537500 -0.012523  0.019242 -0.038485\n",
       "2  0.881944 -0.086111  0.513889 -0.023518  0.276417  0.006414"
      ]
     },
     "metadata": {},
     "output_type": "display_data"
    }
   ],
   "source": [
    "print('raw_dic contains %d DataFrame' % len(raw_dic))\n",
    "display(raw_dic['exp01_user01'].head(3))"
   ]
  },
  {
   "cell_type": "code",
   "execution_count": 8,
   "id": "announced-child",
   "metadata": {
    "execution": {
     "iopub.execute_input": "2021-05-01T04:59:42.198272Z",
     "iopub.status.busy": "2021-05-01T04:59:42.197673Z",
     "iopub.status.idle": "2021-05-01T04:59:42.201632Z",
     "shell.execute_reply": "2021-05-01T04:59:42.201146Z"
    },
    "papermill": {
     "duration": 0.091641,
     "end_time": "2021-05-01T04:59:42.201767",
     "exception": false,
     "start_time": "2021-05-01T04:59:42.110126",
     "status": "completed"
    },
    "tags": []
   },
   "outputs": [
    {
     "data": {
      "text/plain": [
       "20598"
      ]
     },
     "execution_count": 8,
     "metadata": {},
     "output_type": "execute_result"
    }
   ],
   "source": [
    "len(raw_dic['exp01_user01'])"
   ]
  },
  {
   "cell_type": "code",
   "execution_count": 9,
   "id": "posted-beach",
   "metadata": {
    "execution": {
     "iopub.execute_input": "2021-05-01T04:59:42.373201Z",
     "iopub.status.busy": "2021-05-01T04:59:42.372594Z",
     "iopub.status.idle": "2021-05-01T04:59:42.386902Z",
     "shell.execute_reply": "2021-05-01T04:59:42.387401Z"
    },
    "papermill": {
     "duration": 0.102872,
     "end_time": "2021-05-01T04:59:42.387569",
     "exception": false,
     "start_time": "2021-05-01T04:59:42.284697",
     "status": "completed"
    },
    "tags": []
   },
   "outputs": [
    {
     "name": "stdout",
     "output_type": "stream",
     "text": [
      "<class 'pandas.core.frame.DataFrame'>\n",
      "RangeIndex: 20598 entries, 0 to 20597\n",
      "Data columns (total 6 columns):\n",
      " #   Column  Non-Null Count  Dtype  \n",
      "---  ------  --------------  -----  \n",
      " 0   acc_X   20598 non-null  float64\n",
      " 1   acc_Y   20598 non-null  float64\n",
      " 2   acc_Z   20598 non-null  float64\n",
      " 3   gyro_X  20598 non-null  float64\n",
      " 4   gyro_Y  20598 non-null  float64\n",
      " 5   gyro_Z  20598 non-null  float64\n",
      "dtypes: float64(6)\n",
      "memory usage: 965.7 KB\n"
     ]
    }
   ],
   "source": [
    "raw_dic['exp01_user01'].info()"
   ]
  },
  {
   "cell_type": "code",
   "execution_count": 10,
   "id": "affecting-newark",
   "metadata": {
    "execution": {
     "iopub.execute_input": "2021-05-01T04:59:42.557199Z",
     "iopub.status.busy": "2021-05-01T04:59:42.556618Z",
     "iopub.status.idle": "2021-05-01T04:59:42.560924Z",
     "shell.execute_reply": "2021-05-01T04:59:42.561468Z"
    },
    "papermill": {
     "duration": 0.091073,
     "end_time": "2021-05-01T04:59:42.561654",
     "exception": false,
     "start_time": "2021-05-01T04:59:42.470581",
     "status": "completed"
    },
    "tags": []
   },
   "outputs": [
    {
     "data": {
      "text/plain": [
       "19286"
      ]
     },
     "execution_count": 10,
     "metadata": {},
     "output_type": "execute_result"
    }
   ],
   "source": [
    "len(raw_dic['exp02_user01'])"
   ]
  },
  {
   "cell_type": "code",
   "execution_count": 11,
   "id": "dimensional-sweden",
   "metadata": {
    "execution": {
     "iopub.execute_input": "2021-05-01T04:59:42.735080Z",
     "iopub.status.busy": "2021-05-01T04:59:42.734166Z",
     "iopub.status.idle": "2021-05-01T04:59:42.738495Z",
     "shell.execute_reply": "2021-05-01T04:59:42.737988Z"
    },
    "papermill": {
     "duration": 0.092681,
     "end_time": "2021-05-01T04:59:42.738644",
     "exception": false,
     "start_time": "2021-05-01T04:59:42.645963",
     "status": "completed"
    },
    "tags": []
   },
   "outputs": [
    {
     "data": {
      "text/plain": [
       "18026"
      ]
     },
     "execution_count": 11,
     "metadata": {},
     "output_type": "execute_result"
    }
   ],
   "source": [
    "len(raw_dic['exp03_user02'])"
   ]
  },
  {
   "cell_type": "code",
   "execution_count": 12,
   "id": "proved-solomon",
   "metadata": {
    "execution": {
     "iopub.execute_input": "2021-05-01T04:59:42.911841Z",
     "iopub.status.busy": "2021-05-01T04:59:42.910909Z",
     "iopub.status.idle": "2021-05-01T04:59:42.914618Z",
     "shell.execute_reply": "2021-05-01T04:59:42.915052Z"
    },
    "papermill": {
     "duration": 0.092318,
     "end_time": "2021-05-01T04:59:42.915212",
     "exception": false,
     "start_time": "2021-05-01T04:59:42.822894",
     "status": "completed"
    },
    "tags": []
   },
   "outputs": [
    {
     "data": {
      "text/plain": [
       "16565"
      ]
     },
     "execution_count": 12,
     "metadata": {},
     "output_type": "execute_result"
    }
   ],
   "source": [
    "len(raw_dic['exp04_user02'])"
   ]
  },
  {
   "cell_type": "code",
   "execution_count": 13,
   "id": "metallic-kernel",
   "metadata": {
    "execution": {
     "iopub.execute_input": "2021-05-01T04:59:43.089790Z",
     "iopub.status.busy": "2021-05-01T04:59:43.088799Z",
     "iopub.status.idle": "2021-05-01T04:59:43.093840Z",
     "shell.execute_reply": "2021-05-01T04:59:43.094438Z"
    },
    "papermill": {
     "duration": 0.094172,
     "end_time": "2021-05-01T04:59:43.094599",
     "exception": false,
     "start_time": "2021-05-01T04:59:43.000427",
     "status": "completed"
    },
    "tags": []
   },
   "outputs": [
    {
     "data": {
      "text/plain": [
       "dict_keys(['exp01_user01', 'exp02_user01', 'exp03_user02', 'exp04_user02', 'exp05_user03', 'exp06_user03', 'exp07_user04', 'exp08_user04', 'exp09_user05', 'exp10_user05', 'exp11_user06', 'exp12_user06', 'exp13_user07', 'exp14_user07', 'exp15_user08', 'exp16_user08', 'exp17_user09', 'exp18_user09', 'exp19_user10', 'exp20_user10', 'exp21_user10', 'exp22_user11', 'exp23_user11', 'exp24_user12', 'exp25_user12', 'exp26_user13', 'exp27_user13', 'exp28_user14', 'exp29_user14', 'exp30_user15', 'exp31_user15', 'exp32_user16', 'exp33_user16', 'exp34_user17', 'exp35_user17', 'exp36_user18', 'exp37_user18', 'exp38_user19', 'exp39_user19', 'exp40_user20', 'exp41_user20', 'exp42_user21', 'exp43_user21', 'exp44_user22', 'exp45_user22', 'exp46_user23', 'exp47_user23', 'exp48_user24', 'exp49_user24', 'exp50_user25', 'exp51_user25', 'exp52_user26', 'exp53_user26', 'exp54_user27', 'exp55_user27', 'exp56_user28', 'exp57_user28', 'exp58_user29', 'exp59_user29', 'exp60_user30', 'exp61_user30'])"
      ]
     },
     "execution_count": 13,
     "metadata": {},
     "output_type": "execute_result"
    }
   ],
   "source": [
    "raw_dic.keys()"
   ]
  },
  {
   "cell_type": "code",
   "execution_count": 14,
   "id": "painted-china",
   "metadata": {
    "execution": {
     "iopub.execute_input": "2021-05-01T04:59:43.270123Z",
     "iopub.status.busy": "2021-05-01T04:59:43.269470Z",
     "iopub.status.idle": "2021-05-01T04:59:43.275293Z",
     "shell.execute_reply": "2021-05-01T04:59:43.274778Z"
    },
    "papermill": {
     "duration": 0.095401,
     "end_time": "2021-05-01T04:59:43.275445",
     "exception": false,
     "start_time": "2021-05-01T04:59:43.180044",
     "status": "completed"
    },
    "tags": []
   },
   "outputs": [
    {
     "data": {
      "text/plain": [
       "61"
      ]
     },
     "execution_count": 14,
     "metadata": {},
     "output_type": "execute_result"
    }
   ],
   "source": [
    "len(raw_dic.keys())"
   ]
  },
  {
   "cell_type": "markdown",
   "id": "upset-realtor",
   "metadata": {
    "papermill": {
     "duration": 0.085032,
     "end_time": "2021-05-01T04:59:43.446024",
     "exception": false,
     "start_time": "2021-05-01T04:59:43.360992",
     "status": "completed"
    },
    "tags": []
   },
   "source": [
    "## Label 불러오기\n",
    "train, test 라벨을 불러오기 위한 방법은 다음과 같습니다.\n",
    "\n",
    "Label 정보\n",
    "```\n",
    "train\n",
    "experiment_number_ID : 실험 ID\n",
    "user_number_ID : 유저 ID\n",
    "activity_number_ID : 활동 ID\n",
    "Label_start_point : Raw 데이터에서 행동이 시작하는 지점(시간)\n",
    "Label_end_point : RAW 데이터에서 행동이 끝나는 지점(시간)\n",
    "\n",
    "test\n",
    "experiment_number_ID : 실험 ID\n",
    "user_number_ID : 유저 ID\n",
    "Label_start_point : Raw 데이터에서 행동이 시작하는 지점(시간)\n",
    "Label_end_point : RAW 데이터에서 행동이 끝나는 지점(시간)\n",
    "```"
   ]
  },
  {
   "cell_type": "code",
   "execution_count": 15,
   "id": "consistent-cholesterol",
   "metadata": {
    "execution": {
     "iopub.execute_input": "2021-05-01T04:59:43.622536Z",
     "iopub.status.busy": "2021-05-01T04:59:43.621787Z",
     "iopub.status.idle": "2021-05-01T04:59:43.642551Z",
     "shell.execute_reply": "2021-05-01T04:59:43.643131Z"
    },
    "papermill": {
     "duration": 0.11182,
     "end_time": "2021-05-01T04:59:43.643465",
     "exception": false,
     "start_time": "2021-05-01T04:59:43.531645",
     "status": "completed"
    },
    "tags": []
   },
   "outputs": [],
   "source": [
    "train_raw_labels_columns=['experiment_number_ID','user_number_ID','activity_number_ID','Label_start_point','Label_end_point']\n",
    "test_raw_labels_columns=['experiment_number_ID','user_number_ID','Label_start_point','Label_end_point']\n",
    "\n",
    "test_labels_path=Raw_data_paths[122]\n",
    "train_labels_path=Raw_data_paths[123]\n",
    "\n",
    "train_Labels_Data_Frame=import_labels_file(train_labels_path,train_raw_labels_columns)\n",
    "test_Labels_Data_Frame=import_labels_file(test_labels_path,test_raw_labels_columns)"
   ]
  },
  {
   "cell_type": "code",
   "execution_count": 16,
   "id": "initial-class",
   "metadata": {
    "execution": {
     "iopub.execute_input": "2021-05-01T04:59:43.819196Z",
     "iopub.status.busy": "2021-05-01T04:59:43.818586Z",
     "iopub.status.idle": "2021-05-01T04:59:43.838410Z",
     "shell.execute_reply": "2021-05-01T04:59:43.838863Z"
    },
    "papermill": {
     "duration": 0.109139,
     "end_time": "2021-05-01T04:59:43.839031",
     "exception": false,
     "start_time": "2021-05-01T04:59:43.729892",
     "status": "completed"
    },
    "tags": []
   },
   "outputs": [
    {
     "name": "stdout",
     "output_type": "stream",
     "text": [
      "The first 3 rows of  train_Labels_Data_Frame:\n"
     ]
    },
    {
     "data": {
      "text/html": [
       "<div>\n",
       "<style scoped>\n",
       "    .dataframe tbody tr th:only-of-type {\n",
       "        vertical-align: middle;\n",
       "    }\n",
       "\n",
       "    .dataframe tbody tr th {\n",
       "        vertical-align: top;\n",
       "    }\n",
       "\n",
       "    .dataframe thead th {\n",
       "        text-align: right;\n",
       "    }\n",
       "</style>\n",
       "<table border=\"1\" class=\"dataframe\">\n",
       "  <thead>\n",
       "    <tr style=\"text-align: right;\">\n",
       "      <th></th>\n",
       "      <th>experiment_number_ID</th>\n",
       "      <th>user_number_ID</th>\n",
       "      <th>activity_number_ID</th>\n",
       "      <th>Label_start_point</th>\n",
       "      <th>Label_end_point</th>\n",
       "    </tr>\n",
       "  </thead>\n",
       "  <tbody>\n",
       "    <tr>\n",
       "      <th>0</th>\n",
       "      <td>1</td>\n",
       "      <td>1</td>\n",
       "      <td>5</td>\n",
       "      <td>250</td>\n",
       "      <td>1232</td>\n",
       "    </tr>\n",
       "    <tr>\n",
       "      <th>1</th>\n",
       "      <td>1</td>\n",
       "      <td>1</td>\n",
       "      <td>4</td>\n",
       "      <td>1393</td>\n",
       "      <td>2194</td>\n",
       "    </tr>\n",
       "    <tr>\n",
       "      <th>2</th>\n",
       "      <td>1</td>\n",
       "      <td>1</td>\n",
       "      <td>5</td>\n",
       "      <td>2360</td>\n",
       "      <td>3374</td>\n",
       "    </tr>\n",
       "  </tbody>\n",
       "</table>\n",
       "</div>"
      ],
      "text/plain": [
       "   experiment_number_ID  user_number_ID  activity_number_ID  \\\n",
       "0                     1               1                   5   \n",
       "1                     1               1                   4   \n",
       "2                     1               1                   5   \n",
       "\n",
       "   Label_start_point  Label_end_point  \n",
       "0                250             1232  \n",
       "1               1393             2194  \n",
       "2               2360             3374  "
      ]
     },
     "metadata": {},
     "output_type": "display_data"
    },
    {
     "name": "stdout",
     "output_type": "stream",
     "text": [
      "(598, 5)\n"
     ]
    },
    {
     "data": {
      "text/html": [
       "<div>\n",
       "<style scoped>\n",
       "    .dataframe tbody tr th:only-of-type {\n",
       "        vertical-align: middle;\n",
       "    }\n",
       "\n",
       "    .dataframe tbody tr th {\n",
       "        vertical-align: top;\n",
       "    }\n",
       "\n",
       "    .dataframe thead th {\n",
       "        text-align: right;\n",
       "    }\n",
       "</style>\n",
       "<table border=\"1\" class=\"dataframe\">\n",
       "  <thead>\n",
       "    <tr style=\"text-align: right;\">\n",
       "      <th></th>\n",
       "      <th>experiment_number_ID</th>\n",
       "      <th>user_number_ID</th>\n",
       "      <th>Label_start_point</th>\n",
       "      <th>Label_end_point</th>\n",
       "    </tr>\n",
       "  </thead>\n",
       "  <tbody>\n",
       "    <tr>\n",
       "      <th>0</th>\n",
       "      <td>3</td>\n",
       "      <td>2</td>\n",
       "      <td>298</td>\n",
       "      <td>1398</td>\n",
       "    </tr>\n",
       "    <tr>\n",
       "      <th>1</th>\n",
       "      <td>3</td>\n",
       "      <td>2</td>\n",
       "      <td>1686</td>\n",
       "      <td>2627</td>\n",
       "    </tr>\n",
       "    <tr>\n",
       "      <th>2</th>\n",
       "      <td>3</td>\n",
       "      <td>2</td>\n",
       "      <td>2770</td>\n",
       "      <td>3904</td>\n",
       "    </tr>\n",
       "  </tbody>\n",
       "</table>\n",
       "</div>"
      ],
      "text/plain": [
       "   experiment_number_ID  user_number_ID  Label_start_point  Label_end_point\n",
       "0                     3               2                298             1398\n",
       "1                     3               2               1686             2627\n",
       "2                     3               2               2770             3904"
      ]
     },
     "metadata": {},
     "output_type": "display_data"
    },
    {
     "name": "stdout",
     "output_type": "stream",
     "text": [
      "(258, 4)\n"
     ]
    }
   ],
   "source": [
    "print (\"The first 3 rows of  train_Labels_Data_Frame:\" )\n",
    "display(train_Labels_Data_Frame.head(3))\n",
    "print(train_Labels_Data_Frame.shape)\n",
    "display(test_Labels_Data_Frame.head(3))\n",
    "print(test_Labels_Data_Frame.shape)"
   ]
  },
  {
   "cell_type": "markdown",
   "id": "mathematical-thanks",
   "metadata": {
    "papermill": {
     "duration": 0.088193,
     "end_time": "2021-05-01T04:59:44.015317",
     "exception": false,
     "start_time": "2021-05-01T04:59:43.927124",
     "status": "completed"
    },
    "tags": []
   },
   "source": [
    "## 데이터 전처리\n",
    "\n",
    "해당 데이터셋을 제작한 저자는 논문을 통해 Raw 데이터 전처리 방법에 대해서 자세히 나타냈습니다. 먼저 RAW 데이터는 3축의 자이로 센서와 3축의 가속도계 센서를 통해 측정된 값들을 시간순서로 기록했습니다. 가장먼저 RAW 데이터에는 많은 노이즈가 있기 때문에 해당 노이즈에 대한 필터를 통해 처리를 진행해야 합니다. 논문에서 저자는 노이즈를 제거하기 위해 median filter와 3차 low pass Butterworth filter를 사용했다고 이야기합니다. 이때 Butter worth filter에 coner frequency는 20Hz로 설정했다고 합니다. 또한 가속도계 센서의 값을 body 가속도와 gravity 가속도 신호로 분리하였는데, 여기에도 Butter worth filter가 사용됐으며 이때 coner frequency는 0.3Hz로 설정했다고 합니다."
   ]
  },
  {
   "cell_type": "markdown",
   "id": "young-demand",
   "metadata": {
    "papermill": {
     "duration": 0.089456,
     "end_time": "2021-05-01T04:59:44.194205",
     "exception": false,
     "start_time": "2021-05-01T04:59:44.104749",
     "status": "completed"
    },
    "tags": []
   },
   "source": [
    "### Median Filter"
   ]
  },
  {
   "cell_type": "code",
   "execution_count": 17,
   "id": "essential-perry",
   "metadata": {
    "execution": {
     "iopub.execute_input": "2021-05-01T04:59:44.379539Z",
     "iopub.status.busy": "2021-05-01T04:59:44.378813Z",
     "iopub.status.idle": "2021-05-01T04:59:45.217860Z",
     "shell.execute_reply": "2021-05-01T04:59:45.217243Z"
    },
    "papermill": {
     "duration": 0.933128,
     "end_time": "2021-05-01T04:59:45.218016",
     "exception": false,
     "start_time": "2021-05-01T04:59:44.284888",
     "status": "completed"
    },
    "tags": []
   },
   "outputs": [],
   "source": [
    "from scipy.signal import medfilt\n",
    "\n",
    "def median(signal):\n",
    "    array=np.array(signal)   \n",
    "    med_filtered=sp.signal.medfilt(array, kernel_size=3)\n",
    "    return  med_filtered"
   ]
  },
  {
   "cell_type": "markdown",
   "id": "viral-cargo",
   "metadata": {
    "papermill": {
     "duration": 0.08776,
     "end_time": "2021-05-01T04:59:45.394343",
     "exception": false,
     "start_time": "2021-05-01T04:59:45.306583",
     "status": "completed"
    },
    "tags": []
   },
   "source": [
    "### Butterworth Filter를 통한 성분분해"
   ]
  },
  {
   "cell_type": "code",
   "execution_count": 18,
   "id": "unique-setting",
   "metadata": {
    "execution": {
     "iopub.execute_input": "2021-05-01T04:59:45.586895Z",
     "iopub.status.busy": "2021-05-01T04:59:45.586139Z",
     "iopub.status.idle": "2021-05-01T04:59:45.601074Z",
     "shell.execute_reply": "2021-05-01T04:59:45.600015Z"
    },
    "papermill": {
     "duration": 0.117899,
     "end_time": "2021-05-01T04:59:45.601237",
     "exception": false,
     "start_time": "2021-05-01T04:59:45.483338",
     "status": "completed"
    },
    "tags": []
   },
   "outputs": [],
   "source": [
    "from scipy.fftpack import fft  \n",
    "from scipy.fftpack import fftfreq\n",
    "from scipy.fftpack import ifft\n",
    "import math \n",
    "\n",
    "sampling_freq = 50\n",
    "nyq=sampling_freq/float(2)\n",
    "freq1 = 0.3\n",
    "freq2 = 20\n",
    "\n",
    "# Function name: components_selection_one_signal\n",
    "\n",
    "# Inputs: t_signal:1D numpy array (time domain signal); \n",
    "\n",
    "# Outputs: (total_component,t_DC_component , t_body_component, t_noise) \n",
    "#           type(1D array,1D array, 1D array)\n",
    "\n",
    "# cases to discuss: if the t_signal is an acceleration signal then the t_DC_component is the gravity component [Grav_acc]\n",
    "#                   if the t_signal is a gyro signal then the t_DC_component is not useful\n",
    "# t_noise component is not useful\n",
    "# if the t_signal is an acceleration signal then the t_body_component is the body's acceleration component [Body_acc]\n",
    "# if the t_signal is a gyro signal then the t_body_component is the body's angular velocity component [Body_gyro]\n",
    "\n",
    "def components_selection_one_signal(t_signal,freq1,freq2):\n",
    "    t_signal=np.array(t_signal)\n",
    "    t_signal_length=len(t_signal)\n",
    "    f_signal=fft(t_signal)\n",
    "    freqs=np.array(sp.fftpack.fftfreq(t_signal_length, d=1/float(sampling_freq)))# frequency values between [-25hz:+25hz]\n",
    "    \n",
    "    # DC_component: f_signal values having freq between [-0.3 hz to 0 hz] and from [0 hz to 0.3hz] \n",
    "    #                                                             (-0.3 and 0.3 are included)\n",
    "    \n",
    "    # noise components: f_signal values having freq between [-25 hz to 20 hz[ and from ] 20 hz to 25 hz] \n",
    "    #                                                               (-25 and 25 hz inculded 20hz and -20hz not included)\n",
    "    \n",
    "    # selecting body_component: f_signal values having freq between [-20 hz to -0.3 hz] and from [0.3 hz to 20 hz] \n",
    "    #                                                               (-0.3 and 0.3 not included , -20hz and 20 hz included)\n",
    "    \n",
    "    \n",
    "    f_DC_signal=[] # DC_component in freq domain\n",
    "    f_body_signal=[] # body component in freq domain numpy.append(a, a[0])\n",
    "    f_noise_signal=[] # noise in freq domain\n",
    "    \n",
    "    for i in range(len(freqs)):# iterate over all available frequencies\n",
    "        \n",
    "        # selecting the frequency value\n",
    "        freq=freqs[i]\n",
    "        \n",
    "        # selecting the f_signal value associated to freq\n",
    "        value= f_signal[i]\n",
    "        \n",
    "        # Selecting DC_component values \n",
    "        if abs(freq)>0.3:# testing if freq is outside DC_component frequency ranges\n",
    "            f_DC_signal.append(float(0)) # add 0 to  the  list if it was the case (the value should not be added)                                       \n",
    "        else: # if freq is inside DC_component frequency ranges \n",
    "            f_DC_signal.append(value) # add f_signal value to f_DC_signal list\n",
    "    \n",
    "        # Selecting noise component values \n",
    "        if (abs(freq)<=20):# testing if freq is outside noise frequency ranges \n",
    "            f_noise_signal.append(float(0)) # # add 0 to  f_noise_signal list if it was the case \n",
    "        else:# if freq is inside noise frequency ranges \n",
    "            f_noise_signal.append(value) # add f_signal value to f_noise_signal\n",
    "\n",
    "        # Selecting body_component values \n",
    "        if (abs(freq)<=0.3 or abs(freq)>20):# testing if freq is outside Body_component frequency ranges\n",
    "            f_body_signal.append(float(0))# add 0 to  f_body_signal list\n",
    "        else:# if freq is inside Body_component frequency ranges\n",
    "            f_body_signal.append(value) # add f_signal value to f_body_signal list\n",
    "    \n",
    "    ################### Inverse the transformation of signals in freq domain ########################\n",
    "    # applying the inverse fft(ifft) to signals in freq domain and put them in float format\n",
    "    t_DC_component= ifft(np.array(f_DC_signal)).real\n",
    "    t_body_component= ifft(np.array(f_body_signal)).real\n",
    "    t_noise=ifft(np.array(f_noise_signal)).real\n",
    "    \n",
    "    total_component=t_signal-t_noise # extracting the total component(filtered from noise) \n",
    "                                     #  by substracting noise from t_signal (the original signal).\n",
    "    \n",
    "    # return outputs mentioned earlier\n",
    "    return (total_component,t_DC_component,t_body_component,t_noise) "
   ]
  },
  {
   "cell_type": "markdown",
   "id": "minor-spain",
   "metadata": {
    "papermill": {
     "duration": 0.088591,
     "end_time": "2021-05-01T04:59:45.778289",
     "exception": false,
     "start_time": "2021-05-01T04:59:45.689698",
     "status": "completed"
    },
    "tags": []
   },
   "source": [
    "## 피처모델링\n"
   ]
  },
  {
   "cell_type": "markdown",
   "id": "experienced-money",
   "metadata": {
    "papermill": {
     "duration": 0.088478,
     "end_time": "2021-05-01T04:59:45.955609",
     "exception": false,
     "start_time": "2021-05-01T04:59:45.867131",
     "status": "completed"
    },
    "tags": []
   },
   "source": [
    "### 1. 유클리드 Norm을 통한 가속도,자이로 센서 크기(Magnitude) 계산"
   ]
  },
  {
   "cell_type": "code",
   "execution_count": 19,
   "id": "prerequisite-reaction",
   "metadata": {
    "execution": {
     "iopub.execute_input": "2021-05-01T04:59:46.141064Z",
     "iopub.status.busy": "2021-05-01T04:59:46.140342Z",
     "iopub.status.idle": "2021-05-01T04:59:46.142357Z",
     "shell.execute_reply": "2021-05-01T04:59:46.142826Z"
    },
    "papermill": {
     "duration": 0.097393,
     "end_time": "2021-05-01T04:59:46.142997",
     "exception": false,
     "start_time": "2021-05-01T04:59:46.045604",
     "status": "completed"
    },
    "tags": []
   },
   "outputs": [],
   "source": [
    "import math\n",
    "def mag_3_signals(x,y,z): # Euclidian magnitude\n",
    "    return [math.sqrt((x[i]**2+y[i]**2+z[i]**2)) for i in range(len(x))]"
   ]
  },
  {
   "cell_type": "markdown",
   "id": "accessible-welcome",
   "metadata": {
    "papermill": {
     "duration": 0.088234,
     "end_time": "2021-05-01T04:59:46.321525",
     "exception": false,
     "start_time": "2021-05-01T04:59:46.233291",
     "status": "completed"
    },
    "tags": []
   },
   "source": [
    "### 2. 미분을 통한 변화량(Jerk) 계산"
   ]
  },
  {
   "cell_type": "code",
   "execution_count": 20,
   "id": "balanced-hybrid",
   "metadata": {
    "execution": {
     "iopub.execute_input": "2021-05-01T04:59:46.504015Z",
     "iopub.status.busy": "2021-05-01T04:59:46.503360Z",
     "iopub.status.idle": "2021-05-01T04:59:46.507794Z",
     "shell.execute_reply": "2021-05-01T04:59:46.508235Z"
    },
    "papermill": {
     "duration": 0.098006,
     "end_time": "2021-05-01T04:59:46.508444",
     "exception": false,
     "start_time": "2021-05-01T04:59:46.410438",
     "status": "completed"
    },
    "tags": []
   },
   "outputs": [],
   "source": [
    "dt=0.02 # dt=1/50=0.02s time duration between two rows\n",
    "# Input: 1D array with lenght=N (N:unknown)\n",
    "# Output: 1D array with lenght=N-1\n",
    "def jerk_one_signal(signal): \n",
    "        return np.array([(signal[i+1]-signal[i])/dt for i in range(len(signal)-1)])"
   ]
  },
  {
   "cell_type": "code",
   "execution_count": 21,
   "id": "civic-brown",
   "metadata": {
    "execution": {
     "iopub.execute_input": "2021-05-01T04:59:46.695731Z",
     "iopub.status.busy": "2021-05-01T04:59:46.694979Z",
     "iopub.status.idle": "2021-05-01T05:01:45.649550Z",
     "shell.execute_reply": "2021-05-01T05:01:45.650282Z"
    },
    "papermill": {
     "duration": 119.04897,
     "end_time": "2021-05-01T05:01:45.650539",
     "exception": false,
     "start_time": "2021-05-01T04:59:46.601569",
     "status": "completed"
    },
    "tags": []
   },
   "outputs": [
    {
     "name": "stderr",
     "output_type": "stream",
     "text": [
      "100%|██████████| 61/61 [01:58<00:00,  1.95s/it]\n"
     ]
    }
   ],
   "source": [
    "time_sig_dic={}\n",
    "raw_dic_keys=sorted(raw_dic.keys())\n",
    "\n",
    "for key in tqdm.tqdm(raw_dic_keys):\n",
    "    raw_df=raw_dic[key]\n",
    "    time_sig_df=pd.DataFrame()\n",
    "    \n",
    "    for column in raw_df.columns:\n",
    "        t_signal=np.array(raw_df[column])\n",
    "        med_filtred=median(t_signal)\n",
    "        \n",
    "        if 'acc' in column:\n",
    "            _,grav_acc,body_acc,_=components_selection_one_signal(med_filtred,freq1,freq2)\n",
    "            body_acc_jerk=jerk_one_signal(body_acc)\n",
    "            time_sig_df['t_body_'+column]=body_acc[:-1]\n",
    "            time_sig_df['t_grav_'+column]= grav_acc[:-1]\n",
    "            time_sig_df['t_body_acc_jerk_'+column[-1]]=body_acc_jerk\n",
    "        elif 'gyro' in column:\n",
    "            _,_,body_gyro,_=components_selection_one_signal(med_filtred,freq1,freq2)\n",
    "            body_gyro_jerk=jerk_one_signal(body_gyro)\n",
    "            time_sig_df['t_body_gyro_'+column[-1]]=body_gyro[:-1]\n",
    "            time_sig_df['t_body_gyro_jerk_'+column[-1]]=body_gyro_jerk\n",
    "            \n",
    "    new_columns_ordered=['t_body_acc_X','t_body_acc_Y','t_body_acc_Z',\n",
    "                      't_grav_acc_X','t_grav_acc_Y','t_grav_acc_Z',\n",
    "                      't_body_acc_jerk_X','t_body_acc_jerk_Y','t_body_acc_jerk_Z',\n",
    "                      't_body_gyro_X','t_body_gyro_Y','t_body_gyro_Z',\n",
    "                      't_body_gyro_jerk_X','t_body_gyro_jerk_Y','t_body_gyro_jerk_Z']\n",
    "        \n",
    "    ordered_time_sig_df=pd.DataFrame()\n",
    "        \n",
    "    for col in new_columns_ordered:\n",
    "        ordered_time_sig_df[col]=time_sig_df[col]\n",
    "        \n",
    "    for i in range(0,15,3):\n",
    "        mag_col_name=new_columns_ordered[i][:-1]+'mag'\n",
    "        col0=np.array(ordered_time_sig_df[new_columns_ordered[i]]) # copy X_component\n",
    "        col1=ordered_time_sig_df[new_columns_ordered[i+1]] # copy Y_component\n",
    "        col2=ordered_time_sig_df[new_columns_ordered[i+2]] # copy Z_component\n",
    "        mag_signal=mag_3_signals(col0,col1,col2)\n",
    "        ordered_time_sig_df[mag_col_name]=mag_signal\n",
    "        \n",
    "    time_sig_dic[key]=ordered_time_sig_df"
   ]
  },
  {
   "cell_type": "code",
   "execution_count": 22,
   "id": "requested-tragedy",
   "metadata": {
    "execution": {
     "iopub.execute_input": "2021-05-01T05:01:45.873919Z",
     "iopub.status.busy": "2021-05-01T05:01:45.872899Z",
     "iopub.status.idle": "2021-05-01T05:01:45.987651Z",
     "shell.execute_reply": "2021-05-01T05:01:45.988134Z"
    },
    "papermill": {
     "duration": 0.229374,
     "end_time": "2021-05-01T05:01:45.988317",
     "exception": false,
     "start_time": "2021-05-01T05:01:45.758943",
     "status": "completed"
    },
    "tags": []
   },
   "outputs": [
    {
     "data": {
      "text/plain": [
       "(20597, 20)"
      ]
     },
     "metadata": {},
     "output_type": "display_data"
    },
    {
     "data": {
      "text/html": [
       "<div>\n",
       "<style scoped>\n",
       "    .dataframe tbody tr th:only-of-type {\n",
       "        vertical-align: middle;\n",
       "    }\n",
       "\n",
       "    .dataframe tbody tr th {\n",
       "        vertical-align: top;\n",
       "    }\n",
       "\n",
       "    .dataframe thead th {\n",
       "        text-align: right;\n",
       "    }\n",
       "</style>\n",
       "<table border=\"1\" class=\"dataframe\">\n",
       "  <thead>\n",
       "    <tr style=\"text-align: right;\">\n",
       "      <th></th>\n",
       "      <th>t_body_acc_X</th>\n",
       "      <th>t_body_acc_Y</th>\n",
       "      <th>t_body_acc_Z</th>\n",
       "      <th>t_grav_acc_X</th>\n",
       "      <th>t_grav_acc_Y</th>\n",
       "      <th>t_grav_acc_Z</th>\n",
       "      <th>t_body_acc_jerk_X</th>\n",
       "      <th>t_body_acc_jerk_Y</th>\n",
       "      <th>t_body_acc_jerk_Z</th>\n",
       "      <th>t_body_gyro_X</th>\n",
       "      <th>t_body_gyro_Y</th>\n",
       "      <th>t_body_gyro_Z</th>\n",
       "      <th>t_body_gyro_jerk_X</th>\n",
       "      <th>t_body_gyro_jerk_Y</th>\n",
       "      <th>t_body_gyro_jerk_Z</th>\n",
       "      <th>t_body_acc_mag</th>\n",
       "      <th>t_grav_acc_mag</th>\n",
       "      <th>t_body_acc_jerk_mag</th>\n",
       "      <th>t_body_gyro_mag</th>\n",
       "      <th>t_body_gyro_jerk_mag</th>\n",
       "    </tr>\n",
       "  </thead>\n",
       "  <tbody>\n",
       "    <tr>\n",
       "      <th>count</th>\n",
       "      <td>20597.000000</td>\n",
       "      <td>20597.000000</td>\n",
       "      <td>20597.000000</td>\n",
       "      <td>20597.000000</td>\n",
       "      <td>20597.000000</td>\n",
       "      <td>20597.000000</td>\n",
       "      <td>20597.000000</td>\n",
       "      <td>20597.000000</td>\n",
       "      <td>20597.000000</td>\n",
       "      <td>2.059700e+04</td>\n",
       "      <td>20597.000000</td>\n",
       "      <td>20597.000000</td>\n",
       "      <td>20597.000000</td>\n",
       "      <td>20597.000000</td>\n",
       "      <td>20597.000000</td>\n",
       "      <td>20597.000000</td>\n",
       "      <td>20597.000000</td>\n",
       "      <td>20597.000000</td>\n",
       "      <td>20597.000000</td>\n",
       "      <td>20597.000000</td>\n",
       "    </tr>\n",
       "    <tr>\n",
       "      <th>mean</th>\n",
       "      <td>0.000018</td>\n",
       "      <td>-0.000014</td>\n",
       "      <td>-0.000009</td>\n",
       "      <td>0.880358</td>\n",
       "      <td>-0.101501</td>\n",
       "      <td>0.097309</td>\n",
       "      <td>-0.001833</td>\n",
       "      <td>0.001183</td>\n",
       "      <td>0.000849</td>\n",
       "      <td>3.259619e-07</td>\n",
       "      <td>0.000008</td>\n",
       "      <td>0.000010</td>\n",
       "      <td>0.000046</td>\n",
       "      <td>0.000095</td>\n",
       "      <td>0.000362</td>\n",
       "      <td>0.165296</td>\n",
       "      <td>1.025479</td>\n",
       "      <td>3.404274</td>\n",
       "      <td>0.489705</td>\n",
       "      <td>9.439402</td>\n",
       "    </tr>\n",
       "    <tr>\n",
       "      <th>std</th>\n",
       "      <td>0.167505</td>\n",
       "      <td>0.123847</td>\n",
       "      <td>0.106477</td>\n",
       "      <td>0.299187</td>\n",
       "      <td>0.314444</td>\n",
       "      <td>0.262835</td>\n",
       "      <td>4.076298</td>\n",
       "      <td>3.237138</td>\n",
       "      <td>2.298076</td>\n",
       "      <td>3.907032e-01</td>\n",
       "      <td>0.497555</td>\n",
       "      <td>0.265791</td>\n",
       "      <td>7.641439</td>\n",
       "      <td>13.033311</td>\n",
       "      <td>5.724163</td>\n",
       "      <td>0.165557</td>\n",
       "      <td>0.025535</td>\n",
       "      <td>4.559251</td>\n",
       "      <td>0.480657</td>\n",
       "      <td>13.111758</td>\n",
       "    </tr>\n",
       "    <tr>\n",
       "      <th>min</th>\n",
       "      <td>-0.698870</td>\n",
       "      <td>-0.993486</td>\n",
       "      <td>-0.671478</td>\n",
       "      <td>-0.231975</td>\n",
       "      <td>-0.367943</td>\n",
       "      <td>-0.161622</td>\n",
       "      <td>-38.735217</td>\n",
       "      <td>-33.718078</td>\n",
       "      <td>-24.262993</td>\n",
       "      <td>-3.141414e+00</td>\n",
       "      <td>-2.694787</td>\n",
       "      <td>-4.050512</td>\n",
       "      <td>-90.662943</td>\n",
       "      <td>-158.457438</td>\n",
       "      <td>-89.662267</td>\n",
       "      <td>0.000864</td>\n",
       "      <td>0.768925</td>\n",
       "      <td>0.006144</td>\n",
       "      <td>0.001641</td>\n",
       "      <td>0.017986</td>\n",
       "    </tr>\n",
       "    <tr>\n",
       "      <th>25%</th>\n",
       "      <td>-0.044563</td>\n",
       "      <td>-0.024197</td>\n",
       "      <td>-0.042269</td>\n",
       "      <td>0.968003</td>\n",
       "      <td>-0.275034</td>\n",
       "      <td>-0.050273</td>\n",
       "      <td>-0.481136</td>\n",
       "      <td>-0.422376</td>\n",
       "      <td>-0.347403</td>\n",
       "      <td>-1.189116e-01</td>\n",
       "      <td>-0.139441</td>\n",
       "      <td>-0.059319</td>\n",
       "      <td>-1.100310</td>\n",
       "      <td>-1.705868</td>\n",
       "      <td>-0.832493</td>\n",
       "      <td>0.025437</td>\n",
       "      <td>1.021875</td>\n",
       "      <td>0.272200</td>\n",
       "      <td>0.087023</td>\n",
       "      <td>0.506674</td>\n",
       "    </tr>\n",
       "    <tr>\n",
       "      <th>50%</th>\n",
       "      <td>-0.001207</td>\n",
       "      <td>0.002857</td>\n",
       "      <td>-0.003154</td>\n",
       "      <td>0.997735</td>\n",
       "      <td>-0.236751</td>\n",
       "      <td>-0.025435</td>\n",
       "      <td>0.003867</td>\n",
       "      <td>0.003613</td>\n",
       "      <td>0.003452</td>\n",
       "      <td>3.737832e-03</td>\n",
       "      <td>-0.002389</td>\n",
       "      <td>0.003384</td>\n",
       "      <td>0.003147</td>\n",
       "      <td>-0.005965</td>\n",
       "      <td>-0.002999</td>\n",
       "      <td>0.114319</td>\n",
       "      <td>1.031724</td>\n",
       "      <td>1.581932</td>\n",
       "      <td>0.348679</td>\n",
       "      <td>4.510858</td>\n",
       "    </tr>\n",
       "    <tr>\n",
       "      <th>75%</th>\n",
       "      <td>0.020914</td>\n",
       "      <td>0.051177</td>\n",
       "      <td>0.026000</td>\n",
       "      <td>1.007358</td>\n",
       "      <td>-0.123642</td>\n",
       "      <td>0.090625</td>\n",
       "      <td>0.568717</td>\n",
       "      <td>0.505230</td>\n",
       "      <td>0.381417</td>\n",
       "      <td>1.546320e-01</td>\n",
       "      <td>0.101817</td>\n",
       "      <td>0.088021</td>\n",
       "      <td>1.159630</td>\n",
       "      <td>1.392834</td>\n",
       "      <td>0.799237</td>\n",
       "      <td>0.262351</td>\n",
       "      <td>1.038524</td>\n",
       "      <td>4.837894</td>\n",
       "      <td>0.758609</td>\n",
       "      <td>13.308692</td>\n",
       "    </tr>\n",
       "    <tr>\n",
       "      <th>max</th>\n",
       "      <td>1.031485</td>\n",
       "      <td>0.473201</td>\n",
       "      <td>0.493350</td>\n",
       "      <td>1.066684</td>\n",
       "      <td>0.832075</td>\n",
       "      <td>1.015052</td>\n",
       "      <td>34.647970</td>\n",
       "      <td>34.482683</td>\n",
       "      <td>35.302951</td>\n",
       "      <td>2.698454e+00</td>\n",
       "      <td>4.530312</td>\n",
       "      <td>2.260099</td>\n",
       "      <td>95.696959</td>\n",
       "      <td>151.910819</td>\n",
       "      <td>60.809206</td>\n",
       "      <td>1.180706</td>\n",
       "      <td>1.115731</td>\n",
       "      <td>54.209353</td>\n",
       "      <td>6.249451</td>\n",
       "      <td>160.671661</td>\n",
       "    </tr>\n",
       "  </tbody>\n",
       "</table>\n",
       "</div>"
      ],
      "text/plain": [
       "       t_body_acc_X  t_body_acc_Y  t_body_acc_Z  t_grav_acc_X  t_grav_acc_Y  \\\n",
       "count  20597.000000  20597.000000  20597.000000  20597.000000  20597.000000   \n",
       "mean       0.000018     -0.000014     -0.000009      0.880358     -0.101501   \n",
       "std        0.167505      0.123847      0.106477      0.299187      0.314444   \n",
       "min       -0.698870     -0.993486     -0.671478     -0.231975     -0.367943   \n",
       "25%       -0.044563     -0.024197     -0.042269      0.968003     -0.275034   \n",
       "50%       -0.001207      0.002857     -0.003154      0.997735     -0.236751   \n",
       "75%        0.020914      0.051177      0.026000      1.007358     -0.123642   \n",
       "max        1.031485      0.473201      0.493350      1.066684      0.832075   \n",
       "\n",
       "       t_grav_acc_Z  t_body_acc_jerk_X  t_body_acc_jerk_Y  t_body_acc_jerk_Z  \\\n",
       "count  20597.000000       20597.000000       20597.000000       20597.000000   \n",
       "mean       0.097309          -0.001833           0.001183           0.000849   \n",
       "std        0.262835           4.076298           3.237138           2.298076   \n",
       "min       -0.161622         -38.735217         -33.718078         -24.262993   \n",
       "25%       -0.050273          -0.481136          -0.422376          -0.347403   \n",
       "50%       -0.025435           0.003867           0.003613           0.003452   \n",
       "75%        0.090625           0.568717           0.505230           0.381417   \n",
       "max        1.015052          34.647970          34.482683          35.302951   \n",
       "\n",
       "       t_body_gyro_X  t_body_gyro_Y  t_body_gyro_Z  t_body_gyro_jerk_X  \\\n",
       "count   2.059700e+04   20597.000000   20597.000000        20597.000000   \n",
       "mean    3.259619e-07       0.000008       0.000010            0.000046   \n",
       "std     3.907032e-01       0.497555       0.265791            7.641439   \n",
       "min    -3.141414e+00      -2.694787      -4.050512          -90.662943   \n",
       "25%    -1.189116e-01      -0.139441      -0.059319           -1.100310   \n",
       "50%     3.737832e-03      -0.002389       0.003384            0.003147   \n",
       "75%     1.546320e-01       0.101817       0.088021            1.159630   \n",
       "max     2.698454e+00       4.530312       2.260099           95.696959   \n",
       "\n",
       "       t_body_gyro_jerk_Y  t_body_gyro_jerk_Z  t_body_acc_mag  t_grav_acc_mag  \\\n",
       "count        20597.000000        20597.000000    20597.000000    20597.000000   \n",
       "mean             0.000095            0.000362        0.165296        1.025479   \n",
       "std             13.033311            5.724163        0.165557        0.025535   \n",
       "min           -158.457438          -89.662267        0.000864        0.768925   \n",
       "25%             -1.705868           -0.832493        0.025437        1.021875   \n",
       "50%             -0.005965           -0.002999        0.114319        1.031724   \n",
       "75%              1.392834            0.799237        0.262351        1.038524   \n",
       "max            151.910819           60.809206        1.180706        1.115731   \n",
       "\n",
       "       t_body_acc_jerk_mag  t_body_gyro_mag  t_body_gyro_jerk_mag  \n",
       "count         20597.000000     20597.000000          20597.000000  \n",
       "mean              3.404274         0.489705              9.439402  \n",
       "std               4.559251         0.480657             13.111758  \n",
       "min               0.006144         0.001641              0.017986  \n",
       "25%               0.272200         0.087023              0.506674  \n",
       "50%               1.581932         0.348679              4.510858  \n",
       "75%               4.837894         0.758609             13.308692  \n",
       "max              54.209353         6.249451            160.671661  "
      ]
     },
     "metadata": {},
     "output_type": "display_data"
    },
    {
     "data": {
      "text/html": [
       "<div>\n",
       "<style scoped>\n",
       "    .dataframe tbody tr th:only-of-type {\n",
       "        vertical-align: middle;\n",
       "    }\n",
       "\n",
       "    .dataframe tbody tr th {\n",
       "        vertical-align: top;\n",
       "    }\n",
       "\n",
       "    .dataframe thead th {\n",
       "        text-align: right;\n",
       "    }\n",
       "</style>\n",
       "<table border=\"1\" class=\"dataframe\">\n",
       "  <thead>\n",
       "    <tr style=\"text-align: right;\">\n",
       "      <th></th>\n",
       "      <th>t_body_acc_X</th>\n",
       "      <th>t_body_acc_Y</th>\n",
       "      <th>t_body_acc_Z</th>\n",
       "      <th>t_grav_acc_X</th>\n",
       "      <th>t_grav_acc_Y</th>\n",
       "      <th>t_grav_acc_Z</th>\n",
       "      <th>t_body_acc_jerk_X</th>\n",
       "      <th>t_body_acc_jerk_Y</th>\n",
       "      <th>t_body_acc_jerk_Z</th>\n",
       "      <th>t_body_gyro_X</th>\n",
       "      <th>t_body_gyro_Y</th>\n",
       "      <th>t_body_gyro_Z</th>\n",
       "      <th>t_body_gyro_jerk_X</th>\n",
       "      <th>t_body_gyro_jerk_Y</th>\n",
       "      <th>t_body_gyro_jerk_Z</th>\n",
       "      <th>t_body_acc_mag</th>\n",
       "      <th>t_grav_acc_mag</th>\n",
       "      <th>t_body_acc_jerk_mag</th>\n",
       "      <th>t_body_gyro_mag</th>\n",
       "      <th>t_body_gyro_jerk_mag</th>\n",
       "    </tr>\n",
       "  </thead>\n",
       "  <tbody>\n",
       "    <tr>\n",
       "      <th>0</th>\n",
       "      <td>0.382899</td>\n",
       "      <td>-0.206562</td>\n",
       "      <td>-0.169117</td>\n",
       "      <td>0.431759</td>\n",
       "      <td>0.175976</td>\n",
       "      <td>0.720859</td>\n",
       "      <td>8.404087</td>\n",
       "      <td>-5.538872</td>\n",
       "      <td>-3.526643</td>\n",
       "      <td>-0.025624</td>\n",
       "      <td>-0.210093</td>\n",
       "      <td>-0.361419</td>\n",
       "      <td>0.552413</td>\n",
       "      <td>3.197618</td>\n",
       "      <td>-0.792801</td>\n",
       "      <td>0.466776</td>\n",
       "      <td>0.858500</td>\n",
       "      <td>10.665130</td>\n",
       "      <td>0.418831</td>\n",
       "      <td>3.340427</td>\n",
       "    </tr>\n",
       "    <tr>\n",
       "      <th>1</th>\n",
       "      <td>0.550980</td>\n",
       "      <td>-0.317339</td>\n",
       "      <td>-0.239649</td>\n",
       "      <td>0.443087</td>\n",
       "      <td>0.169277</td>\n",
       "      <td>0.715098</td>\n",
       "      <td>-9.140781</td>\n",
       "      <td>5.486163</td>\n",
       "      <td>3.704421</td>\n",
       "      <td>-0.014575</td>\n",
       "      <td>-0.146141</td>\n",
       "      <td>-0.377275</td>\n",
       "      <td>-0.185277</td>\n",
       "      <td>11.295307</td>\n",
       "      <td>2.384643</td>\n",
       "      <td>0.679496</td>\n",
       "      <td>0.858106</td>\n",
       "      <td>11.286035</td>\n",
       "      <td>0.404853</td>\n",
       "      <td>11.545770</td>\n",
       "    </tr>\n",
       "    <tr>\n",
       "      <th>2</th>\n",
       "      <td>0.368165</td>\n",
       "      <td>-0.207616</td>\n",
       "      <td>-0.165561</td>\n",
       "      <td>0.454376</td>\n",
       "      <td>0.162556</td>\n",
       "      <td>0.709293</td>\n",
       "      <td>3.968636</td>\n",
       "      <td>-2.902182</td>\n",
       "      <td>-2.103241</td>\n",
       "      <td>-0.018281</td>\n",
       "      <td>0.079766</td>\n",
       "      <td>-0.329582</td>\n",
       "      <td>-2.485754</td>\n",
       "      <td>6.100713</td>\n",
       "      <td>-0.485211</td>\n",
       "      <td>0.453938</td>\n",
       "      <td>0.857892</td>\n",
       "      <td>5.347556</td>\n",
       "      <td>0.339590</td>\n",
       "      <td>6.605536</td>\n",
       "    </tr>\n",
       "  </tbody>\n",
       "</table>\n",
       "</div>"
      ],
      "text/plain": [
       "   t_body_acc_X  t_body_acc_Y  t_body_acc_Z  t_grav_acc_X  t_grav_acc_Y  \\\n",
       "0      0.382899     -0.206562     -0.169117      0.431759      0.175976   \n",
       "1      0.550980     -0.317339     -0.239649      0.443087      0.169277   \n",
       "2      0.368165     -0.207616     -0.165561      0.454376      0.162556   \n",
       "\n",
       "   t_grav_acc_Z  t_body_acc_jerk_X  t_body_acc_jerk_Y  t_body_acc_jerk_Z  \\\n",
       "0      0.720859           8.404087          -5.538872          -3.526643   \n",
       "1      0.715098          -9.140781           5.486163           3.704421   \n",
       "2      0.709293           3.968636          -2.902182          -2.103241   \n",
       "\n",
       "   t_body_gyro_X  t_body_gyro_Y  t_body_gyro_Z  t_body_gyro_jerk_X  \\\n",
       "0      -0.025624      -0.210093      -0.361419            0.552413   \n",
       "1      -0.014575      -0.146141      -0.377275           -0.185277   \n",
       "2      -0.018281       0.079766      -0.329582           -2.485754   \n",
       "\n",
       "   t_body_gyro_jerk_Y  t_body_gyro_jerk_Z  t_body_acc_mag  t_grav_acc_mag  \\\n",
       "0            3.197618           -0.792801        0.466776        0.858500   \n",
       "1           11.295307            2.384643        0.679496        0.858106   \n",
       "2            6.100713           -0.485211        0.453938        0.857892   \n",
       "\n",
       "   t_body_acc_jerk_mag  t_body_gyro_mag  t_body_gyro_jerk_mag  \n",
       "0            10.665130         0.418831              3.340427  \n",
       "1            11.286035         0.404853             11.545770  \n",
       "2             5.347556         0.339590              6.605536  "
      ]
     },
     "execution_count": 22,
     "metadata": {},
     "output_type": "execute_result"
    }
   ],
   "source": [
    "display(time_sig_dic['exp01_user01'].shape)\n",
    "display(time_sig_dic['exp01_user01'].describe())\n",
    "time_sig_dic['exp01_user01'].head(3)"
   ]
  },
  {
   "cell_type": "code",
   "execution_count": 23,
   "id": "little-client",
   "metadata": {
    "execution": {
     "iopub.execute_input": "2021-05-01T05:01:46.213217Z",
     "iopub.status.busy": "2021-05-01T05:01:46.212612Z",
     "iopub.status.idle": "2021-05-01T05:01:46.218773Z",
     "shell.execute_reply": "2021-05-01T05:01:46.218122Z"
    },
    "papermill": {
     "duration": 0.11977,
     "end_time": "2021-05-01T05:01:46.218916",
     "exception": false,
     "start_time": "2021-05-01T05:01:46.099146",
     "status": "completed"
    },
    "tags": []
   },
   "outputs": [
    {
     "data": {
      "text/plain": [
       "(19285, 20)"
      ]
     },
     "execution_count": 23,
     "metadata": {},
     "output_type": "execute_result"
    }
   ],
   "source": [
    "time_sig_dic['exp02_user01'].shape"
   ]
  },
  {
   "cell_type": "markdown",
   "id": "dying-bones",
   "metadata": {
    "papermill": {
     "duration": 0.110584,
     "end_time": "2021-05-01T05:01:46.442757",
     "exception": false,
     "start_time": "2021-05-01T05:01:46.332173",
     "status": "completed"
    },
    "tags": []
   },
   "source": [
    "### 데이터 샘플링\n",
    "\n",
    "```\n",
    "2.56초를 기준으로 Raw 데이터 샘플링\n",
    "50%는 오버랩 하여 샘플링을 수행\n",
    "```"
   ]
  },
  {
   "cell_type": "code",
   "execution_count": 24,
   "id": "built-snake",
   "metadata": {
    "execution": {
     "iopub.execute_input": "2021-05-01T05:01:46.677677Z",
     "iopub.status.busy": "2021-05-01T05:01:46.676880Z",
     "iopub.status.idle": "2021-05-01T05:01:46.678917Z",
     "shell.execute_reply": "2021-05-01T05:01:46.679412Z"
    },
    "papermill": {
     "duration": 0.123329,
     "end_time": "2021-05-01T05:01:46.679594",
     "exception": false,
     "start_time": "2021-05-01T05:01:46.556265",
     "status": "completed"
    },
    "tags": []
   },
   "outputs": [],
   "source": [
    "def Windowing_type(time_sig_dic,Labels_Data_Frame):\n",
    "    columns=time_sig_dic['exp01_user01'].columns\n",
    "    window_ID=0\n",
    "    time_dictionary_window={}\n",
    "    BA_array=np.array(Labels_Data_Frame)\n",
    "    \n",
    "    for line in tqdm.tqdm(BA_array):\n",
    "        file_key= 'exp' + normalize2(int(line[0]))  +  '_user' + normalize2(int(line[1]))\n",
    "        \n",
    "        if line.shape[0] == 5 : # train label\n",
    "          act_ID=line[2]\n",
    "          start_point=line[3]\n",
    "          end_point = line[4]\n",
    "        else :                  # test label\n",
    "          act_ID='None'\n",
    "          start_point = line[2]\n",
    "          end_point = line[3]\n",
    "        \n",
    "        for cursor in range(start_point,end_point-127,64):\n",
    "            end_point=cursor+128\n",
    "            data=np.array(time_sig_dic[file_key].iloc[cursor:end_point])\n",
    "            window=pd.DataFrame(data=data,columns=columns)\n",
    "            key='t_W'+normalize5(window_ID)+'_'+file_key+'_act'+normalize2(act_ID)\n",
    "            time_dictionary_window[key]=window\n",
    "            window_ID=window_ID+1\n",
    "        \n",
    "        # import pdb;pdb.set_trace()\n",
    "    \n",
    "    return time_dictionary_window "
   ]
  },
  {
   "cell_type": "code",
   "execution_count": 25,
   "id": "absolute-discipline",
   "metadata": {
    "execution": {
     "iopub.execute_input": "2021-05-01T05:01:46.904946Z",
     "iopub.status.busy": "2021-05-01T05:01:46.904238Z",
     "iopub.status.idle": "2021-05-01T05:01:54.646986Z",
     "shell.execute_reply": "2021-05-01T05:01:54.647489Z"
    },
    "papermill": {
     "duration": 7.856542,
     "end_time": "2021-05-01T05:01:54.647658",
     "exception": false,
     "start_time": "2021-05-01T05:01:46.791116",
     "status": "completed"
    },
    "tags": []
   },
   "outputs": [
    {
     "name": "stderr",
     "output_type": "stream",
     "text": [
      "100%|██████████| 598/598 [00:05<00:00, 111.91it/s]\n",
      "100%|██████████| 258/258 [00:02<00:00, 107.99it/s]\n"
     ]
    }
   ],
   "source": [
    "train_time_dictionary_window  = Windowing_type(time_sig_dic,train_Labels_Data_Frame)\n",
    "test_time_dictionary_window  = Windowing_type(time_sig_dic,test_Labels_Data_Frame)"
   ]
  },
  {
   "cell_type": "code",
   "execution_count": 26,
   "id": "gentle-warning",
   "metadata": {
    "execution": {
     "iopub.execute_input": "2021-05-01T05:01:54.935887Z",
     "iopub.status.busy": "2021-05-01T05:01:54.935203Z",
     "iopub.status.idle": "2021-05-01T05:01:54.939590Z",
     "shell.execute_reply": "2021-05-01T05:01:54.938940Z"
    },
    "papermill": {
     "duration": 0.160316,
     "end_time": "2021-05-01T05:01:54.939729",
     "exception": false,
     "start_time": "2021-05-01T05:01:54.779413",
     "status": "completed"
    },
    "tags": []
   },
   "outputs": [
    {
     "data": {
      "text/html": [
       "<div>\n",
       "<style scoped>\n",
       "    .dataframe tbody tr th:only-of-type {\n",
       "        vertical-align: middle;\n",
       "    }\n",
       "\n",
       "    .dataframe tbody tr th {\n",
       "        vertical-align: top;\n",
       "    }\n",
       "\n",
       "    .dataframe thead th {\n",
       "        text-align: right;\n",
       "    }\n",
       "</style>\n",
       "<table border=\"1\" class=\"dataframe\">\n",
       "  <thead>\n",
       "    <tr style=\"text-align: right;\">\n",
       "      <th></th>\n",
       "      <th>t_body_acc_X</th>\n",
       "      <th>t_body_acc_Y</th>\n",
       "      <th>t_body_acc_Z</th>\n",
       "      <th>t_grav_acc_X</th>\n",
       "      <th>t_grav_acc_Y</th>\n",
       "      <th>t_grav_acc_Z</th>\n",
       "      <th>t_body_acc_jerk_X</th>\n",
       "      <th>t_body_acc_jerk_Y</th>\n",
       "      <th>t_body_acc_jerk_Z</th>\n",
       "      <th>t_body_gyro_X</th>\n",
       "      <th>t_body_gyro_Y</th>\n",
       "      <th>t_body_gyro_Z</th>\n",
       "      <th>t_body_gyro_jerk_X</th>\n",
       "      <th>t_body_gyro_jerk_Y</th>\n",
       "      <th>t_body_gyro_jerk_Z</th>\n",
       "      <th>t_body_acc_mag</th>\n",
       "      <th>t_grav_acc_mag</th>\n",
       "      <th>t_body_acc_jerk_mag</th>\n",
       "      <th>t_body_gyro_mag</th>\n",
       "      <th>t_body_gyro_jerk_mag</th>\n",
       "    </tr>\n",
       "  </thead>\n",
       "  <tbody>\n",
       "    <tr>\n",
       "      <th>0</th>\n",
       "      <td>-0.003068</td>\n",
       "      <td>0.009275</td>\n",
       "      <td>-0.049713</td>\n",
       "      <td>1.025297</td>\n",
       "      <td>-0.135052</td>\n",
       "      <td>0.153468</td>\n",
       "      <td>-0.064668</td>\n",
       "      <td>0.067917</td>\n",
       "      <td>-0.010441</td>\n",
       "      <td>0.023431</td>\n",
       "      <td>0.089860</td>\n",
       "      <td>0.049693</td>\n",
       "      <td>-0.193282</td>\n",
       "      <td>-0.501977</td>\n",
       "      <td>0.204316</td>\n",
       "      <td>0.050664</td>\n",
       "      <td>1.045479</td>\n",
       "      <td>0.094359</td>\n",
       "      <td>0.105324</td>\n",
       "      <td>0.575399</td>\n",
       "    </tr>\n",
       "    <tr>\n",
       "      <th>1</th>\n",
       "      <td>-0.004362</td>\n",
       "      <td>0.010634</td>\n",
       "      <td>-0.049921</td>\n",
       "      <td>1.025123</td>\n",
       "      <td>-0.135542</td>\n",
       "      <td>0.152980</td>\n",
       "      <td>-0.044544</td>\n",
       "      <td>0.049300</td>\n",
       "      <td>0.188938</td>\n",
       "      <td>0.019565</td>\n",
       "      <td>0.079820</td>\n",
       "      <td>0.053780</td>\n",
       "      <td>0.630392</td>\n",
       "      <td>0.991992</td>\n",
       "      <td>-0.376632</td>\n",
       "      <td>0.051227</td>\n",
       "      <td>1.045300</td>\n",
       "      <td>0.200280</td>\n",
       "      <td>0.098216</td>\n",
       "      <td>1.234218</td>\n",
       "    </tr>\n",
       "    <tr>\n",
       "      <th>2</th>\n",
       "      <td>-0.005253</td>\n",
       "      <td>0.011620</td>\n",
       "      <td>-0.046143</td>\n",
       "      <td>1.024940</td>\n",
       "      <td>-0.136014</td>\n",
       "      <td>0.152417</td>\n",
       "      <td>0.021576</td>\n",
       "      <td>-0.060893</td>\n",
       "      <td>0.020793</td>\n",
       "      <td>0.032173</td>\n",
       "      <td>0.099660</td>\n",
       "      <td>0.046247</td>\n",
       "      <td>-0.058003</td>\n",
       "      <td>-0.047758</td>\n",
       "      <td>-0.215589</td>\n",
       "      <td>0.047872</td>\n",
       "      <td>1.045099</td>\n",
       "      <td>0.067866</td>\n",
       "      <td>0.114481</td>\n",
       "      <td>0.228307</td>\n",
       "    </tr>\n",
       "    <tr>\n",
       "      <th>3</th>\n",
       "      <td>-0.004821</td>\n",
       "      <td>0.010402</td>\n",
       "      <td>-0.045727</td>\n",
       "      <td>1.024747</td>\n",
       "      <td>-0.136467</td>\n",
       "      <td>0.151784</td>\n",
       "      <td>-0.178322</td>\n",
       "      <td>-0.007597</td>\n",
       "      <td>0.229162</td>\n",
       "      <td>0.031013</td>\n",
       "      <td>0.098705</td>\n",
       "      <td>0.041935</td>\n",
       "      <td>-0.260247</td>\n",
       "      <td>-0.011292</td>\n",
       "      <td>0.465103</td>\n",
       "      <td>0.047142</td>\n",
       "      <td>1.044877</td>\n",
       "      <td>0.290469</td>\n",
       "      <td>0.111638</td>\n",
       "      <td>0.533083</td>\n",
       "    </tr>\n",
       "    <tr>\n",
       "      <th>4</th>\n",
       "      <td>-0.008388</td>\n",
       "      <td>0.010250</td>\n",
       "      <td>-0.041144</td>\n",
       "      <td>1.024545</td>\n",
       "      <td>-0.136900</td>\n",
       "      <td>0.151080</td>\n",
       "      <td>0.168810</td>\n",
       "      <td>-0.075081</td>\n",
       "      <td>-0.268611</td>\n",
       "      <td>0.025808</td>\n",
       "      <td>0.098479</td>\n",
       "      <td>0.051237</td>\n",
       "      <td>0.188867</td>\n",
       "      <td>0.892604</td>\n",
       "      <td>-0.057455</td>\n",
       "      <td>0.043223</td>\n",
       "      <td>1.044634</td>\n",
       "      <td>0.326015</td>\n",
       "      <td>0.113971</td>\n",
       "      <td>0.914174</td>\n",
       "    </tr>\n",
       "  </tbody>\n",
       "</table>\n",
       "</div>"
      ],
      "text/plain": [
       "   t_body_acc_X  t_body_acc_Y  t_body_acc_Z  t_grav_acc_X  t_grav_acc_Y  \\\n",
       "0     -0.003068      0.009275     -0.049713      1.025297     -0.135052   \n",
       "1     -0.004362      0.010634     -0.049921      1.025123     -0.135542   \n",
       "2     -0.005253      0.011620     -0.046143      1.024940     -0.136014   \n",
       "3     -0.004821      0.010402     -0.045727      1.024747     -0.136467   \n",
       "4     -0.008388      0.010250     -0.041144      1.024545     -0.136900   \n",
       "\n",
       "   t_grav_acc_Z  t_body_acc_jerk_X  t_body_acc_jerk_Y  t_body_acc_jerk_Z  \\\n",
       "0      0.153468          -0.064668           0.067917          -0.010441   \n",
       "1      0.152980          -0.044544           0.049300           0.188938   \n",
       "2      0.152417           0.021576          -0.060893           0.020793   \n",
       "3      0.151784          -0.178322          -0.007597           0.229162   \n",
       "4      0.151080           0.168810          -0.075081          -0.268611   \n",
       "\n",
       "   t_body_gyro_X  t_body_gyro_Y  t_body_gyro_Z  t_body_gyro_jerk_X  \\\n",
       "0       0.023431       0.089860       0.049693           -0.193282   \n",
       "1       0.019565       0.079820       0.053780            0.630392   \n",
       "2       0.032173       0.099660       0.046247           -0.058003   \n",
       "3       0.031013       0.098705       0.041935           -0.260247   \n",
       "4       0.025808       0.098479       0.051237            0.188867   \n",
       "\n",
       "   t_body_gyro_jerk_Y  t_body_gyro_jerk_Z  t_body_acc_mag  t_grav_acc_mag  \\\n",
       "0           -0.501977            0.204316        0.050664        1.045479   \n",
       "1            0.991992           -0.376632        0.051227        1.045300   \n",
       "2           -0.047758           -0.215589        0.047872        1.045099   \n",
       "3           -0.011292            0.465103        0.047142        1.044877   \n",
       "4            0.892604           -0.057455        0.043223        1.044634   \n",
       "\n",
       "   t_body_acc_jerk_mag  t_body_gyro_mag  t_body_gyro_jerk_mag  \n",
       "0             0.094359         0.105324              0.575399  \n",
       "1             0.200280         0.098216              1.234218  \n",
       "2             0.067866         0.114481              0.228307  \n",
       "3             0.290469         0.111638              0.533083  \n",
       "4             0.326015         0.113971              0.914174  "
      ]
     },
     "execution_count": 26,
     "metadata": {},
     "output_type": "execute_result"
    }
   ],
   "source": [
    "train_window = train_time_dictionary_window[sorted(train_time_dictionary_window.keys())[0]]\n",
    "train_window.head()"
   ]
  },
  {
   "cell_type": "code",
   "execution_count": 27,
   "id": "going-trash",
   "metadata": {
    "execution": {
     "iopub.execute_input": "2021-05-01T05:01:55.212686Z",
     "iopub.status.busy": "2021-05-01T05:01:55.212002Z",
     "iopub.status.idle": "2021-05-01T05:01:55.215666Z",
     "shell.execute_reply": "2021-05-01T05:01:55.215003Z"
    },
    "papermill": {
     "duration": 0.141875,
     "end_time": "2021-05-01T05:01:55.215816",
     "exception": false,
     "start_time": "2021-05-01T05:01:55.073941",
     "status": "completed"
    },
    "tags": []
   },
   "outputs": [
    {
     "data": {
      "text/plain": [
       "(128, 20)"
      ]
     },
     "execution_count": 27,
     "metadata": {},
     "output_type": "execute_result"
    }
   ],
   "source": [
    "train_window.shape"
   ]
  },
  {
   "cell_type": "code",
   "execution_count": 28,
   "id": "occupied-election",
   "metadata": {
    "execution": {
     "iopub.execute_input": "2021-05-01T05:01:55.490168Z",
     "iopub.status.busy": "2021-05-01T05:01:55.489540Z",
     "iopub.status.idle": "2021-05-01T05:01:55.493940Z",
     "shell.execute_reply": "2021-05-01T05:01:55.493389Z"
    },
    "papermill": {
     "duration": 0.142665,
     "end_time": "2021-05-01T05:01:55.494074",
     "exception": false,
     "start_time": "2021-05-01T05:01:55.351409",
     "status": "completed"
    },
    "tags": []
   },
   "outputs": [
    {
     "data": {
      "text/plain": [
       "['t_W00000_exp01_user01_act05',\n",
       " 't_W00001_exp01_user01_act05',\n",
       " 't_W00002_exp01_user01_act05',\n",
       " 't_W00003_exp01_user01_act05',\n",
       " 't_W00004_exp01_user01_act05',\n",
       " 't_W00005_exp01_user01_act05',\n",
       " 't_W00006_exp01_user01_act05',\n",
       " 't_W00007_exp01_user01_act05',\n",
       " 't_W00008_exp01_user01_act05',\n",
       " 't_W00009_exp01_user01_act05']"
      ]
     },
     "execution_count": 28,
     "metadata": {},
     "output_type": "execute_result"
    }
   ],
   "source": [
    "sorted(train_time_dictionary_window.keys())[:10]"
   ]
  },
  {
   "cell_type": "code",
   "execution_count": 29,
   "id": "fatal-representative",
   "metadata": {
    "execution": {
     "iopub.execute_input": "2021-05-01T05:01:55.767510Z",
     "iopub.status.busy": "2021-05-01T05:01:55.766874Z",
     "iopub.status.idle": "2021-05-01T05:01:55.770695Z",
     "shell.execute_reply": "2021-05-01T05:01:55.770084Z"
    },
    "papermill": {
     "duration": 0.143095,
     "end_time": "2021-05-01T05:01:55.770883",
     "exception": false,
     "start_time": "2021-05-01T05:01:55.627788",
     "status": "completed"
    },
    "tags": []
   },
   "outputs": [
    {
     "data": {
      "text/plain": [
       "['t_W05000_exp43_user21_act01',\n",
       " 't_W05001_exp43_user21_act01',\n",
       " 't_W05002_exp43_user21_act01',\n",
       " 't_W05003_exp43_user21_act01',\n",
       " 't_W05004_exp43_user21_act01',\n",
       " 't_W05005_exp43_user21_act01',\n",
       " 't_W05006_exp43_user21_act01',\n",
       " 't_W05007_exp43_user21_act01',\n",
       " 't_W05008_exp43_user21_act01',\n",
       " 't_W05009_exp43_user21_act03']"
      ]
     },
     "execution_count": 29,
     "metadata": {},
     "output_type": "execute_result"
    }
   ],
   "source": [
    "sorted(train_time_dictionary_window.keys())[5000:5010]"
   ]
  },
  {
   "cell_type": "code",
   "execution_count": 30,
   "id": "neural-nicholas",
   "metadata": {
    "execution": {
     "iopub.execute_input": "2021-05-01T05:01:56.098513Z",
     "iopub.status.busy": "2021-05-01T05:01:56.097560Z",
     "iopub.status.idle": "2021-05-01T05:01:56.101819Z",
     "shell.execute_reply": "2021-05-01T05:01:56.101095Z"
    },
    "papermill": {
     "duration": 0.194939,
     "end_time": "2021-05-01T05:01:56.101963",
     "exception": false,
     "start_time": "2021-05-01T05:01:55.907024",
     "status": "completed"
    },
    "tags": []
   },
   "outputs": [
    {
     "data": {
      "text/plain": [
       "7283"
      ]
     },
     "execution_count": 30,
     "metadata": {},
     "output_type": "execute_result"
    }
   ],
   "source": [
    "len(train_time_dictionary_window.keys())"
   ]
  },
  {
   "cell_type": "code",
   "execution_count": 31,
   "id": "sunrise-cocktail",
   "metadata": {
    "execution": {
     "iopub.execute_input": "2021-05-01T05:01:56.379440Z",
     "iopub.status.busy": "2021-05-01T05:01:56.378669Z",
     "iopub.status.idle": "2021-05-01T05:01:56.382613Z",
     "shell.execute_reply": "2021-05-01T05:01:56.382104Z"
    },
    "papermill": {
     "duration": 0.145564,
     "end_time": "2021-05-01T05:01:56.382770",
     "exception": false,
     "start_time": "2021-05-01T05:01:56.237206",
     "status": "completed"
    },
    "tags": []
   },
   "outputs": [
    {
     "name": "stdout",
     "output_type": "stream",
     "text": [
      "시간 도메인 Train 데이터 수 : 7283\n",
      "시간 도메인 Test 데이터 수 : 3116\n",
      "윈도우 크기(2.56s => 128개) : 128\n"
     ]
    }
   ],
   "source": [
    "print(\"시간 도메인 Train 데이터 수 : {}\".format(len(train_time_dictionary_window)))\n",
    "print(\"시간 도메인 Test 데이터 수 : {}\".format(len(test_time_dictionary_window)))\n",
    "print(\"윈도우 크기(2.56s => 128개) : {}\".format(len(train_window)))"
   ]
  },
  {
   "cell_type": "markdown",
   "id": "industrial-julian",
   "metadata": {
    "papermill": {
     "duration": 0.139554,
     "end_time": "2021-05-01T05:01:56.659048",
     "exception": false,
     "start_time": "2021-05-01T05:01:56.519494",
     "status": "completed"
    },
    "tags": []
   },
   "source": [
    "### 3.FFT(Fast Fourier Transform)을 통한 시간 도메인-> 주파수 도메인 변환"
   ]
  },
  {
   "cell_type": "code",
   "execution_count": 32,
   "id": "color-minimum",
   "metadata": {
    "execution": {
     "iopub.execute_input": "2021-05-01T05:01:56.938360Z",
     "iopub.status.busy": "2021-05-01T05:01:56.937571Z",
     "iopub.status.idle": "2021-05-01T05:01:56.940677Z",
     "shell.execute_reply": "2021-05-01T05:01:56.939989Z"
    },
    "papermill": {
     "duration": 0.146801,
     "end_time": "2021-05-01T05:01:56.940830",
     "exception": false,
     "start_time": "2021-05-01T05:01:56.794029",
     "status": "completed"
    },
    "tags": []
   },
   "outputs": [],
   "source": [
    "from scipy import fftpack\n",
    "from numpy.fft import *\n",
    "\n",
    "def fast_fourier_transform_one_signal(t_signal):\n",
    "    complex_f_signal= fftpack.fft(t_signal)\n",
    "    amplitude_f_signal=np.abs(complex_f_signal)\n",
    "    \n",
    "    return amplitude_f_signal\n",
    "\n",
    "def fast_fourier_transform(t_window):\n",
    "    f_window=pd.DataFrame()\n",
    "    for column in t_window.columns:\n",
    "        if 'grav' not in column:\n",
    "            t_signal=np.array(t_window[column])\n",
    "            f_signal= np.apply_along_axis(fast_fourier_transform_one_signal,0,t_signal)\n",
    "            f_window[\"f_\"+column[2:]]=f_signal\n",
    "    return f_window"
   ]
  },
  {
   "cell_type": "code",
   "execution_count": 33,
   "id": "advisory-chest",
   "metadata": {
    "execution": {
     "iopub.execute_input": "2021-05-01T05:01:57.213990Z",
     "iopub.status.busy": "2021-05-01T05:01:57.213363Z",
     "iopub.status.idle": "2021-05-01T05:03:48.473358Z",
     "shell.execute_reply": "2021-05-01T05:03:48.472312Z"
    },
    "papermill": {
     "duration": 111.397918,
     "end_time": "2021-05-01T05:03:48.473664",
     "exception": false,
     "start_time": "2021-05-01T05:01:57.075746",
     "status": "completed"
    },
    "tags": []
   },
   "outputs": [
    {
     "name": "stderr",
     "output_type": "stream",
     "text": [
      "100%|██████████| 7283/7283 [01:18<00:00, 93.17it/s]\n",
      "100%|██████████| 3116/3116 [00:33<00:00, 94.20it/s]\n"
     ]
    }
   ],
   "source": [
    "train_frequent_dictionary_window = {'f'+key[1:] : train_t_df.pipe(fast_fourier_transform) for key, train_t_df in tqdm.tqdm(train_time_dictionary_window.items())}\n",
    "test_frequent_dictionary_window = {'f'+key[1:] : test_t_df.pipe(fast_fourier_transform) for key, test_t_df in tqdm.tqdm(test_time_dictionary_window.items())}"
   ]
  },
  {
   "cell_type": "code",
   "execution_count": 34,
   "id": "social-rider",
   "metadata": {
    "execution": {
     "iopub.execute_input": "2021-05-01T05:03:49.392098Z",
     "iopub.status.busy": "2021-05-01T05:03:49.391448Z",
     "iopub.status.idle": "2021-05-01T05:03:49.395980Z",
     "shell.execute_reply": "2021-05-01T05:03:49.395470Z"
    },
    "papermill": {
     "duration": 0.473536,
     "end_time": "2021-05-01T05:03:49.396124",
     "exception": false,
     "start_time": "2021-05-01T05:03:48.922588",
     "status": "completed"
    },
    "tags": []
   },
   "outputs": [
    {
     "data": {
      "text/html": [
       "<div>\n",
       "<style scoped>\n",
       "    .dataframe tbody tr th:only-of-type {\n",
       "        vertical-align: middle;\n",
       "    }\n",
       "\n",
       "    .dataframe tbody tr th {\n",
       "        vertical-align: top;\n",
       "    }\n",
       "\n",
       "    .dataframe thead th {\n",
       "        text-align: right;\n",
       "    }\n",
       "</style>\n",
       "<table border=\"1\" class=\"dataframe\">\n",
       "  <thead>\n",
       "    <tr style=\"text-align: right;\">\n",
       "      <th></th>\n",
       "      <th>f_body_acc_X</th>\n",
       "      <th>f_body_acc_Y</th>\n",
       "      <th>f_body_acc_Z</th>\n",
       "      <th>f_body_acc_jerk_X</th>\n",
       "      <th>f_body_acc_jerk_Y</th>\n",
       "      <th>f_body_acc_jerk_Z</th>\n",
       "      <th>f_body_gyro_X</th>\n",
       "      <th>f_body_gyro_Y</th>\n",
       "      <th>f_body_gyro_Z</th>\n",
       "      <th>f_body_gyro_jerk_X</th>\n",
       "      <th>f_body_gyro_jerk_Y</th>\n",
       "      <th>f_body_gyro_jerk_Z</th>\n",
       "      <th>f_body_acc_mag</th>\n",
       "      <th>f_body_acc_jerk_mag</th>\n",
       "      <th>f_body_gyro_mag</th>\n",
       "      <th>f_body_gyro_jerk_mag</th>\n",
       "    </tr>\n",
       "  </thead>\n",
       "  <tbody>\n",
       "    <tr>\n",
       "      <th>0</th>\n",
       "      <td>0.257558</td>\n",
       "      <td>0.055128</td>\n",
       "      <td>0.568459</td>\n",
       "      <td>0.004474</td>\n",
       "      <td>1.018802</td>\n",
       "      <td>2.057622</td>\n",
       "      <td>1.302252</td>\n",
       "      <td>2.880254</td>\n",
       "      <td>0.066856</td>\n",
       "      <td>0.574643</td>\n",
       "      <td>8.573938</td>\n",
       "      <td>3.442790</td>\n",
       "      <td>3.790846</td>\n",
       "      <td>25.481237</td>\n",
       "      <td>14.048363</td>\n",
       "      <td>73.764900</td>\n",
       "    </tr>\n",
       "    <tr>\n",
       "      <th>1</th>\n",
       "      <td>0.324072</td>\n",
       "      <td>1.169116</td>\n",
       "      <td>2.325911</td>\n",
       "      <td>0.794786</td>\n",
       "      <td>1.852232</td>\n",
       "      <td>4.739415</td>\n",
       "      <td>2.270811</td>\n",
       "      <td>8.786654</td>\n",
       "      <td>3.040972</td>\n",
       "      <td>5.543606</td>\n",
       "      <td>13.054902</td>\n",
       "      <td>4.222888</td>\n",
       "      <td>0.110791</td>\n",
       "      <td>1.628419</td>\n",
       "      <td>2.657498</td>\n",
       "      <td>6.699360</td>\n",
       "    </tr>\n",
       "    <tr>\n",
       "      <th>2</th>\n",
       "      <td>0.045438</td>\n",
       "      <td>0.300832</td>\n",
       "      <td>0.599853</td>\n",
       "      <td>0.220647</td>\n",
       "      <td>0.463545</td>\n",
       "      <td>1.179457</td>\n",
       "      <td>0.332364</td>\n",
       "      <td>2.154464</td>\n",
       "      <td>0.845314</td>\n",
       "      <td>1.462829</td>\n",
       "      <td>2.404663</td>\n",
       "      <td>0.720631</td>\n",
       "      <td>0.721155</td>\n",
       "      <td>0.921396</td>\n",
       "      <td>1.619180</td>\n",
       "      <td>3.680039</td>\n",
       "    </tr>\n",
       "    <tr>\n",
       "      <th>3</th>\n",
       "      <td>0.026573</td>\n",
       "      <td>0.162318</td>\n",
       "      <td>0.341578</td>\n",
       "      <td>0.195753</td>\n",
       "      <td>0.523164</td>\n",
       "      <td>0.458591</td>\n",
       "      <td>0.396876</td>\n",
       "      <td>1.331866</td>\n",
       "      <td>0.486980</td>\n",
       "      <td>2.359180</td>\n",
       "      <td>1.583174</td>\n",
       "      <td>0.965404</td>\n",
       "      <td>0.326605</td>\n",
       "      <td>1.490716</td>\n",
       "      <td>0.289519</td>\n",
       "      <td>2.877012</td>\n",
       "    </tr>\n",
       "    <tr>\n",
       "      <th>4</th>\n",
       "      <td>0.040355</td>\n",
       "      <td>0.192653</td>\n",
       "      <td>0.218084</td>\n",
       "      <td>0.391329</td>\n",
       "      <td>0.872601</td>\n",
       "      <td>1.024741</td>\n",
       "      <td>0.484334</td>\n",
       "      <td>0.835291</td>\n",
       "      <td>0.432675</td>\n",
       "      <td>4.736053</td>\n",
       "      <td>0.525072</td>\n",
       "      <td>1.014540</td>\n",
       "      <td>0.252132</td>\n",
       "      <td>0.395907</td>\n",
       "      <td>0.434509</td>\n",
       "      <td>0.690402</td>\n",
       "    </tr>\n",
       "  </tbody>\n",
       "</table>\n",
       "</div>"
      ],
      "text/plain": [
       "   f_body_acc_X  f_body_acc_Y  f_body_acc_Z  f_body_acc_jerk_X  \\\n",
       "0      0.257558      0.055128      0.568459           0.004474   \n",
       "1      0.324072      1.169116      2.325911           0.794786   \n",
       "2      0.045438      0.300832      0.599853           0.220647   \n",
       "3      0.026573      0.162318      0.341578           0.195753   \n",
       "4      0.040355      0.192653      0.218084           0.391329   \n",
       "\n",
       "   f_body_acc_jerk_Y  f_body_acc_jerk_Z  f_body_gyro_X  f_body_gyro_Y  \\\n",
       "0           1.018802           2.057622       1.302252       2.880254   \n",
       "1           1.852232           4.739415       2.270811       8.786654   \n",
       "2           0.463545           1.179457       0.332364       2.154464   \n",
       "3           0.523164           0.458591       0.396876       1.331866   \n",
       "4           0.872601           1.024741       0.484334       0.835291   \n",
       "\n",
       "   f_body_gyro_Z  f_body_gyro_jerk_X  f_body_gyro_jerk_Y  f_body_gyro_jerk_Z  \\\n",
       "0       0.066856            0.574643            8.573938            3.442790   \n",
       "1       3.040972            5.543606           13.054902            4.222888   \n",
       "2       0.845314            1.462829            2.404663            0.720631   \n",
       "3       0.486980            2.359180            1.583174            0.965404   \n",
       "4       0.432675            4.736053            0.525072            1.014540   \n",
       "\n",
       "   f_body_acc_mag  f_body_acc_jerk_mag  f_body_gyro_mag  f_body_gyro_jerk_mag  \n",
       "0        3.790846            25.481237        14.048363             73.764900  \n",
       "1        0.110791             1.628419         2.657498              6.699360  \n",
       "2        0.721155             0.921396         1.619180              3.680039  \n",
       "3        0.326605             1.490716         0.289519              2.877012  \n",
       "4        0.252132             0.395907         0.434509              0.690402  "
      ]
     },
     "execution_count": 34,
     "metadata": {},
     "output_type": "execute_result"
    }
   ],
   "source": [
    "train_window = train_frequent_dictionary_window[sorted(train_frequent_dictionary_window.keys())[0]]\n",
    "train_window.head()"
   ]
  },
  {
   "cell_type": "code",
   "execution_count": 35,
   "id": "excited-president",
   "metadata": {
    "execution": {
     "iopub.execute_input": "2021-05-01T05:03:50.296826Z",
     "iopub.status.busy": "2021-05-01T05:03:50.296112Z",
     "iopub.status.idle": "2021-05-01T05:03:50.300081Z",
     "shell.execute_reply": "2021-05-01T05:03:50.300670Z"
    },
    "papermill": {
     "duration": 0.458123,
     "end_time": "2021-05-01T05:03:50.300845",
     "exception": false,
     "start_time": "2021-05-01T05:03:49.842722",
     "status": "completed"
    },
    "tags": []
   },
   "outputs": [
    {
     "name": "stdout",
     "output_type": "stream",
     "text": [
      "주파수 도메인 Train 데이터 수 : 7283\n",
      "주파수 도메인 Test 데이터 수 : 3116\n",
      "피처의 갯수 : 128\n"
     ]
    }
   ],
   "source": [
    "print(\"주파수 도메인 Train 데이터 수 : {}\".format(len(train_frequent_dictionary_window)))\n",
    "print(\"주파수 도메인 Test 데이터 수 : {}\".format(len(test_frequent_dictionary_window)))\n",
    "print(\"피처의 갯수 : {}\".format(len(train_window)))"
   ]
  },
  {
   "cell_type": "code",
   "execution_count": 36,
   "id": "planned-honey",
   "metadata": {
    "execution": {
     "iopub.execute_input": "2021-05-01T05:03:51.205277Z",
     "iopub.status.busy": "2021-05-01T05:03:51.204618Z",
     "iopub.status.idle": "2021-05-01T05:03:51.207066Z",
     "shell.execute_reply": "2021-05-01T05:03:51.207552Z"
    },
    "papermill": {
     "duration": 0.460464,
     "end_time": "2021-05-01T05:03:51.207718",
     "exception": false,
     "start_time": "2021-05-01T05:03:50.747254",
     "status": "completed"
    },
    "tags": []
   },
   "outputs": [
    {
     "data": {
      "text/plain": [
       "7283"
      ]
     },
     "execution_count": 36,
     "metadata": {},
     "output_type": "execute_result"
    }
   ],
   "source": [
    "len(train_frequent_dictionary_window.keys())"
   ]
  },
  {
   "cell_type": "code",
   "execution_count": 37,
   "id": "wireless-appendix",
   "metadata": {
    "execution": {
     "iopub.execute_input": "2021-05-01T05:03:52.111909Z",
     "iopub.status.busy": "2021-05-01T05:03:52.111217Z",
     "iopub.status.idle": "2021-05-01T05:03:52.139676Z",
     "shell.execute_reply": "2021-05-01T05:03:52.140122Z"
    },
    "papermill": {
     "duration": 0.482442,
     "end_time": "2021-05-01T05:03:52.140299",
     "exception": false,
     "start_time": "2021-05-01T05:03:51.657857",
     "status": "completed"
    },
    "tags": []
   },
   "outputs": [
    {
     "data": {
      "text/html": [
       "<div>\n",
       "<style scoped>\n",
       "    .dataframe tbody tr th:only-of-type {\n",
       "        vertical-align: middle;\n",
       "    }\n",
       "\n",
       "    .dataframe tbody tr th {\n",
       "        vertical-align: top;\n",
       "    }\n",
       "\n",
       "    .dataframe thead th {\n",
       "        text-align: right;\n",
       "    }\n",
       "</style>\n",
       "<table border=\"1\" class=\"dataframe\">\n",
       "  <thead>\n",
       "    <tr style=\"text-align: right;\">\n",
       "      <th></th>\n",
       "      <th>f_body_acc_X</th>\n",
       "      <th>f_body_acc_Y</th>\n",
       "      <th>f_body_acc_Z</th>\n",
       "      <th>f_body_acc_jerk_X</th>\n",
       "      <th>f_body_acc_jerk_Y</th>\n",
       "      <th>f_body_acc_jerk_Z</th>\n",
       "      <th>f_body_gyro_X</th>\n",
       "      <th>f_body_gyro_Y</th>\n",
       "      <th>f_body_gyro_Z</th>\n",
       "      <th>f_body_gyro_jerk_X</th>\n",
       "      <th>f_body_gyro_jerk_Y</th>\n",
       "      <th>f_body_gyro_jerk_Z</th>\n",
       "      <th>f_body_acc_mag</th>\n",
       "      <th>f_body_acc_jerk_mag</th>\n",
       "      <th>f_body_gyro_mag</th>\n",
       "      <th>f_body_gyro_jerk_mag</th>\n",
       "    </tr>\n",
       "  </thead>\n",
       "  <tbody>\n",
       "    <tr>\n",
       "      <th>0</th>\n",
       "      <td>0.257558</td>\n",
       "      <td>0.055128</td>\n",
       "      <td>0.568459</td>\n",
       "      <td>0.004474</td>\n",
       "      <td>1.018802</td>\n",
       "      <td>2.057622</td>\n",
       "      <td>1.302252</td>\n",
       "      <td>2.880254</td>\n",
       "      <td>0.066856</td>\n",
       "      <td>0.574643</td>\n",
       "      <td>8.573938</td>\n",
       "      <td>3.442790</td>\n",
       "      <td>3.790846</td>\n",
       "      <td>25.481237</td>\n",
       "      <td>14.048363</td>\n",
       "      <td>73.764900</td>\n",
       "    </tr>\n",
       "    <tr>\n",
       "      <th>1</th>\n",
       "      <td>0.324072</td>\n",
       "      <td>1.169116</td>\n",
       "      <td>2.325911</td>\n",
       "      <td>0.794786</td>\n",
       "      <td>1.852232</td>\n",
       "      <td>4.739415</td>\n",
       "      <td>2.270811</td>\n",
       "      <td>8.786654</td>\n",
       "      <td>3.040972</td>\n",
       "      <td>5.543606</td>\n",
       "      <td>13.054902</td>\n",
       "      <td>4.222888</td>\n",
       "      <td>0.110791</td>\n",
       "      <td>1.628419</td>\n",
       "      <td>2.657498</td>\n",
       "      <td>6.699360</td>\n",
       "    </tr>\n",
       "    <tr>\n",
       "      <th>2</th>\n",
       "      <td>0.045438</td>\n",
       "      <td>0.300832</td>\n",
       "      <td>0.599853</td>\n",
       "      <td>0.220647</td>\n",
       "      <td>0.463545</td>\n",
       "      <td>1.179457</td>\n",
       "      <td>0.332364</td>\n",
       "      <td>2.154464</td>\n",
       "      <td>0.845314</td>\n",
       "      <td>1.462829</td>\n",
       "      <td>2.404663</td>\n",
       "      <td>0.720631</td>\n",
       "      <td>0.721155</td>\n",
       "      <td>0.921396</td>\n",
       "      <td>1.619180</td>\n",
       "      <td>3.680039</td>\n",
       "    </tr>\n",
       "    <tr>\n",
       "      <th>3</th>\n",
       "      <td>0.026573</td>\n",
       "      <td>0.162318</td>\n",
       "      <td>0.341578</td>\n",
       "      <td>0.195753</td>\n",
       "      <td>0.523164</td>\n",
       "      <td>0.458591</td>\n",
       "      <td>0.396876</td>\n",
       "      <td>1.331866</td>\n",
       "      <td>0.486980</td>\n",
       "      <td>2.359180</td>\n",
       "      <td>1.583174</td>\n",
       "      <td>0.965404</td>\n",
       "      <td>0.326605</td>\n",
       "      <td>1.490716</td>\n",
       "      <td>0.289519</td>\n",
       "      <td>2.877012</td>\n",
       "    </tr>\n",
       "    <tr>\n",
       "      <th>4</th>\n",
       "      <td>0.040355</td>\n",
       "      <td>0.192653</td>\n",
       "      <td>0.218084</td>\n",
       "      <td>0.391329</td>\n",
       "      <td>0.872601</td>\n",
       "      <td>1.024741</td>\n",
       "      <td>0.484334</td>\n",
       "      <td>0.835291</td>\n",
       "      <td>0.432675</td>\n",
       "      <td>4.736053</td>\n",
       "      <td>0.525072</td>\n",
       "      <td>1.014540</td>\n",
       "      <td>0.252132</td>\n",
       "      <td>0.395907</td>\n",
       "      <td>0.434509</td>\n",
       "      <td>0.690402</td>\n",
       "    </tr>\n",
       "    <tr>\n",
       "      <th>...</th>\n",
       "      <td>...</td>\n",
       "      <td>...</td>\n",
       "      <td>...</td>\n",
       "      <td>...</td>\n",
       "      <td>...</td>\n",
       "      <td>...</td>\n",
       "      <td>...</td>\n",
       "      <td>...</td>\n",
       "      <td>...</td>\n",
       "      <td>...</td>\n",
       "      <td>...</td>\n",
       "      <td>...</td>\n",
       "      <td>...</td>\n",
       "      <td>...</td>\n",
       "      <td>...</td>\n",
       "      <td>...</td>\n",
       "    </tr>\n",
       "    <tr>\n",
       "      <th>123</th>\n",
       "      <td>0.022292</td>\n",
       "      <td>0.063689</td>\n",
       "      <td>0.135585</td>\n",
       "      <td>0.268623</td>\n",
       "      <td>0.744189</td>\n",
       "      <td>0.455846</td>\n",
       "      <td>0.025241</td>\n",
       "      <td>0.587993</td>\n",
       "      <td>0.327638</td>\n",
       "      <td>0.491411</td>\n",
       "      <td>1.575543</td>\n",
       "      <td>0.613706</td>\n",
       "      <td>0.221429</td>\n",
       "      <td>0.841853</td>\n",
       "      <td>0.097779</td>\n",
       "      <td>1.083811</td>\n",
       "    </tr>\n",
       "    <tr>\n",
       "      <th>124</th>\n",
       "      <td>0.040355</td>\n",
       "      <td>0.192653</td>\n",
       "      <td>0.218084</td>\n",
       "      <td>0.391329</td>\n",
       "      <td>0.872601</td>\n",
       "      <td>1.024741</td>\n",
       "      <td>0.484334</td>\n",
       "      <td>0.835291</td>\n",
       "      <td>0.432675</td>\n",
       "      <td>4.736053</td>\n",
       "      <td>0.525072</td>\n",
       "      <td>1.014540</td>\n",
       "      <td>0.252132</td>\n",
       "      <td>0.395907</td>\n",
       "      <td>0.434509</td>\n",
       "      <td>0.690402</td>\n",
       "    </tr>\n",
       "    <tr>\n",
       "      <th>125</th>\n",
       "      <td>0.026573</td>\n",
       "      <td>0.162318</td>\n",
       "      <td>0.341578</td>\n",
       "      <td>0.195753</td>\n",
       "      <td>0.523164</td>\n",
       "      <td>0.458591</td>\n",
       "      <td>0.396876</td>\n",
       "      <td>1.331866</td>\n",
       "      <td>0.486980</td>\n",
       "      <td>2.359180</td>\n",
       "      <td>1.583174</td>\n",
       "      <td>0.965404</td>\n",
       "      <td>0.326605</td>\n",
       "      <td>1.490716</td>\n",
       "      <td>0.289519</td>\n",
       "      <td>2.877012</td>\n",
       "    </tr>\n",
       "    <tr>\n",
       "      <th>126</th>\n",
       "      <td>0.045438</td>\n",
       "      <td>0.300832</td>\n",
       "      <td>0.599853</td>\n",
       "      <td>0.220647</td>\n",
       "      <td>0.463545</td>\n",
       "      <td>1.179457</td>\n",
       "      <td>0.332364</td>\n",
       "      <td>2.154464</td>\n",
       "      <td>0.845314</td>\n",
       "      <td>1.462829</td>\n",
       "      <td>2.404663</td>\n",
       "      <td>0.720631</td>\n",
       "      <td>0.721155</td>\n",
       "      <td>0.921396</td>\n",
       "      <td>1.619180</td>\n",
       "      <td>3.680039</td>\n",
       "    </tr>\n",
       "    <tr>\n",
       "      <th>127</th>\n",
       "      <td>0.324072</td>\n",
       "      <td>1.169116</td>\n",
       "      <td>2.325911</td>\n",
       "      <td>0.794786</td>\n",
       "      <td>1.852232</td>\n",
       "      <td>4.739415</td>\n",
       "      <td>2.270811</td>\n",
       "      <td>8.786654</td>\n",
       "      <td>3.040972</td>\n",
       "      <td>5.543606</td>\n",
       "      <td>13.054902</td>\n",
       "      <td>4.222888</td>\n",
       "      <td>0.110791</td>\n",
       "      <td>1.628419</td>\n",
       "      <td>2.657498</td>\n",
       "      <td>6.699360</td>\n",
       "    </tr>\n",
       "  </tbody>\n",
       "</table>\n",
       "<p>128 rows × 16 columns</p>\n",
       "</div>"
      ],
      "text/plain": [
       "     f_body_acc_X  f_body_acc_Y  f_body_acc_Z  f_body_acc_jerk_X  \\\n",
       "0        0.257558      0.055128      0.568459           0.004474   \n",
       "1        0.324072      1.169116      2.325911           0.794786   \n",
       "2        0.045438      0.300832      0.599853           0.220647   \n",
       "3        0.026573      0.162318      0.341578           0.195753   \n",
       "4        0.040355      0.192653      0.218084           0.391329   \n",
       "..            ...           ...           ...                ...   \n",
       "123      0.022292      0.063689      0.135585           0.268623   \n",
       "124      0.040355      0.192653      0.218084           0.391329   \n",
       "125      0.026573      0.162318      0.341578           0.195753   \n",
       "126      0.045438      0.300832      0.599853           0.220647   \n",
       "127      0.324072      1.169116      2.325911           0.794786   \n",
       "\n",
       "     f_body_acc_jerk_Y  f_body_acc_jerk_Z  f_body_gyro_X  f_body_gyro_Y  \\\n",
       "0             1.018802           2.057622       1.302252       2.880254   \n",
       "1             1.852232           4.739415       2.270811       8.786654   \n",
       "2             0.463545           1.179457       0.332364       2.154464   \n",
       "3             0.523164           0.458591       0.396876       1.331866   \n",
       "4             0.872601           1.024741       0.484334       0.835291   \n",
       "..                 ...                ...            ...            ...   \n",
       "123           0.744189           0.455846       0.025241       0.587993   \n",
       "124           0.872601           1.024741       0.484334       0.835291   \n",
       "125           0.523164           0.458591       0.396876       1.331866   \n",
       "126           0.463545           1.179457       0.332364       2.154464   \n",
       "127           1.852232           4.739415       2.270811       8.786654   \n",
       "\n",
       "     f_body_gyro_Z  f_body_gyro_jerk_X  f_body_gyro_jerk_Y  \\\n",
       "0         0.066856            0.574643            8.573938   \n",
       "1         3.040972            5.543606           13.054902   \n",
       "2         0.845314            1.462829            2.404663   \n",
       "3         0.486980            2.359180            1.583174   \n",
       "4         0.432675            4.736053            0.525072   \n",
       "..             ...                 ...                 ...   \n",
       "123       0.327638            0.491411            1.575543   \n",
       "124       0.432675            4.736053            0.525072   \n",
       "125       0.486980            2.359180            1.583174   \n",
       "126       0.845314            1.462829            2.404663   \n",
       "127       3.040972            5.543606           13.054902   \n",
       "\n",
       "     f_body_gyro_jerk_Z  f_body_acc_mag  f_body_acc_jerk_mag  f_body_gyro_mag  \\\n",
       "0              3.442790        3.790846            25.481237        14.048363   \n",
       "1              4.222888        0.110791             1.628419         2.657498   \n",
       "2              0.720631        0.721155             0.921396         1.619180   \n",
       "3              0.965404        0.326605             1.490716         0.289519   \n",
       "4              1.014540        0.252132             0.395907         0.434509   \n",
       "..                  ...             ...                  ...              ...   \n",
       "123            0.613706        0.221429             0.841853         0.097779   \n",
       "124            1.014540        0.252132             0.395907         0.434509   \n",
       "125            0.965404        0.326605             1.490716         0.289519   \n",
       "126            0.720631        0.721155             0.921396         1.619180   \n",
       "127            4.222888        0.110791             1.628419         2.657498   \n",
       "\n",
       "     f_body_gyro_jerk_mag  \n",
       "0               73.764900  \n",
       "1                6.699360  \n",
       "2                3.680039  \n",
       "3                2.877012  \n",
       "4                0.690402  \n",
       "..                    ...  \n",
       "123              1.083811  \n",
       "124              0.690402  \n",
       "125              2.877012  \n",
       "126              3.680039  \n",
       "127              6.699360  \n",
       "\n",
       "[128 rows x 16 columns]"
      ]
     },
     "execution_count": 37,
     "metadata": {},
     "output_type": "execute_result"
    }
   ],
   "source": [
    "train_frequent_dictionary_window['f_W00000_exp01_user01_act05']"
   ]
  },
  {
   "cell_type": "code",
   "execution_count": 38,
   "id": "precise-upgrade",
   "metadata": {
    "execution": {
     "iopub.execute_input": "2021-05-01T05:03:53.099516Z",
     "iopub.status.busy": "2021-05-01T05:03:53.098706Z",
     "iopub.status.idle": "2021-05-01T05:03:53.103631Z",
     "shell.execute_reply": "2021-05-01T05:03:53.103070Z"
    },
    "papermill": {
     "duration": 0.499861,
     "end_time": "2021-05-01T05:03:53.103781",
     "exception": false,
     "start_time": "2021-05-01T05:03:52.603920",
     "status": "completed"
    },
    "tags": []
   },
   "outputs": [
    {
     "data": {
      "text/html": [
       "<div>\n",
       "<style scoped>\n",
       "    .dataframe tbody tr th:only-of-type {\n",
       "        vertical-align: middle;\n",
       "    }\n",
       "\n",
       "    .dataframe tbody tr th {\n",
       "        vertical-align: top;\n",
       "    }\n",
       "\n",
       "    .dataframe thead th {\n",
       "        text-align: right;\n",
       "    }\n",
       "</style>\n",
       "<table border=\"1\" class=\"dataframe\">\n",
       "  <thead>\n",
       "    <tr style=\"text-align: right;\">\n",
       "      <th></th>\n",
       "      <th>t_body_acc_X</th>\n",
       "      <th>t_body_acc_Y</th>\n",
       "      <th>t_body_acc_Z</th>\n",
       "      <th>t_grav_acc_X</th>\n",
       "      <th>t_grav_acc_Y</th>\n",
       "      <th>t_grav_acc_Z</th>\n",
       "      <th>t_body_acc_jerk_X</th>\n",
       "      <th>t_body_acc_jerk_Y</th>\n",
       "      <th>t_body_acc_jerk_Z</th>\n",
       "      <th>t_body_gyro_X</th>\n",
       "      <th>t_body_gyro_Y</th>\n",
       "      <th>t_body_gyro_Z</th>\n",
       "      <th>t_body_gyro_jerk_X</th>\n",
       "      <th>t_body_gyro_jerk_Y</th>\n",
       "      <th>t_body_gyro_jerk_Z</th>\n",
       "      <th>t_body_acc_mag</th>\n",
       "      <th>t_grav_acc_mag</th>\n",
       "      <th>t_body_acc_jerk_mag</th>\n",
       "      <th>t_body_gyro_mag</th>\n",
       "      <th>t_body_gyro_jerk_mag</th>\n",
       "    </tr>\n",
       "  </thead>\n",
       "  <tbody>\n",
       "    <tr>\n",
       "      <th>0</th>\n",
       "      <td>-0.003068</td>\n",
       "      <td>0.009275</td>\n",
       "      <td>-0.049713</td>\n",
       "      <td>1.025297</td>\n",
       "      <td>-0.135052</td>\n",
       "      <td>0.153468</td>\n",
       "      <td>-0.064668</td>\n",
       "      <td>0.067917</td>\n",
       "      <td>-0.010441</td>\n",
       "      <td>0.023431</td>\n",
       "      <td>0.089860</td>\n",
       "      <td>0.049693</td>\n",
       "      <td>-0.193282</td>\n",
       "      <td>-0.501977</td>\n",
       "      <td>0.204316</td>\n",
       "      <td>0.050664</td>\n",
       "      <td>1.045479</td>\n",
       "      <td>0.094359</td>\n",
       "      <td>0.105324</td>\n",
       "      <td>0.575399</td>\n",
       "    </tr>\n",
       "    <tr>\n",
       "      <th>1</th>\n",
       "      <td>-0.004362</td>\n",
       "      <td>0.010634</td>\n",
       "      <td>-0.049921</td>\n",
       "      <td>1.025123</td>\n",
       "      <td>-0.135542</td>\n",
       "      <td>0.152980</td>\n",
       "      <td>-0.044544</td>\n",
       "      <td>0.049300</td>\n",
       "      <td>0.188938</td>\n",
       "      <td>0.019565</td>\n",
       "      <td>0.079820</td>\n",
       "      <td>0.053780</td>\n",
       "      <td>0.630392</td>\n",
       "      <td>0.991992</td>\n",
       "      <td>-0.376632</td>\n",
       "      <td>0.051227</td>\n",
       "      <td>1.045300</td>\n",
       "      <td>0.200280</td>\n",
       "      <td>0.098216</td>\n",
       "      <td>1.234218</td>\n",
       "    </tr>\n",
       "    <tr>\n",
       "      <th>2</th>\n",
       "      <td>-0.005253</td>\n",
       "      <td>0.011620</td>\n",
       "      <td>-0.046143</td>\n",
       "      <td>1.024940</td>\n",
       "      <td>-0.136014</td>\n",
       "      <td>0.152417</td>\n",
       "      <td>0.021576</td>\n",
       "      <td>-0.060893</td>\n",
       "      <td>0.020793</td>\n",
       "      <td>0.032173</td>\n",
       "      <td>0.099660</td>\n",
       "      <td>0.046247</td>\n",
       "      <td>-0.058003</td>\n",
       "      <td>-0.047758</td>\n",
       "      <td>-0.215589</td>\n",
       "      <td>0.047872</td>\n",
       "      <td>1.045099</td>\n",
       "      <td>0.067866</td>\n",
       "      <td>0.114481</td>\n",
       "      <td>0.228307</td>\n",
       "    </tr>\n",
       "    <tr>\n",
       "      <th>3</th>\n",
       "      <td>-0.004821</td>\n",
       "      <td>0.010402</td>\n",
       "      <td>-0.045727</td>\n",
       "      <td>1.024747</td>\n",
       "      <td>-0.136467</td>\n",
       "      <td>0.151784</td>\n",
       "      <td>-0.178322</td>\n",
       "      <td>-0.007597</td>\n",
       "      <td>0.229162</td>\n",
       "      <td>0.031013</td>\n",
       "      <td>0.098705</td>\n",
       "      <td>0.041935</td>\n",
       "      <td>-0.260247</td>\n",
       "      <td>-0.011292</td>\n",
       "      <td>0.465103</td>\n",
       "      <td>0.047142</td>\n",
       "      <td>1.044877</td>\n",
       "      <td>0.290469</td>\n",
       "      <td>0.111638</td>\n",
       "      <td>0.533083</td>\n",
       "    </tr>\n",
       "    <tr>\n",
       "      <th>4</th>\n",
       "      <td>-0.008388</td>\n",
       "      <td>0.010250</td>\n",
       "      <td>-0.041144</td>\n",
       "      <td>1.024545</td>\n",
       "      <td>-0.136900</td>\n",
       "      <td>0.151080</td>\n",
       "      <td>0.168810</td>\n",
       "      <td>-0.075081</td>\n",
       "      <td>-0.268611</td>\n",
       "      <td>0.025808</td>\n",
       "      <td>0.098479</td>\n",
       "      <td>0.051237</td>\n",
       "      <td>0.188867</td>\n",
       "      <td>0.892604</td>\n",
       "      <td>-0.057455</td>\n",
       "      <td>0.043223</td>\n",
       "      <td>1.044634</td>\n",
       "      <td>0.326015</td>\n",
       "      <td>0.113971</td>\n",
       "      <td>0.914174</td>\n",
       "    </tr>\n",
       "    <tr>\n",
       "      <th>...</th>\n",
       "      <td>...</td>\n",
       "      <td>...</td>\n",
       "      <td>...</td>\n",
       "      <td>...</td>\n",
       "      <td>...</td>\n",
       "      <td>...</td>\n",
       "      <td>...</td>\n",
       "      <td>...</td>\n",
       "      <td>...</td>\n",
       "      <td>...</td>\n",
       "      <td>...</td>\n",
       "      <td>...</td>\n",
       "      <td>...</td>\n",
       "      <td>...</td>\n",
       "      <td>...</td>\n",
       "      <td>...</td>\n",
       "      <td>...</td>\n",
       "      <td>...</td>\n",
       "      <td>...</td>\n",
       "      <td>...</td>\n",
       "    </tr>\n",
       "    <tr>\n",
       "      <th>123</th>\n",
       "      <td>-0.003679</td>\n",
       "      <td>-0.014323</td>\n",
       "      <td>0.000438</td>\n",
       "      <td>1.022534</td>\n",
       "      <td>-0.110934</td>\n",
       "      <td>0.100162</td>\n",
       "      <td>-0.019081</td>\n",
       "      <td>0.185830</td>\n",
       "      <td>-0.126946</td>\n",
       "      <td>0.056079</td>\n",
       "      <td>-0.094259</td>\n",
       "      <td>-0.033718</td>\n",
       "      <td>-0.336466</td>\n",
       "      <td>0.019835</td>\n",
       "      <td>0.337025</td>\n",
       "      <td>0.014795</td>\n",
       "      <td>1.033399</td>\n",
       "      <td>0.225859</td>\n",
       "      <td>0.114746</td>\n",
       "      <td>0.476643</td>\n",
       "    </tr>\n",
       "    <tr>\n",
       "      <th>124</th>\n",
       "      <td>-0.004061</td>\n",
       "      <td>-0.010606</td>\n",
       "      <td>-0.002101</td>\n",
       "      <td>1.022709</td>\n",
       "      <td>-0.111246</td>\n",
       "      <td>0.101207</td>\n",
       "      <td>0.194606</td>\n",
       "      <td>0.051416</td>\n",
       "      <td>-0.280300</td>\n",
       "      <td>0.049349</td>\n",
       "      <td>-0.093863</td>\n",
       "      <td>-0.026977</td>\n",
       "      <td>0.005888</td>\n",
       "      <td>0.436156</td>\n",
       "      <td>0.046692</td>\n",
       "      <td>0.011550</td>\n",
       "      <td>1.033708</td>\n",
       "      <td>0.345085</td>\n",
       "      <td>0.109423</td>\n",
       "      <td>0.438687</td>\n",
       "    </tr>\n",
       "    <tr>\n",
       "      <th>125</th>\n",
       "      <td>-0.000169</td>\n",
       "      <td>-0.009578</td>\n",
       "      <td>-0.007707</td>\n",
       "      <td>1.022878</td>\n",
       "      <td>-0.111574</td>\n",
       "      <td>0.102239</td>\n",
       "      <td>-0.031194</td>\n",
       "      <td>0.041146</td>\n",
       "      <td>-0.234494</td>\n",
       "      <td>0.049467</td>\n",
       "      <td>-0.085140</td>\n",
       "      <td>-0.026043</td>\n",
       "      <td>-0.318205</td>\n",
       "      <td>-0.379045</td>\n",
       "      <td>0.155929</td>\n",
       "      <td>0.012295</td>\n",
       "      <td>1.034012</td>\n",
       "      <td>0.240111</td>\n",
       "      <td>0.101853</td>\n",
       "      <td>0.518887</td>\n",
       "    </tr>\n",
       "    <tr>\n",
       "      <th>126</th>\n",
       "      <td>-0.000793</td>\n",
       "      <td>-0.008755</td>\n",
       "      <td>-0.012397</td>\n",
       "      <td>1.023040</td>\n",
       "      <td>-0.111917</td>\n",
       "      <td>0.103255</td>\n",
       "      <td>-0.037031</td>\n",
       "      <td>0.010671</td>\n",
       "      <td>0.064433</td>\n",
       "      <td>0.043103</td>\n",
       "      <td>-0.092721</td>\n",
       "      <td>-0.022925</td>\n",
       "      <td>-0.216222</td>\n",
       "      <td>0.653534</td>\n",
       "      <td>0.204675</td>\n",
       "      <td>0.015197</td>\n",
       "      <td>1.034311</td>\n",
       "      <td>0.075079</td>\n",
       "      <td>0.104788</td>\n",
       "      <td>0.718158</td>\n",
       "    </tr>\n",
       "    <tr>\n",
       "      <th>127</th>\n",
       "      <td>-0.001533</td>\n",
       "      <td>-0.008542</td>\n",
       "      <td>-0.011108</td>\n",
       "      <td>1.023197</td>\n",
       "      <td>-0.112275</td>\n",
       "      <td>0.104254</td>\n",
       "      <td>-0.072286</td>\n",
       "      <td>-0.127939</td>\n",
       "      <td>0.127395</td>\n",
       "      <td>0.038778</td>\n",
       "      <td>-0.079650</td>\n",
       "      <td>-0.018831</td>\n",
       "      <td>-0.192724</td>\n",
       "      <td>-0.098466</td>\n",
       "      <td>-0.016557</td>\n",
       "      <td>0.014096</td>\n",
       "      <td>1.034605</td>\n",
       "      <td>0.194482</td>\n",
       "      <td>0.090568</td>\n",
       "      <td>0.217053</td>\n",
       "    </tr>\n",
       "  </tbody>\n",
       "</table>\n",
       "<p>128 rows × 20 columns</p>\n",
       "</div>"
      ],
      "text/plain": [
       "     t_body_acc_X  t_body_acc_Y  t_body_acc_Z  t_grav_acc_X  t_grav_acc_Y  \\\n",
       "0       -0.003068      0.009275     -0.049713      1.025297     -0.135052   \n",
       "1       -0.004362      0.010634     -0.049921      1.025123     -0.135542   \n",
       "2       -0.005253      0.011620     -0.046143      1.024940     -0.136014   \n",
       "3       -0.004821      0.010402     -0.045727      1.024747     -0.136467   \n",
       "4       -0.008388      0.010250     -0.041144      1.024545     -0.136900   \n",
       "..            ...           ...           ...           ...           ...   \n",
       "123     -0.003679     -0.014323      0.000438      1.022534     -0.110934   \n",
       "124     -0.004061     -0.010606     -0.002101      1.022709     -0.111246   \n",
       "125     -0.000169     -0.009578     -0.007707      1.022878     -0.111574   \n",
       "126     -0.000793     -0.008755     -0.012397      1.023040     -0.111917   \n",
       "127     -0.001533     -0.008542     -0.011108      1.023197     -0.112275   \n",
       "\n",
       "     t_grav_acc_Z  t_body_acc_jerk_X  t_body_acc_jerk_Y  t_body_acc_jerk_Z  \\\n",
       "0        0.153468          -0.064668           0.067917          -0.010441   \n",
       "1        0.152980          -0.044544           0.049300           0.188938   \n",
       "2        0.152417           0.021576          -0.060893           0.020793   \n",
       "3        0.151784          -0.178322          -0.007597           0.229162   \n",
       "4        0.151080           0.168810          -0.075081          -0.268611   \n",
       "..            ...                ...                ...                ...   \n",
       "123      0.100162          -0.019081           0.185830          -0.126946   \n",
       "124      0.101207           0.194606           0.051416          -0.280300   \n",
       "125      0.102239          -0.031194           0.041146          -0.234494   \n",
       "126      0.103255          -0.037031           0.010671           0.064433   \n",
       "127      0.104254          -0.072286          -0.127939           0.127395   \n",
       "\n",
       "     t_body_gyro_X  t_body_gyro_Y  t_body_gyro_Z  t_body_gyro_jerk_X  \\\n",
       "0         0.023431       0.089860       0.049693           -0.193282   \n",
       "1         0.019565       0.079820       0.053780            0.630392   \n",
       "2         0.032173       0.099660       0.046247           -0.058003   \n",
       "3         0.031013       0.098705       0.041935           -0.260247   \n",
       "4         0.025808       0.098479       0.051237            0.188867   \n",
       "..             ...            ...            ...                 ...   \n",
       "123       0.056079      -0.094259      -0.033718           -0.336466   \n",
       "124       0.049349      -0.093863      -0.026977            0.005888   \n",
       "125       0.049467      -0.085140      -0.026043           -0.318205   \n",
       "126       0.043103      -0.092721      -0.022925           -0.216222   \n",
       "127       0.038778      -0.079650      -0.018831           -0.192724   \n",
       "\n",
       "     t_body_gyro_jerk_Y  t_body_gyro_jerk_Z  t_body_acc_mag  t_grav_acc_mag  \\\n",
       "0             -0.501977            0.204316        0.050664        1.045479   \n",
       "1              0.991992           -0.376632        0.051227        1.045300   \n",
       "2             -0.047758           -0.215589        0.047872        1.045099   \n",
       "3             -0.011292            0.465103        0.047142        1.044877   \n",
       "4              0.892604           -0.057455        0.043223        1.044634   \n",
       "..                  ...                 ...             ...             ...   \n",
       "123            0.019835            0.337025        0.014795        1.033399   \n",
       "124            0.436156            0.046692        0.011550        1.033708   \n",
       "125           -0.379045            0.155929        0.012295        1.034012   \n",
       "126            0.653534            0.204675        0.015197        1.034311   \n",
       "127           -0.098466           -0.016557        0.014096        1.034605   \n",
       "\n",
       "     t_body_acc_jerk_mag  t_body_gyro_mag  t_body_gyro_jerk_mag  \n",
       "0               0.094359         0.105324              0.575399  \n",
       "1               0.200280         0.098216              1.234218  \n",
       "2               0.067866         0.114481              0.228307  \n",
       "3               0.290469         0.111638              0.533083  \n",
       "4               0.326015         0.113971              0.914174  \n",
       "..                   ...              ...                   ...  \n",
       "123             0.225859         0.114746              0.476643  \n",
       "124             0.345085         0.109423              0.438687  \n",
       "125             0.240111         0.101853              0.518887  \n",
       "126             0.075079         0.104788              0.718158  \n",
       "127             0.194482         0.090568              0.217053  \n",
       "\n",
       "[128 rows x 20 columns]"
      ]
     },
     "execution_count": 38,
     "metadata": {},
     "output_type": "execute_result"
    }
   ],
   "source": [
    "train_time_dictionary_window['t_W00000_exp01_user01_act05']"
   ]
  },
  {
   "cell_type": "markdown",
   "id": "underlying-montreal",
   "metadata": {
    "papermill": {
     "duration": 0.467253,
     "end_time": "2021-05-01T05:03:54.037058",
     "exception": false,
     "start_time": "2021-05-01T05:03:53.569805",
     "status": "completed"
    },
    "tags": []
   },
   "source": [
    "### 4. Feature Extract"
   ]
  },
  {
   "cell_type": "code",
   "execution_count": 39,
   "id": "creative-layout",
   "metadata": {
    "execution": {
     "iopub.execute_input": "2021-05-01T05:03:54.968003Z",
     "iopub.status.busy": "2021-05-01T05:03:54.967032Z",
     "iopub.status.idle": "2021-05-01T05:03:54.995582Z",
     "shell.execute_reply": "2021-05-01T05:03:54.996088Z"
    },
    "papermill": {
     "duration": 0.491509,
     "end_time": "2021-05-01T05:03:54.996261",
     "exception": false,
     "start_time": "2021-05-01T05:03:54.504752",
     "status": "completed"
    },
    "tags": []
   },
   "outputs": [
    {
     "data": {
      "text/html": [
       "<div>\n",
       "<style scoped>\n",
       "    .dataframe tbody tr th:only-of-type {\n",
       "        vertical-align: middle;\n",
       "    }\n",
       "\n",
       "    .dataframe tbody tr th {\n",
       "        vertical-align: top;\n",
       "    }\n",
       "\n",
       "    .dataframe thead th {\n",
       "        text-align: right;\n",
       "    }\n",
       "</style>\n",
       "<table border=\"1\" class=\"dataframe\">\n",
       "  <thead>\n",
       "    <tr style=\"text-align: right;\">\n",
       "      <th></th>\n",
       "      <th>t_body_acc_X</th>\n",
       "      <th>t_body_acc_Y</th>\n",
       "      <th>t_body_acc_Z</th>\n",
       "      <th>t_grav_acc_X</th>\n",
       "      <th>t_grav_acc_Y</th>\n",
       "      <th>t_grav_acc_Z</th>\n",
       "      <th>t_body_acc_jerk_X</th>\n",
       "      <th>t_body_acc_jerk_Y</th>\n",
       "      <th>t_body_acc_jerk_Z</th>\n",
       "      <th>t_body_gyro_X</th>\n",
       "      <th>t_body_gyro_Y</th>\n",
       "      <th>t_body_gyro_Z</th>\n",
       "      <th>t_body_gyro_jerk_X</th>\n",
       "      <th>t_body_gyro_jerk_Y</th>\n",
       "      <th>t_body_gyro_jerk_Z</th>\n",
       "    </tr>\n",
       "  </thead>\n",
       "  <tbody>\n",
       "    <tr>\n",
       "      <th>0</th>\n",
       "      <td>-0.003068</td>\n",
       "      <td>0.009275</td>\n",
       "      <td>-0.049713</td>\n",
       "      <td>1.025297</td>\n",
       "      <td>-0.135052</td>\n",
       "      <td>0.153468</td>\n",
       "      <td>-0.064668</td>\n",
       "      <td>0.067917</td>\n",
       "      <td>-0.010441</td>\n",
       "      <td>0.023431</td>\n",
       "      <td>0.089860</td>\n",
       "      <td>0.049693</td>\n",
       "      <td>-0.193282</td>\n",
       "      <td>-0.501977</td>\n",
       "      <td>0.204316</td>\n",
       "    </tr>\n",
       "    <tr>\n",
       "      <th>1</th>\n",
       "      <td>-0.004362</td>\n",
       "      <td>0.010634</td>\n",
       "      <td>-0.049921</td>\n",
       "      <td>1.025123</td>\n",
       "      <td>-0.135542</td>\n",
       "      <td>0.152980</td>\n",
       "      <td>-0.044544</td>\n",
       "      <td>0.049300</td>\n",
       "      <td>0.188938</td>\n",
       "      <td>0.019565</td>\n",
       "      <td>0.079820</td>\n",
       "      <td>0.053780</td>\n",
       "      <td>0.630392</td>\n",
       "      <td>0.991992</td>\n",
       "      <td>-0.376632</td>\n",
       "    </tr>\n",
       "    <tr>\n",
       "      <th>2</th>\n",
       "      <td>-0.005253</td>\n",
       "      <td>0.011620</td>\n",
       "      <td>-0.046143</td>\n",
       "      <td>1.024940</td>\n",
       "      <td>-0.136014</td>\n",
       "      <td>0.152417</td>\n",
       "      <td>0.021576</td>\n",
       "      <td>-0.060893</td>\n",
       "      <td>0.020793</td>\n",
       "      <td>0.032173</td>\n",
       "      <td>0.099660</td>\n",
       "      <td>0.046247</td>\n",
       "      <td>-0.058003</td>\n",
       "      <td>-0.047758</td>\n",
       "      <td>-0.215589</td>\n",
       "    </tr>\n",
       "    <tr>\n",
       "      <th>3</th>\n",
       "      <td>-0.004821</td>\n",
       "      <td>0.010402</td>\n",
       "      <td>-0.045727</td>\n",
       "      <td>1.024747</td>\n",
       "      <td>-0.136467</td>\n",
       "      <td>0.151784</td>\n",
       "      <td>-0.178322</td>\n",
       "      <td>-0.007597</td>\n",
       "      <td>0.229162</td>\n",
       "      <td>0.031013</td>\n",
       "      <td>0.098705</td>\n",
       "      <td>0.041935</td>\n",
       "      <td>-0.260247</td>\n",
       "      <td>-0.011292</td>\n",
       "      <td>0.465103</td>\n",
       "    </tr>\n",
       "    <tr>\n",
       "      <th>4</th>\n",
       "      <td>-0.008388</td>\n",
       "      <td>0.010250</td>\n",
       "      <td>-0.041144</td>\n",
       "      <td>1.024545</td>\n",
       "      <td>-0.136900</td>\n",
       "      <td>0.151080</td>\n",
       "      <td>0.168810</td>\n",
       "      <td>-0.075081</td>\n",
       "      <td>-0.268611</td>\n",
       "      <td>0.025808</td>\n",
       "      <td>0.098479</td>\n",
       "      <td>0.051237</td>\n",
       "      <td>0.188867</td>\n",
       "      <td>0.892604</td>\n",
       "      <td>-0.057455</td>\n",
       "    </tr>\n",
       "    <tr>\n",
       "      <th>...</th>\n",
       "      <td>...</td>\n",
       "      <td>...</td>\n",
       "      <td>...</td>\n",
       "      <td>...</td>\n",
       "      <td>...</td>\n",
       "      <td>...</td>\n",
       "      <td>...</td>\n",
       "      <td>...</td>\n",
       "      <td>...</td>\n",
       "      <td>...</td>\n",
       "      <td>...</td>\n",
       "      <td>...</td>\n",
       "      <td>...</td>\n",
       "      <td>...</td>\n",
       "      <td>...</td>\n",
       "    </tr>\n",
       "    <tr>\n",
       "      <th>123</th>\n",
       "      <td>-0.003679</td>\n",
       "      <td>-0.014323</td>\n",
       "      <td>0.000438</td>\n",
       "      <td>1.022534</td>\n",
       "      <td>-0.110934</td>\n",
       "      <td>0.100162</td>\n",
       "      <td>-0.019081</td>\n",
       "      <td>0.185830</td>\n",
       "      <td>-0.126946</td>\n",
       "      <td>0.056079</td>\n",
       "      <td>-0.094259</td>\n",
       "      <td>-0.033718</td>\n",
       "      <td>-0.336466</td>\n",
       "      <td>0.019835</td>\n",
       "      <td>0.337025</td>\n",
       "    </tr>\n",
       "    <tr>\n",
       "      <th>124</th>\n",
       "      <td>-0.004061</td>\n",
       "      <td>-0.010606</td>\n",
       "      <td>-0.002101</td>\n",
       "      <td>1.022709</td>\n",
       "      <td>-0.111246</td>\n",
       "      <td>0.101207</td>\n",
       "      <td>0.194606</td>\n",
       "      <td>0.051416</td>\n",
       "      <td>-0.280300</td>\n",
       "      <td>0.049349</td>\n",
       "      <td>-0.093863</td>\n",
       "      <td>-0.026977</td>\n",
       "      <td>0.005888</td>\n",
       "      <td>0.436156</td>\n",
       "      <td>0.046692</td>\n",
       "    </tr>\n",
       "    <tr>\n",
       "      <th>125</th>\n",
       "      <td>-0.000169</td>\n",
       "      <td>-0.009578</td>\n",
       "      <td>-0.007707</td>\n",
       "      <td>1.022878</td>\n",
       "      <td>-0.111574</td>\n",
       "      <td>0.102239</td>\n",
       "      <td>-0.031194</td>\n",
       "      <td>0.041146</td>\n",
       "      <td>-0.234494</td>\n",
       "      <td>0.049467</td>\n",
       "      <td>-0.085140</td>\n",
       "      <td>-0.026043</td>\n",
       "      <td>-0.318205</td>\n",
       "      <td>-0.379045</td>\n",
       "      <td>0.155929</td>\n",
       "    </tr>\n",
       "    <tr>\n",
       "      <th>126</th>\n",
       "      <td>-0.000793</td>\n",
       "      <td>-0.008755</td>\n",
       "      <td>-0.012397</td>\n",
       "      <td>1.023040</td>\n",
       "      <td>-0.111917</td>\n",
       "      <td>0.103255</td>\n",
       "      <td>-0.037031</td>\n",
       "      <td>0.010671</td>\n",
       "      <td>0.064433</td>\n",
       "      <td>0.043103</td>\n",
       "      <td>-0.092721</td>\n",
       "      <td>-0.022925</td>\n",
       "      <td>-0.216222</td>\n",
       "      <td>0.653534</td>\n",
       "      <td>0.204675</td>\n",
       "    </tr>\n",
       "    <tr>\n",
       "      <th>127</th>\n",
       "      <td>-0.001533</td>\n",
       "      <td>-0.008542</td>\n",
       "      <td>-0.011108</td>\n",
       "      <td>1.023197</td>\n",
       "      <td>-0.112275</td>\n",
       "      <td>0.104254</td>\n",
       "      <td>-0.072286</td>\n",
       "      <td>-0.127939</td>\n",
       "      <td>0.127395</td>\n",
       "      <td>0.038778</td>\n",
       "      <td>-0.079650</td>\n",
       "      <td>-0.018831</td>\n",
       "      <td>-0.192724</td>\n",
       "      <td>-0.098466</td>\n",
       "      <td>-0.016557</td>\n",
       "    </tr>\n",
       "  </tbody>\n",
       "</table>\n",
       "<p>128 rows × 15 columns</p>\n",
       "</div>"
      ],
      "text/plain": [
       "     t_body_acc_X  t_body_acc_Y  t_body_acc_Z  t_grav_acc_X  t_grav_acc_Y  \\\n",
       "0       -0.003068      0.009275     -0.049713      1.025297     -0.135052   \n",
       "1       -0.004362      0.010634     -0.049921      1.025123     -0.135542   \n",
       "2       -0.005253      0.011620     -0.046143      1.024940     -0.136014   \n",
       "3       -0.004821      0.010402     -0.045727      1.024747     -0.136467   \n",
       "4       -0.008388      0.010250     -0.041144      1.024545     -0.136900   \n",
       "..            ...           ...           ...           ...           ...   \n",
       "123     -0.003679     -0.014323      0.000438      1.022534     -0.110934   \n",
       "124     -0.004061     -0.010606     -0.002101      1.022709     -0.111246   \n",
       "125     -0.000169     -0.009578     -0.007707      1.022878     -0.111574   \n",
       "126     -0.000793     -0.008755     -0.012397      1.023040     -0.111917   \n",
       "127     -0.001533     -0.008542     -0.011108      1.023197     -0.112275   \n",
       "\n",
       "     t_grav_acc_Z  t_body_acc_jerk_X  t_body_acc_jerk_Y  t_body_acc_jerk_Z  \\\n",
       "0        0.153468          -0.064668           0.067917          -0.010441   \n",
       "1        0.152980          -0.044544           0.049300           0.188938   \n",
       "2        0.152417           0.021576          -0.060893           0.020793   \n",
       "3        0.151784          -0.178322          -0.007597           0.229162   \n",
       "4        0.151080           0.168810          -0.075081          -0.268611   \n",
       "..            ...                ...                ...                ...   \n",
       "123      0.100162          -0.019081           0.185830          -0.126946   \n",
       "124      0.101207           0.194606           0.051416          -0.280300   \n",
       "125      0.102239          -0.031194           0.041146          -0.234494   \n",
       "126      0.103255          -0.037031           0.010671           0.064433   \n",
       "127      0.104254          -0.072286          -0.127939           0.127395   \n",
       "\n",
       "     t_body_gyro_X  t_body_gyro_Y  t_body_gyro_Z  t_body_gyro_jerk_X  \\\n",
       "0         0.023431       0.089860       0.049693           -0.193282   \n",
       "1         0.019565       0.079820       0.053780            0.630392   \n",
       "2         0.032173       0.099660       0.046247           -0.058003   \n",
       "3         0.031013       0.098705       0.041935           -0.260247   \n",
       "4         0.025808       0.098479       0.051237            0.188867   \n",
       "..             ...            ...            ...                 ...   \n",
       "123       0.056079      -0.094259      -0.033718           -0.336466   \n",
       "124       0.049349      -0.093863      -0.026977            0.005888   \n",
       "125       0.049467      -0.085140      -0.026043           -0.318205   \n",
       "126       0.043103      -0.092721      -0.022925           -0.216222   \n",
       "127       0.038778      -0.079650      -0.018831           -0.192724   \n",
       "\n",
       "     t_body_gyro_jerk_Y  t_body_gyro_jerk_Z  \n",
       "0             -0.501977            0.204316  \n",
       "1              0.991992           -0.376632  \n",
       "2             -0.047758           -0.215589  \n",
       "3             -0.011292            0.465103  \n",
       "4              0.892604           -0.057455  \n",
       "..                  ...                 ...  \n",
       "123            0.019835            0.337025  \n",
       "124            0.436156            0.046692  \n",
       "125           -0.379045            0.155929  \n",
       "126            0.653534            0.204675  \n",
       "127           -0.098466           -0.016557  \n",
       "\n",
       "[128 rows x 15 columns]"
      ]
     },
     "execution_count": 39,
     "metadata": {},
     "output_type": "execute_result"
    }
   ],
   "source": [
    "train_time_dictionary_window['t_W00000_exp01_user01_act05'][train_time_dictionary_window['t_W00000_exp01_user01_act05'].columns[:15]]"
   ]
  },
  {
   "cell_type": "code",
   "execution_count": 40,
   "id": "likely-engineering",
   "metadata": {
    "execution": {
     "iopub.execute_input": "2021-05-01T05:03:55.948568Z",
     "iopub.status.busy": "2021-05-01T05:03:55.947811Z",
     "iopub.status.idle": "2021-05-01T05:03:55.951018Z",
     "shell.execute_reply": "2021-05-01T05:03:55.951614Z"
    },
    "papermill": {
     "duration": 0.494918,
     "end_time": "2021-05-01T05:03:55.951791",
     "exception": false,
     "start_time": "2021-05-01T05:03:55.456873",
     "status": "completed"
    },
    "tags": []
   },
   "outputs": [
    {
     "data": {
      "text/html": [
       "<div>\n",
       "<style scoped>\n",
       "    .dataframe tbody tr th:only-of-type {\n",
       "        vertical-align: middle;\n",
       "    }\n",
       "\n",
       "    .dataframe tbody tr th {\n",
       "        vertical-align: top;\n",
       "    }\n",
       "\n",
       "    .dataframe thead th {\n",
       "        text-align: right;\n",
       "    }\n",
       "</style>\n",
       "<table border=\"1\" class=\"dataframe\">\n",
       "  <thead>\n",
       "    <tr style=\"text-align: right;\">\n",
       "      <th></th>\n",
       "      <th>t_body_acc_X</th>\n",
       "      <th>t_body_acc_Y</th>\n",
       "      <th>t_body_acc_Z</th>\n",
       "      <th>t_grav_acc_X</th>\n",
       "      <th>t_grav_acc_Y</th>\n",
       "      <th>t_grav_acc_Z</th>\n",
       "      <th>t_body_acc_jerk_X</th>\n",
       "      <th>t_body_acc_jerk_Y</th>\n",
       "      <th>t_body_acc_jerk_Z</th>\n",
       "      <th>t_body_gyro_X</th>\n",
       "      <th>t_body_gyro_Y</th>\n",
       "      <th>t_body_gyro_Z</th>\n",
       "      <th>t_body_gyro_jerk_X</th>\n",
       "      <th>t_body_gyro_jerk_Y</th>\n",
       "      <th>t_body_gyro_jerk_Z</th>\n",
       "    </tr>\n",
       "  </thead>\n",
       "  <tbody>\n",
       "    <tr>\n",
       "      <th>0</th>\n",
       "      <td>-0.003068</td>\n",
       "      <td>0.009275</td>\n",
       "      <td>-0.049713</td>\n",
       "      <td>1.025297</td>\n",
       "      <td>-0.135052</td>\n",
       "      <td>0.153468</td>\n",
       "      <td>-0.064668</td>\n",
       "      <td>0.067917</td>\n",
       "      <td>-0.010441</td>\n",
       "      <td>0.023431</td>\n",
       "      <td>0.089860</td>\n",
       "      <td>0.049693</td>\n",
       "      <td>-0.193282</td>\n",
       "      <td>-0.501977</td>\n",
       "      <td>0.204316</td>\n",
       "    </tr>\n",
       "    <tr>\n",
       "      <th>1</th>\n",
       "      <td>-0.004362</td>\n",
       "      <td>0.010634</td>\n",
       "      <td>-0.049921</td>\n",
       "      <td>1.025123</td>\n",
       "      <td>-0.135542</td>\n",
       "      <td>0.152980</td>\n",
       "      <td>-0.044544</td>\n",
       "      <td>0.049300</td>\n",
       "      <td>0.188938</td>\n",
       "      <td>0.019565</td>\n",
       "      <td>0.079820</td>\n",
       "      <td>0.053780</td>\n",
       "      <td>0.630392</td>\n",
       "      <td>0.991992</td>\n",
       "      <td>-0.376632</td>\n",
       "    </tr>\n",
       "    <tr>\n",
       "      <th>2</th>\n",
       "      <td>-0.005253</td>\n",
       "      <td>0.011620</td>\n",
       "      <td>-0.046143</td>\n",
       "      <td>1.024940</td>\n",
       "      <td>-0.136014</td>\n",
       "      <td>0.152417</td>\n",
       "      <td>0.021576</td>\n",
       "      <td>-0.060893</td>\n",
       "      <td>0.020793</td>\n",
       "      <td>0.032173</td>\n",
       "      <td>0.099660</td>\n",
       "      <td>0.046247</td>\n",
       "      <td>-0.058003</td>\n",
       "      <td>-0.047758</td>\n",
       "      <td>-0.215589</td>\n",
       "    </tr>\n",
       "    <tr>\n",
       "      <th>3</th>\n",
       "      <td>-0.004821</td>\n",
       "      <td>0.010402</td>\n",
       "      <td>-0.045727</td>\n",
       "      <td>1.024747</td>\n",
       "      <td>-0.136467</td>\n",
       "      <td>0.151784</td>\n",
       "      <td>-0.178322</td>\n",
       "      <td>-0.007597</td>\n",
       "      <td>0.229162</td>\n",
       "      <td>0.031013</td>\n",
       "      <td>0.098705</td>\n",
       "      <td>0.041935</td>\n",
       "      <td>-0.260247</td>\n",
       "      <td>-0.011292</td>\n",
       "      <td>0.465103</td>\n",
       "    </tr>\n",
       "    <tr>\n",
       "      <th>4</th>\n",
       "      <td>-0.008388</td>\n",
       "      <td>0.010250</td>\n",
       "      <td>-0.041144</td>\n",
       "      <td>1.024545</td>\n",
       "      <td>-0.136900</td>\n",
       "      <td>0.151080</td>\n",
       "      <td>0.168810</td>\n",
       "      <td>-0.075081</td>\n",
       "      <td>-0.268611</td>\n",
       "      <td>0.025808</td>\n",
       "      <td>0.098479</td>\n",
       "      <td>0.051237</td>\n",
       "      <td>0.188867</td>\n",
       "      <td>0.892604</td>\n",
       "      <td>-0.057455</td>\n",
       "    </tr>\n",
       "  </tbody>\n",
       "</table>\n",
       "</div>"
      ],
      "text/plain": [
       "   t_body_acc_X  t_body_acc_Y  t_body_acc_Z  t_grav_acc_X  t_grav_acc_Y  \\\n",
       "0     -0.003068      0.009275     -0.049713      1.025297     -0.135052   \n",
       "1     -0.004362      0.010634     -0.049921      1.025123     -0.135542   \n",
       "2     -0.005253      0.011620     -0.046143      1.024940     -0.136014   \n",
       "3     -0.004821      0.010402     -0.045727      1.024747     -0.136467   \n",
       "4     -0.008388      0.010250     -0.041144      1.024545     -0.136900   \n",
       "\n",
       "   t_grav_acc_Z  t_body_acc_jerk_X  t_body_acc_jerk_Y  t_body_acc_jerk_Z  \\\n",
       "0      0.153468          -0.064668           0.067917          -0.010441   \n",
       "1      0.152980          -0.044544           0.049300           0.188938   \n",
       "2      0.152417           0.021576          -0.060893           0.020793   \n",
       "3      0.151784          -0.178322          -0.007597           0.229162   \n",
       "4      0.151080           0.168810          -0.075081          -0.268611   \n",
       "\n",
       "   t_body_gyro_X  t_body_gyro_Y  t_body_gyro_Z  t_body_gyro_jerk_X  \\\n",
       "0       0.023431       0.089860       0.049693           -0.193282   \n",
       "1       0.019565       0.079820       0.053780            0.630392   \n",
       "2       0.032173       0.099660       0.046247           -0.058003   \n",
       "3       0.031013       0.098705       0.041935           -0.260247   \n",
       "4       0.025808       0.098479       0.051237            0.188867   \n",
       "\n",
       "   t_body_gyro_jerk_Y  t_body_gyro_jerk_Z  \n",
       "0           -0.501977            0.204316  \n",
       "1            0.991992           -0.376632  \n",
       "2           -0.047758           -0.215589  \n",
       "3           -0.011292            0.465103  \n",
       "4            0.892604           -0.057455  "
      ]
     },
     "execution_count": 40,
     "metadata": {},
     "output_type": "execute_result"
    }
   ],
   "source": [
    "cols = train_time_dictionary_window['t_W00000_exp01_user01_act05'].columns[:15]\n",
    "df = train_time_dictionary_window['t_W00000_exp01_user01_act05'][cols]\n",
    "df.head()"
   ]
  },
  {
   "cell_type": "code",
   "execution_count": 41,
   "id": "tough-bidder",
   "metadata": {
    "execution": {
     "iopub.execute_input": "2021-05-01T05:03:56.885245Z",
     "iopub.status.busy": "2021-05-01T05:03:56.884612Z",
     "iopub.status.idle": "2021-05-01T05:03:56.902508Z",
     "shell.execute_reply": "2021-05-01T05:03:56.902988Z"
    },
    "papermill": {
     "duration": 0.486138,
     "end_time": "2021-05-01T05:03:56.903151",
     "exception": false,
     "start_time": "2021-05-01T05:03:56.417013",
     "status": "completed"
    },
    "tags": []
   },
   "outputs": [
    {
     "data": {
      "text/html": [
       "<div>\n",
       "<style scoped>\n",
       "    .dataframe tbody tr th:only-of-type {\n",
       "        vertical-align: middle;\n",
       "    }\n",
       "\n",
       "    .dataframe tbody tr th {\n",
       "        vertical-align: top;\n",
       "    }\n",
       "\n",
       "    .dataframe thead th {\n",
       "        text-align: right;\n",
       "    }\n",
       "</style>\n",
       "<table border=\"1\" class=\"dataframe\">\n",
       "  <thead>\n",
       "    <tr style=\"text-align: right;\">\n",
       "      <th></th>\n",
       "      <th>t_body_acc_X</th>\n",
       "      <th>t_body_acc_Y</th>\n",
       "      <th>t_body_acc_Z</th>\n",
       "      <th>t_grav_acc_X</th>\n",
       "      <th>t_grav_acc_Y</th>\n",
       "      <th>t_grav_acc_Z</th>\n",
       "      <th>t_body_acc_jerk_X</th>\n",
       "      <th>t_body_acc_jerk_Y</th>\n",
       "      <th>t_body_acc_jerk_Z</th>\n",
       "      <th>t_body_gyro_X</th>\n",
       "      <th>t_body_gyro_Y</th>\n",
       "      <th>t_body_gyro_Z</th>\n",
       "      <th>t_body_gyro_jerk_X</th>\n",
       "      <th>t_body_gyro_jerk_Y</th>\n",
       "      <th>t_body_gyro_jerk_Z</th>\n",
       "    </tr>\n",
       "  </thead>\n",
       "  <tbody>\n",
       "    <tr>\n",
       "      <th>0</th>\n",
       "      <td>-0.003068</td>\n",
       "      <td>0.009275</td>\n",
       "      <td>-0.049713</td>\n",
       "      <td>1.025297</td>\n",
       "      <td>-0.135052</td>\n",
       "      <td>0.153468</td>\n",
       "      <td>-0.064668</td>\n",
       "      <td>0.067917</td>\n",
       "      <td>-0.010441</td>\n",
       "      <td>0.023431</td>\n",
       "      <td>0.08986</td>\n",
       "      <td>0.049693</td>\n",
       "      <td>-0.193282</td>\n",
       "      <td>-0.501977</td>\n",
       "      <td>0.204316</td>\n",
       "    </tr>\n",
       "    <tr>\n",
       "      <th>1</th>\n",
       "      <td>-0.004362</td>\n",
       "      <td>0.010634</td>\n",
       "      <td>-0.049921</td>\n",
       "      <td>1.025123</td>\n",
       "      <td>-0.135542</td>\n",
       "      <td>0.152980</td>\n",
       "      <td>-0.044544</td>\n",
       "      <td>0.049300</td>\n",
       "      <td>0.188938</td>\n",
       "      <td>0.019565</td>\n",
       "      <td>0.07982</td>\n",
       "      <td>0.053780</td>\n",
       "      <td>0.630392</td>\n",
       "      <td>0.991992</td>\n",
       "      <td>-0.376632</td>\n",
       "    </tr>\n",
       "    <tr>\n",
       "      <th>2</th>\n",
       "      <td>-0.005253</td>\n",
       "      <td>0.011620</td>\n",
       "      <td>-0.046143</td>\n",
       "      <td>1.024940</td>\n",
       "      <td>-0.136014</td>\n",
       "      <td>0.152417</td>\n",
       "      <td>0.021576</td>\n",
       "      <td>-0.060893</td>\n",
       "      <td>0.020793</td>\n",
       "      <td>0.032173</td>\n",
       "      <td>0.09966</td>\n",
       "      <td>0.046247</td>\n",
       "      <td>-0.058003</td>\n",
       "      <td>-0.047758</td>\n",
       "      <td>-0.215589</td>\n",
       "    </tr>\n",
       "  </tbody>\n",
       "</table>\n",
       "</div>"
      ],
      "text/plain": [
       "   t_body_acc_X  t_body_acc_Y  t_body_acc_Z  t_grav_acc_X  t_grav_acc_Y  \\\n",
       "0     -0.003068      0.009275     -0.049713      1.025297     -0.135052   \n",
       "1     -0.004362      0.010634     -0.049921      1.025123     -0.135542   \n",
       "2     -0.005253      0.011620     -0.046143      1.024940     -0.136014   \n",
       "\n",
       "   t_grav_acc_Z  t_body_acc_jerk_X  t_body_acc_jerk_Y  t_body_acc_jerk_Z  \\\n",
       "0      0.153468          -0.064668           0.067917          -0.010441   \n",
       "1      0.152980          -0.044544           0.049300           0.188938   \n",
       "2      0.152417           0.021576          -0.060893           0.020793   \n",
       "\n",
       "   t_body_gyro_X  t_body_gyro_Y  t_body_gyro_Z  t_body_gyro_jerk_X  \\\n",
       "0       0.023431        0.08986       0.049693           -0.193282   \n",
       "1       0.019565        0.07982       0.053780            0.630392   \n",
       "2       0.032173        0.09966       0.046247           -0.058003   \n",
       "\n",
       "   t_body_gyro_jerk_Y  t_body_gyro_jerk_Z  \n",
       "0           -0.501977            0.204316  \n",
       "1            0.991992           -0.376632  \n",
       "2           -0.047758           -0.215589  "
      ]
     },
     "execution_count": 41,
     "metadata": {},
     "output_type": "execute_result"
    }
   ],
   "source": [
    "df[0:3]"
   ]
  },
  {
   "cell_type": "code",
   "execution_count": 42,
   "id": "boolean-asbestos",
   "metadata": {
    "execution": {
     "iopub.execute_input": "2021-05-01T05:03:57.833786Z",
     "iopub.status.busy": "2021-05-01T05:03:57.833019Z",
     "iopub.status.idle": "2021-05-01T05:03:57.844340Z",
     "shell.execute_reply": "2021-05-01T05:03:57.843695Z"
    },
    "papermill": {
     "duration": 0.484087,
     "end_time": "2021-05-01T05:03:57.844497",
     "exception": false,
     "start_time": "2021-05-01T05:03:57.360410",
     "status": "completed"
    },
    "tags": []
   },
   "outputs": [
    {
     "data": {
      "text/html": [
       "<div>\n",
       "<style scoped>\n",
       "    .dataframe tbody tr th:only-of-type {\n",
       "        vertical-align: middle;\n",
       "    }\n",
       "\n",
       "    .dataframe tbody tr th {\n",
       "        vertical-align: top;\n",
       "    }\n",
       "\n",
       "    .dataframe thead th {\n",
       "        text-align: right;\n",
       "    }\n",
       "</style>\n",
       "<table border=\"1\" class=\"dataframe\">\n",
       "  <thead>\n",
       "    <tr style=\"text-align: right;\">\n",
       "      <th></th>\n",
       "      <th>t_body_acc_X</th>\n",
       "      <th>t_body_acc_Y</th>\n",
       "      <th>t_body_acc_Z</th>\n",
       "    </tr>\n",
       "  </thead>\n",
       "  <tbody>\n",
       "    <tr>\n",
       "      <th>0</th>\n",
       "      <td>-0.003068</td>\n",
       "      <td>0.009275</td>\n",
       "      <td>-0.049713</td>\n",
       "    </tr>\n",
       "    <tr>\n",
       "      <th>1</th>\n",
       "      <td>-0.004362</td>\n",
       "      <td>0.010634</td>\n",
       "      <td>-0.049921</td>\n",
       "    </tr>\n",
       "    <tr>\n",
       "      <th>2</th>\n",
       "      <td>-0.005253</td>\n",
       "      <td>0.011620</td>\n",
       "      <td>-0.046143</td>\n",
       "    </tr>\n",
       "    <tr>\n",
       "      <th>3</th>\n",
       "      <td>-0.004821</td>\n",
       "      <td>0.010402</td>\n",
       "      <td>-0.045727</td>\n",
       "    </tr>\n",
       "    <tr>\n",
       "      <th>4</th>\n",
       "      <td>-0.008388</td>\n",
       "      <td>0.010250</td>\n",
       "      <td>-0.041144</td>\n",
       "    </tr>\n",
       "  </tbody>\n",
       "</table>\n",
       "</div>"
      ],
      "text/plain": [
       "   t_body_acc_X  t_body_acc_Y  t_body_acc_Z\n",
       "0     -0.003068      0.009275     -0.049713\n",
       "1     -0.004362      0.010634     -0.049921\n",
       "2     -0.005253      0.011620     -0.046143\n",
       "3     -0.004821      0.010402     -0.045727\n",
       "4     -0.008388      0.010250     -0.041144"
      ]
     },
     "execution_count": 42,
     "metadata": {},
     "output_type": "execute_result"
    }
   ],
   "source": [
    "df[cols[0:3]].head()"
   ]
  },
  {
   "cell_type": "code",
   "execution_count": 43,
   "id": "superb-basketball",
   "metadata": {
    "execution": {
     "iopub.execute_input": "2021-05-01T05:03:58.759728Z",
     "iopub.status.busy": "2021-05-01T05:03:58.759005Z",
     "iopub.status.idle": "2021-05-01T05:03:58.817900Z",
     "shell.execute_reply": "2021-05-01T05:03:58.818508Z"
    },
    "papermill": {
     "duration": 0.516373,
     "end_time": "2021-05-01T05:03:58.818692",
     "exception": false,
     "start_time": "2021-05-01T05:03:58.302319",
     "status": "completed"
    },
    "tags": []
   },
   "outputs": [
    {
     "data": {
      "text/plain": [
       "(128,)"
      ]
     },
     "execution_count": 43,
     "metadata": {},
     "output_type": "execute_result"
    }
   ],
   "source": [
    "from Feature_engineering import freqs\n",
    "\n",
    "freqs.shape"
   ]
  },
  {
   "cell_type": "code",
   "execution_count": 44,
   "id": "civil-jungle",
   "metadata": {
    "execution": {
     "iopub.execute_input": "2021-05-01T05:03:59.786821Z",
     "iopub.status.busy": "2021-05-01T05:03:59.785942Z",
     "iopub.status.idle": "2021-05-01T05:03:59.819741Z",
     "shell.execute_reply": "2021-05-01T05:03:59.819136Z"
    },
    "papermill": {
     "duration": 0.543636,
     "end_time": "2021-05-01T05:03:59.819899",
     "exception": false,
     "start_time": "2021-05-01T05:03:59.276263",
     "status": "completed"
    },
    "scrolled": true,
    "tags": []
   },
   "outputs": [],
   "source": [
    "# -------------------------------------\n",
    "# [Empty Module #1] Feature Engineering\n",
    "# -------------------------------------\n",
    "\n",
    "# -------------------------------------\n",
    "# Feature Engineering\n",
    "# -------------------------------------\n",
    "# 목적: 제공된 36개의 시퀀스 도메인 데이터를 기반으로 유의미한 피처를 추출한다.\n",
    "# 입력인자: 시간(time) 도메인 Feature 20개 , 주파수(frequency) 도메인 Feature 16개\n",
    "# 출력인자: 분류모델 학습을 위한 Feature\n",
    "# -------------------------------------\n",
    "\n",
    "# ------------------------------------------------------------\n",
    "# 구현 가이드라인 - 논문에서 제안하는 Feature Engineering 방법\n",
    "# ------------------------------------------------------------\n",
    "#\n",
    "# mean(): Mean value\n",
    "# std(): Standard deviation\n",
    "# mad(): Median absolute deviation \n",
    "# max(): Largest value in array\n",
    "# min(): Smallest value in array\n",
    "# sma(): Signal magnitude area\n",
    "# energy(): Energy measure. Sum of the squares divided by the number of values. \n",
    "# iqr(): Interquartile range \n",
    "# entropy(): Signal entropy\n",
    "# arCoeff(): Autorregresion coefficients with Burg order equal to 4\n",
    "# correlation(): correlation coefficient between two signals\n",
    "# maxInds(): index of the frequency component with largest magnitude\n",
    "# meanFreq(): Weighted average of the frequency components to obtain a mean frequency\n",
    "# skewness(): skewness of the frequency domain signal \n",
    "# kurtosis(): kurtosis of the frequency domain signal \n",
    "# bandsEnergy(): Energy of a frequency interval within the 64 bins of the FFT of each window.\n",
    "# angle(): Angle between to vectors.\n",
    "\n",
    "import sys\n",
    "\n",
    "# Time domain Feature Extract function\n",
    "\n",
    "from Feature_engineering import mean_axial,std_axial,mad_axial,max_axial,min_axial, t_sma_axial, t_energy_axial,IQR_axial,entropy_axial, t_arburg_axial, t_corr_axial\n",
    "from Feature_engineering import mean_mag,std_mag,mad_mag,max_mag,min_mag,t_sma_mag,t_energy_mag,IQR_mag,entropy_mag,t_arburg_mag\n",
    "\n",
    "# Frequency domain Feature Extract function\n",
    "from Feature_engineering import f_sma_axial,f_energy_axial,f_max_Inds_axial,f_mean_Freq_axial,f_skewness_and_kurtosis_axial,f_all_bands_energy_axial\n",
    "from Feature_engineering import f_sma_mag,f_energy_mag,f_max_Inds_mag,f_mean_Freq_mag,f_skewness_mag,f_kurtosis_mag\n",
    "\n",
    "# Additional Feature Extract function\n",
    "from Feature_engineering import angle_features\n",
    "\n",
    "def feature_extractor(time_dictionary,freq_dictionary, condition='train') :\n",
    "    \n",
    "    \n",
    "    if condition is 'train' :\n",
    "        total_data = []\n",
    "        total_label = []\n",
    "    elif condition is 'test' :\n",
    "        total_data = []\n",
    "        \n",
    "    for i in tqdm.tqdm(range(len(time_dictionary))) :\n",
    "        \n",
    "        time_key = sorted(time_dictionary.keys())[i]\n",
    "        freq_key = sorted(freq_dictionary.keys())[i]\n",
    "        \n",
    "        time_window = time_dictionary[time_key]\n",
    "        freq_window = freq_dictionary[freq_key]\n",
    "        \n",
    "        if condition is 'train' :\n",
    "          window_user_id= int(time_key[-8:-6]) # extract the user id from window's key\n",
    "          window_activity_id=int(time_key[-2:]) # extract the activity id from the windows key\n",
    "        elif condition is 'test' :\n",
    "          window_user_id= int(time_key[-10:-8]) # extract the user id from window's key\n",
    "          window_activity_id= 0\n",
    "        else :\n",
    "            print(\"Error\")\n",
    "            sys.exit()\n",
    "            break;\n",
    "            \n",
    "        ##################################################################################\n",
    "        \n",
    "        \n",
    "        # Time domain - Feature extractor - Part 1. axial(X,Y,Z) Features \n",
    "        \n",
    "        #[0,1,2] : 't_body_acc_X', 't_body_acc_Y', 't_body_acc_Z'\n",
    "        #[3,4,5] : 't_grav_acc_X','t_grav_acc_Y', 't_grav_acc_Z'\n",
    "        #[6,7,8] : 't_body_acc_jerk_X','t_body_acc_jerk_Y', 't_body_acc_jerk_Z'\n",
    "        #[9,10,11] : 't_body_gyro_X','t_body_gyro_Y', 't_body_gyro_Z'\n",
    "        #[12,13,14] : 't_body_gyro_jerk_X', 't_body_gyro_jerk_Y', 't_body_gyro_jerk_Z'\n",
    "        \n",
    "        axial_columns = time_window.columns[0:15]\n",
    "        axial_df = time_window[axial_columns] # X,Y,Z\n",
    "        \n",
    "        time_axial_features = []\n",
    "        \n",
    "        for col in range(0,15,3) : \n",
    "            \n",
    "            # ------------------------------------------------------------\n",
    "            # 구현 가이드라인 \n",
    "            # ------------------------------------------------------------\n",
    "            # 아래 time_3axial_vector 나타난 Feature를 계산하여야 한다.\n",
    "            # 각각을 계산하기위한 함수는 'Feature_engineering.py'에 내제되어 있다.\n",
    "            # ------------------------------------------------------------\n",
    "            \n",
    "            # 40 value per each 3-axial signals\n",
    "            cols = axial_columns[col:col+3]\n",
    "            mean_vector = mean_axial(axial_df[cols])\n",
    "            std_vector = std_axial(axial_df[cols])\n",
    "            mad_vector = mad_axial(axial_df[cols])\n",
    "            max_vector = max_axial(axial_df[cols])\n",
    "            min_vector = min_axial(axial_df[cols])\n",
    "            sma_value = t_sma_axial(axial_df[cols])\n",
    "            energy_vector = t_energy_axial(axial_df[cols])\n",
    "            IQR_vector = IQR_axial(axial_df[cols])\n",
    "            entropy_vector = entropy_axial(axial_df[cols])\n",
    "            AR_vector = t_arburg_axial(axial_df[cols])\n",
    "            corr_vector = t_corr_axial(axial_df[cols])\n",
    "            time_3axial_vector = mean_vector + std_vector + mad_vector + max_vector + min_vector + [sma_value] + energy_vector + IQR_vector + entropy_vector + AR_vector + corr_vector\n",
    "            \n",
    "            # append these features to the global list of features\n",
    "            time_axial_features= time_axial_features+ time_3axial_vector\n",
    "        \n",
    "        ##################################################################################\n",
    "        \n",
    "        # Time domain - Feature extractor - Part 2. Magnitude Features \n",
    "        \n",
    "        #[15]'t_body_acc_mag'\n",
    "        #[16]'t_grav_acc_mag'\n",
    "        #[17]'t_body_acc_jerk_mag'\n",
    "        #[18]'t_body_gyro_mag'\n",
    "        #[19]'t_body_gyro_jerk_mag'\n",
    "        \n",
    "        mag_columns = time_window.columns[15:]\n",
    "        mag_df = time_window[mag_columns]\n",
    "        \n",
    "        time_mag_features = []\n",
    "        \n",
    "        for col in mag_columns :\n",
    "            \n",
    "            # ------------------------------------------------------------\n",
    "            # 구현 가이드라인 \n",
    "            # ------------------------------------------------------------\n",
    "            # 아래 col_mag_values 나타난 Feature를 계산하여야 한다.\n",
    "            # 각각을 계산하기위한 함수는 'Feature_engineering.py'에 내제되어 있다.\n",
    "            # ------------------------------------------------------------\n",
    "            \n",
    "            # 13 value per each t_mag_column\n",
    "            mean_value = mean_mag(mag_df[col])\n",
    "            std_value = std_mag(mag_df[col])\n",
    "            mad_value = mad_mag(mag_df[col])\n",
    "            max_value = max_mag(mag_df[col])\n",
    "            min_value = min_mag(mag_df[col])\n",
    "            sma_value = t_sma_mag(mag_df[col])\n",
    "            energy_value = t_energy_mag(mag_df[col])\n",
    "            IQR_value = IQR_mag(mag_df[col])\n",
    "            entropy_value = entropy_mag(mag_df[col])\n",
    "            AR_vector = t_arburg_mag(mag_df[col])\n",
    "            col_mag_values = [mean_value, std_value, mad_value, max_value, min_value, sma_value, \n",
    "                              energy_value,IQR_value, entropy_value]+ AR_vector\n",
    "\n",
    "            # col_mag_values will be added to the global list\n",
    "            time_mag_features= time_mag_features+ col_mag_values\n",
    "\n",
    "        \n",
    "        ##################################################################################\n",
    "        \n",
    "        # Frequency domain - Feature extractor - Part 1. axial(X,Y,Z) Features \n",
    "        \n",
    "        #[0,1,2] : 'f_body_acc_X', 'f_body_acc_Y', 'f_body_acc_Z'\n",
    "        #[3,4,5] : 'f_body_acc_jerk_X','f_body_acc_jerk_Y', 'f_body_acc_jerk_Z'\n",
    "        #[6,7,8] : 'f_body_gyro_X','f_body_gyro_Y', 'f_body_gyro_Z'\n",
    "        #[9,10,11] : 'f_body_gyro_jerk_X','f_body_gyro_jerk_Y', 'f_body_gyro_jerk_Z'\n",
    "        \n",
    "        axial_columns=freq_window.columns[0:12]\n",
    "        axial_df=freq_window[axial_columns]\n",
    "        freq_axial_features=[]\n",
    "        \n",
    "        for col in range(0,12,3) :         \n",
    "            # ------------------------------------------------------------\n",
    "            # 구현 가이드라인 \n",
    "            # ------------------------------------------------------------\n",
    "            # 아래 freq_3axial_features 나타난 Feature를 계산하여야 한다.\n",
    "            # 각각을 계산하기위한 함수는 'Feature_engineering.py'에 내제되어 있다.\n",
    "            # ------------------------------------------------------------\n",
    "            \n",
    "            cols = axial_columns[col:col+3]\n",
    "            mean_vector = mean_axial(axial_df[cols])\n",
    "            std_vector = std_axial(axial_df[cols])\n",
    "            mad_vector = mad_axial(axial_df[cols])\n",
    "            max_vector = max_axial(axial_df[cols])\n",
    "            min_vector = min_axial(axial_df[cols])\n",
    "            sma_value = f_sma_axial(axial_df[cols])\n",
    "            energy_vector = f_energy_axial(axial_df[cols])\n",
    "            IQR_vector = IQR_axial(axial_df[cols])\n",
    "            entropy_vector = entropy_axial(axial_df[cols])\n",
    "            max_inds_vector = f_max_Inds_axial(axial_df[cols])\n",
    "            mean_Freq_vector = f_mean_Freq_axial(axial_df[cols])\n",
    "            skewness_and_kurtosis_vector = f_skewness_and_kurtosis_axial(axial_df[cols])\n",
    "            bands_energy_vector = f_all_bands_energy_axial(axial_df[cols])\n",
    "            freq_3axial_features = mean_vector + std_vector + mad_vector + max_vector + min_vector + [sma_value] + energy_vector + IQR_vector + entropy_vector + max_inds_vector + mean_Freq_vector + skewness_and_kurtosis_vector + bands_energy_vector\n",
    "            freq_axial_features = freq_axial_features+ freq_3axial_features\n",
    "        \n",
    "        ##################################################################################\n",
    "        \n",
    "        # Frequency domain - Feature extractor - Part 2. Magnitude Features\n",
    "        \n",
    "        #[12]'f_body_acc_mag'\n",
    "        #[13]'f_body_acc_jerk_mag'\n",
    "        #[14]'f_body_gyro_mag'\n",
    "        #[15]'f_body_gyro_jerk_mag'\n",
    "        \n",
    "        mag_columns=freq_window.columns[12:]\n",
    "        mag_df=freq_window[mag_columns]\n",
    "        \n",
    "        freq_mag_features = []\n",
    "        \n",
    "        for col in mag_columns:\n",
    "            # ------------------------------------------------------------\n",
    "            # 구현 가이드라인 \n",
    "            # ------------------------------------------------------------\n",
    "            # 아래 col_mag_values에 나타난 Feature를 계산하여야 한다.\n",
    "            # 각각을 계산하기위한 함수는 'Feature_engineering.py'에 내제되어 있다.\n",
    "            # ------------------------------------------------------------\n",
    "            \n",
    "            # 13 value per each t_mag_column\n",
    "            mean_value = mean_mag(mag_df[col])\n",
    "            std_value = std_mag(mag_df[col])\n",
    "            mad_value = mad_mag(mag_df[col])\n",
    "            max_value = max_mag(mag_df[col])\n",
    "            min_value = min_mag(mag_df[col])\n",
    "            sma_value = f_sma_mag(mag_df[col])\n",
    "            energy_value = f_energy_mag(mag_df[col])\n",
    "            IQR_value = IQR_mag(mag_df[col])\n",
    "            entropy_value = entropy_mag(mag_df[col])\n",
    "            max_Inds_value = f_max_Inds_mag(mag_df[col])\n",
    "            mean_Freq_value = f_mean_Freq_mag(mag_df[col]) \n",
    "            skewness_value = f_skewness_mag(mag_df[col])\n",
    "            kurtosis_value = f_kurtosis_mag(mag_df[col])\n",
    "            col_mag_values = [mean_value, std_value, mad_value, max_value, \n",
    "                              min_value, sma_value, energy_value,IQR_value, \n",
    "                              entropy_value, max_Inds_value, mean_Freq_value,\n",
    "                              skewness_value, kurtosis_value]\n",
    "            \n",
    "            freq_mag_features= freq_mag_features+ col_mag_values\n",
    "        \n",
    "        ##################################################################################\n",
    "        \n",
    "        # Time domain - Feature extractor - Part 3. Additional Features \n",
    "        \n",
    "        additional_features = angle_features(time_window)\n",
    "                \n",
    "        ##################################################################################\n",
    "        \n",
    "        total_features = time_axial_features + time_mag_features + freq_axial_features + freq_mag_features + additional_features\n",
    "        \n",
    "        total_data.append(total_features)\n",
    "        if condition is 'train' :\n",
    "            total_label.append(window_activity_id)\n",
    "    \n",
    "    total_data = np.array(total_data)\n",
    "    if condition is 'train' :\n",
    "        total_label = np.array(total_label)\n",
    "    \n",
    "    if condition is 'train' :\n",
    "        return total_data, total_label\n",
    "    elif condition is 'test' :\n",
    "        return total_data"
   ]
  },
  {
   "cell_type": "code",
   "execution_count": 45,
   "id": "raised-browser",
   "metadata": {
    "execution": {
     "iopub.execute_input": "2021-05-01T05:04:00.731659Z",
     "iopub.status.busy": "2021-05-01T05:04:00.730955Z",
     "iopub.status.idle": "2021-05-01T05:21:24.860054Z",
     "shell.execute_reply": "2021-05-01T05:21:24.857513Z"
    },
    "papermill": {
     "duration": 1044.585488,
     "end_time": "2021-05-01T05:21:24.860222",
     "exception": false,
     "start_time": "2021-05-01T05:04:00.274734",
     "status": "completed"
    },
    "tags": []
   },
   "outputs": [
    {
     "name": "stderr",
     "output_type": "stream",
     "text": [
      "100%|██████████| 7283/7283 [12:13<00:00,  9.93it/s]\n",
      "100%|██████████| 3116/3116 [05:07<00:00, 10.15it/s]\n"
     ]
    }
   ],
   "source": [
    "train_data, train_label = feature_extractor(train_time_dictionary_window,train_frequent_dictionary_window,condition='train')\n",
    "test_data = feature_extractor(test_time_dictionary_window,test_frequent_dictionary_window,condition='test')"
   ]
  },
  {
   "cell_type": "code",
   "execution_count": 46,
   "id": "magnetic-effectiveness",
   "metadata": {
    "execution": {
     "iopub.execute_input": "2021-05-01T05:21:29.828300Z",
     "iopub.status.busy": "2021-05-01T05:21:29.827523Z",
     "iopub.status.idle": "2021-05-01T05:21:29.831340Z",
     "shell.execute_reply": "2021-05-01T05:21:29.830756Z"
    },
    "papermill": {
     "duration": 2.46668,
     "end_time": "2021-05-01T05:21:29.831492",
     "exception": false,
     "start_time": "2021-05-01T05:21:27.364812",
     "status": "completed"
    },
    "tags": []
   },
   "outputs": [
    {
     "data": {
      "text/plain": [
       "array([[ 2.01216985e-03,  4.30685562e-04,  4.44108667e-03, ...,\n",
       "         1.52887931e-01,  1.69216859e+00,  1.47828408e+00],\n",
       "       [-7.13038377e-04, -3.09778156e-03,  8.22632253e-04, ...,\n",
       "         1.49532349e-01,  1.68735175e+00,  1.47754839e+00],\n",
       "       [-3.00873506e-04,  4.02494276e-03, -4.27990370e-03, ...,\n",
       "         1.57004038e-01,  1.69615790e+00,  1.47676952e+00],\n",
       "       ...,\n",
       "       [-1.24931973e-02,  3.25562438e-03, -2.13712546e-02, ...,\n",
       "         2.20594193e-01,  1.78853052e+00,  1.60564384e+00],\n",
       "       [-2.72191104e-03, -3.54555307e-03,  1.95121765e-03, ...,\n",
       "         2.15954645e-01,  1.78638786e+00,  1.58312071e+00],\n",
       "       [ 3.50199340e-04, -1.91615643e-03, -9.07551388e-03, ...,\n",
       "         2.14407561e-01,  1.78442170e+00,  1.58881593e+00]])"
      ]
     },
     "execution_count": 46,
     "metadata": {},
     "output_type": "execute_result"
    }
   ],
   "source": [
    "train_data"
   ]
  },
  {
   "cell_type": "code",
   "execution_count": 47,
   "id": "weighted-projector",
   "metadata": {
    "execution": {
     "iopub.execute_input": "2021-05-01T05:21:34.779291Z",
     "iopub.status.busy": "2021-05-01T05:21:34.778679Z",
     "iopub.status.idle": "2021-05-01T05:21:34.781041Z",
     "shell.execute_reply": "2021-05-01T05:21:34.781664Z"
    },
    "papermill": {
     "duration": 2.487869,
     "end_time": "2021-05-01T05:21:34.781825",
     "exception": false,
     "start_time": "2021-05-01T05:21:32.293956",
     "status": "completed"
    },
    "tags": []
   },
   "outputs": [
    {
     "data": {
      "text/plain": [
       "(7283, 640)"
      ]
     },
     "execution_count": 47,
     "metadata": {},
     "output_type": "execute_result"
    }
   ],
   "source": [
    "train_data.shape"
   ]
  },
  {
   "cell_type": "code",
   "execution_count": 48,
   "id": "noble-foster",
   "metadata": {
    "execution": {
     "iopub.execute_input": "2021-05-01T05:21:39.673107Z",
     "iopub.status.busy": "2021-05-01T05:21:39.672459Z",
     "iopub.status.idle": "2021-05-01T05:21:39.676974Z",
     "shell.execute_reply": "2021-05-01T05:21:39.677549Z"
    },
    "papermill": {
     "duration": 2.474442,
     "end_time": "2021-05-01T05:21:39.677717",
     "exception": false,
     "start_time": "2021-05-01T05:21:37.203275",
     "status": "completed"
    },
    "tags": []
   },
   "outputs": [
    {
     "data": {
      "text/plain": [
       "(7283,)"
      ]
     },
     "execution_count": 48,
     "metadata": {},
     "output_type": "execute_result"
    }
   ],
   "source": [
    "train_label.shape"
   ]
  },
  {
   "cell_type": "code",
   "execution_count": 49,
   "id": "flexible-cursor",
   "metadata": {
    "execution": {
     "iopub.execute_input": "2021-05-01T05:21:44.650914Z",
     "iopub.status.busy": "2021-05-01T05:21:44.650224Z",
     "iopub.status.idle": "2021-05-01T05:21:44.654568Z",
     "shell.execute_reply": "2021-05-01T05:21:44.654033Z"
    },
    "papermill": {
     "duration": 2.496841,
     "end_time": "2021-05-01T05:21:44.654697",
     "exception": false,
     "start_time": "2021-05-01T05:21:42.157856",
     "status": "completed"
    },
    "tags": []
   },
   "outputs": [
    {
     "data": {
      "text/plain": [
       "(7283,)"
      ]
     },
     "execution_count": 49,
     "metadata": {},
     "output_type": "execute_result"
    }
   ],
   "source": [
    "train_label.shape"
   ]
  },
  {
   "cell_type": "code",
   "execution_count": 50,
   "id": "fancy-adrian",
   "metadata": {
    "execution": {
     "iopub.execute_input": "2021-05-01T05:21:49.577364Z",
     "iopub.status.busy": "2021-05-01T05:21:49.576721Z",
     "iopub.status.idle": "2021-05-01T05:21:49.579192Z",
     "shell.execute_reply": "2021-05-01T05:21:49.579703Z"
    },
    "papermill": {
     "duration": 2.494896,
     "end_time": "2021-05-01T05:21:49.579873",
     "exception": false,
     "start_time": "2021-05-01T05:21:47.084977",
     "status": "completed"
    },
    "tags": []
   },
   "outputs": [
    {
     "data": {
      "text/plain": [
       "array([5, 5, 5, ..., 2, 2, 2])"
      ]
     },
     "execution_count": 50,
     "metadata": {},
     "output_type": "execute_result"
    }
   ],
   "source": [
    "train_label"
   ]
  },
  {
   "cell_type": "code",
   "execution_count": 51,
   "id": "hearing-collector",
   "metadata": {
    "execution": {
     "iopub.execute_input": "2021-05-01T05:21:54.514756Z",
     "iopub.status.busy": "2021-05-01T05:21:54.514097Z",
     "iopub.status.idle": "2021-05-01T05:21:54.516683Z",
     "shell.execute_reply": "2021-05-01T05:21:54.517106Z"
    },
    "papermill": {
     "duration": 2.485943,
     "end_time": "2021-05-01T05:21:54.517284",
     "exception": false,
     "start_time": "2021-05-01T05:21:52.031341",
     "status": "completed"
    },
    "tags": []
   },
   "outputs": [
    {
     "data": {
      "text/plain": [
       "(3116, 640)"
      ]
     },
     "execution_count": 51,
     "metadata": {},
     "output_type": "execute_result"
    }
   ],
   "source": [
    "test_data.shape"
   ]
  },
  {
   "cell_type": "markdown",
   "id": "egyptian-decimal",
   "metadata": {
    "papermill": {
     "duration": 2.438228,
     "end_time": "2021-05-01T05:21:59.418086",
     "exception": false,
     "start_time": "2021-05-01T05:21:56.979858",
     "status": "completed"
    },
    "tags": []
   },
   "source": [
    "## 데이터 정규화"
   ]
  },
  {
   "cell_type": "code",
   "execution_count": 52,
   "id": "timely-fraud",
   "metadata": {
    "execution": {
     "iopub.execute_input": "2021-05-01T05:22:04.343665Z",
     "iopub.status.busy": "2021-05-01T05:22:04.342899Z",
     "iopub.status.idle": "2021-05-01T05:22:04.729469Z",
     "shell.execute_reply": "2021-05-01T05:22:04.728889Z"
    },
    "papermill": {
     "duration": 2.813361,
     "end_time": "2021-05-01T05:22:04.729612",
     "exception": false,
     "start_time": "2021-05-01T05:22:01.916251",
     "status": "completed"
    },
    "tags": []
   },
   "outputs": [],
   "source": [
    "# -------------------------------------\n",
    "# [Empty Module #2] Data Normalization\n",
    "# -------------------------------------\n",
    "\n",
    "# -------------------------------------\n",
    "# Data Normalization\n",
    "# -------------------------------------\n",
    "# 목적: 앞서 구축한 train,test 셋에 대한 Feature를 정규화한다.\n",
    "# 입력인자: train 셋에서 추출된 Feature, test 셋에서 추출된 Feature\n",
    "# 출력인자: 정규화된 Feature Vector\n",
    "# -------------------------------------\n",
    "\n",
    "\n",
    "from sklearn.preprocessing import MinMaxScaler\n",
    "\n",
    "mm_scaler = MinMaxScaler()\n",
    "mm_scaler.fit(train_data)\n",
    "\n",
    "train_data_mm = mm_scaler.transform(train_data)\n",
    "test_data_mm = mm_scaler.transform(test_data)\n",
    "\n",
    "# ------------------------------------------------------------\n",
    "# 구현 가이드라인 \n",
    "# ------------------------------------------------------------\n",
    "# sklearn에서 제공하는 MinMaxScaler를 사용해 데이터 정규화를 진행한다.\n",
    "# (MinMaxScaler가 아닌 다른 정규화를 사용할 수 있다.)\n",
    "# ------------------------------------------------------------\n"
   ]
  },
  {
   "cell_type": "code",
   "execution_count": 53,
   "id": "informed-smell",
   "metadata": {
    "execution": {
     "iopub.execute_input": "2021-05-01T05:22:09.607309Z",
     "iopub.status.busy": "2021-05-01T05:22:09.606687Z",
     "iopub.status.idle": "2021-05-01T05:22:09.733896Z",
     "shell.execute_reply": "2021-05-01T05:22:09.733167Z"
    },
    "papermill": {
     "duration": 2.583364,
     "end_time": "2021-05-01T05:22:09.734035",
     "exception": false,
     "start_time": "2021-05-01T05:22:07.150671",
     "status": "completed"
    },
    "tags": []
   },
   "outputs": [],
   "source": [
    "from sklearn.preprocessing import StandardScaler\n",
    "\n",
    "std_scaler = StandardScaler()\n",
    "\n",
    "std_scaler = StandardScaler()\n",
    "std_scaler.fit(train_data)\n",
    "\n",
    "train_data_std = std_scaler.transform(train_data)\n",
    "test_data_std = std_scaler.transform(test_data)"
   ]
  },
  {
   "cell_type": "code",
   "execution_count": 54,
   "id": "greek-retrieval",
   "metadata": {
    "execution": {
     "iopub.execute_input": "2021-05-01T05:22:14.618845Z",
     "iopub.status.busy": "2021-05-01T05:22:14.617991Z",
     "iopub.status.idle": "2021-05-01T05:22:14.621669Z",
     "shell.execute_reply": "2021-05-01T05:22:14.622183Z"
    },
    "papermill": {
     "duration": 2.467946,
     "end_time": "2021-05-01T05:22:14.622349",
     "exception": false,
     "start_time": "2021-05-01T05:22:12.154403",
     "status": "completed"
    },
    "tags": []
   },
   "outputs": [
    {
     "data": {
      "text/plain": [
       "array([[ 2.01216985e-03,  4.30685562e-04,  4.44108667e-03, ...,\n",
       "         1.52887931e-01,  1.69216859e+00,  1.47828408e+00],\n",
       "       [-7.13038377e-04, -3.09778156e-03,  8.22632253e-04, ...,\n",
       "         1.49532349e-01,  1.68735175e+00,  1.47754839e+00],\n",
       "       [-3.00873506e-04,  4.02494276e-03, -4.27990370e-03, ...,\n",
       "         1.57004038e-01,  1.69615790e+00,  1.47676952e+00],\n",
       "       [ 8.27079255e-04, -2.79537207e-03,  4.50903420e-03, ...,\n",
       "         1.48222155e-01,  1.69496503e+00,  1.49026932e+00],\n",
       "       [-1.12919249e-03,  5.69339577e-04, -3.43719235e-03, ...,\n",
       "         1.53360472e-01,  1.69760912e+00,  1.48501645e+00]])"
      ]
     },
     "execution_count": 54,
     "metadata": {},
     "output_type": "execute_result"
    }
   ],
   "source": [
    "train_data[:5]"
   ]
  },
  {
   "cell_type": "code",
   "execution_count": 55,
   "id": "everyday-cement",
   "metadata": {
    "execution": {
     "iopub.execute_input": "2021-05-01T05:22:19.592660Z",
     "iopub.status.busy": "2021-05-01T05:22:19.591819Z",
     "iopub.status.idle": "2021-05-01T05:22:19.595888Z",
     "shell.execute_reply": "2021-05-01T05:22:19.596350Z"
    },
    "papermill": {
     "duration": 2.431798,
     "end_time": "2021-05-01T05:22:19.596540",
     "exception": false,
     "start_time": "2021-05-01T05:22:17.164742",
     "status": "completed"
    },
    "tags": []
   },
   "outputs": [
    {
     "data": {
      "text/plain": [
       "array([[0.52566317, 0.5215746 , 0.55636703, ..., 0.07640701, 0.58993889,\n",
       "        0.47937374],\n",
       "       [0.49672277, 0.47420922, 0.51764118, ..., 0.07470212, 0.58825426,\n",
       "        0.47910075],\n",
       "       [0.50109976, 0.56982313, 0.46303223, ..., 0.07849832, 0.5913341 ,\n",
       "        0.47881174],\n",
       "       [0.51307808, 0.4782687 , 0.55709422, ..., 0.07403644, 0.59091691,\n",
       "        0.48382107],\n",
       "       [0.49230341, 0.52343586, 0.47205119, ..., 0.0766471 , 0.59184165,\n",
       "        0.4818719 ]])"
      ]
     },
     "execution_count": 55,
     "metadata": {},
     "output_type": "execute_result"
    }
   ],
   "source": [
    "train_data_mm[:5]"
   ]
  },
  {
   "cell_type": "code",
   "execution_count": 56,
   "id": "hydraulic-representative",
   "metadata": {
    "execution": {
     "iopub.execute_input": "2021-05-01T05:22:24.555964Z",
     "iopub.status.busy": "2021-05-01T05:22:24.555124Z",
     "iopub.status.idle": "2021-05-01T05:22:24.559464Z",
     "shell.execute_reply": "2021-05-01T05:22:24.558905Z"
    },
    "papermill": {
     "duration": 2.538892,
     "end_time": "2021-05-01T05:22:24.559656",
     "exception": false,
     "start_time": "2021-05-01T05:22:22.020764",
     "status": "completed"
    },
    "tags": []
   },
   "outputs": [
    {
     "data": {
      "text/plain": [
       "array([[ 0.19893768,  0.09217307,  0.59357913, ..., -0.70614405,\n",
       "         0.38806086,  0.01941485],\n",
       "       [-0.0930112 , -0.40034668,  0.10411285, ..., -0.71287072,\n",
       "         0.37714078,  0.01742579],\n",
       "       [-0.04885638,  0.5938761 , -0.58610429, ..., -0.69789281,\n",
       "         0.39710488,  0.01531997],\n",
       "       [ 0.07198009, -0.35813496,  0.60277036, ..., -0.71549716,\n",
       "         0.39440057,  0.05181906],\n",
       "       [-0.13759338,  0.11152704, -0.47211121, ..., -0.70519678,\n",
       "         0.4003949 ,  0.03761699]])"
      ]
     },
     "execution_count": 56,
     "metadata": {},
     "output_type": "execute_result"
    }
   ],
   "source": [
    "train_data_std[:5]"
   ]
  },
  {
   "cell_type": "markdown",
   "id": "current-phrase",
   "metadata": {
    "papermill": {
     "duration": 2.492437,
     "end_time": "2021-05-01T05:22:29.541024",
     "exception": false,
     "start_time": "2021-05-01T05:22:27.048587",
     "status": "completed"
    },
    "tags": []
   },
   "source": [
    "## 분류 모델 학습 및 평가"
   ]
  },
  {
   "cell_type": "code",
   "execution_count": 57,
   "id": "better-delaware",
   "metadata": {
    "execution": {
     "iopub.execute_input": "2021-05-01T05:22:34.497486Z",
     "iopub.status.busy": "2021-05-01T05:22:34.496703Z",
     "iopub.status.idle": "2021-05-01T05:22:34.566277Z",
     "shell.execute_reply": "2021-05-01T05:22:34.565708Z"
    },
    "papermill": {
     "duration": 2.52329,
     "end_time": "2021-05-01T05:22:34.566454",
     "exception": false,
     "start_time": "2021-05-01T05:22:32.043164",
     "status": "completed"
    },
    "tags": []
   },
   "outputs": [],
   "source": [
    "from sklearn.model_selection import train_test_split\n",
    "\n",
    "def validate(model, X, y, metric, params: dict = None) -> dict:\n",
    "    X_train, X_val, y_train, y_val = train_test_split(\n",
    "        X, y, stratify=y, random_state=42)\n",
    "    \n",
    "    if params:\n",
    "        model.set_params(**params)\n",
    "        \n",
    "    model.fit(X_train, y_train)\n",
    "    y_train_pred = model.predict(X_train)\n",
    "    y_val_pred = model.predict(X_val)\n",
    "    \n",
    "    train_score = metric(y_train_pred, y_train)\n",
    "    test_score = metric(y_val_pred, y_val)\n",
    "    \n",
    "    result = {'train': train_score, \n",
    "              'test': test_score,\n",
    "              'params': params,\n",
    "             'model': model}\n",
    "    \n",
    "    return result"
   ]
  },
  {
   "cell_type": "code",
   "execution_count": 58,
   "id": "satisfactory-encyclopedia",
   "metadata": {
    "execution": {
     "iopub.execute_input": "2021-05-01T05:22:39.502409Z",
     "iopub.status.busy": "2021-05-01T05:22:39.501785Z",
     "iopub.status.idle": "2021-05-01T05:22:39.700334Z",
     "shell.execute_reply": "2021-05-01T05:22:39.699665Z"
    },
    "papermill": {
     "duration": 2.676385,
     "end_time": "2021-05-01T05:22:39.700497",
     "exception": false,
     "start_time": "2021-05-01T05:22:37.024112",
     "status": "completed"
    },
    "tags": []
   },
   "outputs": [],
   "source": [
    "from sklearn.tree import DecisionTreeClassifier\n",
    "from sklearn.metrics import accuracy_score"
   ]
  },
  {
   "cell_type": "markdown",
   "id": "light-accommodation",
   "metadata": {
    "papermill": {
     "duration": 2.476567,
     "end_time": "2021-05-01T05:22:44.598126",
     "exception": false,
     "start_time": "2021-05-01T05:22:42.121559",
     "status": "completed"
    },
    "tags": []
   },
   "source": [
    "### non-scaled data"
   ]
  },
  {
   "cell_type": "code",
   "execution_count": 59,
   "id": "level-latitude",
   "metadata": {
    "execution": {
     "iopub.execute_input": "2021-05-01T05:22:49.494678Z",
     "iopub.status.busy": "2021-05-01T05:22:49.493995Z",
     "iopub.status.idle": "2021-05-01T05:22:54.657055Z",
     "shell.execute_reply": "2021-05-01T05:22:54.656576Z"
    },
    "papermill": {
     "duration": 7.593454,
     "end_time": "2021-05-01T05:22:54.657186",
     "exception": false,
     "start_time": "2021-05-01T05:22:47.063732",
     "status": "completed"
    },
    "tags": []
   },
   "outputs": [
    {
     "data": {
      "text/plain": [
       "{'train': 1.0,\n",
       " 'test': 0.9379461834157057,\n",
       " 'params': None,\n",
       " 'model': DecisionTreeClassifier(random_state=42)}"
      ]
     },
     "execution_count": 59,
     "metadata": {},
     "output_type": "execute_result"
    }
   ],
   "source": [
    "validate(DecisionTreeClassifier(random_state=42), train_data, train_label, accuracy_score)"
   ]
  },
  {
   "cell_type": "markdown",
   "id": "civil-century",
   "metadata": {
    "papermill": {
     "duration": 2.436224,
     "end_time": "2021-05-01T05:22:59.610900",
     "exception": false,
     "start_time": "2021-05-01T05:22:57.174676",
     "status": "completed"
    },
    "tags": []
   },
   "source": [
    "### scaled data"
   ]
  },
  {
   "cell_type": "code",
   "execution_count": 60,
   "id": "equipped-charter",
   "metadata": {
    "execution": {
     "iopub.execute_input": "2021-05-01T05:23:04.528095Z",
     "iopub.status.busy": "2021-05-01T05:23:04.527486Z",
     "iopub.status.idle": "2021-05-01T05:23:09.677019Z",
     "shell.execute_reply": "2021-05-01T05:23:09.676473Z"
    },
    "papermill": {
     "duration": 7.62763,
     "end_time": "2021-05-01T05:23:09.677157",
     "exception": false,
     "start_time": "2021-05-01T05:23:02.049527",
     "status": "completed"
    },
    "tags": []
   },
   "outputs": [
    {
     "data": {
      "text/plain": [
       "{'train': 1.0,\n",
       " 'test': 0.9379461834157057,\n",
       " 'params': None,\n",
       " 'model': DecisionTreeClassifier(random_state=42)}"
      ]
     },
     "execution_count": 60,
     "metadata": {},
     "output_type": "execute_result"
    }
   ],
   "source": [
    "validate(DecisionTreeClassifier(random_state=42), train_data_mm, train_label, accuracy_score)"
   ]
  },
  {
   "cell_type": "code",
   "execution_count": 61,
   "id": "liable-chicken",
   "metadata": {
    "execution": {
     "iopub.execute_input": "2021-05-01T05:23:14.535746Z",
     "iopub.status.busy": "2021-05-01T05:23:14.535083Z",
     "iopub.status.idle": "2021-05-01T05:23:19.795530Z",
     "shell.execute_reply": "2021-05-01T05:23:19.795014Z"
    },
    "papermill": {
     "duration": 7.695116,
     "end_time": "2021-05-01T05:23:19.795670",
     "exception": false,
     "start_time": "2021-05-01T05:23:12.100554",
     "status": "completed"
    },
    "tags": []
   },
   "outputs": [
    {
     "data": {
      "text/plain": [
       "{'train': 1.0,\n",
       " 'test': 0.9379461834157057,\n",
       " 'params': None,\n",
       " 'model': DecisionTreeClassifier(random_state=42)}"
      ]
     },
     "execution_count": 61,
     "metadata": {},
     "output_type": "execute_result"
    }
   ],
   "source": [
    "validate(DecisionTreeClassifier(random_state=42), train_data_std, train_label, accuracy_score)"
   ]
  },
  {
   "cell_type": "code",
   "execution_count": 62,
   "id": "controversial-campaign",
   "metadata": {
    "execution": {
     "iopub.execute_input": "2021-05-01T05:23:24.724433Z",
     "iopub.status.busy": "2021-05-01T05:23:24.723106Z",
     "iopub.status.idle": "2021-05-01T05:23:31.742998Z",
     "shell.execute_reply": "2021-05-01T05:23:31.742504Z"
    },
    "papermill": {
     "duration": 9.464851,
     "end_time": "2021-05-01T05:23:31.743138",
     "exception": false,
     "start_time": "2021-05-01T05:23:22.278287",
     "status": "completed"
    },
    "tags": []
   },
   "outputs": [
    {
     "data": {
      "text/plain": [
       "DecisionTreeClassifier(random_state=42)"
      ]
     },
     "execution_count": 62,
     "metadata": {},
     "output_type": "execute_result"
    }
   ],
   "source": [
    "dt_clf = DecisionTreeClassifier(random_state=42)\n",
    "dt_clf.fit(train_data, train_label)"
   ]
  },
  {
   "cell_type": "code",
   "execution_count": 63,
   "id": "eleven-cyprus",
   "metadata": {
    "execution": {
     "iopub.execute_input": "2021-05-01T05:23:36.703071Z",
     "iopub.status.busy": "2021-05-01T05:23:36.702414Z",
     "iopub.status.idle": "2021-05-01T05:23:36.705421Z",
     "shell.execute_reply": "2021-05-01T05:23:36.704936Z"
    },
    "papermill": {
     "duration": 2.459234,
     "end_time": "2021-05-01T05:23:36.705559",
     "exception": false,
     "start_time": "2021-05-01T05:23:34.246325",
     "status": "completed"
    },
    "tags": []
   },
   "outputs": [
    {
     "data": {
      "text/plain": [
       "22"
      ]
     },
     "execution_count": 63,
     "metadata": {},
     "output_type": "execute_result"
    }
   ],
   "source": [
    "dt_clf.get_depth()"
   ]
  },
  {
   "cell_type": "code",
   "execution_count": 64,
   "id": "large-burst",
   "metadata": {
    "execution": {
     "iopub.execute_input": "2021-05-01T05:23:41.677119Z",
     "iopub.status.busy": "2021-05-01T05:23:41.676512Z",
     "iopub.status.idle": "2021-05-01T05:23:41.681586Z",
     "shell.execute_reply": "2021-05-01T05:23:41.682131Z"
    },
    "papermill": {
     "duration": 2.524927,
     "end_time": "2021-05-01T05:23:41.682305",
     "exception": false,
     "start_time": "2021-05-01T05:23:39.157378",
     "status": "completed"
    },
    "tags": []
   },
   "outputs": [
    {
     "data": {
      "text/plain": [
       "188"
      ]
     },
     "execution_count": 64,
     "metadata": {},
     "output_type": "execute_result"
    }
   ],
   "source": [
    "dt_clf.get_n_leaves()"
   ]
  },
  {
   "cell_type": "markdown",
   "id": "satisfactory-vietnam",
   "metadata": {
    "papermill": {
     "duration": 2.446589,
     "end_time": "2021-05-01T05:23:46.579234",
     "exception": false,
     "start_time": "2021-05-01T05:23:44.132645",
     "status": "completed"
    },
    "tags": []
   },
   "source": [
    "### feature importances"
   ]
  },
  {
   "cell_type": "code",
   "execution_count": 65,
   "id": "objective-village",
   "metadata": {
    "execution": {
     "iopub.execute_input": "2021-05-01T05:23:51.596073Z",
     "iopub.status.busy": "2021-05-01T05:23:51.592328Z",
     "iopub.status.idle": "2021-05-01T05:23:51.619282Z",
     "shell.execute_reply": "2021-05-01T05:23:51.619968Z"
    },
    "papermill": {
     "duration": 2.542172,
     "end_time": "2021-05-01T05:23:51.620247",
     "exception": false,
     "start_time": "2021-05-01T05:23:49.078075",
     "status": "completed"
    },
    "scrolled": true,
    "tags": []
   },
   "outputs": [
    {
     "data": {
      "text/plain": [
       "array([6.17167215e-05, 0.00000000e+00, 3.27167590e-04, 0.00000000e+00,\n",
       "       0.00000000e+00, 0.00000000e+00, 2.02029883e-01, 0.00000000e+00,\n",
       "       0.00000000e+00, 2.20391307e-04, 0.00000000e+00, 0.00000000e+00,\n",
       "       5.48780853e-04, 0.00000000e+00, 0.00000000e+00, 0.00000000e+00,\n",
       "       0.00000000e+00, 0.00000000e+00, 0.00000000e+00, 0.00000000e+00,\n",
       "       0.00000000e+00, 0.00000000e+00, 2.03251947e-03, 0.00000000e+00,\n",
       "       0.00000000e+00, 3.30944358e-04, 0.00000000e+00, 0.00000000e+00,\n",
       "       1.64834332e-04, 0.00000000e+00, 0.00000000e+00, 0.00000000e+00,\n",
       "       0.00000000e+00, 3.23975221e-04, 0.00000000e+00, 7.54672372e-04,\n",
       "       0.00000000e+00, 5.29081431e-03, 1.10455399e-03, 1.28081910e-03,\n",
       "       0.00000000e+00, 1.81767643e-03, 1.56665550e-03, 0.00000000e+00,\n",
       "       0.00000000e+00, 5.73017398e-04, 0.00000000e+00, 0.00000000e+00,\n",
       "       5.98204976e-04, 0.00000000e+00, 0.00000000e+00, 0.00000000e+00,\n",
       "       2.29582759e-01, 4.68358191e-03, 3.96592751e-03, 4.16247302e-03,\n",
       "       0.00000000e+00, 1.67448409e-02, 0.00000000e+00, 0.00000000e+00,\n",
       "       2.20391307e-04, 0.00000000e+00, 0.00000000e+00, 5.90206218e-04,\n",
       "       0.00000000e+00, 0.00000000e+00, 0.00000000e+00, 4.26576734e-04,\n",
       "       0.00000000e+00, 0.00000000e+00, 0.00000000e+00, 0.00000000e+00,\n",
       "       0.00000000e+00, 0.00000000e+00, 0.00000000e+00, 0.00000000e+00,\n",
       "       1.17227876e-03, 7.79240693e-04, 1.24847902e-03, 3.69441838e-03,\n",
       "       0.00000000e+00, 3.27513841e-04, 0.00000000e+00, 0.00000000e+00,\n",
       "       0.00000000e+00, 0.00000000e+00, 1.54097972e-03, 5.83388754e-04,\n",
       "       0.00000000e+00, 1.19543952e-03, 0.00000000e+00, 0.00000000e+00,\n",
       "       9.37093142e-04, 0.00000000e+00, 0.00000000e+00, 0.00000000e+00,\n",
       "       0.00000000e+00, 0.00000000e+00, 0.00000000e+00, 0.00000000e+00,\n",
       "       0.00000000e+00, 0.00000000e+00, 0.00000000e+00, 7.06525203e-04,\n",
       "       3.28376569e-04, 7.93408705e-04, 0.00000000e+00, 2.12581595e-03,\n",
       "       0.00000000e+00, 0.00000000e+00, 0.00000000e+00, 1.64849143e-04,\n",
       "       4.90598798e-04, 1.24299181e-03, 0.00000000e+00, 3.30586960e-04,\n",
       "       0.00000000e+00, 0.00000000e+00, 2.89263590e-04, 0.00000000e+00,\n",
       "       3.28683131e-04, 0.00000000e+00, 0.00000000e+00, 0.00000000e+00,\n",
       "       0.00000000e+00, 0.00000000e+00, 0.00000000e+00, 0.00000000e+00,\n",
       "       0.00000000e+00, 3.25336292e-04, 0.00000000e+00, 0.00000000e+00,\n",
       "       0.00000000e+00, 0.00000000e+00, 0.00000000e+00, 0.00000000e+00,\n",
       "       0.00000000e+00, 0.00000000e+00, 0.00000000e+00, 3.00533600e-04,\n",
       "       0.00000000e+00, 0.00000000e+00, 0.00000000e+00, 0.00000000e+00,\n",
       "       0.00000000e+00, 0.00000000e+00, 0.00000000e+00, 0.00000000e+00,\n",
       "       0.00000000e+00, 0.00000000e+00, 0.00000000e+00, 3.73602241e-04,\n",
       "       0.00000000e+00, 6.36388452e-04, 4.40782614e-04, 0.00000000e+00,\n",
       "       0.00000000e+00, 2.31732001e-03, 3.39531223e-03, 3.26177450e-04,\n",
       "       0.00000000e+00, 3.24436678e-04, 0.00000000e+00, 0.00000000e+00,\n",
       "       0.00000000e+00, 0.00000000e+00, 6.45653905e-05, 0.00000000e+00,\n",
       "       0.00000000e+00, 0.00000000e+00, 3.51647095e-03, 0.00000000e+00,\n",
       "       0.00000000e+00, 2.20391307e-04, 0.00000000e+00, 5.85168437e-03,\n",
       "       0.00000000e+00, 0.00000000e+00, 0.00000000e+00, 0.00000000e+00,\n",
       "       0.00000000e+00, 0.00000000e+00, 0.00000000e+00, 0.00000000e+00,\n",
       "       0.00000000e+00, 3.61238875e-03, 0.00000000e+00, 3.26584619e-04,\n",
       "       0.00000000e+00, 0.00000000e+00, 0.00000000e+00, 0.00000000e+00,\n",
       "       0.00000000e+00, 2.20391307e-04, 0.00000000e+00, 0.00000000e+00,\n",
       "       1.62131707e-04, 1.10364709e-03, 2.84465363e-03, 0.00000000e+00,\n",
       "       0.00000000e+00, 1.05931769e-01, 1.21215219e-03, 0.00000000e+00,\n",
       "       0.00000000e+00, 1.74771848e-03, 0.00000000e+00, 0.00000000e+00,\n",
       "       0.00000000e+00, 5.51030865e-03, 0.00000000e+00, 0.00000000e+00,\n",
       "       0.00000000e+00, 0.00000000e+00, 0.00000000e+00, 0.00000000e+00,\n",
       "       1.27970785e-03, 1.20146877e-03, 0.00000000e+00, 0.00000000e+00,\n",
       "       0.00000000e+00, 1.65293480e-04, 0.00000000e+00, 6.40004931e-04,\n",
       "       0.00000000e+00, 0.00000000e+00, 0.00000000e+00, 0.00000000e+00,\n",
       "       3.30586960e-04, 1.16100317e-03, 0.00000000e+00, 0.00000000e+00,\n",
       "       0.00000000e+00, 0.00000000e+00, 6.86974501e-04, 0.00000000e+00,\n",
       "       0.00000000e+00, 0.00000000e+00, 0.00000000e+00, 0.00000000e+00,\n",
       "       0.00000000e+00, 0.00000000e+00, 0.00000000e+00, 7.39445245e-04,\n",
       "       0.00000000e+00, 0.00000000e+00, 0.00000000e+00, 0.00000000e+00,\n",
       "       0.00000000e+00, 0.00000000e+00, 0.00000000e+00, 0.00000000e+00,\n",
       "       0.00000000e+00, 1.65293480e-04, 0.00000000e+00, 0.00000000e+00,\n",
       "       1.20332474e-03, 0.00000000e+00, 0.00000000e+00, 0.00000000e+00,\n",
       "       0.00000000e+00, 0.00000000e+00, 0.00000000e+00, 0.00000000e+00,\n",
       "       1.07752637e-03, 0.00000000e+00, 0.00000000e+00, 6.61173921e-04,\n",
       "       4.75209739e-03, 0.00000000e+00, 2.20391307e-04, 0.00000000e+00,\n",
       "       0.00000000e+00, 0.00000000e+00, 0.00000000e+00, 1.19986527e-03,\n",
       "       2.14094413e-03, 0.00000000e+00, 0.00000000e+00, 0.00000000e+00,\n",
       "       0.00000000e+00, 0.00000000e+00, 0.00000000e+00, 0.00000000e+00,\n",
       "       0.00000000e+00, 1.65293480e-04, 0.00000000e+00, 0.00000000e+00,\n",
       "       2.47940220e-04, 0.00000000e+00, 0.00000000e+00, 0.00000000e+00,\n",
       "       0.00000000e+00, 0.00000000e+00, 0.00000000e+00, 1.62516927e-04,\n",
       "       0.00000000e+00, 0.00000000e+00, 1.30169538e-03, 9.03604359e-04,\n",
       "       3.76898637e-03, 0.00000000e+00, 0.00000000e+00, 0.00000000e+00,\n",
       "       0.00000000e+00, 0.00000000e+00, 0.00000000e+00, 0.00000000e+00,\n",
       "       0.00000000e+00, 0.00000000e+00, 0.00000000e+00, 0.00000000e+00,\n",
       "       0.00000000e+00, 0.00000000e+00, 0.00000000e+00, 0.00000000e+00,\n",
       "       2.57809849e-02, 0.00000000e+00, 0.00000000e+00, 0.00000000e+00,\n",
       "       0.00000000e+00, 0.00000000e+00, 0.00000000e+00, 0.00000000e+00,\n",
       "       0.00000000e+00, 0.00000000e+00, 0.00000000e+00, 0.00000000e+00,\n",
       "       0.00000000e+00, 0.00000000e+00, 1.27786718e-02, 0.00000000e+00,\n",
       "       0.00000000e+00, 0.00000000e+00, 0.00000000e+00, 0.00000000e+00,\n",
       "       0.00000000e+00, 4.13233701e-04, 0.00000000e+00, 0.00000000e+00,\n",
       "       0.00000000e+00, 0.00000000e+00, 0.00000000e+00, 8.56520761e-04,\n",
       "       0.00000000e+00, 0.00000000e+00, 0.00000000e+00, 0.00000000e+00,\n",
       "       0.00000000e+00, 0.00000000e+00, 0.00000000e+00, 2.64469568e-04,\n",
       "       0.00000000e+00, 0.00000000e+00, 0.00000000e+00, 0.00000000e+00,\n",
       "       0.00000000e+00, 0.00000000e+00, 0.00000000e+00, 0.00000000e+00,\n",
       "       0.00000000e+00, 0.00000000e+00, 0.00000000e+00, 0.00000000e+00,\n",
       "       0.00000000e+00, 0.00000000e+00, 7.75945039e-04, 0.00000000e+00,\n",
       "       0.00000000e+00, 0.00000000e+00, 0.00000000e+00, 6.61173921e-04,\n",
       "       0.00000000e+00, 0.00000000e+00, 0.00000000e+00, 0.00000000e+00,\n",
       "       0.00000000e+00, 0.00000000e+00, 0.00000000e+00, 3.14057612e-04,\n",
       "       0.00000000e+00, 0.00000000e+00, 0.00000000e+00, 0.00000000e+00,\n",
       "       5.40960481e-04, 0.00000000e+00, 1.65293480e-04, 0.00000000e+00,\n",
       "       1.61770946e-04, 0.00000000e+00, 0.00000000e+00, 0.00000000e+00,\n",
       "       0.00000000e+00, 0.00000000e+00, 0.00000000e+00, 2.75446287e-03,\n",
       "       0.00000000e+00, 2.75489134e-04, 0.00000000e+00, 0.00000000e+00,\n",
       "       7.54351006e-04, 0.00000000e+00, 0.00000000e+00, 0.00000000e+00,\n",
       "       0.00000000e+00, 0.00000000e+00, 0.00000000e+00, 0.00000000e+00,\n",
       "       1.65293480e-04, 0.00000000e+00, 0.00000000e+00, 0.00000000e+00,\n",
       "       0.00000000e+00, 0.00000000e+00, 0.00000000e+00, 0.00000000e+00,\n",
       "       0.00000000e+00, 0.00000000e+00, 8.90041817e-04, 0.00000000e+00,\n",
       "       0.00000000e+00, 1.65293480e-04, 0.00000000e+00, 6.94036868e-03,\n",
       "       0.00000000e+00, 0.00000000e+00, 0.00000000e+00, 0.00000000e+00,\n",
       "       3.48208078e-03, 0.00000000e+00, 0.00000000e+00, 0.00000000e+00,\n",
       "       0.00000000e+00, 9.46439575e-03, 2.64469568e-04, 0.00000000e+00,\n",
       "       0.00000000e+00, 0.00000000e+00, 0.00000000e+00, 9.89465139e-04,\n",
       "       0.00000000e+00, 5.73804510e-04, 0.00000000e+00, 0.00000000e+00,\n",
       "       4.81329549e-04, 0.00000000e+00, 0.00000000e+00, 0.00000000e+00,\n",
       "       1.07517382e-02, 1.36826270e-03, 7.89608117e-02, 0.00000000e+00,\n",
       "       0.00000000e+00, 0.00000000e+00, 0.00000000e+00, 0.00000000e+00,\n",
       "       1.68232031e-03, 7.87111811e-04, 0.00000000e+00, 0.00000000e+00,\n",
       "       0.00000000e+00, 0.00000000e+00, 0.00000000e+00, 0.00000000e+00,\n",
       "       0.00000000e+00, 0.00000000e+00, 0.00000000e+00, 2.64469568e-04,\n",
       "       0.00000000e+00, 0.00000000e+00, 0.00000000e+00, 0.00000000e+00,\n",
       "       0.00000000e+00, 0.00000000e+00, 0.00000000e+00, 0.00000000e+00,\n",
       "       0.00000000e+00, 0.00000000e+00, 0.00000000e+00, 0.00000000e+00,\n",
       "       0.00000000e+00, 0.00000000e+00, 0.00000000e+00, 0.00000000e+00,\n",
       "       0.00000000e+00, 0.00000000e+00, 0.00000000e+00, 0.00000000e+00,\n",
       "       0.00000000e+00, 0.00000000e+00, 0.00000000e+00, 0.00000000e+00,\n",
       "       0.00000000e+00, 0.00000000e+00, 0.00000000e+00, 0.00000000e+00,\n",
       "       0.00000000e+00, 0.00000000e+00, 0.00000000e+00, 0.00000000e+00,\n",
       "       0.00000000e+00, 0.00000000e+00, 6.32381657e-03, 0.00000000e+00,\n",
       "       0.00000000e+00, 0.00000000e+00, 0.00000000e+00, 0.00000000e+00,\n",
       "       0.00000000e+00, 0.00000000e+00, 0.00000000e+00, 0.00000000e+00,\n",
       "       0.00000000e+00, 0.00000000e+00, 0.00000000e+00, 0.00000000e+00,\n",
       "       0.00000000e+00, 0.00000000e+00, 0.00000000e+00, 0.00000000e+00,\n",
       "       0.00000000e+00, 0.00000000e+00, 0.00000000e+00, 0.00000000e+00,\n",
       "       0.00000000e+00, 0.00000000e+00, 0.00000000e+00, 3.28673402e-04,\n",
       "       0.00000000e+00, 0.00000000e+00, 0.00000000e+00, 3.27924047e-04,\n",
       "       0.00000000e+00, 0.00000000e+00, 0.00000000e+00, 0.00000000e+00,\n",
       "       1.51125468e-03, 0.00000000e+00, 1.09811697e-04, 0.00000000e+00,\n",
       "       0.00000000e+00, 0.00000000e+00, 0.00000000e+00, 0.00000000e+00,\n",
       "       0.00000000e+00, 0.00000000e+00, 0.00000000e+00, 0.00000000e+00,\n",
       "       0.00000000e+00, 0.00000000e+00, 0.00000000e+00, 0.00000000e+00,\n",
       "       0.00000000e+00, 0.00000000e+00, 6.19850551e-04, 0.00000000e+00,\n",
       "       0.00000000e+00, 2.64469568e-04, 0.00000000e+00, 0.00000000e+00,\n",
       "       0.00000000e+00, 9.49499671e-03, 2.20391307e-04, 0.00000000e+00,\n",
       "       0.00000000e+00, 0.00000000e+00, 0.00000000e+00, 6.44329507e-03,\n",
       "       0.00000000e+00, 0.00000000e+00, 0.00000000e+00, 0.00000000e+00,\n",
       "       0.00000000e+00, 0.00000000e+00, 0.00000000e+00, 0.00000000e+00,\n",
       "       0.00000000e+00, 0.00000000e+00, 0.00000000e+00, 0.00000000e+00,\n",
       "       0.00000000e+00, 0.00000000e+00, 0.00000000e+00, 0.00000000e+00,\n",
       "       8.16744255e-04, 1.65293480e-04, 0.00000000e+00, 0.00000000e+00,\n",
       "       0.00000000e+00, 0.00000000e+00, 0.00000000e+00, 0.00000000e+00,\n",
       "       2.24960544e-03, 0.00000000e+00, 0.00000000e+00, 0.00000000e+00,\n",
       "       0.00000000e+00, 0.00000000e+00, 0.00000000e+00, 0.00000000e+00,\n",
       "       0.00000000e+00, 0.00000000e+00, 1.00265162e-03, 0.00000000e+00,\n",
       "       0.00000000e+00, 0.00000000e+00, 0.00000000e+00, 0.00000000e+00,\n",
       "       0.00000000e+00, 0.00000000e+00, 0.00000000e+00, 0.00000000e+00,\n",
       "       0.00000000e+00, 0.00000000e+00, 0.00000000e+00, 1.23860616e-03,\n",
       "       0.00000000e+00, 0.00000000e+00, 0.00000000e+00, 0.00000000e+00,\n",
       "       0.00000000e+00, 5.78527181e-04, 0.00000000e+00, 0.00000000e+00,\n",
       "       6.70756152e-04, 0.00000000e+00, 0.00000000e+00, 0.00000000e+00,\n",
       "       4.83784645e-04, 0.00000000e+00, 0.00000000e+00, 0.00000000e+00,\n",
       "       0.00000000e+00, 0.00000000e+00, 0.00000000e+00, 0.00000000e+00,\n",
       "       0.00000000e+00, 9.86118958e-03, 1.29100632e-01, 1.83588329e-03])"
      ]
     },
     "execution_count": 65,
     "metadata": {},
     "output_type": "execute_result"
    }
   ],
   "source": [
    "dt_clf.feature_importances_"
   ]
  },
  {
   "cell_type": "code",
   "execution_count": 66,
   "id": "disciplinary-surfing",
   "metadata": {
    "execution": {
     "iopub.execute_input": "2021-05-01T05:23:56.593009Z",
     "iopub.status.busy": "2021-05-01T05:23:56.592240Z",
     "iopub.status.idle": "2021-05-01T05:23:56.597265Z",
     "shell.execute_reply": "2021-05-01T05:23:56.597815Z"
    },
    "papermill": {
     "duration": 2.510758,
     "end_time": "2021-05-01T05:23:56.597985",
     "exception": false,
     "start_time": "2021-05-01T05:23:54.087227",
     "status": "completed"
    },
    "tags": []
   },
   "outputs": [
    {
     "data": {
      "text/plain": [
       "140"
      ]
     },
     "execution_count": 66,
     "metadata": {},
     "output_type": "execute_result"
    }
   ],
   "source": [
    "np.sum(dt_clf.feature_importances_ > 0)"
   ]
  },
  {
   "cell_type": "code",
   "execution_count": 67,
   "id": "governmental-settle",
   "metadata": {
    "execution": {
     "iopub.execute_input": "2021-05-01T05:24:01.481204Z",
     "iopub.status.busy": "2021-05-01T05:24:01.480580Z",
     "iopub.status.idle": "2021-05-01T05:24:01.485730Z",
     "shell.execute_reply": "2021-05-01T05:24:01.486160Z"
    },
    "papermill": {
     "duration": 2.438253,
     "end_time": "2021-05-01T05:24:01.486327",
     "exception": false,
     "start_time": "2021-05-01T05:23:59.048074",
     "status": "completed"
    },
    "tags": []
   },
   "outputs": [
    {
     "data": {
      "text/plain": [
       "9"
      ]
     },
     "execution_count": 67,
     "metadata": {},
     "output_type": "execute_result"
    }
   ],
   "source": [
    "# feature가 너무 적어져 학습이 잘 이루어지지 않음\n",
    "np.sum(dt_clf.feature_importances_ > 0.01)"
   ]
  },
  {
   "cell_type": "code",
   "execution_count": 68,
   "id": "dental-purchase",
   "metadata": {
    "execution": {
     "iopub.execute_input": "2021-05-01T05:24:06.440924Z",
     "iopub.status.busy": "2021-05-01T05:24:06.440082Z",
     "iopub.status.idle": "2021-05-01T05:24:06.444366Z",
     "shell.execute_reply": "2021-05-01T05:24:06.443746Z"
    },
    "papermill": {
     "duration": 2.444871,
     "end_time": "2021-05-01T05:24:06.444516",
     "exception": false,
     "start_time": "2021-05-01T05:24:03.999645",
     "status": "completed"
    },
    "tags": []
   },
   "outputs": [
    {
     "data": {
      "text/plain": [
       "18"
      ]
     },
     "execution_count": 68,
     "metadata": {},
     "output_type": "execute_result"
    }
   ],
   "source": [
    "np.sum(dt_clf.feature_importances_ > 0.005)"
   ]
  },
  {
   "cell_type": "code",
   "execution_count": 69,
   "id": "hundred-adobe",
   "metadata": {
    "execution": {
     "iopub.execute_input": "2021-05-01T05:24:11.404034Z",
     "iopub.status.busy": "2021-05-01T05:24:11.403312Z",
     "iopub.status.idle": "2021-05-01T05:24:11.405989Z",
     "shell.execute_reply": "2021-05-01T05:24:11.406495Z"
    },
    "papermill": {
     "duration": 2.457118,
     "end_time": "2021-05-01T05:24:11.406684",
     "exception": false,
     "start_time": "2021-05-01T05:24:08.949566",
     "status": "completed"
    },
    "tags": []
   },
   "outputs": [
    {
     "data": {
      "text/plain": [
       "60"
      ]
     },
     "execution_count": 69,
     "metadata": {},
     "output_type": "execute_result"
    }
   ],
   "source": [
    "np.sum(dt_clf.feature_importances_ > 0.001)"
   ]
  },
  {
   "cell_type": "code",
   "execution_count": 70,
   "id": "collaborative-agent",
   "metadata": {
    "execution": {
     "iopub.execute_input": "2021-05-01T05:24:16.385210Z",
     "iopub.status.busy": "2021-05-01T05:24:16.384586Z",
     "iopub.status.idle": "2021-05-01T05:24:16.389970Z",
     "shell.execute_reply": "2021-05-01T05:24:16.390534Z"
    },
    "papermill": {
     "duration": 2.51403,
     "end_time": "2021-05-01T05:24:16.390708",
     "exception": false,
     "start_time": "2021-05-01T05:24:13.876678",
     "status": "completed"
    },
    "tags": []
   },
   "outputs": [
    {
     "data": {
      "text/plain": [
       "140"
      ]
     },
     "execution_count": 70,
     "metadata": {},
     "output_type": "execute_result"
    }
   ],
   "source": [
    "np.sum(dt_clf.feature_importances_ > 0)"
   ]
  },
  {
   "cell_type": "code",
   "execution_count": 71,
   "id": "certain-township",
   "metadata": {
    "execution": {
     "iopub.execute_input": "2021-05-01T05:24:21.310194Z",
     "iopub.status.busy": "2021-05-01T05:24:21.309602Z",
     "iopub.status.idle": "2021-05-01T05:24:21.313065Z",
     "shell.execute_reply": "2021-05-01T05:24:21.313617Z"
    },
    "papermill": {
     "duration": 2.471275,
     "end_time": "2021-05-01T05:24:21.313793",
     "exception": false,
     "start_time": "2021-05-01T05:24:18.842518",
     "status": "completed"
    },
    "tags": []
   },
   "outputs": [],
   "source": [
    "important_cols = dt_clf.feature_importances_ > 0.001"
   ]
  },
  {
   "cell_type": "code",
   "execution_count": 72,
   "id": "surface-bacteria",
   "metadata": {
    "execution": {
     "iopub.execute_input": "2021-05-01T05:24:26.343790Z",
     "iopub.status.busy": "2021-05-01T05:24:26.343096Z",
     "iopub.status.idle": "2021-05-01T05:24:26.353552Z",
     "shell.execute_reply": "2021-05-01T05:24:26.354096Z"
    },
    "papermill": {
     "duration": 2.485855,
     "end_time": "2021-05-01T05:24:26.354272",
     "exception": false,
     "start_time": "2021-05-01T05:24:23.868417",
     "status": "completed"
    },
    "tags": []
   },
   "outputs": [
    {
     "data": {
      "text/plain": [
       "(7283, 60)"
      ]
     },
     "execution_count": 72,
     "metadata": {},
     "output_type": "execute_result"
    }
   ],
   "source": [
    "train_data[:,important_cols].shape"
   ]
  },
  {
   "cell_type": "code",
   "execution_count": 73,
   "id": "respiratory-driver",
   "metadata": {
    "execution": {
     "iopub.execute_input": "2021-05-01T05:24:31.303966Z",
     "iopub.status.busy": "2021-05-01T05:24:31.303293Z",
     "iopub.status.idle": "2021-05-01T05:24:31.309770Z",
     "shell.execute_reply": "2021-05-01T05:24:31.309232Z"
    },
    "papermill": {
     "duration": 2.509605,
     "end_time": "2021-05-01T05:24:31.309912",
     "exception": false,
     "start_time": "2021-05-01T05:24:28.800307",
     "status": "completed"
    },
    "tags": []
   },
   "outputs": [
    {
     "name": "stdout",
     "output_type": "stream",
     "text": [
      "label 1 : 1215\n",
      "label 2 : 1064\n",
      "label 3 : 974\n",
      "label 4 : 1260\n",
      "label 5 : 1388\n"
     ]
    }
   ],
   "source": [
    "for label in range(1, 5 + 1):\n",
    "    print(f\"label {label} : {np.sum(train_label==label)}\")"
   ]
  },
  {
   "cell_type": "markdown",
   "id": "saving-hobby",
   "metadata": {
    "papermill": {
     "duration": 2.466735,
     "end_time": "2021-05-01T05:24:36.226656",
     "exception": false,
     "start_time": "2021-05-01T05:24:33.759921",
     "status": "completed"
    },
    "tags": []
   },
   "source": [
    "### 불필요한 feature 제거한 데이터 생성"
   ]
  },
  {
   "cell_type": "code",
   "execution_count": 74,
   "id": "herbal-creator",
   "metadata": {
    "execution": {
     "iopub.execute_input": "2021-05-01T05:24:41.162340Z",
     "iopub.status.busy": "2021-05-01T05:24:41.161687Z",
     "iopub.status.idle": "2021-05-01T05:24:41.184906Z",
     "shell.execute_reply": "2021-05-01T05:24:41.184349Z"
    },
    "papermill": {
     "duration": 2.463317,
     "end_time": "2021-05-01T05:24:41.185062",
     "exception": false,
     "start_time": "2021-05-01T05:24:38.721745",
     "status": "completed"
    },
    "tags": []
   },
   "outputs": [],
   "source": [
    "imp_train_data = train_data[:, important_cols]\n",
    "imp_train_data_mm = train_data_mm[:, important_cols]\n",
    "imp_train_data_std = train_data_std[:, important_cols]\n",
    "imp_test_data = test_data[:, important_cols]\n",
    "imp_test_data_mm = test_data_mm[:, important_cols]"
   ]
  },
  {
   "cell_type": "markdown",
   "id": "danish-cookbook",
   "metadata": {
    "papermill": {
     "duration": 2.50059,
     "end_time": "2021-05-01T05:24:46.124597",
     "exception": false,
     "start_time": "2021-05-01T05:24:43.624007",
     "status": "completed"
    },
    "tags": []
   },
   "source": [
    "### 불필요한 feature 제거해서 실험\n",
    "\n",
    "전체 학습 데이터로 학습 후 DecisionTree의 feature_importances_ 출력해봤을 때 대부분이 0인 것을 알 수 있었고, 이것이 overfitting으로 이어질 수 있다고 판단했다."
   ]
  },
  {
   "cell_type": "code",
   "execution_count": 75,
   "id": "satisfactory-checklist",
   "metadata": {
    "execution": {
     "iopub.execute_input": "2021-05-01T05:24:51.022959Z",
     "iopub.status.busy": "2021-05-01T05:24:51.022279Z",
     "iopub.status.idle": "2021-05-01T05:24:56.271713Z",
     "shell.execute_reply": "2021-05-01T05:24:56.272280Z"
    },
    "papermill": {
     "duration": 7.678943,
     "end_time": "2021-05-01T05:24:56.272505",
     "exception": false,
     "start_time": "2021-05-01T05:24:48.593562",
     "status": "completed"
    },
    "tags": []
   },
   "outputs": [
    {
     "data": {
      "text/plain": [
       "{'train': 1.0,\n",
       " 'test': 0.9379461834157057,\n",
       " 'params': None,\n",
       " 'model': DecisionTreeClassifier(random_state=42)}"
      ]
     },
     "execution_count": 75,
     "metadata": {},
     "output_type": "execute_result"
    }
   ],
   "source": [
    "validate(DecisionTreeClassifier(random_state=42), train_data, train_label, accuracy_score)"
   ]
  },
  {
   "cell_type": "code",
   "execution_count": 76,
   "id": "insured-third",
   "metadata": {
    "execution": {
     "iopub.execute_input": "2021-05-01T05:25:01.256784Z",
     "iopub.status.busy": "2021-05-01T05:25:01.256096Z",
     "iopub.status.idle": "2021-05-01T05:25:06.947839Z",
     "shell.execute_reply": "2021-05-01T05:25:06.947111Z"
    },
    "papermill": {
     "duration": 8.142109,
     "end_time": "2021-05-01T05:25:06.947979",
     "exception": false,
     "start_time": "2021-05-01T05:24:58.805870",
     "status": "completed"
    },
    "tags": []
   },
   "outputs": [
    {
     "data": {
      "text/plain": [
       "{'train': 1.0,\n",
       " 'test': 0.9450851180669961,\n",
       " 'params': None,\n",
       " 'model': DecisionTreeClassifier(criterion='entropy', random_state=42)}"
      ]
     },
     "execution_count": 76,
     "metadata": {},
     "output_type": "execute_result"
    }
   ],
   "source": [
    "result = validate(DecisionTreeClassifier(random_state=42, criterion=\"entropy\"), train_data, train_label, accuracy_score)\n",
    "result"
   ]
  },
  {
   "cell_type": "code",
   "execution_count": 77,
   "id": "spiritual-fundamental",
   "metadata": {
    "execution": {
     "iopub.execute_input": "2021-05-01T05:25:11.943040Z",
     "iopub.status.busy": "2021-05-01T05:25:11.942360Z",
     "iopub.status.idle": "2021-05-01T05:25:11.944970Z",
     "shell.execute_reply": "2021-05-01T05:25:11.945507Z"
    },
    "papermill": {
     "duration": 2.509669,
     "end_time": "2021-05-01T05:25:11.945674",
     "exception": false,
     "start_time": "2021-05-01T05:25:09.436005",
     "status": "completed"
    },
    "tags": []
   },
   "outputs": [
    {
     "data": {
      "text/plain": [
       "14"
      ]
     },
     "execution_count": 77,
     "metadata": {},
     "output_type": "execute_result"
    }
   ],
   "source": [
    "result['model'].get_depth()"
   ]
  },
  {
   "cell_type": "code",
   "execution_count": 78,
   "id": "exact-chart",
   "metadata": {
    "execution": {
     "iopub.execute_input": "2021-05-01T05:25:16.859946Z",
     "iopub.status.busy": "2021-05-01T05:25:16.859282Z",
     "iopub.status.idle": "2021-05-01T05:25:22.337866Z",
     "shell.execute_reply": "2021-05-01T05:25:22.338360Z"
    },
    "papermill": {
     "duration": 7.932964,
     "end_time": "2021-05-01T05:25:22.338565",
     "exception": false,
     "start_time": "2021-05-01T05:25:14.405601",
     "status": "completed"
    },
    "tags": []
   },
   "outputs": [
    {
     "data": {
      "text/plain": [
       "{'train': 0.9864518491395093,\n",
       " 'test': 0.9500274574409665,\n",
       " 'params': None,\n",
       " 'model': DecisionTreeClassifier(criterion='entropy', max_depth=12, min_samples_leaf=5,\n",
       "                        min_samples_split=10, random_state=42)}"
      ]
     },
     "execution_count": 78,
     "metadata": {},
     "output_type": "execute_result"
    }
   ],
   "source": [
    "validate(DecisionTreeClassifier(random_state=42, criterion=\"entropy\", max_depth=12, min_samples_split=10, min_samples_leaf=5), train_data_mm, train_label, accuracy_score)"
   ]
  },
  {
   "cell_type": "code",
   "execution_count": 79,
   "id": "modified-ordinance",
   "metadata": {
    "execution": {
     "iopub.execute_input": "2021-05-01T05:25:27.349573Z",
     "iopub.status.busy": "2021-05-01T05:25:27.348882Z",
     "iopub.status.idle": "2021-05-01T05:25:27.787642Z",
     "shell.execute_reply": "2021-05-01T05:25:27.788153Z"
    },
    "papermill": {
     "duration": 2.941395,
     "end_time": "2021-05-01T05:25:27.788333",
     "exception": false,
     "start_time": "2021-05-01T05:25:24.846938",
     "status": "completed"
    },
    "tags": []
   },
   "outputs": [
    {
     "data": {
      "text/plain": [
       "{'train': 1.0,\n",
       " 'test': 0.9516749038989566,\n",
       " 'params': None,\n",
       " 'model': DecisionTreeClassifier(class_weight='balanced', random_state=42)}"
      ]
     },
     "execution_count": 79,
     "metadata": {},
     "output_type": "execute_result"
    }
   ],
   "source": [
    "validate(DecisionTreeClassifier(random_state=42,\n",
    "                                class_weight=\"balanced\"),\n",
    "         imp_train_data_mm,\n",
    "         train_label,\n",
    "         accuracy_score)"
   ]
  },
  {
   "cell_type": "code",
   "execution_count": 80,
   "id": "focal-component",
   "metadata": {
    "execution": {
     "iopub.execute_input": "2021-05-01T05:25:32.863480Z",
     "iopub.status.busy": "2021-05-01T05:25:32.862481Z",
     "iopub.status.idle": "2021-05-01T05:25:33.255041Z",
     "shell.execute_reply": "2021-05-01T05:25:33.255515Z"
    },
    "papermill": {
     "duration": 2.980212,
     "end_time": "2021-05-01T05:25:33.255694",
     "exception": false,
     "start_time": "2021-05-01T05:25:30.275482",
     "status": "completed"
    },
    "tags": []
   },
   "outputs": [
    {
     "data": {
      "text/plain": [
       "{'train': 0.9945075064079092,\n",
       " 'test': 0.9577155409115871,\n",
       " 'params': None,\n",
       " 'model': DecisionTreeClassifier(max_depth=15, min_samples_split=4, random_state=42)}"
      ]
     },
     "execution_count": 80,
     "metadata": {},
     "output_type": "execute_result"
    }
   ],
   "source": [
    "validate(DecisionTreeClassifier(random_state=42,\n",
    "                               max_depth=15,\n",
    "                               min_samples_split=4,\n",
    "                               min_samples_leaf=1,),\n",
    "         imp_train_data_mm,\n",
    "         train_label,\n",
    "         accuracy_score)"
   ]
  },
  {
   "cell_type": "code",
   "execution_count": 81,
   "id": "centered-calibration",
   "metadata": {
    "execution": {
     "iopub.execute_input": "2021-05-01T05:25:38.150868Z",
     "iopub.status.busy": "2021-05-01T05:25:38.150173Z",
     "iopub.status.idle": "2021-05-01T05:25:38.292831Z",
     "shell.execute_reply": "2021-05-01T05:25:38.292195Z"
    },
    "papermill": {
     "duration": 2.599461,
     "end_time": "2021-05-01T05:25:38.292974",
     "exception": false,
     "start_time": "2021-05-01T05:25:35.693513",
     "status": "completed"
    },
    "tags": []
   },
   "outputs": [
    {
     "ename": "NameError",
     "evalue": "name 'RandomForestClassifier' is not defined",
     "output_type": "error",
     "traceback": [
      "\u001b[0;31m---------------------------------------------------------------------------\u001b[0m",
      "\u001b[0;31mNameError\u001b[0m                                 Traceback (most recent call last)",
      "\u001b[0;32m<ipython-input-81-f208c33c8263>\u001b[0m in \u001b[0;36m<module>\u001b[0;34m\u001b[0m\n\u001b[0;32m----> 1\u001b[0;31m validate(RandomForestClassifier(random_state=42),\n\u001b[0m\u001b[1;32m      2\u001b[0m          \u001b[0mtrain_data\u001b[0m\u001b[0;34m[\u001b[0m\u001b[0;34m:\u001b[0m\u001b[0;34m,\u001b[0m\u001b[0mdt_clf\u001b[0m\u001b[0;34m.\u001b[0m\u001b[0mfeature_importances_\u001b[0m \u001b[0;34m>\u001b[0m \u001b[0;36m0.001\u001b[0m\u001b[0;34m]\u001b[0m\u001b[0;34m,\u001b[0m\u001b[0;34m\u001b[0m\u001b[0;34m\u001b[0m\u001b[0m\n\u001b[1;32m      3\u001b[0m          train_label, accuracy_score)\n",
      "\u001b[0;31mNameError\u001b[0m: name 'RandomForestClassifier' is not defined"
     ]
    }
   ],
   "source": [
    "validate(RandomForestClassifier(random_state=42),\n",
    "         train_data[:,dt_clf.feature_importances_ > 0.001],\n",
    "         train_label, accuracy_score)"
   ]
  },
  {
   "cell_type": "code",
   "execution_count": 82,
   "id": "aerial-extraction",
   "metadata": {
    "execution": {
     "iopub.execute_input": "2021-05-01T05:25:43.283077Z",
     "iopub.status.busy": "2021-05-01T05:25:43.282357Z",
     "iopub.status.idle": "2021-05-01T05:25:43.293664Z",
     "shell.execute_reply": "2021-05-01T05:25:43.293137Z"
    },
    "papermill": {
     "duration": 2.500219,
     "end_time": "2021-05-01T05:25:43.293863",
     "exception": false,
     "start_time": "2021-05-01T05:25:40.793644",
     "status": "completed"
    },
    "tags": []
   },
   "outputs": [
    {
     "ename": "NameError",
     "evalue": "name 'RandomForestClassifier' is not defined",
     "output_type": "error",
     "traceback": [
      "\u001b[0;31m---------------------------------------------------------------------------\u001b[0m",
      "\u001b[0;31mNameError\u001b[0m                                 Traceback (most recent call last)",
      "\u001b[0;32m<ipython-input-82-93e4315f17e3>\u001b[0m in \u001b[0;36m<module>\u001b[0;34m\u001b[0m\n\u001b[0;32m----> 1\u001b[0;31m validate(RandomForestClassifier(random_state=42),\n\u001b[0m\u001b[1;32m      2\u001b[0m          \u001b[0mtrain_data\u001b[0m\u001b[0;34m[\u001b[0m\u001b[0;34m:\u001b[0m\u001b[0;34m,\u001b[0m\u001b[0mdt_clf\u001b[0m\u001b[0;34m.\u001b[0m\u001b[0mfeature_importances_\u001b[0m \u001b[0;34m>\u001b[0m \u001b[0;36m0\u001b[0m\u001b[0;34m]\u001b[0m\u001b[0;34m,\u001b[0m\u001b[0;34m\u001b[0m\u001b[0;34m\u001b[0m\u001b[0m\n\u001b[1;32m      3\u001b[0m          train_label, accuracy_score)\n",
      "\u001b[0;31mNameError\u001b[0m: name 'RandomForestClassifier' is not defined"
     ]
    }
   ],
   "source": [
    "validate(RandomForestClassifier(random_state=42),\n",
    "         train_data[:,dt_clf.feature_importances_ > 0],\n",
    "         train_label, accuracy_score)"
   ]
  },
  {
   "cell_type": "code",
   "execution_count": 83,
   "id": "protective-battle",
   "metadata": {
    "execution": {
     "iopub.execute_input": "2021-05-01T05:25:48.260479Z",
     "iopub.status.busy": "2021-05-01T05:25:48.259795Z",
     "iopub.status.idle": "2021-05-01T05:25:48.263272Z",
     "shell.execute_reply": "2021-05-01T05:25:48.263787Z"
    },
    "papermill": {
     "duration": 2.523288,
     "end_time": "2021-05-01T05:25:48.263993",
     "exception": false,
     "start_time": "2021-05-01T05:25:45.740705",
     "status": "completed"
    },
    "tags": []
   },
   "outputs": [
    {
     "ename": "NameError",
     "evalue": "name 'RandomForestClassifier' is not defined",
     "output_type": "error",
     "traceback": [
      "\u001b[0;31m---------------------------------------------------------------------------\u001b[0m",
      "\u001b[0;31mNameError\u001b[0m                                 Traceback (most recent call last)",
      "\u001b[0;32m<ipython-input-83-ca02ec6012c5>\u001b[0m in \u001b[0;36m<module>\u001b[0;34m\u001b[0m\n\u001b[0;32m----> 1\u001b[0;31m validate(RandomForestClassifier(random_state=42),\n\u001b[0m\u001b[1;32m      2\u001b[0m          \u001b[0mtrain_data\u001b[0m\u001b[0;34m,\u001b[0m\u001b[0;34m\u001b[0m\u001b[0;34m\u001b[0m\u001b[0m\n\u001b[1;32m      3\u001b[0m          train_label, accuracy_score)\n",
      "\u001b[0;31mNameError\u001b[0m: name 'RandomForestClassifier' is not defined"
     ]
    }
   ],
   "source": [
    "validate(RandomForestClassifier(random_state=42),\n",
    "         train_data,\n",
    "         train_label, accuracy_score)"
   ]
  },
  {
   "cell_type": "code",
   "execution_count": 84,
   "id": "continued-attention",
   "metadata": {
    "execution": {
     "iopub.execute_input": "2021-05-01T05:25:53.181499Z",
     "iopub.status.busy": "2021-05-01T05:25:53.180847Z",
     "iopub.status.idle": "2021-05-01T05:25:53.191346Z",
     "shell.execute_reply": "2021-05-01T05:25:53.191928Z"
    },
    "papermill": {
     "duration": 2.489877,
     "end_time": "2021-05-01T05:25:53.192105",
     "exception": false,
     "start_time": "2021-05-01T05:25:50.702228",
     "status": "completed"
    },
    "tags": []
   },
   "outputs": [
    {
     "ename": "NameError",
     "evalue": "name 'RandomForestClassifier' is not defined",
     "output_type": "error",
     "traceback": [
      "\u001b[0;31m---------------------------------------------------------------------------\u001b[0m",
      "\u001b[0;31mNameError\u001b[0m                                 Traceback (most recent call last)",
      "\u001b[0;32m<ipython-input-84-1a4330d1d400>\u001b[0m in \u001b[0;36m<module>\u001b[0;34m\u001b[0m\n\u001b[0;32m----> 1\u001b[0;31m validate(RandomForestClassifier(random_state=42),\n\u001b[0m\u001b[1;32m      2\u001b[0m          \u001b[0mtrain_data\u001b[0m\u001b[0;34m[\u001b[0m\u001b[0;34m:\u001b[0m\u001b[0;34m,\u001b[0m\u001b[0mdt_clf\u001b[0m\u001b[0;34m.\u001b[0m\u001b[0mfeature_importances_\u001b[0m \u001b[0;34m>\u001b[0m \u001b[0;36m0.002\u001b[0m\u001b[0;34m]\u001b[0m\u001b[0;34m,\u001b[0m\u001b[0;34m\u001b[0m\u001b[0;34m\u001b[0m\u001b[0m\n\u001b[1;32m      3\u001b[0m          train_label, accuracy_score)\n",
      "\u001b[0;31mNameError\u001b[0m: name 'RandomForestClassifier' is not defined"
     ]
    }
   ],
   "source": [
    "validate(RandomForestClassifier(random_state=42),\n",
    "         train_data[:,dt_clf.feature_importances_ > 0.002],\n",
    "         train_label, accuracy_score)"
   ]
  },
  {
   "cell_type": "markdown",
   "id": "imposed-pitch",
   "metadata": {
    "papermill": {
     "duration": 2.470427,
     "end_time": "2021-05-01T05:25:58.157440",
     "exception": false,
     "start_time": "2021-05-01T05:25:55.687013",
     "status": "completed"
    },
    "tags": []
   },
   "source": [
    "### parameters tuning"
   ]
  },
  {
   "cell_type": "code",
   "execution_count": 85,
   "id": "opposed-friend",
   "metadata": {
    "execution": {
     "iopub.execute_input": "2021-05-01T05:26:03.230684Z",
     "iopub.status.busy": "2021-05-01T05:26:03.230015Z",
     "iopub.status.idle": "2021-05-01T05:30:30.746133Z",
     "shell.execute_reply": "2021-05-01T05:30:30.746661Z"
    },
    "papermill": {
     "duration": 270.050829,
     "end_time": "2021-05-01T05:30:30.746895",
     "exception": false,
     "start_time": "2021-05-01T05:26:00.696066",
     "status": "completed"
    },
    "scrolled": true,
    "tags": []
   },
   "outputs": [],
   "source": [
    "results = []\n",
    "\n",
    "for max_depth_ in range(15, 20):\n",
    "    for min_samples_split_ in range(2, 5):\n",
    "        for min_samples_leaf_ in range(1, 5):            \n",
    "            params = {'max_depth': max_depth_,\n",
    "                      'min_samples_split': min_samples_split_,\n",
    "                      'min_samples_leaf': min_samples_leaf_}\n",
    "            results.append(validate(DecisionTreeClassifier(random_state=42),\n",
    "                                  train_data, train_label, accuracy_score, params))"
   ]
  },
  {
   "cell_type": "code",
   "execution_count": 86,
   "id": "cordless-creek",
   "metadata": {
    "execution": {
     "iopub.execute_input": "2021-05-01T05:30:35.687711Z",
     "iopub.status.busy": "2021-05-01T05:30:35.687001Z",
     "iopub.status.idle": "2021-05-01T05:30:35.690031Z",
     "shell.execute_reply": "2021-05-01T05:30:35.690635Z"
    },
    "papermill": {
     "duration": 2.478623,
     "end_time": "2021-05-01T05:30:35.690830",
     "exception": false,
     "start_time": "2021-05-01T05:30:33.212207",
     "status": "completed"
    },
    "tags": []
   },
   "outputs": [
    {
     "data": {
      "text/plain": [
       "[{'train': 0.9891980959355547,\n",
       "  'test': 0.9516749038989566,\n",
       "  'params': {'max_depth': 17, 'min_samples_split': 2, 'min_samples_leaf': 3},\n",
       "  'model': DecisionTreeClassifier(max_depth=17, min_samples_leaf=3, random_state=42)},\n",
       " {'train': 0.9891980959355547,\n",
       "  'test': 0.9516749038989566,\n",
       "  'params': {'max_depth': 17, 'min_samples_split': 3, 'min_samples_leaf': 3},\n",
       "  'model': DecisionTreeClassifier(max_depth=17, min_samples_leaf=3, min_samples_split=3,\n",
       "                         random_state=42)},\n",
       " {'train': 0.9891980959355547,\n",
       "  'test': 0.9516749038989566,\n",
       "  'params': {'max_depth': 17, 'min_samples_split': 4, 'min_samples_leaf': 3},\n",
       "  'model': DecisionTreeClassifier(max_depth=17, min_samples_leaf=3, min_samples_split=4,\n",
       "                         random_state=42)},\n",
       " {'train': 0.9891980959355547,\n",
       "  'test': 0.9516749038989566,\n",
       "  'params': {'max_depth': 18, 'min_samples_split': 2, 'min_samples_leaf': 3},\n",
       "  'model': DecisionTreeClassifier(max_depth=18, min_samples_leaf=3, random_state=42)},\n",
       " {'train': 0.9891980959355547,\n",
       "  'test': 0.9516749038989566,\n",
       "  'params': {'max_depth': 18, 'min_samples_split': 3, 'min_samples_leaf': 3},\n",
       "  'model': DecisionTreeClassifier(max_depth=18, min_samples_leaf=3, min_samples_split=3,\n",
       "                         random_state=42)},\n",
       " {'train': 0.9891980959355547,\n",
       "  'test': 0.9516749038989566,\n",
       "  'params': {'max_depth': 18, 'min_samples_split': 4, 'min_samples_leaf': 3},\n",
       "  'model': DecisionTreeClassifier(max_depth=18, min_samples_leaf=3, min_samples_split=4,\n",
       "                         random_state=42)},\n",
       " {'train': 0.9891980959355547,\n",
       "  'test': 0.9516749038989566,\n",
       "  'params': {'max_depth': 19, 'min_samples_split': 2, 'min_samples_leaf': 3},\n",
       "  'model': DecisionTreeClassifier(max_depth=19, min_samples_leaf=3, random_state=42)},\n",
       " {'train': 0.9891980959355547,\n",
       "  'test': 0.9516749038989566,\n",
       "  'params': {'max_depth': 19, 'min_samples_split': 3, 'min_samples_leaf': 3},\n",
       "  'model': DecisionTreeClassifier(max_depth=19, min_samples_leaf=3, min_samples_split=3,\n",
       "                         random_state=42)},\n",
       " {'train': 0.9891980959355547,\n",
       "  'test': 0.9516749038989566,\n",
       "  'params': {'max_depth': 19, 'min_samples_split': 4, 'min_samples_leaf': 3},\n",
       "  'model': DecisionTreeClassifier(max_depth=19, min_samples_leaf=3, min_samples_split=4,\n",
       "                         random_state=42)},\n",
       " {'train': 0.9891980959355547,\n",
       "  'test': 0.9511257550796266,\n",
       "  'params': {'max_depth': 16, 'min_samples_split': 2, 'min_samples_leaf': 3},\n",
       "  'model': DecisionTreeClassifier(max_depth=16, min_samples_leaf=3, random_state=42)}]"
      ]
     },
     "execution_count": 86,
     "metadata": {},
     "output_type": "execute_result"
    }
   ],
   "source": [
    "sorted(results, key=lambda x: x['test'], reverse=True)[:10]"
   ]
  },
  {
   "cell_type": "code",
   "execution_count": 87,
   "id": "least-budget",
   "metadata": {
    "execution": {
     "iopub.execute_input": "2021-05-01T05:30:40.740741Z",
     "iopub.status.busy": "2021-05-01T05:30:40.739920Z",
     "iopub.status.idle": "2021-05-01T05:35:07.733111Z",
     "shell.execute_reply": "2021-05-01T05:35:07.732596Z"
    },
    "papermill": {
     "duration": 269.500531,
     "end_time": "2021-05-01T05:35:07.733259",
     "exception": false,
     "start_time": "2021-05-01T05:30:38.232728",
     "status": "completed"
    },
    "scrolled": true,
    "tags": []
   },
   "outputs": [
    {
     "name": "stdout",
     "output_type": "stream",
     "text": [
      "15, 2, 1\n",
      "15, 2, 2\n",
      "15, 2, 3\n",
      "15, 2, 4\n",
      "15, 3, 1\n",
      "15, 3, 2\n",
      "15, 3, 3\n",
      "15, 3, 4\n",
      "15, 4, 1\n",
      "15, 4, 2\n",
      "15, 4, 3\n",
      "15, 4, 4\n",
      "16, 2, 1\n",
      "16, 2, 2\n",
      "16, 2, 3\n",
      "16, 2, 4\n",
      "16, 3, 1\n",
      "16, 3, 2\n",
      "16, 3, 3\n",
      "16, 3, 4\n",
      "16, 4, 1\n",
      "16, 4, 2\n",
      "16, 4, 3\n",
      "16, 4, 4\n",
      "17, 2, 1\n",
      "17, 2, 2\n",
      "17, 2, 3\n",
      "17, 2, 4\n",
      "17, 3, 1\n",
      "17, 3, 2\n",
      "17, 3, 3\n",
      "17, 3, 4\n",
      "17, 4, 1\n",
      "17, 4, 2\n",
      "17, 4, 3\n",
      "17, 4, 4\n",
      "18, 2, 1\n",
      "18, 2, 2\n",
      "18, 2, 3\n",
      "18, 2, 4\n",
      "18, 3, 1\n",
      "18, 3, 2\n",
      "18, 3, 3\n",
      "18, 3, 4\n",
      "18, 4, 1\n",
      "18, 4, 2\n",
      "18, 4, 3\n",
      "18, 4, 4\n",
      "19, 2, 1\n",
      "19, 2, 2\n",
      "19, 2, 3\n",
      "19, 2, 4\n",
      "19, 3, 1\n",
      "19, 3, 2\n",
      "19, 3, 3\n",
      "19, 3, 4\n",
      "19, 4, 1\n",
      "19, 4, 2\n",
      "19, 4, 3\n",
      "19, 4, 4\n"
     ]
    }
   ],
   "source": [
    "results = []\n",
    "\n",
    "for max_depth_ in range(15, 20):\n",
    "    for min_samples_split_ in range(2, 5):\n",
    "        for min_samples_leaf_ in range(1, 5):            \n",
    "            params = {'max_depth': max_depth_,\n",
    "                      'min_samples_split': min_samples_split_,\n",
    "                      'min_samples_leaf': min_samples_leaf_}\n",
    "            results.append(validate(DecisionTreeClassifier(random_state=42),\n",
    "                                  train_data_mm, train_label, accuracy_score, params))\n",
    "            print(f'{max_depth_}, {min_samples_split_}, {min_samples_leaf_}')"
   ]
  },
  {
   "cell_type": "code",
   "execution_count": 88,
   "id": "national-cemetery",
   "metadata": {
    "execution": {
     "iopub.execute_input": "2021-05-01T05:35:12.729247Z",
     "iopub.status.busy": "2021-05-01T05:35:12.728582Z",
     "iopub.status.idle": "2021-05-01T05:35:12.731728Z",
     "shell.execute_reply": "2021-05-01T05:35:12.732321Z"
    },
    "papermill": {
     "duration": 2.506876,
     "end_time": "2021-05-01T05:35:12.732509",
     "exception": false,
     "start_time": "2021-05-01T05:35:10.225633",
     "status": "completed"
    },
    "tags": []
   },
   "outputs": [
    {
     "data": {
      "text/plain": [
       "[{'train': 0.9891980959355547,\n",
       "  'test': 0.9516749038989566,\n",
       "  'params': {'max_depth': 17, 'min_samples_split': 2, 'min_samples_leaf': 3},\n",
       "  'model': DecisionTreeClassifier(max_depth=17, min_samples_leaf=3, random_state=42)},\n",
       " {'train': 0.9891980959355547,\n",
       "  'test': 0.9516749038989566,\n",
       "  'params': {'max_depth': 17, 'min_samples_split': 3, 'min_samples_leaf': 3},\n",
       "  'model': DecisionTreeClassifier(max_depth=17, min_samples_leaf=3, min_samples_split=3,\n",
       "                         random_state=42)},\n",
       " {'train': 0.9891980959355547,\n",
       "  'test': 0.9516749038989566,\n",
       "  'params': {'max_depth': 17, 'min_samples_split': 4, 'min_samples_leaf': 3},\n",
       "  'model': DecisionTreeClassifier(max_depth=17, min_samples_leaf=3, min_samples_split=4,\n",
       "                         random_state=42)},\n",
       " {'train': 0.9891980959355547,\n",
       "  'test': 0.9516749038989566,\n",
       "  'params': {'max_depth': 18, 'min_samples_split': 2, 'min_samples_leaf': 3},\n",
       "  'model': DecisionTreeClassifier(max_depth=18, min_samples_leaf=3, random_state=42)},\n",
       " {'train': 0.9891980959355547,\n",
       "  'test': 0.9516749038989566,\n",
       "  'params': {'max_depth': 18, 'min_samples_split': 3, 'min_samples_leaf': 3},\n",
       "  'model': DecisionTreeClassifier(max_depth=18, min_samples_leaf=3, min_samples_split=3,\n",
       "                         random_state=42)},\n",
       " {'train': 0.9891980959355547,\n",
       "  'test': 0.9516749038989566,\n",
       "  'params': {'max_depth': 18, 'min_samples_split': 4, 'min_samples_leaf': 3},\n",
       "  'model': DecisionTreeClassifier(max_depth=18, min_samples_leaf=3, min_samples_split=4,\n",
       "                         random_state=42)},\n",
       " {'train': 0.9891980959355547,\n",
       "  'test': 0.9516749038989566,\n",
       "  'params': {'max_depth': 19, 'min_samples_split': 2, 'min_samples_leaf': 3},\n",
       "  'model': DecisionTreeClassifier(max_depth=19, min_samples_leaf=3, random_state=42)},\n",
       " {'train': 0.9891980959355547,\n",
       "  'test': 0.9516749038989566,\n",
       "  'params': {'max_depth': 19, 'min_samples_split': 3, 'min_samples_leaf': 3},\n",
       "  'model': DecisionTreeClassifier(max_depth=19, min_samples_leaf=3, min_samples_split=3,\n",
       "                         random_state=42)},\n",
       " {'train': 0.9891980959355547,\n",
       "  'test': 0.9516749038989566,\n",
       "  'params': {'max_depth': 19, 'min_samples_split': 4, 'min_samples_leaf': 3},\n",
       "  'model': DecisionTreeClassifier(max_depth=19, min_samples_leaf=3, min_samples_split=4,\n",
       "                         random_state=42)},\n",
       " {'train': 0.9891980959355547,\n",
       "  'test': 0.9511257550796266,\n",
       "  'params': {'max_depth': 16, 'min_samples_split': 2, 'min_samples_leaf': 3},\n",
       "  'model': DecisionTreeClassifier(max_depth=16, min_samples_leaf=3, random_state=42)}]"
      ]
     },
     "execution_count": 88,
     "metadata": {},
     "output_type": "execute_result"
    }
   ],
   "source": [
    "sorted(results, key=lambda x: x['test'], reverse=True)[:10]"
   ]
  },
  {
   "cell_type": "code",
   "execution_count": 89,
   "id": "dying-resort",
   "metadata": {
    "execution": {
     "iopub.execute_input": "2021-05-01T05:35:17.759505Z",
     "iopub.status.busy": "2021-05-01T05:35:17.758811Z",
     "iopub.status.idle": "2021-05-01T05:41:53.210077Z",
     "shell.execute_reply": "2021-05-01T05:41:53.210581Z"
    },
    "papermill": {
     "duration": 397.922354,
     "end_time": "2021-05-01T05:41:53.210790",
     "exception": false,
     "start_time": "2021-05-01T05:35:15.288436",
     "status": "completed"
    },
    "tags": []
   },
   "outputs": [
    {
     "name": "stdout",
     "output_type": "stream",
     "text": [
      "8, 2, 1\n",
      "8, 2, 2\n",
      "8, 2, 3\n",
      "8, 2, 4\n",
      "8, 3, 1\n",
      "8, 3, 2\n",
      "8, 3, 3\n",
      "8, 3, 4\n",
      "8, 4, 1\n",
      "8, 4, 2\n",
      "8, 4, 3\n",
      "8, 4, 4\n",
      "9, 2, 1\n",
      "9, 2, 2\n",
      "9, 2, 3\n",
      "9, 2, 4\n",
      "9, 3, 1\n",
      "9, 3, 2\n",
      "9, 3, 3\n",
      "9, 3, 4\n",
      "9, 4, 1\n",
      "9, 4, 2\n",
      "9, 4, 3\n",
      "9, 4, 4\n",
      "10, 2, 1\n",
      "10, 2, 2\n",
      "10, 2, 3\n",
      "10, 2, 4\n",
      "10, 3, 1\n",
      "10, 3, 2\n",
      "10, 3, 3\n",
      "10, 3, 4\n",
      "10, 4, 1\n",
      "10, 4, 2\n",
      "10, 4, 3\n",
      "10, 4, 4\n",
      "11, 2, 1\n",
      "11, 2, 2\n",
      "11, 2, 3\n",
      "11, 2, 4\n",
      "11, 3, 1\n",
      "11, 3, 2\n",
      "11, 3, 3\n",
      "11, 3, 4\n",
      "11, 4, 1\n",
      "11, 4, 2\n",
      "11, 4, 3\n",
      "11, 4, 4\n",
      "12, 2, 1\n",
      "12, 2, 2\n",
      "12, 2, 3\n",
      "12, 2, 4\n",
      "12, 3, 1\n",
      "12, 3, 2\n",
      "12, 3, 3\n",
      "12, 3, 4\n",
      "12, 4, 1\n",
      "12, 4, 2\n",
      "12, 4, 3\n",
      "12, 4, 4\n",
      "13, 2, 1\n",
      "13, 2, 2\n",
      "13, 2, 3\n",
      "13, 2, 4\n",
      "13, 3, 1\n",
      "13, 3, 2\n",
      "13, 3, 3\n",
      "13, 3, 4\n",
      "13, 4, 1\n",
      "13, 4, 2\n",
      "13, 4, 3\n",
      "13, 4, 4\n"
     ]
    }
   ],
   "source": [
    "results = []\n",
    "\n",
    "for max_depth_ in range(8, 14):\n",
    "    for min_samples_split_ in range(2, 5):\n",
    "        for min_samples_leaf_ in range(1, 5):            \n",
    "            params = {'max_depth': max_depth_,\n",
    "                      'min_samples_split': min_samples_split_,\n",
    "                      'min_samples_leaf': min_samples_leaf_}\n",
    "            result = validate(DecisionTreeClassifier(random_state=42, criterion=\"entropy\"),\n",
    "                                  train_data_mm, train_label, accuracy_score, params)\n",
    "            results.append(result)\n",
    "            print(f'{max_depth_}, {min_samples_split_}, {min_samples_leaf_}')"
   ]
  },
  {
   "cell_type": "code",
   "execution_count": 90,
   "id": "statistical-thread",
   "metadata": {
    "execution": {
     "iopub.execute_input": "2021-05-01T05:41:58.328929Z",
     "iopub.status.busy": "2021-05-01T05:41:58.328096Z",
     "iopub.status.idle": "2021-05-01T05:41:58.332081Z",
     "shell.execute_reply": "2021-05-01T05:41:58.331583Z"
    },
    "papermill": {
     "duration": 2.636952,
     "end_time": "2021-05-01T05:41:58.332229",
     "exception": false,
     "start_time": "2021-05-01T05:41:55.695277",
     "status": "completed"
    },
    "tags": []
   },
   "outputs": [
    {
     "data": {
      "text/plain": [
       "[{'train': 0.9967045038447455,\n",
       "  'test': 0.9511257550796266,\n",
       "  'params': {'max_depth': 12, 'min_samples_split': 3, 'min_samples_leaf': 1},\n",
       "  'model': DecisionTreeClassifier(criterion='entropy', max_depth=12, min_samples_split=3,\n",
       "                         random_state=42)},\n",
       " {'train': 0.9963383376052728,\n",
       "  'test': 0.9505766062602965,\n",
       "  'params': {'max_depth': 11, 'min_samples_split': 2, 'min_samples_leaf': 1},\n",
       "  'model': DecisionTreeClassifier(criterion='entropy', max_depth=11, random_state=42)},\n",
       " {'train': 0.9963383376052728,\n",
       "  'test': 0.9500274574409665,\n",
       "  'params': {'max_depth': 12, 'min_samples_split': 4, 'min_samples_leaf': 1},\n",
       "  'model': DecisionTreeClassifier(criterion='entropy', max_depth=12, min_samples_split=4,\n",
       "                         random_state=42)},\n",
       " {'train': 0.9987184181618455,\n",
       "  'test': 0.9500274574409665,\n",
       "  'params': {'max_depth': 13, 'min_samples_split': 3, 'min_samples_leaf': 1},\n",
       "  'model': DecisionTreeClassifier(criterion='entropy', max_depth=13, min_samples_split=3,\n",
       "                         random_state=42)},\n",
       " {'train': 0.9956060051263274,\n",
       "  'test': 0.9494783086216365,\n",
       "  'params': {'max_depth': 11, 'min_samples_split': 3, 'min_samples_leaf': 1},\n",
       "  'model': DecisionTreeClassifier(criterion='entropy', max_depth=11, min_samples_split=3,\n",
       "                         random_state=42)},\n",
       " {'train': 0.9904796777737093,\n",
       "  'test': 0.9494783086216365,\n",
       "  'params': {'max_depth': 12, 'min_samples_split': 2, 'min_samples_leaf': 3},\n",
       "  'model': DecisionTreeClassifier(criterion='entropy', max_depth=12, min_samples_leaf=3,\n",
       "                         random_state=42)},\n",
       " {'train': 0.9904796777737093,\n",
       "  'test': 0.9494783086216365,\n",
       "  'params': {'max_depth': 12, 'min_samples_split': 3, 'min_samples_leaf': 3},\n",
       "  'model': DecisionTreeClassifier(criterion='entropy', max_depth=12, min_samples_leaf=3,\n",
       "                         min_samples_split=3, random_state=42)},\n",
       " {'train': 0.9904796777737093,\n",
       "  'test': 0.9494783086216365,\n",
       "  'params': {'max_depth': 12, 'min_samples_split': 4, 'min_samples_leaf': 3},\n",
       "  'model': DecisionTreeClassifier(criterion='entropy', max_depth=12, min_samples_leaf=3,\n",
       "                         min_samples_split=4, random_state=42)},\n",
       " {'train': 0.9996338337605273,\n",
       "  'test': 0.9489291598023064,\n",
       "  'params': {'max_depth': 13, 'min_samples_split': 2, 'min_samples_leaf': 1},\n",
       "  'model': DecisionTreeClassifier(criterion='entropy', max_depth=13, random_state=42)},\n",
       " {'train': 0.9983522519223728,\n",
       "  'test': 0.9489291598023064,\n",
       "  'params': {'max_depth': 13, 'min_samples_split': 4, 'min_samples_leaf': 1},\n",
       "  'model': DecisionTreeClassifier(criterion='entropy', max_depth=13, min_samples_split=4,\n",
       "                         random_state=42)}]"
      ]
     },
     "execution_count": 90,
     "metadata": {},
     "output_type": "execute_result"
    }
   ],
   "source": [
    "sorted(results, key=lambda x: x['test'], reverse=True)[:10]"
   ]
  },
  {
   "cell_type": "markdown",
   "id": "straight-sunday",
   "metadata": {
    "papermill": {
     "duration": 2.511998,
     "end_time": "2021-05-01T05:42:03.380550",
     "exception": false,
     "start_time": "2021-05-01T05:42:00.868552",
     "status": "completed"
    },
    "tags": []
   },
   "source": [
    "### 중요피처들로"
   ]
  },
  {
   "cell_type": "markdown",
   "id": "minor-render",
   "metadata": {
    "papermill": {
     "duration": 2.506844,
     "end_time": "2021-05-01T05:42:08.443658",
     "exception": false,
     "start_time": "2021-05-01T05:42:05.936814",
     "status": "completed"
    },
    "tags": []
   },
   "source": [
    "#### non scaled data"
   ]
  },
  {
   "cell_type": "code",
   "execution_count": 91,
   "id": "czech-purchase",
   "metadata": {
    "execution": {
     "iopub.execute_input": "2021-05-01T05:42:13.529503Z",
     "iopub.status.busy": "2021-05-01T05:42:13.528846Z",
     "iopub.status.idle": "2021-05-01T05:42:45.429596Z",
     "shell.execute_reply": "2021-05-01T05:42:45.430099Z"
    },
    "papermill": {
     "duration": 34.435729,
     "end_time": "2021-05-01T05:42:45.430294",
     "exception": false,
     "start_time": "2021-05-01T05:42:10.994565",
     "status": "completed"
    },
    "tags": []
   },
   "outputs": [],
   "source": [
    "results = []\n",
    "\n",
    "for max_depth_ in range(13, 20):\n",
    "    for min_samples_split_ in range(2, 5):\n",
    "        for min_samples_leaf_ in range(1, 5):            \n",
    "            params = {'max_depth': max_depth_,\n",
    "                      'min_samples_split': min_samples_split_,\n",
    "                      'min_samples_leaf': min_samples_leaf_}\n",
    "            result = validate(DecisionTreeClassifier(random_state=42),\n",
    "                                  imp_train_data, train_label, accuracy_score, params)\n",
    "            results.append(result)"
   ]
  },
  {
   "cell_type": "code",
   "execution_count": 92,
   "id": "trying-astronomy",
   "metadata": {
    "execution": {
     "iopub.execute_input": "2021-05-01T05:42:50.446824Z",
     "iopub.status.busy": "2021-05-01T05:42:50.446153Z",
     "iopub.status.idle": "2021-05-01T05:42:50.457381Z",
     "shell.execute_reply": "2021-05-01T05:42:50.457915Z"
    },
    "papermill": {
     "duration": 2.509566,
     "end_time": "2021-05-01T05:42:50.458099",
     "exception": false,
     "start_time": "2021-05-01T05:42:47.948533",
     "status": "completed"
    },
    "tags": []
   },
   "outputs": [
    {
     "data": {
      "text/plain": [
       "[{'train': 0.9952398388868546,\n",
       "  'test': 0.9577155409115871,\n",
       "  'params': {'max_depth': 14, 'min_samples_split': 2, 'min_samples_leaf': 1},\n",
       "  'model': DecisionTreeClassifier(max_depth=14, random_state=42)},\n",
       " {'train': 0.9945075064079092,\n",
       "  'test': 0.9577155409115871,\n",
       "  'params': {'max_depth': 15, 'min_samples_split': 4, 'min_samples_leaf': 1},\n",
       "  'model': DecisionTreeClassifier(max_depth=15, min_samples_split=4, random_state=42)},\n",
       " {'train': 0.9981691688026364,\n",
       "  'test': 0.957166392092257,\n",
       "  'params': {'max_depth': 17, 'min_samples_split': 2, 'min_samples_leaf': 1},\n",
       "  'model': DecisionTreeClassifier(max_depth=17, random_state=42)},\n",
       " {'train': 0.9959721713658001,\n",
       "  'test': 0.957166392092257,\n",
       "  'params': {'max_depth': 17, 'min_samples_split': 4, 'min_samples_leaf': 1},\n",
       "  'model': DecisionTreeClassifier(max_depth=17, min_samples_split=4, random_state=42)},\n",
       " {'train': 0.9956060051263274,\n",
       "  'test': 0.956068094453597,\n",
       "  'params': {'max_depth': 15, 'min_samples_split': 3, 'min_samples_leaf': 1},\n",
       "  'model': DecisionTreeClassifier(max_depth=15, min_samples_split=3, random_state=42)},\n",
       " {'train': 0.9985353350421091,\n",
       "  'test': 0.956068094453597,\n",
       "  'params': {'max_depth': 19, 'min_samples_split': 3, 'min_samples_leaf': 1},\n",
       "  'model': DecisionTreeClassifier(max_depth=19, min_samples_split=3, random_state=42)},\n",
       " {'train': 0.9968875869644819,\n",
       "  'test': 0.9555189456342669,\n",
       "  'params': {'max_depth': 19, 'min_samples_split': 4, 'min_samples_leaf': 1},\n",
       "  'model': DecisionTreeClassifier(max_depth=19, min_samples_split=4, random_state=42)},\n",
       " {'train': 0.997436836323691,\n",
       "  'test': 0.9549697968149369,\n",
       "  'params': {'max_depth': 16, 'min_samples_split': 2, 'min_samples_leaf': 1},\n",
       "  'model': DecisionTreeClassifier(max_depth=16, random_state=42)},\n",
       " {'train': 0.9967045038447455,\n",
       "  'test': 0.9544206479956068,\n",
       "  'params': {'max_depth': 16, 'min_samples_split': 3, 'min_samples_leaf': 1},\n",
       "  'model': DecisionTreeClassifier(max_depth=16, min_samples_split=3, random_state=42)},\n",
       " {'train': 0.9902965946539729,\n",
       "  'test': 0.9544206479956068,\n",
       "  'params': {'max_depth': 17, 'min_samples_split': 2, 'min_samples_leaf': 2},\n",
       "  'model': DecisionTreeClassifier(max_depth=17, min_samples_leaf=2, random_state=42)}]"
      ]
     },
     "execution_count": 92,
     "metadata": {},
     "output_type": "execute_result"
    }
   ],
   "source": [
    "sorted(results, key=lambda x: x['test'], reverse=True)[:10]"
   ]
  },
  {
   "cell_type": "markdown",
   "id": "excellent-boutique",
   "metadata": {
    "papermill": {
     "duration": 2.511767,
     "end_time": "2021-05-01T05:42:55.525036",
     "exception": false,
     "start_time": "2021-05-01T05:42:53.013269",
     "status": "completed"
    },
    "tags": []
   },
   "source": [
    "#### minmax scaled data"
   ]
  },
  {
   "cell_type": "code",
   "execution_count": 93,
   "id": "distributed-plasma",
   "metadata": {
    "execution": {
     "iopub.execute_input": "2021-05-01T05:43:00.667833Z",
     "iopub.status.busy": "2021-05-01T05:43:00.666884Z",
     "iopub.status.idle": "2021-05-01T05:43:23.862495Z",
     "shell.execute_reply": "2021-05-01T05:43:23.861797Z"
    },
    "papermill": {
     "duration": 25.815288,
     "end_time": "2021-05-01T05:43:23.862649",
     "exception": false,
     "start_time": "2021-05-01T05:42:58.047361",
     "status": "completed"
    },
    "tags": []
   },
   "outputs": [],
   "source": [
    "results = []\n",
    "\n",
    "for max_depth_ in range(15, 20):\n",
    "    for min_samples_split_ in range(2, 5):\n",
    "        for min_samples_leaf_ in range(1, 5):            \n",
    "            params = {'max_depth': max_depth_,\n",
    "                      'min_samples_split': min_samples_split_,\n",
    "                      'min_samples_leaf': min_samples_leaf_,}\n",
    "            result = validate(DecisionTreeClassifier(random_state=42),\n",
    "                                  imp_train_data_mm, train_label, accuracy_score, params)\n",
    "            results.append(result)"
   ]
  },
  {
   "cell_type": "code",
   "execution_count": 94,
   "id": "differential-cleveland",
   "metadata": {
    "execution": {
     "iopub.execute_input": "2021-05-01T05:43:29.111631Z",
     "iopub.status.busy": "2021-05-01T05:43:29.110990Z",
     "iopub.status.idle": "2021-05-01T05:43:29.123572Z",
     "shell.execute_reply": "2021-05-01T05:43:29.122808Z"
    },
    "papermill": {
     "duration": 2.60219,
     "end_time": "2021-05-01T05:43:29.123717",
     "exception": false,
     "start_time": "2021-05-01T05:43:26.521527",
     "status": "completed"
    },
    "tags": []
   },
   "outputs": [
    {
     "data": {
      "text/plain": [
       "[{'train': 0.9945075064079092,\n",
       "  'test': 0.9577155409115871,\n",
       "  'params': {'max_depth': 15, 'min_samples_split': 4, 'min_samples_leaf': 1},\n",
       "  'model': DecisionTreeClassifier(max_depth=15, min_samples_split=4, random_state=42)},\n",
       " {'train': 0.9981691688026364,\n",
       "  'test': 0.957166392092257,\n",
       "  'params': {'max_depth': 17, 'min_samples_split': 2, 'min_samples_leaf': 1},\n",
       "  'model': DecisionTreeClassifier(max_depth=17, random_state=42)},\n",
       " {'train': 0.9959721713658001,\n",
       "  'test': 0.957166392092257,\n",
       "  'params': {'max_depth': 17, 'min_samples_split': 4, 'min_samples_leaf': 1},\n",
       "  'model': DecisionTreeClassifier(max_depth=17, min_samples_split=4, random_state=42)},\n",
       " {'train': 0.9956060051263274,\n",
       "  'test': 0.956068094453597,\n",
       "  'params': {'max_depth': 15, 'min_samples_split': 3, 'min_samples_leaf': 1},\n",
       "  'model': DecisionTreeClassifier(max_depth=15, min_samples_split=3, random_state=42)},\n",
       " {'train': 0.9985353350421091,\n",
       "  'test': 0.956068094453597,\n",
       "  'params': {'max_depth': 19, 'min_samples_split': 3, 'min_samples_leaf': 1},\n",
       "  'model': DecisionTreeClassifier(max_depth=19, min_samples_split=3, random_state=42)},\n",
       " {'train': 0.9968875869644819,\n",
       "  'test': 0.9555189456342669,\n",
       "  'params': {'max_depth': 19, 'min_samples_split': 4, 'min_samples_leaf': 1},\n",
       "  'model': DecisionTreeClassifier(max_depth=19, min_samples_split=4, random_state=42)},\n",
       " {'train': 0.997436836323691,\n",
       "  'test': 0.9549697968149369,\n",
       "  'params': {'max_depth': 16, 'min_samples_split': 2, 'min_samples_leaf': 1},\n",
       "  'model': DecisionTreeClassifier(max_depth=16, random_state=42)},\n",
       " {'train': 0.9967045038447455,\n",
       "  'test': 0.9544206479956068,\n",
       "  'params': {'max_depth': 16, 'min_samples_split': 3, 'min_samples_leaf': 1},\n",
       "  'model': DecisionTreeClassifier(max_depth=16, min_samples_split=3, random_state=42)},\n",
       " {'train': 0.9902965946539729,\n",
       "  'test': 0.9544206479956068,\n",
       "  'params': {'max_depth': 17, 'min_samples_split': 2, 'min_samples_leaf': 2},\n",
       "  'model': DecisionTreeClassifier(max_depth=17, min_samples_leaf=2, random_state=42)},\n",
       " {'train': 0.9902965946539729,\n",
       "  'test': 0.9544206479956068,\n",
       "  'params': {'max_depth': 17, 'min_samples_split': 3, 'min_samples_leaf': 2},\n",
       "  'model': DecisionTreeClassifier(max_depth=17, min_samples_leaf=2, min_samples_split=3,\n",
       "                         random_state=42)}]"
      ]
     },
     "execution_count": 94,
     "metadata": {},
     "output_type": "execute_result"
    }
   ],
   "source": [
    "sorted(results, key=lambda x: x['test'], reverse=True)[:10]"
   ]
  },
  {
   "cell_type": "code",
   "execution_count": 95,
   "id": "stuffed-chapter",
   "metadata": {
    "execution": {
     "iopub.execute_input": "2021-05-01T05:43:34.209573Z",
     "iopub.status.busy": "2021-05-01T05:43:34.208868Z",
     "iopub.status.idle": "2021-05-01T05:43:58.502853Z",
     "shell.execute_reply": "2021-05-01T05:43:58.503307Z"
    },
    "papermill": {
     "duration": 26.87154,
     "end_time": "2021-05-01T05:43:58.503506",
     "exception": false,
     "start_time": "2021-05-01T05:43:31.631966",
     "status": "completed"
    },
    "tags": []
   },
   "outputs": [],
   "source": [
    "# entropy\n",
    "results = []\n",
    "\n",
    "for max_depth_ in range(8, 12):\n",
    "    for min_samples_split_ in range(2, 5):\n",
    "        for min_samples_leaf_ in range(1, 5):            \n",
    "            params = {'max_depth': max_depth_,\n",
    "                      'min_samples_split': min_samples_split_,\n",
    "                      'min_samples_leaf': min_samples_leaf_,\n",
    "                      'criterion': 'entropy'}\n",
    "            result = validate(DecisionTreeClassifier(random_state=42),\n",
    "                                  imp_train_data_mm, train_label, accuracy_score, params)\n",
    "            results.append(result)"
   ]
  },
  {
   "cell_type": "code",
   "execution_count": 96,
   "id": "turkish-intent",
   "metadata": {
    "execution": {
     "iopub.execute_input": "2021-05-01T05:44:03.674559Z",
     "iopub.status.busy": "2021-05-01T05:44:03.669273Z",
     "iopub.status.idle": "2021-05-01T05:44:03.679850Z",
     "shell.execute_reply": "2021-05-01T05:44:03.679281Z"
    },
    "papermill": {
     "duration": 2.627683,
     "end_time": "2021-05-01T05:44:03.680000",
     "exception": false,
     "start_time": "2021-05-01T05:44:01.052317",
     "status": "completed"
    },
    "tags": []
   },
   "outputs": [
    {
     "data": {
      "text/plain": [
       "[{'train': 0.9983522519223728,\n",
       "  'test': 0.9538714991762768,\n",
       "  'params': {'max_depth': 11,\n",
       "   'min_samples_split': 4,\n",
       "   'min_samples_leaf': 1,\n",
       "   'criterion': 'entropy'},\n",
       "  'model': DecisionTreeClassifier(criterion='entropy', max_depth=11, min_samples_split=4,\n",
       "                         random_state=42)},\n",
       " {'train': 0.9992676675210546,\n",
       "  'test': 0.9533223503569467,\n",
       "  'params': {'max_depth': 11,\n",
       "   'min_samples_split': 2,\n",
       "   'min_samples_leaf': 1,\n",
       "   'criterion': 'entropy'},\n",
       "  'model': DecisionTreeClassifier(criterion='entropy', max_depth=11, random_state=42)},\n",
       " {'train': 0.9985353350421091,\n",
       "  'test': 0.9533223503569467,\n",
       "  'params': {'max_depth': 11,\n",
       "   'min_samples_split': 3,\n",
       "   'min_samples_leaf': 1,\n",
       "   'criterion': 'entropy'},\n",
       "  'model': DecisionTreeClassifier(criterion='entropy', max_depth=11, min_samples_split=3,\n",
       "                         random_state=42)},\n",
       " {'train': 0.9950567557671183,\n",
       "  'test': 0.9527732015376167,\n",
       "  'params': {'max_depth': 10,\n",
       "   'min_samples_split': 2,\n",
       "   'min_samples_leaf': 1,\n",
       "   'criterion': 'entropy'},\n",
       "  'model': DecisionTreeClassifier(criterion='entropy', max_depth=10, random_state=42)},\n",
       " {'train': 0.9897473452947638,\n",
       "  'test': 0.9522240527182867,\n",
       "  'params': {'max_depth': 9,\n",
       "   'min_samples_split': 2,\n",
       "   'min_samples_leaf': 1,\n",
       "   'criterion': 'entropy'},\n",
       "  'model': DecisionTreeClassifier(criterion='entropy', max_depth=9, random_state=42)},\n",
       " {'train': 0.9891980959355547,\n",
       "  'test': 0.9522240527182867,\n",
       "  'params': {'max_depth': 9,\n",
       "   'min_samples_split': 3,\n",
       "   'min_samples_leaf': 1,\n",
       "   'criterion': 'entropy'},\n",
       "  'model': DecisionTreeClassifier(criterion='entropy', max_depth=9, min_samples_split=3,\n",
       "                         random_state=42)},\n",
       " {'train': 0.9891980959355547,\n",
       "  'test': 0.9522240527182867,\n",
       "  'params': {'max_depth': 9,\n",
       "   'min_samples_split': 4,\n",
       "   'min_samples_leaf': 1,\n",
       "   'criterion': 'entropy'},\n",
       "  'model': DecisionTreeClassifier(criterion='entropy', max_depth=9, min_samples_split=4,\n",
       "                         random_state=42)},\n",
       " {'train': 0.9870010984987184,\n",
       "  'test': 0.9516749038989566,\n",
       "  'params': {'max_depth': 9,\n",
       "   'min_samples_split': 2,\n",
       "   'min_samples_leaf': 2,\n",
       "   'criterion': 'entropy'},\n",
       "  'model': DecisionTreeClassifier(criterion='entropy', max_depth=9, min_samples_leaf=2,\n",
       "                         random_state=42)},\n",
       " {'train': 0.9870010984987184,\n",
       "  'test': 0.9516749038989566,\n",
       "  'params': {'max_depth': 9,\n",
       "   'min_samples_split': 3,\n",
       "   'min_samples_leaf': 2,\n",
       "   'criterion': 'entropy'},\n",
       "  'model': DecisionTreeClassifier(criterion='entropy', max_depth=9, min_samples_leaf=2,\n",
       "                         min_samples_split=3, random_state=42)},\n",
       " {'train': 0.9870010984987184,\n",
       "  'test': 0.9516749038989566,\n",
       "  'params': {'max_depth': 9,\n",
       "   'min_samples_split': 4,\n",
       "   'min_samples_leaf': 2,\n",
       "   'criterion': 'entropy'},\n",
       "  'model': DecisionTreeClassifier(criterion='entropy', max_depth=9, min_samples_leaf=2,\n",
       "                         min_samples_split=4, random_state=42)}]"
      ]
     },
     "execution_count": 96,
     "metadata": {},
     "output_type": "execute_result"
    }
   ],
   "source": [
    "sorted(results, key=lambda x: x['test'], reverse=True)[:10]"
   ]
  },
  {
   "cell_type": "markdown",
   "id": "beautiful-penny",
   "metadata": {
    "papermill": {
     "duration": 2.556836,
     "end_time": "2021-05-01T05:44:08.749605",
     "exception": false,
     "start_time": "2021-05-01T05:44:06.192769",
     "status": "completed"
    },
    "tags": []
   },
   "source": [
    "#### std scaled data"
   ]
  },
  {
   "cell_type": "code",
   "execution_count": 97,
   "id": "adaptive-house",
   "metadata": {
    "execution": {
     "iopub.execute_input": "2021-05-01T05:44:13.769061Z",
     "iopub.status.busy": "2021-05-01T05:44:13.768361Z",
     "iopub.status.idle": "2021-05-01T05:44:45.878972Z",
     "shell.execute_reply": "2021-05-01T05:44:45.878425Z"
    },
    "papermill": {
     "duration": 34.634175,
     "end_time": "2021-05-01T05:44:45.879127",
     "exception": false,
     "start_time": "2021-05-01T05:44:11.244952",
     "status": "completed"
    },
    "tags": []
   },
   "outputs": [],
   "source": [
    "results = []\n",
    "\n",
    "for max_depth_ in range(13, 20):\n",
    "    for min_samples_split_ in range(2, 5):\n",
    "        for min_samples_leaf_ in range(1, 5):            \n",
    "            params = {'max_depth': max_depth_,\n",
    "                      'min_samples_split': min_samples_split_,\n",
    "                      'min_samples_leaf': min_samples_leaf_}\n",
    "            result = validate(DecisionTreeClassifier(random_state=42),\n",
    "                                  imp_train_data_std, train_label, accuracy_score, params)\n",
    "            results.append(result)"
   ]
  },
  {
   "cell_type": "code",
   "execution_count": 98,
   "id": "experimental-chapter",
   "metadata": {
    "execution": {
     "iopub.execute_input": "2021-05-01T05:44:50.986716Z",
     "iopub.status.busy": "2021-05-01T05:44:50.986073Z",
     "iopub.status.idle": "2021-05-01T05:44:50.990474Z",
     "shell.execute_reply": "2021-05-01T05:44:50.990977Z"
    },
    "papermill": {
     "duration": 2.541373,
     "end_time": "2021-05-01T05:44:50.991145",
     "exception": false,
     "start_time": "2021-05-01T05:44:48.449772",
     "status": "completed"
    },
    "tags": []
   },
   "outputs": [
    {
     "data": {
      "text/plain": [
       "[{'train': 0.9945075064079092,\n",
       "  'test': 0.9577155409115871,\n",
       "  'params': {'max_depth': 15, 'min_samples_split': 4, 'min_samples_leaf': 1},\n",
       "  'model': DecisionTreeClassifier(max_depth=15, min_samples_split=4, random_state=42)},\n",
       " {'train': 0.9952398388868546,\n",
       "  'test': 0.957166392092257,\n",
       "  'params': {'max_depth': 14, 'min_samples_split': 2, 'min_samples_leaf': 1},\n",
       "  'model': DecisionTreeClassifier(max_depth=14, random_state=42)},\n",
       " {'train': 0.9981691688026364,\n",
       "  'test': 0.957166392092257,\n",
       "  'params': {'max_depth': 17, 'min_samples_split': 2, 'min_samples_leaf': 1},\n",
       "  'model': DecisionTreeClassifier(max_depth=17, random_state=42)},\n",
       " {'train': 0.9959721713658001,\n",
       "  'test': 0.957166392092257,\n",
       "  'params': {'max_depth': 17, 'min_samples_split': 4, 'min_samples_leaf': 1},\n",
       "  'model': DecisionTreeClassifier(max_depth=17, min_samples_split=4, random_state=42)},\n",
       " {'train': 0.9956060051263274,\n",
       "  'test': 0.956068094453597,\n",
       "  'params': {'max_depth': 15, 'min_samples_split': 3, 'min_samples_leaf': 1},\n",
       "  'model': DecisionTreeClassifier(max_depth=15, min_samples_split=3, random_state=42)},\n",
       " {'train': 0.9985353350421091,\n",
       "  'test': 0.956068094453597,\n",
       "  'params': {'max_depth': 19, 'min_samples_split': 3, 'min_samples_leaf': 1},\n",
       "  'model': DecisionTreeClassifier(max_depth=19, min_samples_split=3, random_state=42)},\n",
       " {'train': 0.9968875869644819,\n",
       "  'test': 0.9555189456342669,\n",
       "  'params': {'max_depth': 19, 'min_samples_split': 4, 'min_samples_leaf': 1},\n",
       "  'model': DecisionTreeClassifier(max_depth=19, min_samples_split=4, random_state=42)},\n",
       " {'train': 0.997436836323691,\n",
       "  'test': 0.9549697968149369,\n",
       "  'params': {'max_depth': 16, 'min_samples_split': 2, 'min_samples_leaf': 1},\n",
       "  'model': DecisionTreeClassifier(max_depth=16, random_state=42)},\n",
       " {'train': 0.9902965946539729,\n",
       "  'test': 0.9544206479956068,\n",
       "  'params': {'max_depth': 17, 'min_samples_split': 2, 'min_samples_leaf': 2},\n",
       "  'model': DecisionTreeClassifier(max_depth=17, min_samples_leaf=2, random_state=42)},\n",
       " {'train': 0.9902965946539729,\n",
       "  'test': 0.9544206479956068,\n",
       "  'params': {'max_depth': 17, 'min_samples_split': 3, 'min_samples_leaf': 2},\n",
       "  'model': DecisionTreeClassifier(max_depth=17, min_samples_leaf=2, min_samples_split=3,\n",
       "                         random_state=42)}]"
      ]
     },
     "execution_count": 98,
     "metadata": {},
     "output_type": "execute_result"
    }
   ],
   "source": [
    "sorted(results, key=lambda x: x['test'], reverse=True)[:10]"
   ]
  },
  {
   "cell_type": "code",
   "execution_count": 99,
   "id": "norman-roads",
   "metadata": {
    "execution": {
     "iopub.execute_input": "2021-05-01T05:44:56.011334Z",
     "iopub.status.busy": "2021-05-01T05:44:56.010638Z",
     "iopub.status.idle": "2021-05-01T05:45:05.992323Z",
     "shell.execute_reply": "2021-05-01T05:45:05.991739Z"
    },
    "papermill": {
     "duration": 12.484691,
     "end_time": "2021-05-01T05:45:05.992493",
     "exception": false,
     "start_time": "2021-05-01T05:44:53.507802",
     "status": "completed"
    },
    "tags": []
   },
   "outputs": [
    {
     "data": {
      "text/plain": [
       "{'train': 1.0,\n",
       " 'test': 0.9807797913234486,\n",
       " 'params': None,\n",
       " 'model': RandomForestClassifier(random_state=42)}"
      ]
     },
     "execution_count": 99,
     "metadata": {},
     "output_type": "execute_result"
    }
   ],
   "source": [
    "from sklearn.ensemble import RandomForestClassifier\n",
    "\n",
    "validate(RandomForestClassifier(random_state=42),\n",
    "         train_data_mm,\n",
    "         train_label,\n",
    "         accuracy_score)"
   ]
  },
  {
   "cell_type": "code",
   "execution_count": 100,
   "id": "prerequisite-nylon",
   "metadata": {
    "execution": {
     "iopub.execute_input": "2021-05-01T05:45:11.164182Z",
     "iopub.status.busy": "2021-05-01T05:45:11.163175Z",
     "iopub.status.idle": "2021-05-01T05:45:13.945363Z",
     "shell.execute_reply": "2021-05-01T05:45:13.944732Z"
    },
    "papermill": {
     "duration": 5.300339,
     "end_time": "2021-05-01T05:45:13.945524",
     "exception": false,
     "start_time": "2021-05-01T05:45:08.645185",
     "status": "completed"
    },
    "tags": []
   },
   "outputs": [
    {
     "data": {
      "text/plain": [
       "{'train': 1.0,\n",
       " 'test': 0.9895661724327293,\n",
       " 'params': None,\n",
       " 'model': RandomForestClassifier(random_state=42, warm_start=True)}"
      ]
     },
     "execution_count": 100,
     "metadata": {},
     "output_type": "execute_result"
    }
   ],
   "source": [
    "validate(RandomForestClassifier(random_state=42,\n",
    "                                warm_start=True),\n",
    "         imp_train_data_mm,\n",
    "         train_label,\n",
    "         accuracy_score)"
   ]
  },
  {
   "cell_type": "code",
   "execution_count": 101,
   "id": "second-russian",
   "metadata": {
    "execution": {
     "iopub.execute_input": "2021-05-01T05:45:19.064169Z",
     "iopub.status.busy": "2021-05-01T05:45:19.063127Z",
     "iopub.status.idle": "2021-05-01T05:45:21.851501Z",
     "shell.execute_reply": "2021-05-01T05:45:21.850923Z"
    },
    "papermill": {
     "duration": 5.396491,
     "end_time": "2021-05-01T05:45:21.851654",
     "exception": false,
     "start_time": "2021-05-01T05:45:16.455163",
     "status": "completed"
    },
    "tags": []
   },
   "outputs": [],
   "source": [
    "result = validate(RandomForestClassifier(),\n",
    "                  imp_train_data_mm,\n",
    "                  train_label,\n",
    "                  accuracy_score)"
   ]
  },
  {
   "cell_type": "code",
   "execution_count": 102,
   "id": "greenhouse-wednesday",
   "metadata": {
    "execution": {
     "iopub.execute_input": "2021-05-01T05:45:26.960230Z",
     "iopub.status.busy": "2021-05-01T05:45:26.959596Z",
     "iopub.status.idle": "2021-05-01T05:45:26.965018Z",
     "shell.execute_reply": "2021-05-01T05:45:26.964321Z"
    },
    "papermill": {
     "duration": 2.572716,
     "end_time": "2021-05-01T05:45:26.965168",
     "exception": false,
     "start_time": "2021-05-01T05:45:24.392452",
     "status": "completed"
    },
    "tags": []
   },
   "outputs": [
    {
     "data": {
      "text/plain": [
       "16"
      ]
     },
     "execution_count": 102,
     "metadata": {},
     "output_type": "execute_result"
    }
   ],
   "source": [
    "result['model'].estimators_[0].get_depth()"
   ]
  },
  {
   "cell_type": "code",
   "execution_count": 103,
   "id": "original-positive",
   "metadata": {
    "execution": {
     "iopub.execute_input": "2021-05-01T05:45:32.019652Z",
     "iopub.status.busy": "2021-05-01T05:45:32.018928Z",
     "iopub.status.idle": "2021-05-01T05:48:13.958718Z",
     "shell.execute_reply": "2021-05-01T05:48:13.958147Z"
    },
    "papermill": {
     "duration": 164.474344,
     "end_time": "2021-05-01T05:48:13.958867",
     "exception": false,
     "start_time": "2021-05-01T05:45:29.484523",
     "status": "completed"
    },
    "tags": []
   },
   "outputs": [],
   "source": [
    "results = []\n",
    "\n",
    "for max_depth_ in range(15, 20):\n",
    "    for min_samples_split_ in range(2, 5):\n",
    "        for min_samples_leaf_ in range(1, 5):            \n",
    "            params = {'max_depth': max_depth_,\n",
    "                      'min_samples_split': min_samples_split_,\n",
    "                      'min_samples_leaf': min_samples_leaf_}\n",
    "            result = validate(RandomForestClassifier(random_state=42),\n",
    "                                  imp_train_data_mm, train_label, accuracy_score, params)\n",
    "            results.append(result)"
   ]
  },
  {
   "cell_type": "code",
   "execution_count": 104,
   "id": "animated-silence",
   "metadata": {
    "execution": {
     "iopub.execute_input": "2021-05-01T05:48:19.127799Z",
     "iopub.status.busy": "2021-05-01T05:48:19.127116Z",
     "iopub.status.idle": "2021-05-01T05:48:19.145912Z",
     "shell.execute_reply": "2021-05-01T05:48:19.146528Z"
    },
    "papermill": {
     "duration": 2.58274,
     "end_time": "2021-05-01T05:48:19.146731",
     "exception": false,
     "start_time": "2021-05-01T05:48:16.563991",
     "status": "completed"
    },
    "tags": []
   },
   "outputs": [
    {
     "data": {
      "text/plain": [
       "[{'train': 1.0,\n",
       "  'test': 0.9923119165293794,\n",
       "  'params': {'max_depth': 18, 'min_samples_split': 3, 'min_samples_leaf': 1},\n",
       "  'model': RandomForestClassifier(max_depth=18, min_samples_split=3, random_state=42)},\n",
       " {'train': 1.0,\n",
       "  'test': 0.9917627677100495,\n",
       "  'params': {'max_depth': 19, 'min_samples_split': 3, 'min_samples_leaf': 1},\n",
       "  'model': RandomForestClassifier(max_depth=19, min_samples_split=3, random_state=42)},\n",
       " {'train': 1.0,\n",
       "  'test': 0.9912136188907194,\n",
       "  'params': {'max_depth': 15, 'min_samples_split': 3, 'min_samples_leaf': 1},\n",
       "  'model': RandomForestClassifier(max_depth=15, min_samples_split=3, random_state=42)},\n",
       " {'train': 1.0,\n",
       "  'test': 0.9912136188907194,\n",
       "  'params': {'max_depth': 17, 'min_samples_split': 3, 'min_samples_leaf': 1},\n",
       "  'model': RandomForestClassifier(max_depth=17, min_samples_split=3, random_state=42)},\n",
       " {'train': 1.0,\n",
       "  'test': 0.9906644700713894,\n",
       "  'params': {'max_depth': 16, 'min_samples_split': 3, 'min_samples_leaf': 1},\n",
       "  'model': RandomForestClassifier(max_depth=16, min_samples_split=3, random_state=42)},\n",
       " {'train': 1.0,\n",
       "  'test': 0.9901153212520593,\n",
       "  'params': {'max_depth': 16, 'min_samples_split': 2, 'min_samples_leaf': 1},\n",
       "  'model': RandomForestClassifier(max_depth=16, random_state=42)},\n",
       " {'train': 1.0,\n",
       "  'test': 0.9901153212520593,\n",
       "  'params': {'max_depth': 18, 'min_samples_split': 2, 'min_samples_leaf': 1},\n",
       "  'model': RandomForestClassifier(max_depth=18, random_state=42)},\n",
       " {'train': 1.0,\n",
       "  'test': 0.9890170236133993,\n",
       "  'params': {'max_depth': 16, 'min_samples_split': 4, 'min_samples_leaf': 1},\n",
       "  'model': RandomForestClassifier(max_depth=16, min_samples_split=4, random_state=42)},\n",
       " {'train': 1.0,\n",
       "  'test': 0.9890170236133993,\n",
       "  'params': {'max_depth': 17, 'min_samples_split': 2, 'min_samples_leaf': 1},\n",
       "  'model': RandomForestClassifier(max_depth=17, random_state=42)},\n",
       " {'train': 1.0,\n",
       "  'test': 0.9890170236133993,\n",
       "  'params': {'max_depth': 17, 'min_samples_split': 4, 'min_samples_leaf': 1},\n",
       "  'model': RandomForestClassifier(max_depth=17, min_samples_split=4, random_state=42)}]"
      ]
     },
     "execution_count": 104,
     "metadata": {},
     "output_type": "execute_result"
    }
   ],
   "source": [
    "sorted(results, key=lambda x: x['test'], reverse=True)[:10]"
   ]
  },
  {
   "cell_type": "code",
   "execution_count": 105,
   "id": "unlikely-chassis",
   "metadata": {
    "execution": {
     "iopub.execute_input": "2021-05-01T05:48:24.315901Z",
     "iopub.status.busy": "2021-05-01T05:48:24.315119Z",
     "iopub.status.idle": "2021-05-01T05:49:00.881428Z",
     "shell.execute_reply": "2021-05-01T05:49:00.880776Z"
    },
    "papermill": {
     "duration": 39.15438,
     "end_time": "2021-05-01T05:49:00.881601",
     "exception": false,
     "start_time": "2021-05-01T05:48:21.727221",
     "status": "completed"
    },
    "tags": []
   },
   "outputs": [],
   "source": [
    "# -------------------------------------\n",
    "# [Empty Module #3] RandomForest를 이용한 분류\n",
    "# -------------------------------------\n",
    "\n",
    "# -------------------------------------\n",
    "# RandomForest를 이용한 분류\n",
    "# -------------------------------------\n",
    "# 목적: 앞서 완성한 train/test Feature를 RandomForest를 이용해 분류한다.\n",
    "# 추가 안내 : 리더보드의 베이스라인은 random_state를 0으로 하였다.\n",
    "# 입력인자: Feature vector(train/test)\n",
    "# 출력인자: 분류결과\n",
    "# -------------------------------------\n",
    "\n",
    "from sklearn.tree import DecisionTreeClassifier\n",
    "\n",
    "submit_csv = pd.read_csv('/kaggle/input/2021-ml-p10/sample_submit.csv')\n",
    "for result in sorted(results, key=lambda x: x['test'], reverse=True)[:10]:\n",
    "    model = RandomForestClassifier(random_state=42)\n",
    "    params = result['params']\n",
    "    model.set_params(**params)\n",
    "    model.fit(imp_train_data_mm, train_label)\n",
    "    \n",
    "    y_pred = model.predict(imp_test_data_mm)\n",
    "    submit_csv['Label'] = y_pred.astype('int')\n",
    "    submit_csv.to_csv(f'submission_rf_mm_{params}.csv', index=False)\n",
    "    \n",
    "\n",
    "# ------------------------------------------------------------\n",
    "# 구현 가이드라인 \n",
    "# ------------------------------------------------------------\n",
    "# sklearn에서 제공하는 RandomForest를 사용해 분류를 진행한다.\n",
    "# (RandomForest를가 아닌 다른 분류모델을 사용할 수 있다.)\n",
    "# ------------------------------------------------------------"
   ]
  },
  {
   "cell_type": "markdown",
   "id": "spoken-drawing",
   "metadata": {
    "papermill": {
     "duration": 2.551004,
     "end_time": "2021-05-01T05:49:06.009901",
     "exception": false,
     "start_time": "2021-05-01T05:49:03.458897",
     "status": "completed"
    },
    "tags": []
   },
   "source": [
    "|'max_depth'|'min_samples_split'|'min_samples_leaf'|'warm_start'|score|\n",
    "|---|---|---|---|---|\n",
    "|17|2|2|F|0.93196|\n",
    "|17|3|2|F|0.93196|\n",
    "|17|4|2|F|0.93196|\n",
    "|17|4|2|T|0.93196|"
   ]
  },
  {
   "cell_type": "code",
   "execution_count": 106,
   "id": "administrative-exclusive",
   "metadata": {
    "execution": {
     "iopub.execute_input": "2021-05-01T05:49:11.058307Z",
     "iopub.status.busy": "2021-05-01T05:49:11.057658Z",
     "iopub.status.idle": "2021-05-01T05:49:11.059619Z",
     "shell.execute_reply": "2021-05-01T05:49:11.060064Z"
    },
    "papermill": {
     "duration": 2.542734,
     "end_time": "2021-05-01T05:49:11.060255",
     "exception": false,
     "start_time": "2021-05-01T05:49:08.517521",
     "status": "completed"
    },
    "tags": []
   },
   "outputs": [],
   "source": [
    "# submit_csv = pd.read_csv('/kaggle/input/2021-ml-p10/sample_submit.csv')\n",
    "# submit_csv['Label'] = y_pred\n",
    "# submit_csv['Label'] = submit_csv['Label'].astype(\"int\")\n",
    "# submit_csv.to_csv(\"./result-rf.csv\", index=False)"
   ]
  }
 ],
 "metadata": {
  "kernelspec": {
   "display_name": "Python 3",
   "language": "python",
   "name": "python3"
  },
  "language_info": {
   "codemirror_mode": {
    "name": "ipython",
    "version": 3
   },
   "file_extension": ".py",
   "mimetype": "text/x-python",
   "name": "python",
   "nbconvert_exporter": "python",
   "pygments_lexer": "ipython3",
   "version": "3.7.10"
  },
  "papermill": {
   "default_parameters": {},
   "duration": 2997.321145,
   "end_time": "2021-05-01T05:49:16.670752",
   "environment_variables": {},
   "exception": null,
   "input_path": "__notebook__.ipynb",
   "output_path": "__notebook__.ipynb",
   "parameters": {},
   "start_time": "2021-05-01T04:59:19.349607",
   "version": "2.3.3"
  }
 },
 "nbformat": 4,
 "nbformat_minor": 5
}

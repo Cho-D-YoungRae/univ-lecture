{
 "cells": [
  {
   "cell_type": "code",
   "execution_count": 1,
   "id": "soviet-yacht",
   "metadata": {
    "_cell_guid": "b1076dfc-b9ad-4769-8c92-a6c4dae69d19",
    "_uuid": "8f2839f25d086af736a60e9eeb907d3b93b6e0e5",
    "execution": {
     "iopub.execute_input": "2021-05-06T07:16:49.018473Z",
     "iopub.status.busy": "2021-05-06T07:16:49.017484Z",
     "iopub.status.idle": "2021-05-06T07:16:49.025328Z",
     "shell.execute_reply": "2021-05-06T07:16:49.024086Z"
    },
    "papermill": {
     "duration": 0.048541,
     "end_time": "2021-05-06T07:16:49.025612",
     "exception": false,
     "start_time": "2021-05-06T07:16:48.977071",
     "status": "completed"
    },
    "tags": []
   },
   "outputs": [
    {
     "name": "stdout",
     "output_type": "stream",
     "text": [
      "/kaggle/input/2021-ml-p2/sample_submission.csv\n",
      "/kaggle/input/2021-ml-p2/x_test.csv\n",
      "/kaggle/input/2021-ml-p2/y_train.csv\n",
      "/kaggle/input/2021-ml-p2/x_train.csv\n"
     ]
    }
   ],
   "source": [
    "# This Python 3 environment comes with many helpful analytics libraries installed\n",
    "# It is defined by the kaggle/python Docker image: https://github.com/kaggle/docker-python\n",
    "# For example, here's several helpful packages to load\n",
    "\n",
    "import numpy as np # linear algebra\n",
    "import pandas as pd # data processing, CSV file I/O (e.g. pd.read_csv)\n",
    "\n",
    "# Input data files are available in the read-only \"../input/\" directory\n",
    "# For example, running this (by clicking run or pressing Shift+Enter) will list all files under the input directory\n",
    "\n",
    "import os\n",
    "for dirname, _, filenames in os.walk('/kaggle/input'):\n",
    "    for filename in filenames:\n",
    "        print(os.path.join(dirname, filename))\n",
    "\n",
    "# You can write up to 20GB to the current directory (/kaggle/working/) that gets preserved as output when you create a version using \"Save & Run All\" \n",
    "# You can also write temporary files to /kaggle/temp/, but they won't be saved outside of the current session"
   ]
  },
  {
   "cell_type": "markdown",
   "id": "known-inventory",
   "metadata": {
    "papermill": {
     "duration": 0.028624,
     "end_time": "2021-05-06T07:16:49.084475",
     "exception": false,
     "start_time": "2021-05-06T07:16:49.055851",
     "status": "completed"
    },
    "tags": []
   },
   "source": [
    "# [날씨 및 유동인구에 따른 교통량 추이](https://www.kaggle.com/c/2021-ml-p2)\n",
    "> 기계학습 10주차 실습"
   ]
  },
  {
   "cell_type": "code",
   "execution_count": 2,
   "id": "separate-appreciation",
   "metadata": {
    "execution": {
     "iopub.execute_input": "2021-05-06T07:16:49.146024Z",
     "iopub.status.busy": "2021-05-06T07:16:49.145365Z",
     "iopub.status.idle": "2021-05-06T07:16:50.319976Z",
     "shell.execute_reply": "2021-05-06T07:16:50.318970Z"
    },
    "papermill": {
     "duration": 1.207799,
     "end_time": "2021-05-06T07:16:50.320119",
     "exception": false,
     "start_time": "2021-05-06T07:16:49.112320",
     "status": "completed"
    },
    "tags": []
   },
   "outputs": [],
   "source": [
    "from sklearn.preprocessing import MinMaxScaler, StandardScaler\n",
    "from sklearn.svm import SVR\n",
    "from sklearn.ensemble import RandomForestRegressor\n",
    "from sklearn.model_selection import cross_validate, GridSearchCV\n",
    "from sklearn.decomposition import PCA\n",
    "\n",
    "import warnings\n",
    "warnings.filterwarnings('ignore')"
   ]
  },
  {
   "cell_type": "code",
   "execution_count": 3,
   "id": "interracial-vision",
   "metadata": {
    "execution": {
     "iopub.execute_input": "2021-05-06T07:16:50.382767Z",
     "iopub.status.busy": "2021-05-06T07:16:50.382080Z",
     "iopub.status.idle": "2021-05-06T07:16:51.175782Z",
     "shell.execute_reply": "2021-05-06T07:16:51.175149Z"
    },
    "papermill": {
     "duration": 0.828483,
     "end_time": "2021-05-06T07:16:51.175966",
     "exception": false,
     "start_time": "2021-05-06T07:16:50.347483",
     "status": "completed"
    },
    "tags": []
   },
   "outputs": [],
   "source": [
    "file_dir = \"/kaggle/input/2021-ml-p2/\"\n",
    "\n",
    "X_train = pd.DataFrame(pd.read_csv(file_dir + 'x_train.csv', engine='python', encoding='CP949'))\n",
    "y_train = pd.DataFrame(pd.read_csv(file_dir + 'y_train.csv', engine='python', encoding='CP949'))\n",
    "X_test = pd.DataFrame(pd.read_csv(file_dir + 'x_test.csv', engine='python', encoding='CP949'))\n",
    "submission = pd.DataFrame(pd.read_csv(file_dir + 'sample_submission.csv', engine='python', encoding='CP949'))"
   ]
  },
  {
   "cell_type": "code",
   "execution_count": 4,
   "id": "palestinian-defensive",
   "metadata": {
    "execution": {
     "iopub.execute_input": "2021-05-06T07:16:51.255375Z",
     "iopub.status.busy": "2021-05-06T07:16:51.252486Z",
     "iopub.status.idle": "2021-05-06T07:16:51.288270Z",
     "shell.execute_reply": "2021-05-06T07:16:51.289185Z"
    },
    "papermill": {
     "duration": 0.082147,
     "end_time": "2021-05-06T07:16:51.289586",
     "exception": false,
     "start_time": "2021-05-06T07:16:51.207439",
     "status": "completed"
    },
    "tags": []
   },
   "outputs": [
    {
     "data": {
      "text/html": [
       "<div>\n",
       "<style scoped>\n",
       "    .dataframe tbody tr th:only-of-type {\n",
       "        vertical-align: middle;\n",
       "    }\n",
       "\n",
       "    .dataframe tbody tr th {\n",
       "        vertical-align: top;\n",
       "    }\n",
       "\n",
       "    .dataframe thead th {\n",
       "        text-align: right;\n",
       "    }\n",
       "</style>\n",
       "<table border=\"1\" class=\"dataframe\">\n",
       "  <thead>\n",
       "    <tr style=\"text-align: right;\">\n",
       "      <th></th>\n",
       "      <th>id</th>\n",
       "      <th>predict</th>\n",
       "    </tr>\n",
       "  </thead>\n",
       "  <tbody>\n",
       "    <tr>\n",
       "      <th>0</th>\n",
       "      <td>0</td>\n",
       "      <td>0</td>\n",
       "    </tr>\n",
       "    <tr>\n",
       "      <th>1</th>\n",
       "      <td>1</td>\n",
       "      <td>0</td>\n",
       "    </tr>\n",
       "    <tr>\n",
       "      <th>2</th>\n",
       "      <td>2</td>\n",
       "      <td>0</td>\n",
       "    </tr>\n",
       "    <tr>\n",
       "      <th>3</th>\n",
       "      <td>3</td>\n",
       "      <td>0</td>\n",
       "    </tr>\n",
       "    <tr>\n",
       "      <th>4</th>\n",
       "      <td>4</td>\n",
       "      <td>0</td>\n",
       "    </tr>\n",
       "  </tbody>\n",
       "</table>\n",
       "</div>"
      ],
      "text/plain": [
       "   id  predict\n",
       "0   0        0\n",
       "1   1        0\n",
       "2   2        0\n",
       "3   3        0\n",
       "4   4        0"
      ]
     },
     "execution_count": 4,
     "metadata": {},
     "output_type": "execute_result"
    }
   ],
   "source": [
    "submission.head()"
   ]
  },
  {
   "cell_type": "markdown",
   "id": "expensive-pixel",
   "metadata": {
    "papermill": {
     "duration": 0.028808,
     "end_time": "2021-05-06T07:16:51.355041",
     "exception": false,
     "start_time": "2021-05-06T07:16:51.326233",
     "status": "completed"
    },
    "tags": []
   },
   "source": [
    "## 데이터 확인"
   ]
  },
  {
   "cell_type": "code",
   "execution_count": 5,
   "id": "metallic-austria",
   "metadata": {
    "execution": {
     "iopub.execute_input": "2021-05-06T07:16:51.416217Z",
     "iopub.status.busy": "2021-05-06T07:16:51.415589Z",
     "iopub.status.idle": "2021-05-06T07:16:51.420904Z",
     "shell.execute_reply": "2021-05-06T07:16:51.421459Z"
    },
    "papermill": {
     "duration": 0.037502,
     "end_time": "2021-05-06T07:16:51.421657",
     "exception": false,
     "start_time": "2021-05-06T07:16:51.384155",
     "status": "completed"
    },
    "tags": []
   },
   "outputs": [
    {
     "data": {
      "text/plain": [
       "((21486, 14), (10583, 14))"
      ]
     },
     "execution_count": 5,
     "metadata": {},
     "output_type": "execute_result"
    }
   ],
   "source": [
    "X_train.shape, X_test.shape"
   ]
  },
  {
   "cell_type": "code",
   "execution_count": 6,
   "id": "traditional-pontiac",
   "metadata": {
    "execution": {
     "iopub.execute_input": "2021-05-06T07:16:51.480997Z",
     "iopub.status.busy": "2021-05-06T07:16:51.480203Z",
     "iopub.status.idle": "2021-05-06T07:16:51.492780Z",
     "shell.execute_reply": "2021-05-06T07:16:51.492209Z"
    },
    "papermill": {
     "duration": 0.043034,
     "end_time": "2021-05-06T07:16:51.492898",
     "exception": false,
     "start_time": "2021-05-06T07:16:51.449864",
     "status": "completed"
    },
    "tags": []
   },
   "outputs": [
    {
     "data": {
      "text/html": [
       "<div>\n",
       "<style scoped>\n",
       "    .dataframe tbody tr th:only-of-type {\n",
       "        vertical-align: middle;\n",
       "    }\n",
       "\n",
       "    .dataframe tbody tr th {\n",
       "        vertical-align: top;\n",
       "    }\n",
       "\n",
       "    .dataframe thead th {\n",
       "        text-align: right;\n",
       "    }\n",
       "</style>\n",
       "<table border=\"1\" class=\"dataframe\">\n",
       "  <thead>\n",
       "    <tr style=\"text-align: right;\">\n",
       "      <th></th>\n",
       "      <th>교통량</th>\n",
       "    </tr>\n",
       "  </thead>\n",
       "  <tbody>\n",
       "    <tr>\n",
       "      <th>0</th>\n",
       "      <td>0.000</td>\n",
       "    </tr>\n",
       "    <tr>\n",
       "      <th>1</th>\n",
       "      <td>1532.989</td>\n",
       "    </tr>\n",
       "    <tr>\n",
       "      <th>2</th>\n",
       "      <td>710.107</td>\n",
       "    </tr>\n",
       "    <tr>\n",
       "      <th>3</th>\n",
       "      <td>374.200</td>\n",
       "    </tr>\n",
       "    <tr>\n",
       "      <th>4</th>\n",
       "      <td>535.882</td>\n",
       "    </tr>\n",
       "    <tr>\n",
       "      <th>...</th>\n",
       "      <td>...</td>\n",
       "    </tr>\n",
       "    <tr>\n",
       "      <th>21481</th>\n",
       "      <td>91.000</td>\n",
       "    </tr>\n",
       "    <tr>\n",
       "      <th>21482</th>\n",
       "      <td>0.000</td>\n",
       "    </tr>\n",
       "    <tr>\n",
       "      <th>21483</th>\n",
       "      <td>0.000</td>\n",
       "    </tr>\n",
       "    <tr>\n",
       "      <th>21484</th>\n",
       "      <td>283.625</td>\n",
       "    </tr>\n",
       "    <tr>\n",
       "      <th>21485</th>\n",
       "      <td>254.188</td>\n",
       "    </tr>\n",
       "  </tbody>\n",
       "</table>\n",
       "<p>21486 rows × 1 columns</p>\n",
       "</div>"
      ],
      "text/plain": [
       "            교통량\n",
       "0         0.000\n",
       "1      1532.989\n",
       "2       710.107\n",
       "3       374.200\n",
       "4       535.882\n",
       "...         ...\n",
       "21481    91.000\n",
       "21482     0.000\n",
       "21483     0.000\n",
       "21484   283.625\n",
       "21485   254.188\n",
       "\n",
       "[21486 rows x 1 columns]"
      ]
     },
     "execution_count": 6,
     "metadata": {},
     "output_type": "execute_result"
    }
   ],
   "source": [
    "y_train"
   ]
  },
  {
   "cell_type": "code",
   "execution_count": 7,
   "id": "proof-brooks",
   "metadata": {
    "execution": {
     "iopub.execute_input": "2021-05-06T07:16:51.557244Z",
     "iopub.status.busy": "2021-05-06T07:16:51.556511Z",
     "iopub.status.idle": "2021-05-06T07:16:51.578094Z",
     "shell.execute_reply": "2021-05-06T07:16:51.578706Z"
    },
    "papermill": {
     "duration": 0.056046,
     "end_time": "2021-05-06T07:16:51.578865",
     "exception": false,
     "start_time": "2021-05-06T07:16:51.522819",
     "status": "completed"
    },
    "tags": []
   },
   "outputs": [
    {
     "data": {
      "text/plain": [
       "교통량    0\n",
       "dtype: int64"
      ]
     },
     "execution_count": 7,
     "metadata": {},
     "output_type": "execute_result"
    }
   ],
   "source": [
    "np.sum(y_train < 0)"
   ]
  },
  {
   "cell_type": "code",
   "execution_count": 8,
   "id": "empirical-meaning",
   "metadata": {
    "execution": {
     "iopub.execute_input": "2021-05-06T07:16:51.642177Z",
     "iopub.status.busy": "2021-05-06T07:16:51.641069Z",
     "iopub.status.idle": "2021-05-06T07:16:51.649764Z",
     "shell.execute_reply": "2021-05-06T07:16:51.649096Z"
    },
    "papermill": {
     "duration": 0.040738,
     "end_time": "2021-05-06T07:16:51.649884",
     "exception": false,
     "start_time": "2021-05-06T07:16:51.609146",
     "status": "completed"
    },
    "tags": []
   },
   "outputs": [
    {
     "data": {
      "text/plain": [
       "교통량    9022\n",
       "dtype: int64"
      ]
     },
     "execution_count": 8,
     "metadata": {},
     "output_type": "execute_result"
    }
   ],
   "source": [
    "np.sum(y_train == 0)"
   ]
  },
  {
   "cell_type": "code",
   "execution_count": 9,
   "id": "congressional-freight",
   "metadata": {
    "execution": {
     "iopub.execute_input": "2021-05-06T07:16:51.716173Z",
     "iopub.status.busy": "2021-05-06T07:16:51.715044Z",
     "iopub.status.idle": "2021-05-06T07:16:51.736874Z",
     "shell.execute_reply": "2021-05-06T07:16:51.736337Z"
    },
    "papermill": {
     "duration": 0.05688,
     "end_time": "2021-05-06T07:16:51.737014",
     "exception": false,
     "start_time": "2021-05-06T07:16:51.680134",
     "status": "completed"
    },
    "tags": []
   },
   "outputs": [
    {
     "name": "stdout",
     "output_type": "stream",
     "text": [
      "<class 'pandas.core.frame.DataFrame'>\n",
      "RangeIndex: 21486 entries, 0 to 21485\n",
      "Data columns (total 14 columns):\n",
      " #   Column    Non-Null Count  Dtype  \n",
      "---  ------    --------------  -----  \n",
      " 0   시도명       21486 non-null  int64  \n",
      " 1   읍면동명      21486 non-null  int64  \n",
      " 2   거주인구      21486 non-null  float64\n",
      " 3   근무인구      21486 non-null  float64\n",
      " 4   방문인구      21486 non-null  float64\n",
      " 5   총 유동인구    21486 non-null  float64\n",
      " 6   평균 속도     21486 non-null  float64\n",
      " 7   평균 소요 시간  21486 non-null  float64\n",
      " 8   평균 기온     21486 non-null  float64\n",
      " 9   일강수량      21486 non-null  float64\n",
      " 10  평균 풍속     21486 non-null  float64\n",
      " 11  월         21486 non-null  int64  \n",
      " 12  일         21486 non-null  int64  \n",
      " 13  년         21486 non-null  int64  \n",
      "dtypes: float64(9), int64(5)\n",
      "memory usage: 2.3 MB\n"
     ]
    }
   ],
   "source": [
    "X_train.info()"
   ]
  },
  {
   "cell_type": "code",
   "execution_count": 10,
   "id": "american-jackson",
   "metadata": {
    "execution": {
     "iopub.execute_input": "2021-05-06T07:16:51.822513Z",
     "iopub.status.busy": "2021-05-06T07:16:51.819343Z",
     "iopub.status.idle": "2021-05-06T07:16:51.826039Z",
     "shell.execute_reply": "2021-05-06T07:16:51.826676Z"
    },
    "papermill": {
     "duration": 0.057766,
     "end_time": "2021-05-06T07:16:51.826859",
     "exception": false,
     "start_time": "2021-05-06T07:16:51.769093",
     "status": "completed"
    },
    "tags": []
   },
   "outputs": [
    {
     "data": {
      "text/html": [
       "<div>\n",
       "<style scoped>\n",
       "    .dataframe tbody tr th:only-of-type {\n",
       "        vertical-align: middle;\n",
       "    }\n",
       "\n",
       "    .dataframe tbody tr th {\n",
       "        vertical-align: top;\n",
       "    }\n",
       "\n",
       "    .dataframe thead th {\n",
       "        text-align: right;\n",
       "    }\n",
       "</style>\n",
       "<table border=\"1\" class=\"dataframe\">\n",
       "  <thead>\n",
       "    <tr style=\"text-align: right;\">\n",
       "      <th></th>\n",
       "      <th>시도명</th>\n",
       "      <th>읍면동명</th>\n",
       "      <th>거주인구</th>\n",
       "      <th>근무인구</th>\n",
       "      <th>방문인구</th>\n",
       "      <th>총 유동인구</th>\n",
       "      <th>평균 속도</th>\n",
       "      <th>평균 소요 시간</th>\n",
       "      <th>평균 기온</th>\n",
       "      <th>일강수량</th>\n",
       "      <th>평균 풍속</th>\n",
       "      <th>월</th>\n",
       "      <th>일</th>\n",
       "      <th>년</th>\n",
       "    </tr>\n",
       "  </thead>\n",
       "  <tbody>\n",
       "    <tr>\n",
       "      <th>0</th>\n",
       "      <td>0</td>\n",
       "      <td>26</td>\n",
       "      <td>76018.965</td>\n",
       "      <td>5009.811</td>\n",
       "      <td>36887.341</td>\n",
       "      <td>117916.117</td>\n",
       "      <td>40.467</td>\n",
       "      <td>21.667</td>\n",
       "      <td>17.75</td>\n",
       "      <td>0.0</td>\n",
       "      <td>2.725</td>\n",
       "      <td>9</td>\n",
       "      <td>25</td>\n",
       "      <td>2019</td>\n",
       "    </tr>\n",
       "    <tr>\n",
       "      <th>1</th>\n",
       "      <td>1</td>\n",
       "      <td>24</td>\n",
       "      <td>1232416.968</td>\n",
       "      <td>76043.955</td>\n",
       "      <td>451558.268</td>\n",
       "      <td>1760019.191</td>\n",
       "      <td>38.126</td>\n",
       "      <td>31.632</td>\n",
       "      <td>13.30</td>\n",
       "      <td>14.5</td>\n",
       "      <td>4.500</td>\n",
       "      <td>3</td>\n",
       "      <td>4</td>\n",
       "      <td>2018</td>\n",
       "    </tr>\n",
       "    <tr>\n",
       "      <th>2</th>\n",
       "      <td>1</td>\n",
       "      <td>23</td>\n",
       "      <td>134260.946</td>\n",
       "      <td>8412.761</td>\n",
       "      <td>78177.981</td>\n",
       "      <td>220851.688</td>\n",
       "      <td>51.107</td>\n",
       "      <td>45.643</td>\n",
       "      <td>5.25</td>\n",
       "      <td>0.5</td>\n",
       "      <td>4.950</td>\n",
       "      <td>4</td>\n",
       "      <td>7</td>\n",
       "      <td>2018</td>\n",
       "    </tr>\n",
       "    <tr>\n",
       "      <th>3</th>\n",
       "      <td>1</td>\n",
       "      <td>25</td>\n",
       "      <td>289327.429</td>\n",
       "      <td>39102.424</td>\n",
       "      <td>287029.303</td>\n",
       "      <td>615459.156</td>\n",
       "      <td>33.067</td>\n",
       "      <td>48.000</td>\n",
       "      <td>26.30</td>\n",
       "      <td>0.5</td>\n",
       "      <td>1.500</td>\n",
       "      <td>8</td>\n",
       "      <td>14</td>\n",
       "      <td>2019</td>\n",
       "    </tr>\n",
       "    <tr>\n",
       "      <th>4</th>\n",
       "      <td>1</td>\n",
       "      <td>7</td>\n",
       "      <td>1116617.660</td>\n",
       "      <td>96560.651</td>\n",
       "      <td>524905.301</td>\n",
       "      <td>1738083.612</td>\n",
       "      <td>40.392</td>\n",
       "      <td>26.961</td>\n",
       "      <td>8.40</td>\n",
       "      <td>44.0</td>\n",
       "      <td>4.300</td>\n",
       "      <td>12</td>\n",
       "      <td>1</td>\n",
       "      <td>2019</td>\n",
       "    </tr>\n",
       "  </tbody>\n",
       "</table>\n",
       "</div>"
      ],
      "text/plain": [
       "   시도명  읍면동명         거주인구       근무인구        방문인구       총 유동인구   평균 속도  \\\n",
       "0    0    26    76018.965   5009.811   36887.341   117916.117  40.467   \n",
       "1    1    24  1232416.968  76043.955  451558.268  1760019.191  38.126   \n",
       "2    1    23   134260.946   8412.761   78177.981   220851.688  51.107   \n",
       "3    1    25   289327.429  39102.424  287029.303   615459.156  33.067   \n",
       "4    1     7  1116617.660  96560.651  524905.301  1738083.612  40.392   \n",
       "\n",
       "   평균 소요 시간  평균 기온  일강수량  평균 풍속   월   일     년  \n",
       "0    21.667  17.75   0.0  2.725   9  25  2019  \n",
       "1    31.632  13.30  14.5  4.500   3   4  2018  \n",
       "2    45.643   5.25   0.5  4.950   4   7  2018  \n",
       "3    48.000  26.30   0.5  1.500   8  14  2019  \n",
       "4    26.961   8.40  44.0  4.300  12   1  2019  "
      ]
     },
     "execution_count": 10,
     "metadata": {},
     "output_type": "execute_result"
    }
   ],
   "source": [
    "X_train.head()"
   ]
  },
  {
   "cell_type": "markdown",
   "id": "removable-brunei",
   "metadata": {
    "papermill": {
     "duration": 0.031404,
     "end_time": "2021-05-06T07:16:51.890434",
     "exception": false,
     "start_time": "2021-05-06T07:16:51.859030",
     "status": "completed"
    },
    "tags": []
   },
   "source": [
    "## preprocessing"
   ]
  },
  {
   "cell_type": "code",
   "execution_count": 11,
   "id": "dominican-homework",
   "metadata": {
    "execution": {
     "iopub.execute_input": "2021-05-06T07:16:51.957763Z",
     "iopub.status.busy": "2021-05-06T07:16:51.957073Z",
     "iopub.status.idle": "2021-05-06T07:16:51.964963Z",
     "shell.execute_reply": "2021-05-06T07:16:51.965635Z"
    },
    "papermill": {
     "duration": 0.042137,
     "end_time": "2021-05-06T07:16:51.965818",
     "exception": false,
     "start_time": "2021-05-06T07:16:51.923681",
     "status": "completed"
    },
    "tags": []
   },
   "outputs": [],
   "source": [
    "drop_cols = ['년', '일']\n",
    "X_train_d = X_train.drop(drop_cols, axis=1)\n",
    "X_test_d = X_test.drop(drop_cols, axis=1)"
   ]
  },
  {
   "cell_type": "code",
   "execution_count": 12,
   "id": "abroad-restoration",
   "metadata": {
    "execution": {
     "iopub.execute_input": "2021-05-06T07:16:52.031001Z",
     "iopub.status.busy": "2021-05-06T07:16:52.030393Z",
     "iopub.status.idle": "2021-05-06T07:16:52.232702Z",
     "shell.execute_reply": "2021-05-06T07:16:52.234486Z"
    },
    "papermill": {
     "duration": 0.237906,
     "end_time": "2021-05-06T07:16:52.234806",
     "exception": false,
     "start_time": "2021-05-06T07:16:51.996900",
     "status": "completed"
    },
    "tags": []
   },
   "outputs": [],
   "source": [
    "mm_scaler = MinMaxScaler()\n",
    "mm_scaler.fit(X_train_d)\n",
    "X_train_d_mm = mm_scaler.transform(X_train_d)\n",
    "X_test_d_mm = mm_scaler.transform(X_test_d)\n",
    "\n",
    "std_scaler = StandardScaler()\n",
    "std_scaler.fit(X_train_d)\n",
    "X_train_d_std = std_scaler.transform(X_train_d)\n",
    "X_test_d_std = std_scaler.transform(X_test_d)\n",
    "\n",
    "pca = PCA(n_components=7, whiten=True).fit(X_train)\n",
    "X_train_pca = pca.transform(X_train)\n",
    "X_test = pca.transform(X_test)\n"
   ]
  },
  {
   "cell_type": "markdown",
   "id": "settled-scanner",
   "metadata": {
    "papermill": {
     "duration": 0.041964,
     "end_time": "2021-05-06T07:16:52.365994",
     "exception": false,
     "start_time": "2021-05-06T07:16:52.324030",
     "status": "completed"
    },
    "tags": []
   },
   "source": [
    "## 파라미터 조정없이 확인"
   ]
  },
  {
   "cell_type": "markdown",
   "id": "progressive-nature",
   "metadata": {
    "papermill": {
     "duration": 0.032168,
     "end_time": "2021-05-06T07:16:52.430594",
     "exception": false,
     "start_time": "2021-05-06T07:16:52.398426",
     "status": "completed"
    },
    "tags": []
   },
   "source": [
    "### non scaled data"
   ]
  },
  {
   "cell_type": "code",
   "execution_count": 13,
   "id": "ideal-serial",
   "metadata": {
    "execution": {
     "iopub.execute_input": "2021-05-06T07:16:52.501749Z",
     "iopub.status.busy": "2021-05-06T07:16:52.501050Z",
     "iopub.status.idle": "2021-05-06T07:16:52.504785Z",
     "shell.execute_reply": "2021-05-06T07:16:52.504188Z"
    },
    "papermill": {
     "duration": 0.040631,
     "end_time": "2021-05-06T07:16:52.504925",
     "exception": false,
     "start_time": "2021-05-06T07:16:52.464294",
     "status": "completed"
    },
    "tags": []
   },
   "outputs": [],
   "source": [
    "# scores = cross_validate(SVR(), X_train_d, y_train, cv=4,\n",
    "#                        scoring = 'r2', return_train_score=True)"
   ]
  },
  {
   "cell_type": "code",
   "execution_count": 14,
   "id": "impressed-theology",
   "metadata": {
    "execution": {
     "iopub.execute_input": "2021-05-06T07:16:52.574666Z",
     "iopub.status.busy": "2021-05-06T07:16:52.573934Z",
     "iopub.status.idle": "2021-05-06T07:16:52.577065Z",
     "shell.execute_reply": "2021-05-06T07:16:52.576525Z"
    },
    "papermill": {
     "duration": 0.039309,
     "end_time": "2021-05-06T07:16:52.577219",
     "exception": false,
     "start_time": "2021-05-06T07:16:52.537910",
     "status": "completed"
    },
    "tags": []
   },
   "outputs": [],
   "source": [
    "# scores"
   ]
  },
  {
   "cell_type": "markdown",
   "id": "short-alfred",
   "metadata": {
    "papermill": {
     "duration": 0.032932,
     "end_time": "2021-05-06T07:16:52.643978",
     "exception": false,
     "start_time": "2021-05-06T07:16:52.611046",
     "status": "completed"
    },
    "tags": []
   },
   "source": [
    "### scaled data"
   ]
  },
  {
   "cell_type": "code",
   "execution_count": 15,
   "id": "shaped-reconstruction",
   "metadata": {
    "execution": {
     "iopub.execute_input": "2021-05-06T07:16:52.714307Z",
     "iopub.status.busy": "2021-05-06T07:16:52.713631Z",
     "iopub.status.idle": "2021-05-06T07:16:52.715868Z",
     "shell.execute_reply": "2021-05-06T07:16:52.716528Z"
    },
    "papermill": {
     "duration": 0.039473,
     "end_time": "2021-05-06T07:16:52.716680",
     "exception": false,
     "start_time": "2021-05-06T07:16:52.677207",
     "status": "completed"
    },
    "tags": []
   },
   "outputs": [],
   "source": [
    "# scores = cross_validate(SVR(), X_train_d_mm, y_train, cv=4,\n",
    "#                        scoring = 'r2', return_train_score=True)\n",
    "# scores"
   ]
  },
  {
   "cell_type": "code",
   "execution_count": 16,
   "id": "minimal-jacksonville",
   "metadata": {
    "execution": {
     "iopub.execute_input": "2021-05-06T07:16:52.787402Z",
     "iopub.status.busy": "2021-05-06T07:16:52.786724Z",
     "iopub.status.idle": "2021-05-06T07:16:52.790355Z",
     "shell.execute_reply": "2021-05-06T07:16:52.791038Z"
    },
    "papermill": {
     "duration": 0.041134,
     "end_time": "2021-05-06T07:16:52.791208",
     "exception": false,
     "start_time": "2021-05-06T07:16:52.750074",
     "status": "completed"
    },
    "tags": []
   },
   "outputs": [],
   "source": [
    "# scores = cross_validate(SVR(), X_train_d_std, y_train, cv=4,\n",
    "#                        scoring = 'r2', return_train_score=True)\n",
    "# scores"
   ]
  },
  {
   "cell_type": "markdown",
   "id": "falling-probe",
   "metadata": {
    "papermill": {
     "duration": 0.03333,
     "end_time": "2021-05-06T07:16:52.857726",
     "exception": false,
     "start_time": "2021-05-06T07:16:52.824396",
     "status": "completed"
    },
    "tags": []
   },
   "source": [
    "### kernel"
   ]
  },
  {
   "cell_type": "code",
   "execution_count": 17,
   "id": "greater-amber",
   "metadata": {
    "execution": {
     "iopub.execute_input": "2021-05-06T07:16:52.925568Z",
     "iopub.status.busy": "2021-05-06T07:16:52.924879Z",
     "iopub.status.idle": "2021-05-06T07:16:52.928074Z",
     "shell.execute_reply": "2021-05-06T07:16:52.928747Z"
    },
    "papermill": {
     "duration": 0.038438,
     "end_time": "2021-05-06T07:16:52.928976",
     "exception": false,
     "start_time": "2021-05-06T07:16:52.890538",
     "status": "completed"
    },
    "tags": []
   },
   "outputs": [],
   "source": [
    "# scores = cross_validate(SVR(kernel='linear'), X_train_d_mm, y_train, cv=4,\n",
    "#                        scoring = 'r2', return_train_score=True)\n",
    "# scores"
   ]
  },
  {
   "cell_type": "code",
   "execution_count": 18,
   "id": "interested-methodology",
   "metadata": {
    "execution": {
     "iopub.execute_input": "2021-05-06T07:16:52.999161Z",
     "iopub.status.busy": "2021-05-06T07:16:52.998325Z",
     "iopub.status.idle": "2021-05-06T07:16:53.001837Z",
     "shell.execute_reply": "2021-05-06T07:16:53.002475Z"
    },
    "papermill": {
     "duration": 0.0397,
     "end_time": "2021-05-06T07:16:53.002634",
     "exception": false,
     "start_time": "2021-05-06T07:16:52.962934",
     "status": "completed"
    },
    "tags": []
   },
   "outputs": [],
   "source": [
    "# # poly kernel이 가장 높았다.\n",
    "# scores = cross_validate(SVR(kernel='poly'), X_train_d_mm, y_train, cv=4,\n",
    "#                        scoring = 'r2', return_train_score=True)\n",
    "# scores"
   ]
  },
  {
   "cell_type": "code",
   "execution_count": 19,
   "id": "paperback-drive",
   "metadata": {
    "execution": {
     "iopub.execute_input": "2021-05-06T07:16:53.072712Z",
     "iopub.status.busy": "2021-05-06T07:16:53.072054Z",
     "iopub.status.idle": "2021-05-06T07:16:53.075216Z",
     "shell.execute_reply": "2021-05-06T07:16:53.075852Z"
    },
    "papermill": {
     "duration": 0.039986,
     "end_time": "2021-05-06T07:16:53.076026",
     "exception": false,
     "start_time": "2021-05-06T07:16:53.036040",
     "status": "completed"
    },
    "tags": []
   },
   "outputs": [],
   "source": [
    "# scores = cross_validate(SVR(kernel='sigmoid'), X_train_d_mm, y_train, cv=4,\n",
    "#                        scoring = 'r2', return_train_score=True)\n",
    "# scores"
   ]
  },
  {
   "cell_type": "markdown",
   "id": "packed-murder",
   "metadata": {
    "papermill": {
     "duration": 0.033016,
     "end_time": "2021-05-06T07:16:53.142017",
     "exception": false,
     "start_time": "2021-05-06T07:16:53.109001",
     "status": "completed"
    },
    "tags": []
   },
   "source": [
    "### pca data"
   ]
  },
  {
   "cell_type": "code",
   "execution_count": 20,
   "id": "burning-stream",
   "metadata": {
    "execution": {
     "iopub.execute_input": "2021-05-06T07:16:53.212130Z",
     "iopub.status.busy": "2021-05-06T07:16:53.211499Z",
     "iopub.status.idle": "2021-05-06T07:16:53.214684Z",
     "shell.execute_reply": "2021-05-06T07:16:53.215225Z"
    },
    "papermill": {
     "duration": 0.03972,
     "end_time": "2021-05-06T07:16:53.215396",
     "exception": false,
     "start_time": "2021-05-06T07:16:53.175676",
     "status": "completed"
    },
    "tags": []
   },
   "outputs": [],
   "source": [
    "# scores = cross_validate(SVR(kernel='poly'), X_train_pca , y_train, cv=4,\n",
    "#                        scoring = 'r2', return_train_score=True)\n",
    "# scores"
   ]
  },
  {
   "cell_type": "code",
   "execution_count": 21,
   "id": "american-provision",
   "metadata": {
    "execution": {
     "iopub.execute_input": "2021-05-06T07:16:53.284413Z",
     "iopub.status.busy": "2021-05-06T07:16:53.283772Z",
     "iopub.status.idle": "2021-05-06T07:16:53.286931Z",
     "shell.execute_reply": "2021-05-06T07:16:53.287576Z"
    },
    "papermill": {
     "duration": 0.038745,
     "end_time": "2021-05-06T07:16:53.287719",
     "exception": false,
     "start_time": "2021-05-06T07:16:53.248974",
     "status": "completed"
    },
    "tags": []
   },
   "outputs": [],
   "source": [
    "# scores = cross_validate(SVR(kernel='rbf'), X_train_pca , y_train, cv=4,\n",
    "#                        scoring = 'r2', return_train_score=True)\n",
    "# scores"
   ]
  },
  {
   "cell_type": "markdown",
   "id": "discrete-canon",
   "metadata": {
    "papermill": {
     "duration": 0.033193,
     "end_time": "2021-05-06T07:16:53.353748",
     "exception": false,
     "start_time": "2021-05-06T07:16:53.320555",
     "status": "completed"
    },
    "tags": []
   },
   "source": [
    "## parameter tuning"
   ]
  },
  {
   "cell_type": "code",
   "execution_count": 22,
   "id": "applied-particular",
   "metadata": {
    "execution": {
     "iopub.execute_input": "2021-05-06T07:16:53.425209Z",
     "iopub.status.busy": "2021-05-06T07:16:53.424505Z",
     "iopub.status.idle": "2021-05-06T07:16:53.427911Z",
     "shell.execute_reply": "2021-05-06T07:16:53.428627Z"
    },
    "papermill": {
     "duration": 0.040578,
     "end_time": "2021-05-06T07:16:53.428790",
     "exception": false,
     "start_time": "2021-05-06T07:16:53.388212",
     "status": "completed"
    },
    "scrolled": true,
    "tags": []
   },
   "outputs": [],
   "source": [
    "# scores = cross_validate(SVR(kernel='poly', degree=2), X_train_d_mm, y_train, cv=4,\n",
    "#                        scoring = 'r2', return_train_score=True)\n",
    "# scores"
   ]
  },
  {
   "cell_type": "code",
   "execution_count": 23,
   "id": "interior-nursery",
   "metadata": {
    "execution": {
     "iopub.execute_input": "2021-05-06T07:16:53.499589Z",
     "iopub.status.busy": "2021-05-06T07:16:53.498930Z",
     "iopub.status.idle": "2021-05-06T07:16:53.503025Z",
     "shell.execute_reply": "2021-05-06T07:16:53.502481Z"
    },
    "papermill": {
     "duration": 0.040192,
     "end_time": "2021-05-06T07:16:53.503151",
     "exception": false,
     "start_time": "2021-05-06T07:16:53.462959",
     "status": "completed"
    },
    "tags": []
   },
   "outputs": [],
   "source": [
    "# scores = cross_validate(SVR(kernel='poly', degree=4), X_train_d_mm, y_train, cv=4,\n",
    "#                        scoring = 'r2', return_train_score=True)\n",
    "# scores"
   ]
  },
  {
   "cell_type": "code",
   "execution_count": 24,
   "id": "neural-gross",
   "metadata": {
    "execution": {
     "iopub.execute_input": "2021-05-06T07:16:53.573509Z",
     "iopub.status.busy": "2021-05-06T07:16:53.572521Z",
     "iopub.status.idle": "2021-05-06T07:16:53.575560Z",
     "shell.execute_reply": "2021-05-06T07:16:53.574985Z"
    },
    "papermill": {
     "duration": 0.039238,
     "end_time": "2021-05-06T07:16:53.575684",
     "exception": false,
     "start_time": "2021-05-06T07:16:53.536446",
     "status": "completed"
    },
    "tags": []
   },
   "outputs": [],
   "source": [
    "# scores = cross_validate(SVR(kernel='poly', degree=5), X_train_d_mm, y_train, cv=4,\n",
    "#                        scoring = 'r2', return_train_score=True)\n",
    "# scores"
   ]
  },
  {
   "cell_type": "code",
   "execution_count": 25,
   "id": "independent-sheet",
   "metadata": {
    "execution": {
     "iopub.execute_input": "2021-05-06T07:16:53.647382Z",
     "iopub.status.busy": "2021-05-06T07:16:53.646661Z",
     "iopub.status.idle": "2021-05-06T07:16:53.648918Z",
     "shell.execute_reply": "2021-05-06T07:16:53.649469Z"
    },
    "papermill": {
     "duration": 0.039813,
     "end_time": "2021-05-06T07:16:53.649618",
     "exception": false,
     "start_time": "2021-05-06T07:16:53.609805",
     "status": "completed"
    },
    "tags": []
   },
   "outputs": [],
   "source": [
    "# scores = cross_validate(SVR(kernel='poly', degree=6), X_train_d_mm, y_train, cv=4,\n",
    "#                        scoring = 'r2', return_train_score=True)\n",
    "# scores"
   ]
  },
  {
   "cell_type": "code",
   "execution_count": 26,
   "id": "elementary-armstrong",
   "metadata": {
    "execution": {
     "iopub.execute_input": "2021-05-06T07:16:53.719796Z",
     "iopub.status.busy": "2021-05-06T07:16:53.718966Z",
     "iopub.status.idle": "2021-05-06T07:16:53.722114Z",
     "shell.execute_reply": "2021-05-06T07:16:53.722706Z"
    },
    "papermill": {
     "duration": 0.039454,
     "end_time": "2021-05-06T07:16:53.722850",
     "exception": false,
     "start_time": "2021-05-06T07:16:53.683396",
     "status": "completed"
    },
    "tags": []
   },
   "outputs": [],
   "source": [
    "# scores = cross_validate(SVR(kernel='poly', degree=7), X_train_d_mm, y_train, cv=4,\n",
    "#                        scoring = 'r2', return_train_score=True)\n",
    "# scores"
   ]
  },
  {
   "cell_type": "code",
   "execution_count": 27,
   "id": "intensive-quest",
   "metadata": {
    "execution": {
     "iopub.execute_input": "2021-05-06T07:16:53.794810Z",
     "iopub.status.busy": "2021-05-06T07:16:53.794083Z",
     "iopub.status.idle": "2021-05-06T07:16:53.797127Z",
     "shell.execute_reply": "2021-05-06T07:16:53.797788Z"
    },
    "papermill": {
     "duration": 0.041338,
     "end_time": "2021-05-06T07:16:53.797938",
     "exception": false,
     "start_time": "2021-05-06T07:16:53.756600",
     "status": "completed"
    },
    "tags": []
   },
   "outputs": [],
   "source": [
    "# scores = cross_validate(SVR(kernel='poly', degree=8), X_train_d_mm, y_train, cv=4,\n",
    "#                        scoring = 'r2', return_train_score=True)\n",
    "# scores"
   ]
  },
  {
   "cell_type": "code",
   "execution_count": 28,
   "id": "controlling-greeting",
   "metadata": {
    "execution": {
     "iopub.execute_input": "2021-05-06T07:16:53.869074Z",
     "iopub.status.busy": "2021-05-06T07:16:53.868421Z",
     "iopub.status.idle": "2021-05-06T07:16:53.871415Z",
     "shell.execute_reply": "2021-05-06T07:16:53.871996Z"
    },
    "papermill": {
     "duration": 0.03996,
     "end_time": "2021-05-06T07:16:53.872144",
     "exception": false,
     "start_time": "2021-05-06T07:16:53.832184",
     "status": "completed"
    },
    "tags": []
   },
   "outputs": [],
   "source": [
    "# scores = cross_validate(SVR(kernel='poly', degree=9), X_train_d_mm, y_train, cv=4,\n",
    "#                        scoring = 'r2', return_train_score=True)\n",
    "# scores"
   ]
  },
  {
   "cell_type": "code",
   "execution_count": 29,
   "id": "basic-geography",
   "metadata": {
    "execution": {
     "iopub.execute_input": "2021-05-06T07:16:53.944224Z",
     "iopub.status.busy": "2021-05-06T07:16:53.943525Z",
     "iopub.status.idle": "2021-05-06T07:16:53.951535Z",
     "shell.execute_reply": "2021-05-06T07:16:53.952115Z"
    },
    "papermill": {
     "duration": 0.045274,
     "end_time": "2021-05-06T07:16:53.952263",
     "exception": false,
     "start_time": "2021-05-06T07:16:53.906989",
     "status": "completed"
    },
    "tags": []
   },
   "outputs": [
    {
     "data": {
      "text/html": [
       "<div>\n",
       "<style scoped>\n",
       "    .dataframe tbody tr th:only-of-type {\n",
       "        vertical-align: middle;\n",
       "    }\n",
       "\n",
       "    .dataframe tbody tr th {\n",
       "        vertical-align: top;\n",
       "    }\n",
       "\n",
       "    .dataframe thead th {\n",
       "        text-align: right;\n",
       "    }\n",
       "</style>\n",
       "<table border=\"1\" class=\"dataframe\">\n",
       "  <thead>\n",
       "    <tr style=\"text-align: right;\">\n",
       "      <th></th>\n",
       "      <th>id</th>\n",
       "      <th>predict</th>\n",
       "    </tr>\n",
       "  </thead>\n",
       "  <tbody>\n",
       "    <tr>\n",
       "      <th>0</th>\n",
       "      <td>0</td>\n",
       "      <td>0</td>\n",
       "    </tr>\n",
       "    <tr>\n",
       "      <th>1</th>\n",
       "      <td>1</td>\n",
       "      <td>0</td>\n",
       "    </tr>\n",
       "    <tr>\n",
       "      <th>2</th>\n",
       "      <td>2</td>\n",
       "      <td>0</td>\n",
       "    </tr>\n",
       "    <tr>\n",
       "      <th>3</th>\n",
       "      <td>3</td>\n",
       "      <td>0</td>\n",
       "    </tr>\n",
       "    <tr>\n",
       "      <th>4</th>\n",
       "      <td>4</td>\n",
       "      <td>0</td>\n",
       "    </tr>\n",
       "  </tbody>\n",
       "</table>\n",
       "</div>"
      ],
      "text/plain": [
       "   id  predict\n",
       "0   0        0\n",
       "1   1        0\n",
       "2   2        0\n",
       "3   3        0\n",
       "4   4        0"
      ]
     },
     "execution_count": 29,
     "metadata": {},
     "output_type": "execute_result"
    }
   ],
   "source": [
    "submission.head()"
   ]
  },
  {
   "cell_type": "code",
   "execution_count": 30,
   "id": "furnished-senegal",
   "metadata": {
    "execution": {
     "iopub.execute_input": "2021-05-06T07:16:54.025193Z",
     "iopub.status.busy": "2021-05-06T07:16:54.024517Z",
     "iopub.status.idle": "2021-05-06T08:04:52.259066Z",
     "shell.execute_reply": "2021-05-06T08:04:52.259617Z"
    },
    "papermill": {
     "duration": 2878.272911,
     "end_time": "2021-05-06T08:04:52.259847",
     "exception": false,
     "start_time": "2021-05-06T07:16:53.986936",
     "status": "completed"
    },
    "tags": []
   },
   "outputs": [],
   "source": [
    "svr = SVR(kernel='poly', degree=10).fit(X_train_d_mm, y_train)\n",
    "\n",
    "y_test_pred = svr.predict(X_test_d_mm)\n",
    "y_test_pred[y_test_pred < 0] = 0\n",
    "submission['predict'] = y_test_pred\n",
    "submission.to_csv('submission.csv', index=False)"
   ]
  }
 ],
 "metadata": {
  "kernelspec": {
   "display_name": "Python 3",
   "language": "python",
   "name": "python3"
  },
  "language_info": {
   "codemirror_mode": {
    "name": "ipython",
    "version": 3
   },
   "file_extension": ".py",
   "mimetype": "text/x-python",
   "name": "python",
   "nbconvert_exporter": "python",
   "pygments_lexer": "ipython3",
   "version": "3.7.10"
  },
  "papermill": {
   "default_parameters": {},
   "duration": 2892.731952,
   "end_time": "2021-05-06T08:04:53.669529",
   "environment_variables": {},
   "exception": null,
   "input_path": "__notebook__.ipynb",
   "output_path": "__notebook__.ipynb",
   "parameters": {},
   "start_time": "2021-05-06T07:16:40.937577",
   "version": "2.3.3"
  }
 },
 "nbformat": 4,
 "nbformat_minor": 5
}
